{
 "cells": [
  {
   "cell_type": "code",
   "execution_count": 1,
   "id": "b22aee66-7a3f-4a96-a1a9-bcc6ab04cd93",
   "metadata": {},
   "outputs": [],
   "source": [
    "from pathlib import Path\n",
    "import os\n",
    "\n",
    "base_folder = Path(\"/home/automl/git/iot-threat-classifier/2025-07-05/Input_Multiclass\")"
   ]
  },
  {
   "cell_type": "code",
   "execution_count": 2,
   "id": "28ee1f5b-7265-4caa-a23b-7d15002507c0",
   "metadata": {},
   "outputs": [],
   "source": [
    "from datetime import datetime\n",
    "\n",
    "def now():\n",
    "    now = datetime.now()\n",
    "    yyyymmdd_hhmmss_part = now.strftime('%Y-%m-%d %H:%M:%S')\n",
    "    ms_part = f'{int(now.microsecond / 1000):03d}'\n",
    "    return f'{yyyymmdd_hhmmss_part},{ms_part}'\n",
    "\n",
    "def parse_exception(e):\n",
    "    try:\n",
    "        return str(e).split(\"\\n\")[-2]\n",
    "    except:\n",
    "        return \"unknown error\""
   ]
  },
  {
   "cell_type": "code",
   "execution_count": 3,
   "id": "d3b18448-632e-471a-868e-199d69d5008b",
   "metadata": {
    "editable": true,
    "scrolled": true,
    "slideshow": {
     "slide_type": ""
    },
    "tags": []
   },
   "outputs": [
    {
     "data": {
      "application/vnd.jupyter.widget-view+json": {
       "model_id": "382d2b45512a4700b7a1c197dea2692d",
       "version_major": 2,
       "version_minor": 0
      },
      "text/plain": [
       "File:   0%|          | 0/75 [00:00<?, ?it/s]"
      ]
     },
     "metadata": {},
     "output_type": "display_data"
    },
    {
     "name": "stdout",
     "output_type": "stream",
     "text": [
      "[2025-07-10 02:04:08,096] Processing | FILE = ToN_IoT_IoT_Garage_Door_Multiclass                               | FILE_SIZE = 0.003 MB    \n"
     ]
    },
    {
     "data": {
      "application/vnd.jupyter.widget-view+json": {
       "model_id": "e63fb672a64f470badc6cc57ede2f710",
       "version_major": 2,
       "version_minor": 0
      },
      "text/plain": [
       "Executing:   0%|          | 0/69 [00:00<?, ?cell/s]"
      ]
     },
     "metadata": {},
     "output_type": "display_data"
    },
    {
     "name": "stdout",
     "output_type": "stream",
     "text": [
      "[2025-07-10 02:04:22,634] Processed  | FILE = ToN_IoT_IoT_Garage_Door_Multiclass                              \n",
      "[2025-07-10 02:04:22,635] Processing | FILE = ToN_IoT_IoT_Motion_Light_Multiclass                              | FILE_SIZE = 0.003 MB    \n"
     ]
    },
    {
     "data": {
      "application/vnd.jupyter.widget-view+json": {
       "model_id": "94233dd7fcc642c9bf8af8aa0e0c4993",
       "version_major": 2,
       "version_minor": 0
      },
      "text/plain": [
       "Executing:   0%|          | 0/69 [00:00<?, ?cell/s]"
      ]
     },
     "metadata": {},
     "output_type": "display_data"
    },
    {
     "name": "stdout",
     "output_type": "stream",
     "text": [
      "[2025-07-10 02:04:34,018] Processed  | FILE = ToN_IoT_IoT_Motion_Light_Multiclass                             \n",
      "[2025-07-10 02:04:34,019] Processing | FILE = ToN_IoT_IoT_Fridge_Multiclass                                    | FILE_SIZE = 0.004 MB    \n"
     ]
    },
    {
     "data": {
      "application/vnd.jupyter.widget-view+json": {
       "model_id": "da433f91bd5848ad86b919c233f32ffd",
       "version_major": 2,
       "version_minor": 0
      },
      "text/plain": [
       "Executing:   0%|          | 0/69 [00:00<?, ?cell/s]"
      ]
     },
     "metadata": {},
     "output_type": "display_data"
    },
    {
     "name": "stdout",
     "output_type": "stream",
     "text": [
      "[2025-07-10 02:04:44,359] Processed  | FILE = ToN_IoT_IoT_Fridge_Multiclass                                   \n",
      "[2025-07-10 02:04:44,360] Processing | FILE = ToN_IoT_IoT_GPS_Tracker_Multiclass                               | FILE_SIZE = 0.004 MB    \n"
     ]
    },
    {
     "data": {
      "application/vnd.jupyter.widget-view+json": {
       "model_id": "f201db73280c46e4b3444d201777808f",
       "version_major": 2,
       "version_minor": 0
      },
      "text/plain": [
       "Executing:   0%|          | 0/69 [00:00<?, ?cell/s]"
      ]
     },
     "metadata": {},
     "output_type": "display_data"
    },
    {
     "name": "stdout",
     "output_type": "stream",
     "text": [
      "[2025-07-10 02:05:04,606] Processed  | FILE = ToN_IoT_IoT_GPS_Tracker_Multiclass                              \n",
      "[2025-07-10 02:05:04,607] Processing | FILE = CICIoMT2024_Bluetooth_Multiclass                                 | FILE_SIZE = 0.009 MB    \n"
     ]
    },
    {
     "data": {
      "application/vnd.jupyter.widget-view+json": {
       "model_id": "bb86deef23c6408789f4e0ad232cfa6d",
       "version_major": 2,
       "version_minor": 0
      },
      "text/plain": [
       "Executing:   0%|          | 0/69 [00:00<?, ?cell/s]"
      ]
     },
     "metadata": {},
     "output_type": "display_data"
    },
    {
     "name": "stdout",
     "output_type": "stream",
     "text": [
      "[2025-07-10 02:05:12,818] Processed  | FILE = CICIoMT2024_Bluetooth_Multiclass                                \n",
      "[2025-07-10 02:05:12,819] Processing | FILE = MQTT_IoT_IDS2020_PacketFeatures_Multiclass                       | FILE_SIZE = 0.020 MB    \n"
     ]
    },
    {
     "data": {
      "application/vnd.jupyter.widget-view+json": {
       "model_id": "238d043cc78a4a23b19d40358d00db4c",
       "version_major": 2,
       "version_minor": 0
      },
      "text/plain": [
       "Executing:   0%|          | 0/69 [00:00<?, ?cell/s]"
      ]
     },
     "metadata": {},
     "output_type": "display_data"
    },
    {
     "name": "stdout",
     "output_type": "stream",
     "text": [
      "[2025-07-10 02:05:31,481] Processed  | FILE = MQTT_IoT_IDS2020_PacketFeatures_Multiclass                      \n",
      "[2025-07-10 02:05:31,483] Processing | FILE = CICIoV2024_Decimal_Macro_Multiclass                              | FILE_SIZE = 0.024 MB    \n"
     ]
    },
    {
     "data": {
      "application/vnd.jupyter.widget-view+json": {
       "model_id": "080b28488afa47be9e1485e0ccb4a704",
       "version_major": 2,
       "version_minor": 0
      },
      "text/plain": [
       "Executing:   0%|          | 0/69 [00:00<?, ?cell/s]"
      ]
     },
     "metadata": {},
     "output_type": "display_data"
    },
    {
     "name": "stdout",
     "output_type": "stream",
     "text": [
      "[2025-07-10 02:05:44,273] Processed  | FILE = CICIoV2024_Decimal_Macro_Multiclass                             \n",
      "[2025-07-10 02:05:44,275] Processing | FILE = CICIoV2024_Decimal_Micro_Multiclass                              | FILE_SIZE = 0.024 MB    \n"
     ]
    },
    {
     "data": {
      "application/vnd.jupyter.widget-view+json": {
       "model_id": "5460f24a26a0433aa5b9f2cff9cb5dad",
       "version_major": 2,
       "version_minor": 0
      },
      "text/plain": [
       "Executing:   0%|          | 0/69 [00:00<?, ?cell/s]"
      ]
     },
     "metadata": {},
     "output_type": "display_data"
    },
    {
     "name": "stdout",
     "output_type": "stream",
     "text": [
      "[2025-07-10 02:05:58,687] Processed  | FILE = CICIoV2024_Decimal_Micro_Multiclass                             \n",
      "[2025-07-10 02:05:58,689] Processing | FILE = CICIoV2024_Binary_Macro_Multiclass                               | FILE_SIZE = 0.067 MB    \n"
     ]
    },
    {
     "data": {
      "application/vnd.jupyter.widget-view+json": {
       "model_id": "7095e657928349e096f058b209705f0c",
       "version_major": 2,
       "version_minor": 0
      },
      "text/plain": [
       "Executing:   0%|          | 0/69 [00:00<?, ?cell/s]"
      ]
     },
     "metadata": {},
     "output_type": "display_data"
    },
    {
     "name": "stdout",
     "output_type": "stream",
     "text": [
      "[2025-07-10 02:06:18,649] Processed  | FILE = CICIoV2024_Binary_Macro_Multiclass                              \n",
      "[2025-07-10 02:06:18,650] Processing | FILE = CICIoV2024_Binary_Micro_Multiclass                               | FILE_SIZE = 0.067 MB    \n"
     ]
    },
    {
     "data": {
      "application/vnd.jupyter.widget-view+json": {
       "model_id": "9d1d4d32893946a789db482f32149d0f",
       "version_major": 2,
       "version_minor": 0
      },
      "text/plain": [
       "Executing:   0%|          | 0/69 [00:00<?, ?cell/s]"
      ]
     },
     "metadata": {},
     "output_type": "display_data"
    },
    {
     "name": "stdout",
     "output_type": "stream",
     "text": [
      "[2025-07-10 02:07:03,818] Processed  | FILE = CICIoV2024_Binary_Micro_Multiclass                              \n",
      "[2025-07-10 02:07:03,820] Processing | FILE = ToN_IoT_Linux_Disk_Multiclass                                    | FILE_SIZE = 0.102 MB    \n"
     ]
    },
    {
     "data": {
      "application/vnd.jupyter.widget-view+json": {
       "model_id": "7f217dc020da4230869611b6b8d0f607",
       "version_major": 2,
       "version_minor": 0
      },
      "text/plain": [
       "Executing:   0%|          | 0/69 [00:00<?, ?cell/s]"
      ]
     },
     "metadata": {},
     "output_type": "display_data"
    },
    {
     "name": "stdout",
     "output_type": "stream",
     "text": [
      "[2025-07-10 02:07:31,651] Processed  | FILE = ToN_IoT_Linux_Disk_Multiclass                                   \n",
      "[2025-07-10 02:07:31,653] Processing | FILE = ToN_IoT_Linux_Process_Multiclass                                 | FILE_SIZE = 0.106 MB    \n"
     ]
    },
    {
     "data": {
      "application/vnd.jupyter.widget-view+json": {
       "model_id": "d32b3148c4854284bdb6876d8ad75b75",
       "version_major": 2,
       "version_minor": 0
      },
      "text/plain": [
       "Executing:   0%|          | 0/69 [00:00<?, ?cell/s]"
      ]
     },
     "metadata": {},
     "output_type": "display_data"
    },
    {
     "name": "stdout",
     "output_type": "stream",
     "text": [
      "[2025-07-10 02:08:08,334] Processed  | FILE = ToN_IoT_Linux_Process_Multiclass                                \n",
      "[2025-07-10 02:08:08,336] Processing | FILE = ToN_IoT_IoT_Thermostat_Multiclass                                | FILE_SIZE = 0.114 MB    \n"
     ]
    },
    {
     "data": {
      "application/vnd.jupyter.widget-view+json": {
       "model_id": "0234d666b1254957b1f467dff6db05dc",
       "version_major": 2,
       "version_minor": 0
      },
      "text/plain": [
       "Executing:   0%|          | 0/69 [00:00<?, ?cell/s]"
      ]
     },
     "metadata": {},
     "output_type": "display_data"
    },
    {
     "name": "stdout",
     "output_type": "stream",
     "text": [
      "[2025-07-10 02:08:23,828] Processed  | FILE = ToN_IoT_IoT_Thermostat_Multiclass                               \n",
      "[2025-07-10 02:08:23,830] Processing | FILE = IoT_Network_Intrusion_Macro_Multiclass                           | FILE_SIZE = 0.389 MB    \n"
     ]
    },
    {
     "data": {
      "application/vnd.jupyter.widget-view+json": {
       "model_id": "23bc54761f15495490b4a0c2c261da3d",
       "version_major": 2,
       "version_minor": 0
      },
      "text/plain": [
       "Executing:   0%|          | 0/69 [00:00<?, ?cell/s]"
      ]
     },
     "metadata": {},
     "output_type": "display_data"
    },
    {
     "name": "stdout",
     "output_type": "stream",
     "text": [
      "[2025-07-10 02:08:47,236] Processed  | FILE = IoT_Network_Intrusion_Macro_Multiclass                          \n",
      "[2025-07-10 02:08:47,237] Processing | FILE = IoT_Network_Intrusion_Micro_Multiclass                           | FILE_SIZE = 0.389 MB    \n"
     ]
    },
    {
     "data": {
      "application/vnd.jupyter.widget-view+json": {
       "model_id": "4f43153274fe411c81f434939f8aca64",
       "version_major": 2,
       "version_minor": 0
      },
      "text/plain": [
       "Executing:   0%|          | 0/69 [00:00<?, ?cell/s]"
      ]
     },
     "metadata": {},
     "output_type": "display_data"
    },
    {
     "name": "stdout",
     "output_type": "stream",
     "text": [
      "[2025-07-10 02:09:32,444] Processed  | FILE = IoT_Network_Intrusion_Micro_Multiclass                          \n",
      "[2025-07-10 02:09:32,446] Processing | FILE = NIDS_NF-BoT-IoT_Multiclass                                       | FILE_SIZE = 0.417 MB    \n"
     ]
    },
    {
     "data": {
      "application/vnd.jupyter.widget-view+json": {
       "model_id": "b7c56a5fddf64f798c5fd23753aee9a2",
       "version_major": 2,
       "version_minor": 0
      },
      "text/plain": [
       "Executing:   0%|          | 0/69 [00:00<?, ?cell/s]"
      ]
     },
     "metadata": {},
     "output_type": "display_data"
    },
    {
     "name": "stdout",
     "output_type": "stream",
     "text": [
      "[2025-07-10 02:09:55,305] Processed  | FILE = NIDS_NF-BoT-IoT_Multiclass                                      \n",
      "[2025-07-10 02:09:55,306] Processing | FILE = ToN_IoT_Linux_Memory_Multiclass                                  | FILE_SIZE = 0.766 MB    \n"
     ]
    },
    {
     "data": {
      "application/vnd.jupyter.widget-view+json": {
       "model_id": "f61d086b54e640d3823bd09760f279dd",
       "version_major": 2,
       "version_minor": 0
      },
      "text/plain": [
       "Executing:   0%|          | 0/69 [00:00<?, ?cell/s]"
      ]
     },
     "metadata": {},
     "output_type": "display_data"
    },
    {
     "name": "stdout",
     "output_type": "stream",
     "text": [
      "[2025-07-10 02:10:40,552] Processed  | FILE = ToN_IoT_Linux_Memory_Multiclass                                 \n",
      "[2025-07-10 02:10:40,554] Processing | FILE = MQTT_IoT_IDS2020_UniflowFeatures_Multiclass                      | FILE_SIZE = 1.052 MB    \n"
     ]
    },
    {
     "data": {
      "application/vnd.jupyter.widget-view+json": {
       "model_id": "637fbbc162444e01a5720a4a75849c80",
       "version_major": 2,
       "version_minor": 0
      },
      "text/plain": [
       "Executing:   0%|          | 0/69 [00:00<?, ?cell/s]"
      ]
     },
     "metadata": {},
     "output_type": "display_data"
    },
    {
     "name": "stdout",
     "output_type": "stream",
     "text": [
      "[2025-07-10 02:10:53,138] Processed  | FILE = MQTT_IoT_IDS2020_UniflowFeatures_Multiclass                     \n",
      "[2025-07-10 02:10:53,140] Processing | FILE = MQTT_IoT_IDS2020_BiflowFeatures_Multiclass                       | FILE_SIZE = 1.109 MB    \n"
     ]
    },
    {
     "data": {
      "application/vnd.jupyter.widget-view+json": {
       "model_id": "a6d06fb30e834f98a8d222323805591e",
       "version_major": 2,
       "version_minor": 0
      },
      "text/plain": [
       "Executing:   0%|          | 0/69 [00:00<?, ?cell/s]"
      ]
     },
     "metadata": {},
     "output_type": "display_data"
    },
    {
     "name": "stdout",
     "output_type": "stream",
     "text": [
      "[2025-07-10 02:11:11,829] Processed  | FILE = MQTT_IoT_IDS2020_BiflowFeatures_Multiclass                      \n",
      "[2025-07-10 02:11:11,831] Processing | FILE = EDGE-IIOTSET_ML-EdgeIIoT_Multiclass                              | FILE_SIZE = 1.590 MB    \n"
     ]
    },
    {
     "data": {
      "application/vnd.jupyter.widget-view+json": {
       "model_id": "df63262428004f459e9a00673fdd8229",
       "version_major": 2,
       "version_minor": 0
      },
      "text/plain": [
       "Executing:   0%|          | 0/69 [00:00<?, ?cell/s]"
      ]
     },
     "metadata": {},
     "output_type": "display_data"
    },
    {
     "name": "stdout",
     "output_type": "stream",
     "text": [
      "[2025-07-10 02:11:50,861] Processed  | FILE = EDGE-IIOTSET_ML-EdgeIIoT_Multiclass                             \n",
      "[2025-07-10 02:11:50,862] Processing | FILE = ToN_IoT_IoT_Modbus_Multiclass                                    | FILE_SIZE = 1.687 MB    \n"
     ]
    },
    {
     "data": {
      "application/vnd.jupyter.widget-view+json": {
       "model_id": "e0ac7a22662d410b84f4926b09d7975f",
       "version_major": 2,
       "version_minor": 0
      },
      "text/plain": [
       "Executing:   0%|          | 0/69 [00:00<?, ?cell/s]"
      ]
     },
     "metadata": {},
     "output_type": "display_data"
    },
    {
     "name": "stdout",
     "output_type": "stream",
     "text": [
      "[2025-07-10 02:12:14,955] Processed  | FILE = ToN_IoT_IoT_Modbus_Multiclass                                   \n",
      "[2025-07-10 02:12:14,957] Processing | FILE = IoT_23_Multiclass                                                | FILE_SIZE = 1.984 MB    \n"
     ]
    },
    {
     "data": {
      "application/vnd.jupyter.widget-view+json": {
       "model_id": "f4e123a926ec4d989122a40e23aca21a",
       "version_major": 2,
       "version_minor": 0
      },
      "text/plain": [
       "Executing:   0%|          | 0/69 [00:00<?, ?cell/s]"
      ]
     },
     "metadata": {},
     "output_type": "display_data"
    },
    {
     "name": "stdout",
     "output_type": "stream",
     "text": [
      "[2025-07-10 02:13:34,656] Processed  | FILE = IoT_23_Multiclass                                               \n",
      "[2025-07-10 02:13:34,658] Processing | FILE = NIDS_NF-CSE-CIC-IDS2018_Multiclass                               | FILE_SIZE = 2.455 MB    \n"
     ]
    },
    {
     "data": {
      "application/vnd.jupyter.widget-view+json": {
       "model_id": "aabf71991fb84aa184e0e5bd73c5c4ca",
       "version_major": 2,
       "version_minor": 0
      },
      "text/plain": [
       "Executing:   0%|          | 0/69 [00:00<?, ?cell/s]"
      ]
     },
     "metadata": {},
     "output_type": "display_data"
    },
    {
     "name": "stdout",
     "output_type": "stream",
     "text": [
      "[2025-07-10 02:14:37,957] Processed  | FILE = NIDS_NF-CSE-CIC-IDS2018_Multiclass                              \n",
      "[2025-07-10 02:14:37,959] Processing | FILE = ToN_IoT_IoT_Weather_Multiclass                                   | FILE_SIZE = 3.039 MB    \n"
     ]
    },
    {
     "data": {
      "application/vnd.jupyter.widget-view+json": {
       "model_id": "c4ac9c7309a444b7832b620acfd3697b",
       "version_major": 2,
       "version_minor": 0
      },
      "text/plain": [
       "Executing:   0%|          | 0/69 [00:00<?, ?cell/s]"
      ]
     },
     "metadata": {},
     "output_type": "display_data"
    },
    {
     "name": "stdout",
     "output_type": "stream",
     "text": [
      "[2025-07-10 02:15:36,301] Processed  | FILE = ToN_IoT_IoT_Weather_Multiclass                                  \n",
      "[2025-07-10 02:15:36,303] Processing | FILE = NIDS_NF-BoT-IoT-v2_Multiclass                                    | FILE_SIZE = 3.598 MB    \n"
     ]
    },
    {
     "data": {
      "application/vnd.jupyter.widget-view+json": {
       "model_id": "fad35e3e62ac4654a5f77d00835cc669",
       "version_major": 2,
       "version_minor": 0
      },
      "text/plain": [
       "Executing:   0%|          | 0/69 [00:00<?, ?cell/s]"
      ]
     },
     "metadata": {},
     "output_type": "display_data"
    },
    {
     "name": "stdout",
     "output_type": "stream",
     "text": [
      "[2025-07-10 02:16:21,628] Processed  | FILE = NIDS_NF-BoT-IoT-v2_Multiclass                                   \n",
      "[2025-07-10 02:16:21,629] Processing | FILE = BCCC_CIC-BCCC-NRC-IoT-HCRL-2019_Multiclass                       | FILE_SIZE = 3.741 MB    \n"
     ]
    },
    {
     "data": {
      "application/vnd.jupyter.widget-view+json": {
       "model_id": "f0c68d1ae0c44626a806528cf0d5278a",
       "version_major": 2,
       "version_minor": 0
      },
      "text/plain": [
       "Executing:   0%|          | 0/69 [00:00<?, ?cell/s]"
      ]
     },
     "metadata": {},
     "output_type": "display_data"
    },
    {
     "name": "stdout",
     "output_type": "stream",
     "text": [
      "[2025-07-10 02:17:32,222] Processed  | FILE = BCCC_CIC-BCCC-NRC-IoT-HCRL-2019_Multiclass                      \n",
      "[2025-07-10 02:17:32,223] Processing | FILE = NIDS_NF-UQ-NIDS_Multiclass                                       | FILE_SIZE = 3.747 MB    \n"
     ]
    },
    {
     "data": {
      "application/vnd.jupyter.widget-view+json": {
       "model_id": "86d43081f0c74c358f679d72ff2dffc5",
       "version_major": 2,
       "version_minor": 0
      },
      "text/plain": [
       "Executing:   0%|          | 0/69 [00:00<?, ?cell/s]"
      ]
     },
     "metadata": {},
     "output_type": "display_data"
    },
    {
     "name": "stdout",
     "output_type": "stream",
     "text": [
      "[2025-07-10 02:19:32,619] Processed  | FILE = NIDS_NF-UQ-NIDS_Multiclass                                      \n",
      "[2025-07-10 02:19:32,621] Processing | FILE = NIDS_CIC-ToN-IoT_Multiclass                                      | FILE_SIZE = 4.264 MB    \n"
     ]
    },
    {
     "data": {
      "application/vnd.jupyter.widget-view+json": {
       "model_id": "f1765b70a437455aa6f658672a2fa768",
       "version_major": 2,
       "version_minor": 0
      },
      "text/plain": [
       "Executing:   0%|          | 0/69 [00:00<?, ?cell/s]"
      ]
     },
     "metadata": {},
     "output_type": "display_data"
    },
    {
     "name": "stdout",
     "output_type": "stream",
     "text": [
      "[2025-07-10 02:20:38,717] Processed  | FILE = NIDS_CIC-ToN-IoT_Multiclass                                     \n",
      "[2025-07-10 02:20:38,719] Processing | FILE = CICEVSE2024_EVSE-B_Macro_Multiclass                              | FILE_SIZE = 4.411 MB    \n"
     ]
    },
    {
     "data": {
      "application/vnd.jupyter.widget-view+json": {
       "model_id": "3fc0d5f49e254d1aa730eb2acae0dd46",
       "version_major": 2,
       "version_minor": 0
      },
      "text/plain": [
       "Executing:   0%|          | 0/69 [00:00<?, ?cell/s]"
      ]
     },
     "metadata": {},
     "output_type": "display_data"
    },
    {
     "name": "stdout",
     "output_type": "stream",
     "text": [
      "[2025-07-10 02:21:45,450] Processed  | FILE = CICEVSE2024_EVSE-B_Macro_Multiclass                             \n",
      "[2025-07-10 02:21:45,451] Processing | FILE = CICEVSE2024_EVSE-B_Micro_Multiclass                              | FILE_SIZE = 4.413 MB    \n"
     ]
    },
    {
     "data": {
      "application/vnd.jupyter.widget-view+json": {
       "model_id": "b450926f7d004cfe91430ee30611d721",
       "version_major": 2,
       "version_minor": 0
      },
      "text/plain": [
       "Executing:   0%|          | 0/69 [00:00<?, ?cell/s]"
      ]
     },
     "metadata": {},
     "output_type": "display_data"
    },
    {
     "name": "stdout",
     "output_type": "stream",
     "text": [
      "[2025-07-10 02:23:33,588] Processed  | FILE = CICEVSE2024_EVSE-B_Micro_Multiclass                             \n",
      "[2025-07-10 02:23:33,590] Processing | FILE = NIDS_NF-UNSW-NB15_Multiclass                                     | FILE_SIZE = 4.414 MB    \n"
     ]
    },
    {
     "data": {
      "application/vnd.jupyter.widget-view+json": {
       "model_id": "567111f440c34f4884e0e919634d9d61",
       "version_major": 2,
       "version_minor": 0
      },
      "text/plain": [
       "Executing:   0%|          | 0/69 [00:00<?, ?cell/s]"
      ]
     },
     "metadata": {},
     "output_type": "display_data"
    },
    {
     "name": "stdout",
     "output_type": "stream",
     "text": [
      "[2025-07-10 02:24:37,466] Processed  | FILE = NIDS_NF-UNSW-NB15_Multiclass                                    \n",
      "[2025-07-10 02:24:37,467] Processing | FILE = NIDS_NF-ToN-IoT_Multiclass                                       | FILE_SIZE = 4.489 MB    \n"
     ]
    },
    {
     "data": {
      "application/vnd.jupyter.widget-view+json": {
       "model_id": "257e2500625b490fa62cb675e0aab37a",
       "version_major": 2,
       "version_minor": 0
      },
      "text/plain": [
       "Executing:   0%|          | 0/69 [00:00<?, ?cell/s]"
      ]
     },
     "metadata": {},
     "output_type": "display_data"
    },
    {
     "name": "stdout",
     "output_type": "stream",
     "text": [
      "[2025-07-10 02:25:55,868] Processed  | FILE = NIDS_NF-ToN-IoT_Multiclass                                      \n",
      "[2025-07-10 02:25:55,869] Processing | FILE = BCCC_CIC-BCCC-NRC-UQ-IOT-2022_Multiclass                         | FILE_SIZE = 4.586 MB    \n"
     ]
    },
    {
     "data": {
      "application/vnd.jupyter.widget-view+json": {
       "model_id": "2138989285e540e0a2314e5d69666ea4",
       "version_major": 2,
       "version_minor": 0
      },
      "text/plain": [
       "Executing:   0%|          | 0/69 [00:00<?, ?cell/s]"
      ]
     },
     "metadata": {},
     "output_type": "display_data"
    },
    {
     "name": "stdout",
     "output_type": "stream",
     "text": [
      "[2025-07-10 02:26:21,550] Processed  | FILE = BCCC_CIC-BCCC-NRC-UQ-IOT-2022_Multiclass                        \n",
      "[2025-07-10 02:26:21,551] Processing | FILE = CICEVSE2024_EVSE-A_Macro_Multiclass                              | FILE_SIZE = 4.610 MB    \n"
     ]
    },
    {
     "data": {
      "application/vnd.jupyter.widget-view+json": {
       "model_id": "d730e3b8015c45098b776171611da729",
       "version_major": 2,
       "version_minor": 0
      },
      "text/plain": [
       "Executing:   0%|          | 0/69 [00:00<?, ?cell/s]"
      ]
     },
     "metadata": {},
     "output_type": "display_data"
    },
    {
     "name": "stdout",
     "output_type": "stream",
     "text": [
      "[2025-07-10 02:27:11,192] Processed  | FILE = CICEVSE2024_EVSE-A_Macro_Multiclass                             \n",
      "[2025-07-10 02:27:11,194] Processing | FILE = CICEVSE2024_EVSE-A_Micro_Multiclass                              | FILE_SIZE = 4.610 MB    \n"
     ]
    },
    {
     "data": {
      "application/vnd.jupyter.widget-view+json": {
       "model_id": "97c38962e6ff485b98e75b3d7986a8c3",
       "version_major": 2,
       "version_minor": 0
      },
      "text/plain": [
       "Executing:   0%|          | 0/69 [00:00<?, ?cell/s]"
      ]
     },
     "metadata": {},
     "output_type": "display_data"
    },
    {
     "name": "stdout",
     "output_type": "stream",
     "text": [
      "[2025-07-10 02:29:26,515] Processed  | FILE = CICEVSE2024_EVSE-A_Micro_Multiclass                             \n",
      "[2025-07-10 02:29:26,516] Processing | FILE = BCCC_CIC-BCCC-NRC-IoT-2023-Original_Training_and_Testing_Multiclass | FILE_SIZE = 4.681 MB    \n"
     ]
    },
    {
     "data": {
      "application/vnd.jupyter.widget-view+json": {
       "model_id": "b333b18c5af441138bb08cf701b5c596",
       "version_major": 2,
       "version_minor": 0
      },
      "text/plain": [
       "Executing:   0%|          | 0/69 [00:00<?, ?cell/s]"
      ]
     },
     "metadata": {},
     "output_type": "display_data"
    },
    {
     "name": "stdout",
     "output_type": "stream",
     "text": [
      "[2025-07-10 02:30:05,879] Processed  | FILE = BCCC_CIC-BCCC-NRC-IoT-2023-Original_Training_and_Testing_Multiclass\n",
      "[2025-07-10 02:30:05,881] Processing | FILE = NIDS_NF-UNSW-NB15-v2_Multiclass                                  | FILE_SIZE = 5.349 MB    \n"
     ]
    },
    {
     "data": {
      "application/vnd.jupyter.widget-view+json": {
       "model_id": "b64bdd81ebcd4743ab865cf941c55cbf",
       "version_major": 2,
       "version_minor": 0
      },
      "text/plain": [
       "Executing:   0%|          | 0/69 [00:00<?, ?cell/s]"
      ]
     },
     "metadata": {},
     "output_type": "display_data"
    },
    {
     "name": "stdout",
     "output_type": "stream",
     "text": [
      "[2025-07-10 02:30:51,818] Processed  | FILE = NIDS_NF-UNSW-NB15-v2_Multiclass                                 \n",
      "[2025-07-10 02:30:51,820] Processing | FILE = ToN_IoT_Network_Multiclass                                       | FILE_SIZE = 5.614 MB    \n"
     ]
    },
    {
     "data": {
      "application/vnd.jupyter.widget-view+json": {
       "model_id": "43fdc07847d94dc88774bfbec7ce160c",
       "version_major": 2,
       "version_minor": 0
      },
      "text/plain": [
       "Executing:   0%|          | 0/69 [00:00<?, ?cell/s]"
      ]
     },
     "metadata": {},
     "output_type": "display_data"
    },
    {
     "name": "stdout",
     "output_type": "stream",
     "text": [
      "[2025-07-10 02:33:00,235] Processed  | FILE = ToN_IoT_Network_Multiclass                                      \n",
      "[2025-07-10 02:33:00,236] Processing | FILE = KDD_Cup_1999_Multiclass                                          | FILE_SIZE = 6.023 MB    \n"
     ]
    },
    {
     "data": {
      "application/vnd.jupyter.widget-view+json": {
       "model_id": "12249e989a5d4d349ea8fc8cd0bdc59d",
       "version_major": 2,
       "version_minor": 0
      },
      "text/plain": [
       "Executing:   0%|          | 0/69 [00:00<?, ?cell/s]"
      ]
     },
     "metadata": {},
     "output_type": "display_data"
    },
    {
     "name": "stdout",
     "output_type": "stream",
     "text": [
      "[2025-07-10 02:34:15,148] Processed  | FILE = KDD_Cup_1999_Multiclass                                         \n",
      "[2025-07-10 02:34:15,150] Processing | FILE = ToN_IoT_Windows_7_Multiclass                                     | FILE_SIZE = 6.385 MB    \n"
     ]
    },
    {
     "data": {
      "application/vnd.jupyter.widget-view+json": {
       "model_id": "c6fcdeb056294d1f8ba16adb00e22058",
       "version_major": 2,
       "version_minor": 0
      },
      "text/plain": [
       "Executing:   0%|          | 0/69 [00:00<?, ?cell/s]"
      ]
     },
     "metadata": {},
     "output_type": "display_data"
    },
    {
     "name": "stdout",
     "output_type": "stream",
     "text": [
      "[2025-07-10 02:34:47,337] Processed  | FILE = ToN_IoT_Windows_7_Multiclass                                    \n",
      "[2025-07-10 02:34:47,339] Processing | FILE = BCCC_CIC-BCCC-NRC-IoT-2022_Multiclass                            | FILE_SIZE = 6.598 MB    \n"
     ]
    },
    {
     "data": {
      "application/vnd.jupyter.widget-view+json": {
       "model_id": "6769a44f6fd54371b417aecae5533a3b",
       "version_major": 2,
       "version_minor": 0
      },
      "text/plain": [
       "Executing:   0%|          | 0/69 [00:00<?, ?cell/s]"
      ]
     },
     "metadata": {},
     "output_type": "display_data"
    },
    {
     "name": "stdout",
     "output_type": "stream",
     "text": [
      "[2025-07-10 02:35:09,519] Processed  | FILE = BCCC_CIC-BCCC-NRC-IoT-2022_Multiclass                           \n",
      "[2025-07-10 02:35:09,520] Processing | FILE = EDGE-IIOTSET_DNN-EdgeIIoT_Multiclass                             | FILE_SIZE = 8.417 MB    \n"
     ]
    },
    {
     "data": {
      "application/vnd.jupyter.widget-view+json": {
       "model_id": "e1d72297b0014207bb6b87500e653bf8",
       "version_major": 2,
       "version_minor": 0
      },
      "text/plain": [
       "Executing:   0%|          | 0/69 [00:00<?, ?cell/s]"
      ]
     },
     "metadata": {},
     "output_type": "display_data"
    },
    {
     "name": "stdout",
     "output_type": "stream",
     "text": [
      "[2025-07-10 02:36:27,199] Processed  | FILE = EDGE-IIOTSET_DNN-EdgeIIoT_Multiclass                            \n",
      "[2025-07-10 02:36:27,201] Processing | FILE = N_BaIoT_Ennio_Doorbell_Multiclass                                | FILE_SIZE = 8.825 MB    \n"
     ]
    },
    {
     "data": {
      "application/vnd.jupyter.widget-view+json": {
       "model_id": "fa5f3ab6c0d748f7877930a879ce75fd",
       "version_major": 2,
       "version_minor": 0
      },
      "text/plain": [
       "Executing:   0%|          | 0/69 [00:00<?, ?cell/s]"
      ]
     },
     "metadata": {},
     "output_type": "display_data"
    },
    {
     "name": "stdout",
     "output_type": "stream",
     "text": [
      "[2025-07-10 02:37:02,295] Processed  | FILE = N_BaIoT_Ennio_Doorbell_Multiclass                               \n",
      "[2025-07-10 02:37:02,296] Processing | FILE = ToN_IoT_Windows_10_Multiclass                                    | FILE_SIZE = 10.299 MB   \n"
     ]
    },
    {
     "data": {
      "application/vnd.jupyter.widget-view+json": {
       "model_id": "0656582079b64faea0bcad26784e23aa",
       "version_major": 2,
       "version_minor": 0
      },
      "text/plain": [
       "Executing:   0%|          | 0/69 [00:00<?, ?cell/s]"
      ]
     },
     "metadata": {},
     "output_type": "display_data"
    },
    {
     "name": "stdout",
     "output_type": "stream",
     "text": [
      "[2025-07-10 02:37:28,086] Processed  | FILE = ToN_IoT_Windows_10_Multiclass                                   \n",
      "[2025-07-10 02:37:28,088] Processing | FILE = BCCC_CIC-BCCC-NRC-IoMT-2024_Multiclass                           | FILE_SIZE = 10.502 MB   \n"
     ]
    },
    {
     "data": {
      "application/vnd.jupyter.widget-view+json": {
       "model_id": "32237c880c8a4408a22416bbe531be2c",
       "version_major": 2,
       "version_minor": 0
      },
      "text/plain": [
       "Executing:   0%|          | 0/69 [00:00<?, ?cell/s]"
      ]
     },
     "metadata": {},
     "output_type": "display_data"
    },
    {
     "name": "stdout",
     "output_type": "stream",
     "text": [
      "[2025-07-10 02:39:46,138] Processed  | FILE = BCCC_CIC-BCCC-NRC-IoMT-2024_Multiclass                          \n",
      "[2025-07-10 02:39:46,139] Processing | FILE = BCCC_CIC-BCCC-NRC-ACI-IOT-2023_Multiclass                        | FILE_SIZE = 12.336 MB   \n"
     ]
    },
    {
     "data": {
      "application/vnd.jupyter.widget-view+json": {
       "model_id": "d3b549cdb78c4736b3a5ebee4ddfeca4",
       "version_major": 2,
       "version_minor": 0
      },
      "text/plain": [
       "Executing:   0%|          | 0/69 [00:00<?, ?cell/s]"
      ]
     },
     "metadata": {},
     "output_type": "display_data"
    },
    {
     "name": "stdout",
     "output_type": "stream",
     "text": [
      "[2025-07-10 02:42:33,289] Processed  | FILE = BCCC_CIC-BCCC-NRC-ACI-IOT-2023_Multiclass                       \n",
      "[2025-07-10 02:42:33,291] Processing | FILE = N_BaIoT_SimpleHome_XCS7_1003_WHT_Security_Camera_Multiclass      | FILE_SIZE = 12.543 MB   \n"
     ]
    },
    {
     "data": {
      "application/vnd.jupyter.widget-view+json": {
       "model_id": "f13a62b7c491419eb22cccf1bf7fad35",
       "version_major": 2,
       "version_minor": 0
      },
      "text/plain": [
       "Executing:   0%|          | 0/69 [00:00<?, ?cell/s]"
      ]
     },
     "metadata": {},
     "output_type": "display_data"
    },
    {
     "name": "stdout",
     "output_type": "stream",
     "text": [
      "[2025-07-10 02:43:33,756] Processed  | FILE = N_BaIoT_SimpleHome_XCS7_1003_WHT_Security_Camera_Multiclass     \n",
      "[2025-07-10 02:43:33,758] Processing | FILE = N_BaIoT_SimpleHome_XCS7_1002_WHT_Security_Camera_Multiclass      | FILE_SIZE = 12.885 MB   \n"
     ]
    },
    {
     "data": {
      "application/vnd.jupyter.widget-view+json": {
       "model_id": "c755d9868a3249ad949f89d2b3e8a796",
       "version_major": 2,
       "version_minor": 0
      },
      "text/plain": [
       "Executing:   0%|          | 0/69 [00:00<?, ?cell/s]"
      ]
     },
     "metadata": {},
     "output_type": "display_data"
    },
    {
     "name": "stdout",
     "output_type": "stream",
     "text": [
      "[2025-07-10 02:44:59,008] Processed  | FILE = N_BaIoT_SimpleHome_XCS7_1002_WHT_Security_Camera_Multiclass     \n",
      "[2025-07-10 02:44:59,009] Processing | FILE = NIDS_NF-BoT-IoT-v3_Multiclass                                    | FILE_SIZE = 13.186 MB   \n"
     ]
    },
    {
     "data": {
      "application/vnd.jupyter.widget-view+json": {
       "model_id": "532396a5b4ee47a3a68cd23d37fe91e6",
       "version_major": 2,
       "version_minor": 0
      },
      "text/plain": [
       "Executing:   0%|          | 0/69 [00:00<?, ?cell/s]"
      ]
     },
     "metadata": {},
     "output_type": "display_data"
    },
    {
     "name": "stdout",
     "output_type": "stream",
     "text": [
      "[2025-07-10 02:46:26,327] Processed  | FILE = NIDS_NF-BoT-IoT-v3_Multiclass                                   \n",
      "[2025-07-10 02:46:26,328] Processing | FILE = N_BaIoT_Samsung_SNH_1011_N_Webcam_Multiclass                     | FILE_SIZE = 13.794 MB   \n"
     ]
    },
    {
     "data": {
      "application/vnd.jupyter.widget-view+json": {
       "model_id": "42abb4df1b9d441699e0851f5e215e5f",
       "version_major": 2,
       "version_minor": 0
      },
      "text/plain": [
       "Executing:   0%|          | 0/69 [00:00<?, ?cell/s]"
      ]
     },
     "metadata": {},
     "output_type": "display_data"
    },
    {
     "name": "stdout",
     "output_type": "stream",
     "text": [
      "[2025-07-10 02:47:04,150] Processed  | FILE = N_BaIoT_Samsung_SNH_1011_N_Webcam_Multiclass                    \n",
      "[2025-07-10 02:47:04,152] Processing | FILE = N_BaIoT_Ecobee_Thermostat_Multiclass                             | FILE_SIZE = 14.240 MB   \n"
     ]
    },
    {
     "data": {
      "application/vnd.jupyter.widget-view+json": {
       "model_id": "bd824795bef846bea8ce233b4b65aa05",
       "version_major": 2,
       "version_minor": 0
      },
      "text/plain": [
       "Executing:   0%|          | 0/69 [00:00<?, ?cell/s]"
      ]
     },
     "metadata": {},
     "output_type": "display_data"
    },
    {
     "name": "stdout",
     "output_type": "stream",
     "text": [
      "[2025-07-10 02:49:04,982] Processed  | FILE = N_BaIoT_Ecobee_Thermostat_Multiclass                            \n",
      "[2025-07-10 02:49:04,984] Processing | FILE = N_BaIoT_Danmini_Doorbell_Multiclass                              | FILE_SIZE = 15.858 MB   \n"
     ]
    },
    {
     "data": {
      "application/vnd.jupyter.widget-view+json": {
       "model_id": "d90456c1f22a4ab1a09fa4aa43b4e142",
       "version_major": 2,
       "version_minor": 0
      },
      "text/plain": [
       "Executing:   0%|          | 0/69 [00:00<?, ?cell/s]"
      ]
     },
     "metadata": {},
     "output_type": "display_data"
    },
    {
     "name": "stdout",
     "output_type": "stream",
     "text": [
      "[2025-07-10 02:51:07,222] Processed  | FILE = N_BaIoT_Danmini_Doorbell_Multiclass                             \n",
      "[2025-07-10 02:51:07,224] Processing | FILE = N_BaIoT_Provision_PT_737E_Security_Camera_Multiclass             | FILE_SIZE = 16.217 MB   \n"
     ]
    },
    {
     "data": {
      "application/vnd.jupyter.widget-view+json": {
       "model_id": "2d10e96580004e629b492be3118bcdfe",
       "version_major": 2,
       "version_minor": 0
      },
      "text/plain": [
       "Executing:   0%|          | 0/69 [00:00<?, ?cell/s]"
      ]
     },
     "metadata": {},
     "output_type": "display_data"
    },
    {
     "name": "stdout",
     "output_type": "stream",
     "text": [
      "[2025-07-10 02:52:17,890] Processed  | FILE = N_BaIoT_Provision_PT_737E_Security_Camera_Multiclass            \n",
      "[2025-07-10 02:52:17,892] Processing | FILE = BoT_IoT_Macro_Multiclass                                         | FILE_SIZE = 17.777 MB   \n"
     ]
    },
    {
     "data": {
      "application/vnd.jupyter.widget-view+json": {
       "model_id": "d910b198cc7f4407ac21bbff3299c006",
       "version_major": 2,
       "version_minor": 0
      },
      "text/plain": [
       "Executing:   0%|          | 0/69 [00:00<?, ?cell/s]"
      ]
     },
     "metadata": {},
     "output_type": "display_data"
    },
    {
     "name": "stdout",
     "output_type": "stream",
     "text": [
      "[2025-07-10 02:53:49,232] Processed  | FILE = BoT_IoT_Macro_Multiclass                                        \n",
      "[2025-07-10 02:53:49,234] Processing | FILE = BoT_IoT_Micro_Multiclass                                         | FILE_SIZE = 17.797 MB   \n"
     ]
    },
    {
     "data": {
      "application/vnd.jupyter.widget-view+json": {
       "model_id": "4d29b1484ff14fe2b56468cad38d4294",
       "version_major": 2,
       "version_minor": 0
      },
      "text/plain": [
       "Executing:   0%|          | 0/69 [00:00<?, ?cell/s]"
      ]
     },
     "metadata": {},
     "output_type": "display_data"
    },
    {
     "name": "stdout",
     "output_type": "stream",
     "text": [
      "[2025-07-10 02:56:28,602] Processed  | FILE = BoT_IoT_Micro_Multiclass                                        \n",
      "[2025-07-10 02:56:28,604] Processing | FILE = N_BaIoT_Provision_PT_838_Security_Camera_Multiclass              | FILE_SIZE = 21.433 MB   \n"
     ]
    },
    {
     "data": {
      "application/vnd.jupyter.widget-view+json": {
       "model_id": "e50224946f5844f6bbc8dc8ce8acfd5d",
       "version_major": 2,
       "version_minor": 0
      },
      "text/plain": [
       "Executing:   0%|          | 0/69 [00:00<?, ?cell/s]"
      ]
     },
     "metadata": {},
     "output_type": "display_data"
    },
    {
     "name": "stdout",
     "output_type": "stream",
     "text": [
      "[2025-07-10 02:57:35,139] Processed  | FILE = N_BaIoT_Provision_PT_838_Security_Camera_Multiclass             \n",
      "[2025-07-10 02:57:35,141] Processing | FILE = BCCC_CIC-BCCC-NRC-Edge-IIoTSet-2022_Multiclass                   | FILE_SIZE = 22.411 MB   \n"
     ]
    },
    {
     "data": {
      "application/vnd.jupyter.widget-view+json": {
       "model_id": "3d8b8d2ddaa14d8da9c82972a1a68d27",
       "version_major": 2,
       "version_minor": 0
      },
      "text/plain": [
       "Executing:   0%|          | 0/69 [00:00<?, ?cell/s]"
      ]
     },
     "metadata": {},
     "output_type": "display_data"
    },
    {
     "name": "stdout",
     "output_type": "stream",
     "text": [
      "[2025-07-10 02:59:00,851] Processed  | FILE = BCCC_CIC-BCCC-NRC-Edge-IIoTSet-2022_Multiclass                  \n",
      "[2025-07-10 02:59:00,853] Processing | FILE = NIDS_NF-ToN-IoT-v2_Multiclass                                    | FILE_SIZE = 22.917 MB   \n"
     ]
    },
    {
     "data": {
      "application/vnd.jupyter.widget-view+json": {
       "model_id": "42eede07a1b6464fa4d9f1ecb3be16ff",
       "version_major": 2,
       "version_minor": 0
      },
      "text/plain": [
       "Executing:   0%|          | 0/69 [00:00<?, ?cell/s]"
      ]
     },
     "metadata": {},
     "output_type": "display_data"
    },
    {
     "name": "stdout",
     "output_type": "stream",
     "text": [
      "[2025-07-10 03:01:14,048] Processed  | FILE = NIDS_NF-ToN-IoT-v2_Multiclass                                   \n",
      "[2025-07-10 03:01:14,049] Processing | FILE = BCCC_CIC-BCCC-NRC-TONIoT-2021_Multiclass                         | FILE_SIZE = 26.160 MB   \n"
     ]
    },
    {
     "data": {
      "application/vnd.jupyter.widget-view+json": {
       "model_id": "b50b917401094fae862820b542d7750c",
       "version_major": 2,
       "version_minor": 0
      },
      "text/plain": [
       "Executing:   0%|          | 0/69 [00:00<?, ?cell/s]"
      ]
     },
     "metadata": {},
     "output_type": "display_data"
    },
    {
     "name": "stdout",
     "output_type": "stream",
     "text": [
      "[2025-07-10 03:02:05,141] Processed  | FILE = BCCC_CIC-BCCC-NRC-TONIoT-2021_Multiclass                        \n",
      "[2025-07-10 03:02:05,142] Processing | FILE = N_BaIoT_Philips_B120N10_Baby_Monitor_Multiclass                  | FILE_SIZE = 30.526 MB   \n"
     ]
    },
    {
     "data": {
      "application/vnd.jupyter.widget-view+json": {
       "model_id": "0be9c16c85204807be4195aaa62bf860",
       "version_major": 2,
       "version_minor": 0
      },
      "text/plain": [
       "Executing:   0%|          | 0/69 [00:00<?, ?cell/s]"
      ]
     },
     "metadata": {},
     "output_type": "display_data"
    },
    {
     "name": "stdout",
     "output_type": "stream",
     "text": [
      "[2025-07-10 03:04:36,263] Processed  | FILE = N_BaIoT_Philips_B120N10_Baby_Monitor_Multiclass                 \n",
      "[2025-07-10 03:04:36,265] Processing | FILE = CICIoMT2024_WiFi_and_MQTT_Multiclass                             | FILE_SIZE = 30.758 MB   \n"
     ]
    },
    {
     "data": {
      "application/vnd.jupyter.widget-view+json": {
       "model_id": "a203acffa9f94d728c4828f001f770fb",
       "version_major": 2,
       "version_minor": 0
      },
      "text/plain": [
       "Executing:   0%|          | 0/69 [00:00<?, ?cell/s]"
      ]
     },
     "metadata": {},
     "output_type": "display_data"
    },
    {
     "name": "stdout",
     "output_type": "stream",
     "text": [
      "[2025-07-10 03:07:30,688] Processed  | FILE = CICIoMT2024_WiFi_and_MQTT_Multiclass                            \n",
      "[2025-07-10 03:07:30,691] Processing | FILE = NIDS_NF-UNSW-NB15-v3_Multiclass                                  | FILE_SIZE = 44.653 MB   \n"
     ]
    },
    {
     "data": {
      "application/vnd.jupyter.widget-view+json": {
       "model_id": "04d001de72e449c7b7dd912569fa160d",
       "version_major": 2,
       "version_minor": 0
      },
      "text/plain": [
       "Executing:   0%|          | 0/69 [00:00<?, ?cell/s]"
      ]
     },
     "metadata": {},
     "output_type": "display_data"
    },
    {
     "name": "stdout",
     "output_type": "stream",
     "text": [
      "[2025-07-10 03:09:11,694] Processed  | FILE = NIDS_NF-UNSW-NB15-v3_Multiclass                                 \n",
      "[2025-07-10 03:09:11,696] Processing | FILE = UNSW_NB15_Multiclass                                             | FILE_SIZE = 46.292 MB   \n"
     ]
    },
    {
     "data": {
      "application/vnd.jupyter.widget-view+json": {
       "model_id": "a8cae9d5323e4bd9949ac7b21e8e8752",
       "version_major": 2,
       "version_minor": 0
      },
      "text/plain": [
       "Executing:   0%|          | 0/69 [00:00<?, ?cell/s]"
      ]
     },
     "metadata": {},
     "output_type": "display_data"
    },
    {
     "name": "stdout",
     "output_type": "stream",
     "text": [
      "[2025-07-10 03:10:49,306] Processed  | FILE = UNSW_NB15_Multiclass                                            \n",
      "[2025-07-10 03:10:49,307] Processing | FILE = CIC_IDS_2017_Multiclass                                          | FILE_SIZE = 48.120 MB   \n"
     ]
    },
    {
     "data": {
      "application/vnd.jupyter.widget-view+json": {
       "model_id": "93a5da4931ad42189d2188dc67d87583",
       "version_major": 2,
       "version_minor": 0
      },
      "text/plain": [
       "Executing:   0%|          | 0/69 [00:00<?, ?cell/s]"
      ]
     },
     "metadata": {},
     "output_type": "display_data"
    },
    {
     "name": "stdout",
     "output_type": "stream",
     "text": [
      "[2025-07-10 03:12:33,021] Processed  | FILE = CIC_IDS_2017_Multiclass                                         \n",
      "[2025-07-10 03:12:33,022] Processing | FILE = NIDS_NF-CSE-CIC-IDS2018-v2_Multiclass                            | FILE_SIZE = 53.016 MB   \n"
     ]
    },
    {
     "data": {
      "application/vnd.jupyter.widget-view+json": {
       "model_id": "54ea5717d4a24fd5a81b5205f13a3fb4",
       "version_major": 2,
       "version_minor": 0
      },
      "text/plain": [
       "Executing:   0%|          | 0/69 [00:00<?, ?cell/s]"
      ]
     },
     "metadata": {},
     "output_type": "display_data"
    },
    {
     "name": "stdout",
     "output_type": "stream",
     "text": [
      "[2025-07-10 03:14:35,166] Processed  | FILE = NIDS_NF-CSE-CIC-IDS2018-v2_Multiclass                           \n",
      "[2025-07-10 03:14:35,168] Processing | FILE = NIDS_CIC-BoT-IoT_Multiclass                                      | FILE_SIZE = 61.999 MB   \n"
     ]
    },
    {
     "data": {
      "application/vnd.jupyter.widget-view+json": {
       "model_id": "b57b8cb64a744e4f901eaf77cbbbe613",
       "version_major": 2,
       "version_minor": 0
      },
      "text/plain": [
       "Executing:   0%|          | 0/69 [00:00<?, ?cell/s]"
      ]
     },
     "metadata": {},
     "output_type": "display_data"
    },
    {
     "name": "stdout",
     "output_type": "stream",
     "text": [
      "[2025-07-10 03:15:32,207] Processed  | FILE = NIDS_CIC-BoT-IoT_Multiclass                                     \n",
      "[2025-07-10 03:15:32,208] Processing | FILE = BCCC_CIC-BCCC-NRC-MQTTIoT-IDS-2020_Multiclass                    | FILE_SIZE = 65.461 MB   \n"
     ]
    },
    {
     "data": {
      "application/vnd.jupyter.widget-view+json": {
       "model_id": "cf2d47c75f7c41979388ad5b85d44fe0",
       "version_major": 2,
       "version_minor": 0
      },
      "text/plain": [
       "Executing:   0%|          | 0/69 [00:00<?, ?cell/s]"
      ]
     },
     "metadata": {},
     "output_type": "display_data"
    },
    {
     "name": "stdout",
     "output_type": "stream",
     "text": [
      "[2025-07-10 03:16:20,891] Processed  | FILE = BCCC_CIC-BCCC-NRC-MQTTIoT-IDS-2020_Multiclass                   \n",
      "[2025-07-10 03:16:20,893] Processing | FILE = CICAPT_IIoT_Phase2_Micro_Multiclass                              | FILE_SIZE = 84.903 MB   \n"
     ]
    },
    {
     "data": {
      "application/vnd.jupyter.widget-view+json": {
       "model_id": "b0f3ce7d0e614fd09835e658b75f05a0",
       "version_major": 2,
       "version_minor": 0
      },
      "text/plain": [
       "Executing:   0%|          | 0/69 [00:00<?, ?cell/s]"
      ]
     },
     "metadata": {},
     "output_type": "display_data"
    },
    {
     "name": "stdout",
     "output_type": "stream",
     "text": [
      "[2025-07-10 03:18:49,949] Processed  | FILE = CICAPT_IIoT_Phase2_Micro_Multiclass                             \n",
      "[2025-07-10 03:18:49,960] Processing | FILE = CICAPT_IIoT_Phase2_Macro_Multiclass                              | FILE_SIZE = 84.907 MB   \n"
     ]
    },
    {
     "data": {
      "application/vnd.jupyter.widget-view+json": {
       "model_id": "0b0d763578af489897746f413403ecc4",
       "version_major": 2,
       "version_minor": 0
      },
      "text/plain": [
       "Executing:   0%|          | 0/69 [00:00<?, ?cell/s]"
      ]
     },
     "metadata": {},
     "output_type": "display_data"
    },
    {
     "name": "stdout",
     "output_type": "stream",
     "text": [
      "[2025-07-10 03:25:40,945] Processed  | FILE = CICAPT_IIoT_Phase2_Macro_Multiclass                             \n",
      "[2025-07-10 03:25:40,947] Processing | FILE = NIDS_NF-UQ-NIDS-v2_Multiclass                                    | FILE_SIZE = 99.583 MB   \n"
     ]
    },
    {
     "data": {
      "application/vnd.jupyter.widget-view+json": {
       "model_id": "c1ff20c4e15b4f7c9e8da6d7555e7abe",
       "version_major": 2,
       "version_minor": 0
      },
      "text/plain": [
       "Executing:   0%|          | 0/69 [00:00<?, ?cell/s]"
      ]
     },
     "metadata": {},
     "output_type": "display_data"
    },
    {
     "name": "stdout",
     "output_type": "stream",
     "text": [
      "[2025-07-10 03:29:25,019] Processed  | FILE = NIDS_NF-UQ-NIDS-v2_Multiclass                                   \n",
      "[2025-07-10 03:29:25,021] Processing | FILE = CICAPT_IIoT_Phase1_Micro_Multiclass                              | FILE_SIZE = 101.822 MB  \n"
     ]
    },
    {
     "data": {
      "application/vnd.jupyter.widget-view+json": {
       "model_id": "f79ad03a80124a2ebbf3ca755793eb3e",
       "version_major": 2,
       "version_minor": 0
      },
      "text/plain": [
       "Executing:   0%|          | 0/69 [00:00<?, ?cell/s]"
      ]
     },
     "metadata": {},
     "output_type": "display_data"
    },
    {
     "name": "stdout",
     "output_type": "stream",
     "text": [
      "[2025-07-10 03:29:30,444] ERROR      | FILE = CICAPT_IIoT_Phase1_Micro_Multiclass                              | EXCEPTION = AssertionError: Classification requires two or more classes.\n",
      "[2025-07-10 03:29:30,446] Processing | FILE = CICAPT_IIoT_Phase1_Macro_Multiclass                              | FILE_SIZE = 101.822 MB  \n"
     ]
    },
    {
     "data": {
      "application/vnd.jupyter.widget-view+json": {
       "model_id": "873974830d454f548f5b98caa1a857de",
       "version_major": 2,
       "version_minor": 0
      },
      "text/plain": [
       "Executing:   0%|          | 0/69 [00:00<?, ?cell/s]"
      ]
     },
     "metadata": {},
     "output_type": "display_data"
    },
    {
     "name": "stdout",
     "output_type": "stream",
     "text": [
      "[2025-07-10 03:29:35,901] ERROR      | FILE = CICAPT_IIoT_Phase1_Macro_Multiclass                              | EXCEPTION = AssertionError: Classification requires two or more classes.\n",
      "[2025-07-10 03:29:35,903] Processing | FILE = CIC_IOT_Dataset2023_Multiclass                                   | FILE_SIZE = 103.468 MB  \n"
     ]
    },
    {
     "data": {
      "application/vnd.jupyter.widget-view+json": {
       "model_id": "f3a0f7895ff24518b4d8dc634d63dc42",
       "version_major": 2,
       "version_minor": 0
      },
      "text/plain": [
       "Executing:   0%|          | 0/69 [00:00<?, ?cell/s]"
      ]
     },
     "metadata": {},
     "output_type": "display_data"
    },
    {
     "name": "stdout",
     "output_type": "stream",
     "text": [
      "[2025-07-10 03:40:24,522] Processed  | FILE = CIC_IOT_Dataset2023_Multiclass                                  \n",
      "[2025-07-10 03:40:24,523] Processing | FILE = NIDS_NF-ToN-IoT-v3_Multiclass                                    | FILE_SIZE = 107.593 MB  \n"
     ]
    },
    {
     "data": {
      "application/vnd.jupyter.widget-view+json": {
       "model_id": "7fcfac0c492e4ddd9ec710d5aee7584d",
       "version_major": 2,
       "version_minor": 0
      },
      "text/plain": [
       "Executing:   0%|          | 0/69 [00:00<?, ?cell/s]"
      ]
     },
     "metadata": {},
     "output_type": "display_data"
    },
    {
     "name": "stdout",
     "output_type": "stream",
     "text": [
      "[2025-07-10 03:42:57,696] Processed  | FILE = NIDS_NF-ToN-IoT-v3_Multiclass                                   \n",
      "[2025-07-10 03:42:57,697] Processing | FILE = NIDS_NF-CICIDS2018-v3_Multiclass                                 | FILE_SIZE = 285.462 MB  \n"
     ]
    },
    {
     "data": {
      "application/vnd.jupyter.widget-view+json": {
       "model_id": "f824ec3c5d2b4c389d733df29c4e80a8",
       "version_major": 2,
       "version_minor": 0
      },
      "text/plain": [
       "Executing:   0%|          | 0/69 [00:00<?, ?cell/s]"
      ]
     },
     "metadata": {},
     "output_type": "display_data"
    },
    {
     "name": "stdout",
     "output_type": "stream",
     "text": [
      "[2025-07-10 03:47:28,082] Processed  | FILE = NIDS_NF-CICIDS2018-v3_Multiclass                                \n"
     ]
    }
   ],
   "source": [
    "from tqdm.notebook import tqdm\n",
    "import json\n",
    "import papermill as pm\n",
    "\n",
    "errors = {}\n",
    "\n",
    "# Find all .parquet files recursively\n",
    "parquet_files = list(base_folder.rglob(\"*.parquet\"))\n",
    "\n",
    "# Sort by file size (ascending)\n",
    "parquet_files_sorted = sorted(parquet_files, key=lambda p: os.path.getsize(p))\n",
    "\n",
    "# Iterate\n",
    "for file in tqdm(parquet_files_sorted, desc='File', leave='False'):\n",
    "    \n",
    "    dataset_path = str(file)\n",
    "    size_mb = f'{(os.path.getsize(dataset_path) / (1024 * 1024)):.3f} MB'\n",
    "    output_folder = Path(dataset_path.replace('/Input_Multiclass/', '/Output_Multiclass_3600/')).parent\n",
    "    output_folder = os.path.join(str(output_folder), str(file.stem), 'hpo_pareto_refit')\n",
    "    os.makedirs(output_folder, exist_ok=True)\n",
    "    \n",
    "    input_notebook = 'refitter_code.ipynb'\n",
    "    output_notebook = os.path.join(output_folder, 'execution.ipynb')\n",
    "    results_filename = os.path.join(output_folder, 'pareto_trials/summary.json')\n",
    "\n",
    "    try:\n",
    "\n",
    "        tqdm.write(f'[{now()}] Processing | FILE = {str(file.stem):<64} | FILE_SIZE = {size_mb:<12}')\n",
    "    \n",
    "        if not Path(results_filename).exists():\n",
    "\n",
    "            parameters = dict(\n",
    "                dataset_path=dataset_path,\n",
    "                output_folder=output_folder,\n",
    "                target_column='label',\n",
    "                handle_object_cols='keep',\n",
    "                sampling_rate_global=None,\n",
    "                sampling_rate_sets=0.10,\n",
    "                sample_sets=['train'],\n",
    "                min_samples_per_class=1,\n",
    "                feature_selection_threshold=0.95,\n",
    "                sample_filtering_quantile=0.10,\n",
    "                hpo_n_trials=300,\n",
    "                hpo_timeout=3600,\n",
    "                num_boost_round=300,\n",
    "                early_stopping_rounds=15,\n",
    "                n_jobs=-1,\n",
    "                random_state=42,\n",
    "                plot_param_importances=False\n",
    "            )\n",
    "\n",
    "            with open(output_notebook.replace('.ipynb', '_params.json'), 'w', encoding='utf-8') as f:\n",
    "                json.dump(parameters, f, indent=4)                \n",
    "        \n",
    "            pm.execute_notebook(input_notebook, output_notebook, parameters=parameters)\n",
    "    \n",
    "        tqdm.write(f'[{now()}] Processed  | FILE = {str(file.stem):<64}')\n",
    "        \n",
    "    except (ValueError, Exception) as e:\n",
    "        tqdm.write(f'[{now()}] ERROR      | FILE = {str(file.stem):<64} | EXCEPTION = {parse_exception(e)}')\n",
    "        with open(output_notebook.replace('.ipynb', '_errors.json'), 'w', encoding='utf-8') as f:\n",
    "            json.dump({\"timestamp\": now(), \"file\": str(file), \"error\": str(e).split('\\n')}, f, indent=2)"
   ]
  }
 ],
 "metadata": {
  "kernelspec": {
   "display_name": "Python 3 (ipykernel)",
   "language": "python",
   "name": "python3"
  },
  "language_info": {
   "codemirror_mode": {
    "name": "ipython",
    "version": 3
   },
   "file_extension": ".py",
   "mimetype": "text/x-python",
   "name": "python",
   "nbconvert_exporter": "python",
   "pygments_lexer": "ipython3",
   "version": "3.12.10"
  }
 },
 "nbformat": 4,
 "nbformat_minor": 5
}
