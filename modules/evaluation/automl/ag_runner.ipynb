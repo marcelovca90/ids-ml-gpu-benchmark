{
 "cells": [
  {
   "cell_type": "code",
   "execution_count": 1,
   "id": "27a82064-6093-4a25-8459-2af877e3de4c",
   "metadata": {},
   "outputs": [],
   "source": [
    "# !pip install papermill"
   ]
  },
  {
   "cell_type": "code",
   "execution_count": 2,
   "id": "2e73dbf8-fa7a-4ab0-bd01-25259c733910",
   "metadata": {},
   "outputs": [],
   "source": [
    "from datetime import datetime\n",
    "import json\n",
    "\n",
    "def now():\n",
    "    now = datetime.now()\n",
    "    yyyymmdd_hhmmss_part = now.strftime('%Y-%m-%d %H:%M:%S')\n",
    "    ms_part = f'{int(now.microsecond / 1000):03d}'\n",
    "    return f'{yyyymmdd_hhmmss_part},{ms_part}'\n",
    "\n",
    "def load_results(results_filename):\n",
    "    with open(results_filename, 'r', encoding='utf-8') as f:\n",
    "        content = json.load(f)\n",
    "        f1_weighted = content[\"leaderboard\"][0][\"score_val\"]\n",
    "        fit_time = content[\"leaderboard\"][0][\"fit_time\"]\n",
    "    return f'{f1_weighted:.6f}', f'{fit_time:.3f}'"
   ]
  },
  {
   "cell_type": "code",
   "execution_count": 3,
   "id": "d3b18448-632e-471a-868e-199d69d5008b",
   "metadata": {
    "editable": true,
    "scrolled": true,
    "slideshow": {
     "slide_type": ""
    },
    "tags": []
   },
   "outputs": [
    {
     "data": {
      "application/vnd.jupyter.widget-view+json": {
       "model_id": "c0b8775eb27e46ffb9304c41dd8893cc",
       "version_major": 2,
       "version_minor": 0
      },
      "text/plain": [
       "Kind:   0%|          | 0/2 [00:00<?, ?it/s]"
      ]
     },
     "metadata": {},
     "output_type": "display_data"
    },
    {
     "data": {
      "application/vnd.jupyter.widget-view+json": {
       "model_id": "b1062ea7d6cd49a08ce72ab927a6758e",
       "version_major": 2,
       "version_minor": 0
      },
      "text/plain": [
       "File:   0%|          | 0/61 [00:00<?, ?it/s]"
      ]
     },
     "metadata": {},
     "output_type": "display_data"
    },
    {
     "name": "stdout",
     "output_type": "stream",
     "text": [
      "[2025-06-21 02:12:59,127] Processing | FILE = ToN_IoT_IoT_Garage_Door_Multiclass                               | FILE_SIZE   = 0.003 MB     | MAX_TIME = 60    \n"
     ]
    },
    {
     "data": {
      "application/vnd.jupyter.widget-view+json": {
       "model_id": "4461159ec0ea4f98b8354640ce47a95c",
       "version_major": 2,
       "version_minor": 0
      },
      "text/plain": [
       "Executing:   0%|          | 0/15 [00:00<?, ?cell/s]"
      ]
     },
     "metadata": {},
     "output_type": "display_data"
    },
    {
     "name": "stdout",
     "output_type": "stream",
     "text": [
      "[2025-06-21 02:13:02,001] ERROR      | FILE = ToN_IoT_IoT_Garage_Door_Multiclass                               | EXCEPTION = \n",
      "---------------------------------------------------------------------------\n",
      "Exception encountered at \"In [3]\":\n",
      "---------------------------------------------------------------------------\n",
      "ValueError                                Traceback (most recent call last)\n",
      "Cell In[3], line 21\n",
      "     18 from autogluon.tabular import TabularDataset\n",
      "     19 from sklearn.model_selection import train_test_split\n",
      "---> 21 train_df, test_df = train_test_split(df, test_size=TEST_SIZE, random_state=RANDOM_STATE, stratify=df[TARGET_COL])\n",
      "     23 train_data, test_data = TabularDataset(train_df), TabularDataset(test_df)\n",
      "     25 # Step 4: Print dtypes\n",
      "\n",
      "File ~/miniforge3/envs/ag/lib/python3.11/site-packages/sklearn/utils/_param_validation.py:216, in validate_params.<locals>.decorator.<locals>.wrapper(*args, **kwargs)\n",
      "    210 try:\n",
      "    211     with config_context(\n",
      "    212         skip_parameter_validation=(\n",
      "    213             prefer_skip_nested_validation or global_skip_validation\n",
      "    214         )\n",
      "    215     ):\n",
      "--> 216         return func(*args, **kwargs)\n",
      "    217 except InvalidParameterError as e:\n",
      "    218     # When the function is just a wrapper around an estimator, we allow\n",
      "    219     # the function to delegate validation to the estimator, but we replace\n",
      "    220     # the name of the estimator by the name of the function in the error\n",
      "    221     # message to avoid confusion.\n",
      "    222     msg = re.sub(\n",
      "    223         r\"parameter of \\w+ must be\",\n",
      "    224         f\"parameter of {func.__qualname__} must be\",\n",
      "    225         str(e),\n",
      "    226     )\n",
      "\n",
      "File ~/miniforge3/envs/ag/lib/python3.11/site-packages/sklearn/model_selection/_split.py:2872, in train_test_split(test_size, train_size, random_state, shuffle, stratify, *arrays)\n",
      "   2868         CVClass = ShuffleSplit\n",
      "   2870     cv = CVClass(test_size=n_test, train_size=n_train, random_state=random_state)\n",
      "-> 2872     train, test = next(cv.split(X=arrays[0], y=stratify))\n",
      "   2874 train, test = ensure_common_namespace_device(arrays[0], train, test)\n",
      "   2876 return list(\n",
      "   2877     chain.from_iterable(\n",
      "   2878         (_safe_indexing(a, train), _safe_indexing(a, test)) for a in arrays\n",
      "   2879     )\n",
      "   2880 )\n",
      "\n",
      "File ~/miniforge3/envs/ag/lib/python3.11/site-packages/sklearn/model_selection/_split.py:1909, in BaseShuffleSplit.split(self, X, y, groups)\n",
      "   1879 \"\"\"Generate indices to split data into training and test set.\n",
      "   1880 \n",
      "   1881 Parameters\n",
      "   (...)   1906 to an integer.\n",
      "   1907 \"\"\"\n",
      "   1908 X, y, groups = indexable(X, y, groups)\n",
      "-> 1909 for train, test in self._iter_indices(X, y, groups):\n",
      "   1910     yield train, test\n",
      "\n",
      "File ~/miniforge3/envs/ag/lib/python3.11/site-packages/sklearn/model_selection/_split.py:2331, in StratifiedShuffleSplit._iter_indices(self, X, y, groups)\n",
      "   2326     raise ValueError(\n",
      "   2327         \"The train_size = %d should be greater or \"\n",
      "   2328         \"equal to the number of classes = %d\" % (n_train, n_classes)\n",
      "   2329     )\n",
      "   2330 if n_test < n_classes:\n",
      "-> 2331     raise ValueError(\n",
      "   2332         \"The test_size = %d should be greater or \"\n",
      "   2333         \"equal to the number of classes = %d\" % (n_test, n_classes)\n",
      "   2334     )\n",
      "   2336 # Find the sorted list of instances for each class:\n",
      "   2337 # (np.unique above performs a sort, so code is O(n logn) already)\n",
      "   2338 class_indices = np.split(\n",
      "   2339     np.argsort(y_indices, kind=\"mergesort\"), np.cumsum(class_counts)[:-1]\n",
      "   2340 )\n",
      "\n",
      "ValueError: The test_size = 4 should be greater or equal to the number of classes = 8\n",
      "\n",
      "[2025-06-21 02:13:02,002] Processing | FILE = ToN_IoT_IoT_Motion_Light_Multiclass                              | FILE_SIZE   = 0.003 MB     | MAX_TIME = 60    \n"
     ]
    },
    {
     "data": {
      "application/vnd.jupyter.widget-view+json": {
       "model_id": "a40c2dcc4963436992dc76cf25bb41cc",
       "version_major": 2,
       "version_minor": 0
      },
      "text/plain": [
       "Executing:   0%|          | 0/15 [00:00<?, ?cell/s]"
      ]
     },
     "metadata": {},
     "output_type": "display_data"
    },
    {
     "name": "stdout",
     "output_type": "stream",
     "text": [
      "[2025-06-21 02:13:04,313] ERROR      | FILE = ToN_IoT_IoT_Motion_Light_Multiclass                              | EXCEPTION = \n",
      "---------------------------------------------------------------------------\n",
      "Exception encountered at \"In [3]\":\n",
      "---------------------------------------------------------------------------\n",
      "ValueError                                Traceback (most recent call last)\n",
      "Cell In[3], line 21\n",
      "     18 from autogluon.tabular import TabularDataset\n",
      "     19 from sklearn.model_selection import train_test_split\n",
      "---> 21 train_df, test_df = train_test_split(df, test_size=TEST_SIZE, random_state=RANDOM_STATE, stratify=df[TARGET_COL])\n",
      "     23 train_data, test_data = TabularDataset(train_df), TabularDataset(test_df)\n",
      "     25 # Step 4: Print dtypes\n",
      "\n",
      "File ~/miniforge3/envs/ag/lib/python3.11/site-packages/sklearn/utils/_param_validation.py:216, in validate_params.<locals>.decorator.<locals>.wrapper(*args, **kwargs)\n",
      "    210 try:\n",
      "    211     with config_context(\n",
      "    212         skip_parameter_validation=(\n",
      "    213             prefer_skip_nested_validation or global_skip_validation\n",
      "    214         )\n",
      "    215     ):\n",
      "--> 216         return func(*args, **kwargs)\n",
      "    217 except InvalidParameterError as e:\n",
      "    218     # When the function is just a wrapper around an estimator, we allow\n",
      "    219     # the function to delegate validation to the estimator, but we replace\n",
      "    220     # the name of the estimator by the name of the function in the error\n",
      "    221     # message to avoid confusion.\n",
      "    222     msg = re.sub(\n",
      "    223         r\"parameter of \\w+ must be\",\n",
      "    224         f\"parameter of {func.__qualname__} must be\",\n",
      "    225         str(e),\n",
      "    226     )\n",
      "\n",
      "File ~/miniforge3/envs/ag/lib/python3.11/site-packages/sklearn/model_selection/_split.py:2872, in train_test_split(test_size, train_size, random_state, shuffle, stratify, *arrays)\n",
      "   2868         CVClass = ShuffleSplit\n",
      "   2870     cv = CVClass(test_size=n_test, train_size=n_train, random_state=random_state)\n",
      "-> 2872     train, test = next(cv.split(X=arrays[0], y=stratify))\n",
      "   2874 train, test = ensure_common_namespace_device(arrays[0], train, test)\n",
      "   2876 return list(\n",
      "   2877     chain.from_iterable(\n",
      "   2878         (_safe_indexing(a, train), _safe_indexing(a, test)) for a in arrays\n",
      "   2879     )\n",
      "   2880 )\n",
      "\n",
      "File ~/miniforge3/envs/ag/lib/python3.11/site-packages/sklearn/model_selection/_split.py:1909, in BaseShuffleSplit.split(self, X, y, groups)\n",
      "   1879 \"\"\"Generate indices to split data into training and test set.\n",
      "   1880 \n",
      "   1881 Parameters\n",
      "   (...)   1906 to an integer.\n",
      "   1907 \"\"\"\n",
      "   1908 X, y, groups = indexable(X, y, groups)\n",
      "-> 1909 for train, test in self._iter_indices(X, y, groups):\n",
      "   1910     yield train, test\n",
      "\n",
      "File ~/miniforge3/envs/ag/lib/python3.11/site-packages/sklearn/model_selection/_split.py:2331, in StratifiedShuffleSplit._iter_indices(self, X, y, groups)\n",
      "   2326     raise ValueError(\n",
      "   2327         \"The train_size = %d should be greater or \"\n",
      "   2328         \"equal to the number of classes = %d\" % (n_train, n_classes)\n",
      "   2329     )\n",
      "   2330 if n_test < n_classes:\n",
      "-> 2331     raise ValueError(\n",
      "   2332         \"The test_size = %d should be greater or \"\n",
      "   2333         \"equal to the number of classes = %d\" % (n_test, n_classes)\n",
      "   2334     )\n",
      "   2336 # Find the sorted list of instances for each class:\n",
      "   2337 # (np.unique above performs a sort, so code is O(n logn) already)\n",
      "   2338 class_indices = np.split(\n",
      "   2339     np.argsort(y_indices, kind=\"mergesort\"), np.cumsum(class_counts)[:-1]\n",
      "   2340 )\n",
      "\n",
      "ValueError: The test_size = 4 should be greater or equal to the number of classes = 8\n",
      "\n",
      "[2025-06-21 02:13:04,314] Processing | FILE = ToN_IoT_IoT_Fridge_Multiclass                                    | FILE_SIZE   = 0.004 MB     | MAX_TIME = 60    \n",
      "[2025-06-21 02:13:04,315] Processed  | FILE = ToN_IoT_IoT_Fridge_Multiclass                                    | F1_WEIGHTED = 0.743312     | FIT_TIME = 20.963\n",
      "[2025-06-21 02:13:04,315] Processing | FILE = ToN_IoT_Linux_Disk_Multiclass                                    | FILE_SIZE   = 0.100 MB     | MAX_TIME = 60    \n",
      "[2025-06-21 02:13:04,316] Processed  | FILE = ToN_IoT_Linux_Disk_Multiclass                                    | F1_WEIGHTED = 0.640092     | FIT_TIME = 48.042\n",
      "[2025-06-21 02:13:04,316] Processing | FILE = ToN_IoT_Linux_Process_Multiclass                                 | FILE_SIZE   = 0.106 MB     | MAX_TIME = 60    \n",
      "[2025-06-21 02:13:04,317] Processed  | FILE = ToN_IoT_Linux_Process_Multiclass                                 | F1_WEIGHTED = 0.684656     | FIT_TIME = 46.469\n",
      "[2025-06-21 02:13:04,317] Processing | FILE = ToN_IoT_IoT_Thermostat_Multiclass                                | FILE_SIZE   = 0.114 MB     | MAX_TIME = 60    \n",
      "[2025-06-21 02:13:04,318] Processed  | FILE = ToN_IoT_IoT_Thermostat_Multiclass                                | F1_WEIGHTED = 0.697519     | FIT_TIME = 47.285\n",
      "[2025-06-21 02:13:04,318] Processing | FILE = CICIoMT2024_Bluetooth_Multiclass                                 | FILE_SIZE   = 0.283 MB     | MAX_TIME = 60    \n",
      "[2025-06-21 02:13:04,319] Processed  | FILE = CICIoMT2024_Bluetooth_Multiclass                                 | F1_WEIGHTED = 0.997056     | FIT_TIME = 32.484\n",
      "[2025-06-21 02:13:04,319] Processing | FILE = ToN_IoT_Linux_Memory_Multiclass                                  | FILE_SIZE   = 0.765 MB     | MAX_TIME = 60    \n",
      "[2025-06-21 02:13:04,319] Processed  | FILE = ToN_IoT_Linux_Memory_Multiclass                                  | F1_WEIGHTED = 0.885239     | FIT_TIME = 52.422\n",
      "[2025-06-21 02:13:04,320] Processing | FILE = ToN_IoT_IoT_Modbus_Multiclass                                    | FILE_SIZE   = 1.687 MB     | MAX_TIME = 60    \n",
      "[2025-06-21 02:13:04,320] Processed  | FILE = ToN_IoT_IoT_Modbus_Multiclass                                    | F1_WEIGHTED = 0.712498     | FIT_TIME = 46.566\n",
      "[2025-06-21 02:13:04,320] Processing | FILE = EDGE-IIOTSET_ML-EdgeIIoT_Multiclass                              | FILE_SIZE   = 2.063 MB     | MAX_TIME = 60    \n",
      "[2025-06-21 02:13:04,321] Processed  | FILE = EDGE-IIOTSET_ML-EdgeIIoT_Multiclass                              | F1_WEIGHTED = 0.936288     | FIT_TIME = 49.432\n",
      "[2025-06-21 02:13:04,321] Processing | FILE = NIDS_NF-BoT-IoT_Multiclass                                       | FILE_SIZE   = 2.134 MB     | MAX_TIME = 60    \n",
      "[2025-06-21 02:13:04,322] Processed  | FILE = NIDS_NF-BoT-IoT_Multiclass                                       | F1_WEIGHTED = 0.955481     | FIT_TIME = 48.966\n",
      "[2025-06-21 02:13:04,322] Processing | FILE = ToN_IoT_IoT_Weather_Multiclass                                   | FILE_SIZE   = 3.039 MB     | MAX_TIME = 60    \n",
      "[2025-06-21 02:13:04,323] Processed  | FILE = ToN_IoT_IoT_Weather_Multiclass                                   | F1_WEIGHTED = 0.938552     | FIT_TIME = 43.615\n",
      "[2025-06-21 02:13:04,323] Processing | FILE = MQTT_IoT_IDS2020_BiflowFeatures_Multiclass                       | FILE_SIZE   = 3.081 MB     | MAX_TIME = 60    \n",
      "[2025-06-21 02:13:04,324] Processed  | FILE = MQTT_IoT_IDS2020_BiflowFeatures_Multiclass                       | F1_WEIGHTED = 0.998471     | FIT_TIME = 43.100\n",
      "[2025-06-21 02:13:04,324] Processing | FILE = MQTT_IoT_IDS2020_UniflowFeatures_Multiclass                      | FILE_SIZE   = 3.866 MB     | MAX_TIME = 60    \n",
      "[2025-06-21 02:13:04,325] Processed  | FILE = MQTT_IoT_IDS2020_UniflowFeatures_Multiclass                      | F1_WEIGHTED = 0.998096     | FIT_TIME = 50.849\n",
      "[2025-06-21 02:13:04,325] Processing | FILE = BCCC_CIC-BCCC-NRC-IoT-HCRL-2019_Multiclass                       | FILE_SIZE   = 3.971 MB     | MAX_TIME = 60    \n",
      "[2025-06-21 02:13:04,326] Processed  | FILE = BCCC_CIC-BCCC-NRC-IoT-HCRL-2019_Multiclass                       | F1_WEIGHTED = 0.971141     | FIT_TIME = 51.246\n",
      "[2025-06-21 02:13:04,326] Processing | FILE = MQTT_IoT_IDS2020_PacketFeatures_Multiclass                       | FILE_SIZE   = 4.306 MB     | MAX_TIME = 60    \n",
      "[2025-06-21 02:13:04,327] Processed  | FILE = MQTT_IoT_IDS2020_PacketFeatures_Multiclass                       | F1_WEIGHTED = 0.994007     | FIT_TIME = 44.975\n",
      "[2025-06-21 02:13:04,327] Processing | FILE = ToN_IoT_IoT_GPS_Tracker_Multiclass                               | FILE_SIZE   = 4.496 MB     | MAX_TIME = 60    \n",
      "[2025-06-21 02:13:04,327] Processed  | FILE = ToN_IoT_IoT_GPS_Tracker_Multiclass                               | F1_WEIGHTED = 0.931266     | FIT_TIME = 49.002\n",
      "[2025-06-21 02:13:04,327] Processing | FILE = KDD_Cup_1999_Multiclass                                          | FILE_SIZE   = 6.023 MB     | MAX_TIME = 60    \n"
     ]
    },
    {
     "data": {
      "application/vnd.jupyter.widget-view+json": {
       "model_id": "29f71d6f700b43f9b3412f11b59323b9",
       "version_major": 2,
       "version_minor": 0
      },
      "text/plain": [
       "Executing:   0%|          | 0/15 [00:00<?, ?cell/s]"
      ]
     },
     "metadata": {},
     "output_type": "display_data"
    },
    {
     "name": "stderr",
     "output_type": "stream",
     "text": [
      "*** SIGTERM received at time=1750482887 on cpu 22 ***\n",
      "PC: @     0x7f419ed25e2e  (unknown)  epoll_wait\n",
      "    @     0x7f3fe0bac0ed         64  absl::lts_20230802::AbslFailureSignalHandler()\n",
      "    @     0x7f419ec42520  (unknown)  (unknown)\n",
      "[2025-06-21 02:14:47,569 E 23958 23958] logging.cc:440: *** SIGTERM received at time=1750482887 on cpu 22 ***\n",
      "[2025-06-21 02:14:47,569 E 23958 23958] logging.cc:440: PC: @     0x7f419ed25e2e  (unknown)  epoll_wait\n",
      "[2025-06-21 02:14:47,571 E 23958 23958] logging.cc:440:     @     0x7f3fe0bac119         64  absl::lts_20230802::AbslFailureSignalHandler()\n",
      "[2025-06-21 02:14:47,571 E 23958 23958] logging.cc:440:     @     0x7f419ec42520  (unknown)  (unknown)\n"
     ]
    },
    {
     "name": "stdout",
     "output_type": "stream",
     "text": [
      "[2025-06-21 02:14:50,285] ERROR      | FILE = KDD_Cup_1999_Multiclass                                          | EXCEPTION = \n",
      "---------------------------------------------------------------------------\n",
      "Exception encountered at \"In [7]\":\n",
      "---------------------------------------------------------------------------\n",
      "IndexError                                Traceback (most recent call last)\n",
      "Cell In[7], line 136\n",
      "    134     kwargs['pos_label'] = use_pos_label\n",
      "    135 try:\n",
      "--> 136     score = average_precision_score(y_true, y_proba, **kwargs)\n",
      "    137 except ValueError:\n",
      "    138     score = np.nan\n",
      "\n",
      "File ~/miniforge3/envs/ag/lib/python3.11/site-packages/sklearn/utils/_param_validation.py:216, in validate_params.<locals>.decorator.<locals>.wrapper(*args, **kwargs)\n",
      "    210 try:\n",
      "    211     with config_context(\n",
      "    212         skip_parameter_validation=(\n",
      "    213             prefer_skip_nested_validation or global_skip_validation\n",
      "    214         )\n",
      "    215     ):\n",
      "--> 216         return func(*args, **kwargs)\n",
      "    217 except InvalidParameterError as e:\n",
      "    218     # When the function is just a wrapper around an estimator, we allow\n",
      "    219     # the function to delegate validation to the estimator, but we replace\n",
      "    220     # the name of the estimator by the name of the function in the error\n",
      "    221     # message to avoid confusion.\n",
      "    222     msg = re.sub(\n",
      "    223         r\"parameter of \\w+ must be\",\n",
      "    224         f\"parameter of {func.__qualname__} must be\",\n",
      "    225         str(e),\n",
      "    226     )\n",
      "\n",
      "File ~/miniforge3/envs/ag/lib/python3.11/site-packages/sklearn/metrics/_ranking.py:263, in average_precision_score(y_true, y_score, average, pos_label, sample_weight)\n",
      "    258     y_true = label_binarize(y_true, classes=present_labels)\n",
      "    260 average_precision = partial(\n",
      "    261     _binary_uninterpolated_average_precision, pos_label=pos_label\n",
      "    262 )\n",
      "--> 263 return _average_binary_score(\n",
      "    264     average_precision, y_true, y_score, average, sample_weight=sample_weight\n",
      "    265 )\n",
      "\n",
      "File ~/miniforge3/envs/ag/lib/python3.11/site-packages/sklearn/metrics/_base.py:110, in _average_binary_score(binary_metric, y_true, y_score, average, sample_weight)\n",
      "    108 score = np.zeros((n_classes,))\n",
      "    109 for c in range(n_classes):\n",
      "--> 110     y_true_c = y_true.take([c], axis=not_average_axis).ravel()\n",
      "    111     y_score_c = y_score.take([c], axis=not_average_axis).ravel()\n",
      "    112     score[c] = binary_metric(y_true_c, y_score_c, sample_weight=score_weight)\n",
      "\n",
      "IndexError: index 21 is out of bounds for axis 1 with size 21\n",
      "\n",
      "[2025-06-21 02:14:50,286] Processing | FILE = ToN_IoT_Windows_7_Multiclass                                     | FILE_SIZE   = 7.112 MB     | MAX_TIME = 60    \n"
     ]
    },
    {
     "data": {
      "application/vnd.jupyter.widget-view+json": {
       "model_id": "a7707385a5634840b5e10de1029ce31f",
       "version_major": 2,
       "version_minor": 0
      },
      "text/plain": [
       "Executing:   0%|          | 0/15 [00:00<?, ?cell/s]"
      ]
     },
     "metadata": {},
     "output_type": "display_data"
    },
    {
     "name": "stderr",
     "output_type": "stream",
     "text": [
      "*** SIGTERM received at time=1750482970 on cpu 22 ***\n",
      "PC: @     0x7566ad725e2e  (unknown)  epoll_wait\n",
      "    @     0x7564e9dac0ed         64  absl::lts_20230802::AbslFailureSignalHandler()\n",
      "    @     0x7566ad642520  (unknown)  (unknown)\n",
      "[2025-06-21 02:16:10,625 E 27125 27125] logging.cc:440: *** SIGTERM received at time=1750482970 on cpu 22 ***\n",
      "[2025-06-21 02:16:10,625 E 27125 27125] logging.cc:440: PC: @     0x7566ad725e2e  (unknown)  epoll_wait\n",
      "[2025-06-21 02:16:10,628 E 27125 27125] logging.cc:440:     @     0x7564e9dac119         64  absl::lts_20230802::AbslFailureSignalHandler()\n",
      "[2025-06-21 02:16:10,628 E 27125 27125] logging.cc:440:     @     0x7566ad642520  (unknown)  (unknown)\n"
     ]
    },
    {
     "name": "stdout",
     "output_type": "stream",
     "text": [
      "[2025-06-21 02:16:13,348] Processed  | FILE = ToN_IoT_Windows_7_Multiclass                                     | F1_WEIGHTED = 0.995368     | FIT_TIME = 7.884 \n",
      "[2025-06-21 02:16:13,349] Processing | FILE = BCCC_CIC-BCCC-NRC-IoT-2022_Multiclass                            | FILE_SIZE   = 8.331 MB     | MAX_TIME = 60    \n",
      "[2025-06-21 02:16:13,350] Processed  | FILE = BCCC_CIC-BCCC-NRC-IoT-2022_Multiclass                            | F1_WEIGHTED = 0.999971     | FIT_TIME = 2.700 \n",
      "[2025-06-21 02:16:13,350] Processing | FILE = NIDS_NF-ToN-IoT_Multiclass                                       | FILE_SIZE   = 9.031 MB     | MAX_TIME = 60    \n",
      "[2025-06-21 02:16:13,351] Processed  | FILE = NIDS_NF-ToN-IoT_Multiclass                                       | F1_WEIGHTED = 0.587780     | FIT_TIME = 40.395\n",
      "[2025-06-21 02:16:13,351] Processing | FILE = ToN_IoT_Windows_10_Multiclass                                    | FILE_SIZE   = 11.665 MB    | MAX_TIME = 60    \n"
     ]
    },
    {
     "data": {
      "application/vnd.jupyter.widget-view+json": {
       "model_id": "8e4e1c54d9f34c07ac066eb1db5556ef",
       "version_major": 2,
       "version_minor": 0
      },
      "text/plain": [
       "Executing:   0%|          | 0/15 [00:00<?, ?cell/s]"
      ]
     },
     "metadata": {},
     "output_type": "display_data"
    },
    {
     "name": "stderr",
     "output_type": "stream",
     "text": [
      "*** SIGTERM received at time=1750483055 on cpu 23 ***\n",
      "PC: @     0x74e4b9125e2e  (unknown)  epoll_wait\n",
      "    @     0x74e2ee7ac0ed         64  absl::lts_20230802::AbslFailureSignalHandler()\n",
      "    @     0x74e4b9042520  (unknown)  (unknown)\n",
      "[2025-06-21 02:17:35,516 E 31859 31859] logging.cc:440: *** SIGTERM received at time=1750483055 on cpu 23 ***\n",
      "[2025-06-21 02:17:35,516 E 31859 31859] logging.cc:440: PC: @     0x74e4b9125e2e  (unknown)  epoll_wait\n",
      "[2025-06-21 02:17:35,518 E 31859 31859] logging.cc:440:     @     0x74e2ee7ac119         64  absl::lts_20230802::AbslFailureSignalHandler()\n",
      "[2025-06-21 02:17:35,519 E 31859 31859] logging.cc:440:     @     0x74e4b9042520  (unknown)  (unknown)\n"
     ]
    },
    {
     "name": "stdout",
     "output_type": "stream",
     "text": [
      "[2025-06-21 02:17:38,237] Processed  | FILE = ToN_IoT_Windows_10_Multiclass                                    | F1_WEIGHTED = 0.984968     | FIT_TIME = 49.010\n",
      "[2025-06-21 02:17:38,238] Processing | FILE = EDGE-IIOTSET_DNN-EdgeIIoT_Multiclass                             | FILE_SIZE   = 16.021 MB    | MAX_TIME = 60    \n",
      "[2025-06-21 02:17:38,239] Processed  | FILE = EDGE-IIOTSET_DNN-EdgeIIoT_Multiclass                             | F1_WEIGHTED = 0.944284     | FIT_TIME = 20.333\n",
      "[2025-06-21 02:17:38,239] Processing | FILE = NIDS_NF-UNSW-NB15_Multiclass                                     | FILE_SIZE   = 16.890 MB    | MAX_TIME = 60    \n",
      "[2025-06-21 02:17:38,240] Processed  | FILE = NIDS_NF-UNSW-NB15_Multiclass                                     | F1_WEIGHTED = 0.971884     | FIT_TIME = 32.036\n",
      "[2025-06-21 02:17:38,241] Processing | FILE = IoT_Network_Intrusion_Macro_Multiclass                           | FILE_SIZE   = 17.502 MB    | MAX_TIME = 60    \n",
      "[2025-06-21 02:17:38,241] Processed  | FILE = IoT_Network_Intrusion_Macro_Multiclass                           | F1_WEIGHTED = 0.963574     | FIT_TIME = 23.606\n",
      "[2025-06-21 02:17:38,242] Processing | FILE = IoT_Network_Intrusion_Micro_Multiclass                           | FILE_SIZE   = 17.503 MB    | MAX_TIME = 60    \n",
      "[2025-06-21 02:17:38,242] Processed  | FILE = IoT_Network_Intrusion_Micro_Multiclass                           | F1_WEIGHTED = 0.955104     | FIT_TIME = 26.495\n",
      "[2025-06-21 02:17:38,242] Processing | FILE = IoT_23_Multiclass                                                | FILE_SIZE   = 21.246 MB    | MAX_TIME = 60    \n"
     ]
    },
    {
     "data": {
      "application/vnd.jupyter.widget-view+json": {
       "model_id": "df47dca27d464e28b4a517cff98aa6ba",
       "version_major": 2,
       "version_minor": 0
      },
      "text/plain": [
       "Executing:   0%|          | 0/15 [00:00<?, ?cell/s]"
      ]
     },
     "metadata": {},
     "output_type": "display_data"
    },
    {
     "name": "stderr",
     "output_type": "stream",
     "text": [
      "*** SIGTERM received at time=1750483179 on cpu 3 ***\n",
      "PC: @     0x761732b25e2e  (unknown)  epoll_wait\n",
      "    @     0x76155d7ac0ed         64  absl::lts_20230802::AbslFailureSignalHandler()\n",
      "    @     0x761732a42520  (unknown)  (unknown)\n",
      "[2025-06-21 02:19:39,911 E 2729 2729] logging.cc:440: *** SIGTERM received at time=1750483179 on cpu 3 ***\n",
      "[2025-06-21 02:19:39,912 E 2729 2729] logging.cc:440: PC: @     0x761732b25e2e  (unknown)  epoll_wait\n",
      "[2025-06-21 02:19:39,914 E 2729 2729] logging.cc:440:     @     0x76155d7ac119         64  absl::lts_20230802::AbslFailureSignalHandler()\n",
      "[2025-06-21 02:19:39,914 E 2729 2729] logging.cc:440:     @     0x761732a42520  (unknown)  (unknown)\n"
     ]
    },
    {
     "name": "stdout",
     "output_type": "stream",
     "text": [
      "[2025-06-21 02:19:42,528] ERROR      | FILE = IoT_23_Multiclass                                                | EXCEPTION = \n",
      "---------------------------------------------------------------------------\n",
      "Exception encountered at \"In [7]\":\n",
      "---------------------------------------------------------------------------\n",
      "IndexError                                Traceback (most recent call last)\n",
      "Cell In[7], line 136\n",
      "    134     kwargs['pos_label'] = use_pos_label\n",
      "    135 try:\n",
      "--> 136     score = average_precision_score(y_true, y_proba, **kwargs)\n",
      "    137 except ValueError:\n",
      "    138     score = np.nan\n",
      "\n",
      "File ~/miniforge3/envs/ag/lib/python3.11/site-packages/sklearn/utils/_param_validation.py:216, in validate_params.<locals>.decorator.<locals>.wrapper(*args, **kwargs)\n",
      "    210 try:\n",
      "    211     with config_context(\n",
      "    212         skip_parameter_validation=(\n",
      "    213             prefer_skip_nested_validation or global_skip_validation\n",
      "    214         )\n",
      "    215     ):\n",
      "--> 216         return func(*args, **kwargs)\n",
      "    217 except InvalidParameterError as e:\n",
      "    218     # When the function is just a wrapper around an estimator, we allow\n",
      "    219     # the function to delegate validation to the estimator, but we replace\n",
      "    220     # the name of the estimator by the name of the function in the error\n",
      "    221     # message to avoid confusion.\n",
      "    222     msg = re.sub(\n",
      "    223         r\"parameter of \\w+ must be\",\n",
      "    224         f\"parameter of {func.__qualname__} must be\",\n",
      "    225         str(e),\n",
      "    226     )\n",
      "\n",
      "File ~/miniforge3/envs/ag/lib/python3.11/site-packages/sklearn/metrics/_ranking.py:263, in average_precision_score(y_true, y_score, average, pos_label, sample_weight)\n",
      "    258     y_true = label_binarize(y_true, classes=present_labels)\n",
      "    260 average_precision = partial(\n",
      "    261     _binary_uninterpolated_average_precision, pos_label=pos_label\n",
      "    262 )\n",
      "--> 263 return _average_binary_score(\n",
      "    264     average_precision, y_true, y_score, average, sample_weight=sample_weight\n",
      "    265 )\n",
      "\n",
      "File ~/miniforge3/envs/ag/lib/python3.11/site-packages/sklearn/metrics/_base.py:110, in _average_binary_score(binary_metric, y_true, y_score, average, sample_weight)\n",
      "    108 score = np.zeros((n_classes,))\n",
      "    109 for c in range(n_classes):\n",
      "--> 110     y_true_c = y_true.take([c], axis=not_average_axis).ravel()\n",
      "    111     y_score_c = y_score.take([c], axis=not_average_axis).ravel()\n",
      "    112     score[c] = binary_metric(y_true_c, y_score_c, sample_weight=score_weight)\n",
      "\n",
      "IndexError: index 15 is out of bounds for axis 1 with size 15\n",
      "\n",
      "[2025-06-21 02:19:42,529] Processing | FILE = N_BaIoT_Ennio_Doorbell_Multiclass                                | FILE_SIZE   = 25.492 MB    | MAX_TIME = 60    \n",
      "[2025-06-21 02:19:42,530] Processed  | FILE = N_BaIoT_Ennio_Doorbell_Multiclass                                | F1_WEIGHTED = 0.999313     | FIT_TIME = 44.146\n",
      "[2025-06-21 02:19:42,530] Processing | FILE = BCCC_CIC-BCCC-NRC-ACI-IOT-2023_Multiclass                        | FILE_SIZE   = 32.303 MB    | MAX_TIME = 60    \n",
      "[2025-06-21 02:19:42,531] Processed  | FILE = BCCC_CIC-BCCC-NRC-ACI-IOT-2023_Multiclass                        | F1_WEIGHTED = 0.910216     | FIT_TIME = 33.847\n",
      "[2025-06-21 02:19:42,531] Processing | FILE = N_BaIoT_Samsung_SNH_1011_N_Webcam_Multiclass                     | FILE_SIZE   = 32.347 MB    | MAX_TIME = 60    \n",
      "[2025-06-21 02:19:42,532] Processed  | FILE = N_BaIoT_Samsung_SNH_1011_N_Webcam_Multiclass                     | F1_WEIGHTED = 0.999235     | FIT_TIME = 42.911\n",
      "[2025-06-21 02:19:42,532] Processing | FILE = NIDS_NF-UNSW-NB15-v2_Multiclass                                  | FILE_SIZE   = 52.630 MB    | MAX_TIME = 60    \n",
      "[2025-06-21 02:19:42,533] Processed  | FILE = NIDS_NF-UNSW-NB15-v2_Multiclass                                  | F1_WEIGHTED = 0.987049     | FIT_TIME = 16.933\n",
      "[2025-06-21 02:19:42,533] Processing | FILE = NIDS_NF-CSE-CIC-IDS2018_Multiclass                               | FILE_SIZE   = 60.046 MB    | MAX_TIME = 60    \n",
      "[2025-06-21 02:19:42,534] Processed  | FILE = NIDS_NF-CSE-CIC-IDS2018_Multiclass                               | F1_WEIGHTED = 0.982164     | FIT_TIME = 29.673\n",
      "[2025-06-21 02:19:42,534] Processing | FILE = NIDS_NF-BoT-IoT-v3_Multiclass                                    | FILE_SIZE   = 60.636 MB    | MAX_TIME = 60    \n",
      "[2025-06-21 02:19:42,535] Processed  | FILE = NIDS_NF-BoT-IoT-v3_Multiclass                                    | F1_WEIGHTED = 0.757180     | FIT_TIME = 38.969\n",
      "[2025-06-21 02:19:42,535] Processing | FILE = NIDS_NF-UQ-NIDS_Multiclass                                       | FILE_SIZE   = 88.560 MB    | MAX_TIME = 60    \n",
      "[2025-06-21 02:19:42,536] Processed  | FILE = NIDS_NF-UQ-NIDS_Multiclass                                       | F1_WEIGHTED = 0.908287     | FIT_TIME = 13.883\n",
      "[2025-06-21 02:19:42,536] Processing | FILE = BCCC_CIC-BCCC-NRC-TONIoT-2021_Multiclass                         | FILE_SIZE   = 89.992 MB    | MAX_TIME = 60    \n",
      "[2025-06-21 02:19:42,536] Processed  | FILE = BCCC_CIC-BCCC-NRC-TONIoT-2021_Multiclass                         | F1_WEIGHTED = 0.984495     | FIT_TIME = 36.180\n",
      "[2025-06-21 02:19:42,537] Processing | FILE = NIDS_NF-UNSW-NB15-v3_Multiclass                                  | FILE_SIZE   = 91.770 MB    | MAX_TIME = 60    \n",
      "[2025-06-21 02:19:42,538] Processed  | FILE = NIDS_NF-UNSW-NB15-v3_Multiclass                                  | F1_WEIGHTED = 0.982918     | FIT_TIME = 15.220\n",
      "[2025-06-21 02:19:42,538] Processing | FILE = UNSW_NB15_Multiclass                                             | FILE_SIZE   = 103.513 MB   | MAX_TIME = 60    \n",
      "[2025-06-21 02:19:42,538] Processed  | FILE = UNSW_NB15_Multiclass                                             | F1_WEIGHTED = 0.977525     | FIT_TIME = 15.975\n",
      "[2025-06-21 02:19:42,538] Processing | FILE = N_BaIoT_Provision_PT_737E_Security_Camera_Multiclass             | FILE_SIZE   = 104.172 MB   | MAX_TIME = 60    \n",
      "[2025-06-21 02:19:42,539] Processed  | FILE = N_BaIoT_Provision_PT_737E_Security_Camera_Multiclass             | F1_WEIGHTED = 0.994170     | FIT_TIME = 29.535\n",
      "[2025-06-21 02:19:42,539] Processing | FILE = BCCC_CIC-BCCC-NRC-Edge-IIoTSet-2022_Multiclass                   | FILE_SIZE   = 106.703 MB   | MAX_TIME = 60    \n",
      "[2025-06-21 02:19:42,540] Processed  | FILE = BCCC_CIC-BCCC-NRC-Edge-IIoTSet-2022_Multiclass                   | F1_WEIGHTED = 0.913140     | FIT_TIME = 10.195\n",
      "[2025-06-21 02:19:42,540] Processing | FILE = N_BaIoT_SimpleHome_XCS7_1003_WHT_Security_Camera_Multiclass      | FILE_SIZE   = 109.313 MB   | MAX_TIME = 60    \n",
      "[2025-06-21 02:19:42,541] Processed  | FILE = N_BaIoT_SimpleHome_XCS7_1003_WHT_Security_Camera_Multiclass      | F1_WEIGHTED = 0.994806     | FIT_TIME = 29.817\n",
      "[2025-06-21 02:19:42,541] Processing | FILE = N_BaIoT_Ecobee_Thermostat_Multiclass                             | FILE_SIZE   = 111.438 MB   | MAX_TIME = 60    \n",
      "[2025-06-21 02:19:42,541] Processed  | FILE = N_BaIoT_Ecobee_Thermostat_Multiclass                             | F1_WEIGHTED = 0.995949     | FIT_TIME = 29.882\n",
      "[2025-06-21 02:19:42,541] Processing | FILE = N_BaIoT_Provision_PT_838_Security_Camera_Multiclass              | FILE_SIZE   = 113.750 MB   | MAX_TIME = 60    \n",
      "[2025-06-21 02:19:42,542] Processed  | FILE = N_BaIoT_Provision_PT_838_Security_Camera_Multiclass              | F1_WEIGHTED = 0.997139     | FIT_TIME = 35.556\n",
      "[2025-06-21 02:19:42,542] Processing | FILE = N_BaIoT_SimpleHome_XCS7_1002_WHT_Security_Camera_Multiclass      | FILE_SIZE   = 113.784 MB   | MAX_TIME = 60    \n",
      "[2025-06-21 02:19:42,543] Processed  | FILE = N_BaIoT_SimpleHome_XCS7_1002_WHT_Security_Camera_Multiclass      | F1_WEIGHTED = 0.995209     | FIT_TIME = 29.895\n",
      "[2025-06-21 02:19:42,543] Processing | FILE = N_BaIoT_Danmini_Doorbell_Multiclass                              | FILE_SIZE   = 115.935 MB   | MAX_TIME = 60    \n",
      "[2025-06-21 02:19:42,544] Processed  | FILE = N_BaIoT_Danmini_Doorbell_Multiclass                              | F1_WEIGHTED = 0.993914     | FIT_TIME = 29.439\n",
      "[2025-06-21 02:19:42,544] Processing | FILE = ToN_IoT_Network_Multiclass                                       | FILE_SIZE   = 122.165 MB   | MAX_TIME = 60    \n",
      "[2025-06-21 02:19:42,545] Processed  | FILE = ToN_IoT_Network_Multiclass                                       | F1_WEIGHTED = 0.998264     | FIT_TIME = 45.143\n",
      "[2025-06-21 02:19:42,545] Processing | FILE = CICIoMT2024_WiFi_and_MQTT_Multiclass                             | FILE_SIZE   = 128.552 MB   | MAX_TIME = 60    \n",
      "[2025-06-21 02:19:42,546] Processed  | FILE = CICIoMT2024_WiFi_and_MQTT_Multiclass                             | F1_WEIGHTED = 0.943222     | FIT_TIME = 26.559\n",
      "[2025-06-21 02:19:42,546] Processing | FILE = BoT_IoT_Macro_Multiclass                                         | FILE_SIZE   = 137.306 MB   | MAX_TIME = 60    \n",
      "[2025-06-21 02:19:42,547] Processed  | FILE = BoT_IoT_Macro_Multiclass                                         | F1_WEIGHTED = 0.724113     | FIT_TIME = 68.560\n",
      "[2025-06-21 02:19:42,547] Processing | FILE = BoT_IoT_Micro_Multiclass                                         | FILE_SIZE   = 137.326 MB   | MAX_TIME = 60    \n",
      "[2025-06-21 02:19:42,548] Processed  | FILE = BoT_IoT_Micro_Multiclass                                         | F1_WEIGHTED = 0.697989     | FIT_TIME = 85.263\n",
      "[2025-06-21 02:19:42,548] Processing | FILE = N_BaIoT_Philips_B120N10_Baby_Monitor_Multiclass                  | FILE_SIZE   = 146.050 MB   | MAX_TIME = 60    \n",
      "[2025-06-21 02:19:42,548] Processed  | FILE = N_BaIoT_Philips_B120N10_Baby_Monitor_Multiclass                  | F1_WEIGHTED = 0.989116     | FIT_TIME = 29.381\n",
      "[2025-06-21 02:19:42,548] Processing | FILE = NIDS_NF-ToN-IoT-v2_Multiclass                                    | FILE_SIZE   = 153.995 MB   | MAX_TIME = 60    \n",
      "[2025-06-21 02:19:42,549] Processed  | FILE = NIDS_NF-ToN-IoT-v2_Multiclass                                    | F1_WEIGHTED = 0.856601     | FIT_TIME = 49.304\n",
      "[2025-06-21 02:19:42,549] Processing | FILE = BCCC_CIC-BCCC-NRC-UQ-IOT-2022_Multiclass                         | FILE_SIZE   = 171.283 MB   | MAX_TIME = 60    \n",
      "[2025-06-21 02:19:42,550] Processed  | FILE = BCCC_CIC-BCCC-NRC-UQ-IOT-2022_Multiclass                         | F1_WEIGHTED = 0.999562     | FIT_TIME = 45.324\n",
      "[2025-06-21 02:19:42,550] Processing | FILE = BCCC_CIC-BCCC-NRC-IoMT-2024_Multiclass                           | FILE_SIZE   = 187.855 MB   | MAX_TIME = 60    \n",
      "[2025-06-21 02:19:42,551] Processed  | FILE = BCCC_CIC-BCCC-NRC-IoMT-2024_Multiclass                           | F1_WEIGHTED = 0.954655     | FIT_TIME = 47.359\n",
      "[2025-06-21 02:19:42,551] Processing | FILE = BCCC_CIC-BCCC-NRC-MQTTIoT-IDS-2020_Multiclass                    | FILE_SIZE   = 196.749 MB   | MAX_TIME = 60    \n",
      "[2025-06-21 02:19:42,552] Processed  | FILE = BCCC_CIC-BCCC-NRC-MQTTIoT-IDS-2020_Multiclass                    | F1_WEIGHTED = 0.933401     | FIT_TIME = 7.019 \n",
      "[2025-06-21 02:19:42,552] Processing | FILE = NIDS_NF-ToN-IoT-v3_Multiclass                                    | FILE_SIZE   = 290.126 MB   | MAX_TIME = 60    \n",
      "[2025-06-21 02:19:42,553] Processed  | FILE = NIDS_NF-ToN-IoT-v3_Multiclass                                    | F1_WEIGHTED = 0.398203     | FIT_TIME = 44.698\n",
      "[2025-06-21 02:19:42,553] Processing | FILE = BCCC_CIC-BCCC-NRC-IoT-2023-Original_Training_and_Testing_Multiclass | FILE_SIZE   = 304.477 MB   | MAX_TIME = 60    \n",
      "[2025-06-21 02:19:42,554] Processed  | FILE = BCCC_CIC-BCCC-NRC-IoT-2023-Original_Training_and_Testing_Multiclass | F1_WEIGHTED = 0.998626     | FIT_TIME = 68.267\n",
      "[2025-06-21 02:19:42,554] Processing | FILE = NIDS_CIC-ToN-IoT_Multiclass                                      | FILE_SIZE   = 409.676 MB   | MAX_TIME = 60    \n",
      "[2025-06-21 02:19:42,555] Processed  | FILE = NIDS_CIC-ToN-IoT_Multiclass                                      | F1_WEIGHTED = 0.790913     | FIT_TIME = 14.710\n",
      "[2025-06-21 02:19:42,555] Processing | FILE = NIDS_NF-CSE-CIC-IDS2018-v2_Multiclass                            | FILE_SIZE   = 471.846 MB   | MAX_TIME = 60    \n",
      "[2025-06-21 02:19:42,555] Processed  | FILE = NIDS_NF-CSE-CIC-IDS2018-v2_Multiclass                            | F1_WEIGHTED = 0.822311     | FIT_TIME = 46.264\n",
      "[2025-06-21 02:19:42,556] Processing | FILE = NIDS_NF-BoT-IoT-v2_Multiclass                                    | FILE_SIZE   = 473.923 MB   | MAX_TIME = 60    \n",
      "[2025-06-21 02:19:42,556] Processed  | FILE = NIDS_NF-BoT-IoT-v2_Multiclass                                    | F1_WEIGHTED = 0.908751     | FIT_TIME = 104.633\n",
      "[2025-06-21 02:19:42,556] Processing | FILE = NIDS_NF-CICIDS2018-v3_Multiclass                                 | FILE_SIZE   = 656.682 MB   | MAX_TIME = 60    \n",
      "[2025-06-21 02:19:42,557] Processed  | FILE = NIDS_NF-CICIDS2018-v3_Multiclass                                 | F1_WEIGHTED = 0.989001     | FIT_TIME = 161.682\n",
      "[2025-06-21 02:19:42,557] Processing | FILE = NIDS_CIC-BoT-IoT_Multiclass                                      | FILE_SIZE   = 1484.234 MB  | MAX_TIME = 60    \n",
      "[2025-06-21 02:19:42,557] Processed  | FILE = NIDS_CIC-BoT-IoT_Multiclass                                      | F1_WEIGHTED = 0.562218     | FIT_TIME = 274.696\n",
      "[2025-06-21 02:19:42,558] Processing | FILE = NIDS_NF-UQ-NIDS-v2_Multiclass                                    | FILE_SIZE   = 1750.775 MB  | MAX_TIME = 60    \n"
     ]
    },
    {
     "data": {
      "application/vnd.jupyter.widget-view+json": {
       "model_id": "9b1fe8f007c741fe8c03bca6e6369873",
       "version_major": 2,
       "version_minor": 0
      },
      "text/plain": [
       "Executing:   0%|          | 0/15 [00:00<?, ?cell/s]"
      ]
     },
     "metadata": {},
     "output_type": "display_data"
    },
    {
     "name": "stdout",
     "output_type": "stream",
     "text": [
      "[2025-06-21 02:23:15,723] Processing | FILE = NIDS_NF-UQ-NIDS-v2_Multiclass                                    | FILE_SIZE   = 1750.775 MB  | MAX_TIME = 120   \n"
     ]
    },
    {
     "data": {
      "application/vnd.jupyter.widget-view+json": {
       "model_id": "7f6aeae46f8942f1b2bfaff53b49873d",
       "version_major": 2,
       "version_minor": 0
      },
      "text/plain": [
       "Executing:   0%|          | 0/15 [00:00<?, ?cell/s]"
      ]
     },
     "metadata": {},
     "output_type": "display_data"
    },
    {
     "name": "stdout",
     "output_type": "stream",
     "text": [
      "[2025-06-21 02:27:14,027] Processing | FILE = NIDS_NF-UQ-NIDS-v2_Multiclass                                    | FILE_SIZE   = 1750.775 MB  | MAX_TIME = 240   \n"
     ]
    },
    {
     "data": {
      "application/vnd.jupyter.widget-view+json": {
       "model_id": "040a7564f379459ea4b25ef0b6a6c65e",
       "version_major": 2,
       "version_minor": 0
      },
      "text/plain": [
       "Executing:   0%|          | 0/15 [00:00<?, ?cell/s]"
      ]
     },
     "metadata": {},
     "output_type": "display_data"
    },
    {
     "name": "stdout",
     "output_type": "stream",
     "text": [
      "[2025-06-21 02:32:41,044] Processing | FILE = NIDS_NF-UQ-NIDS-v2_Multiclass                                    | FILE_SIZE   = 1750.775 MB  | MAX_TIME = 480   \n"
     ]
    },
    {
     "data": {
      "application/vnd.jupyter.widget-view+json": {
       "model_id": "054c89c6014d474390a0644d7ca22986",
       "version_major": 2,
       "version_minor": 0
      },
      "text/plain": [
       "Executing:   0%|          | 0/15 [00:00<?, ?cell/s]"
      ]
     },
     "metadata": {},
     "output_type": "display_data"
    },
    {
     "name": "stderr",
     "output_type": "stream",
     "text": [
      "*** SIGTERM received at time=1750484778 on cpu 5 ***\n",
      "PC: @     0x726c34925e2e  (unknown)  epoll_wait\n",
      "    @     0x726a6d1ac0ed         64  absl::lts_20230802::AbslFailureSignalHandler()\n",
      "    @     0x726c34842520  (unknown)  (unknown)\n",
      "[2025-06-21 02:46:18,688 E 6833 6833] logging.cc:440: *** SIGTERM received at time=1750484778 on cpu 5 ***\n",
      "[2025-06-21 02:46:18,689 E 6833 6833] logging.cc:440: PC: @     0x726c34925e2e  (unknown)  epoll_wait\n",
      "[2025-06-21 02:46:18,691 E 6833 6833] logging.cc:440:     @     0x726a6d1ac119         64  absl::lts_20230802::AbslFailureSignalHandler()\n",
      "[2025-06-21 02:46:18,691 E 6833 6833] logging.cc:440:     @     0x726c34842520  (unknown)  (unknown)\n"
     ]
    },
    {
     "name": "stdout",
     "output_type": "stream",
     "text": [
      "[2025-06-21 02:46:21,507] Processing | FILE = NIDS_NF-UQ-NIDS-v2_Multiclass                                    | FILE_SIZE   = 1750.775 MB  | MAX_TIME = 960   \n"
     ]
    },
    {
     "data": {
      "application/vnd.jupyter.widget-view+json": {
       "model_id": "5072dfd7225242ba85ea60316c727646",
       "version_major": 2,
       "version_minor": 0
      },
      "text/plain": [
       "Executing:   0%|          | 0/15 [00:00<?, ?cell/s]"
      ]
     },
     "metadata": {},
     "output_type": "display_data"
    },
    {
     "name": "stderr",
     "output_type": "stream",
     "text": [
      "*** SIGTERM received at time=1750485588 on cpu 3 ***\n",
      "PC: @     0x7e9d26f25e2e  (unknown)  epoll_wait\n",
      "    @     0x7e9b709ac0ed         64  absl::lts_20230802::AbslFailureSignalHandler()\n",
      "    @     0x7e9d26e42520  (unknown)  (unknown)\n",
      "[2025-06-21 02:59:48,754 E 9761 9761] logging.cc:440: *** SIGTERM received at time=1750485588 on cpu 3 ***\n",
      "[2025-06-21 02:59:48,754 E 9761 9761] logging.cc:440: PC: @     0x7e9d26f25e2e  (unknown)  epoll_wait\n",
      "[2025-06-21 02:59:48,756 E 9761 9761] logging.cc:440:     @     0x7e9b709ac119         64  absl::lts_20230802::AbslFailureSignalHandler()\n",
      "[2025-06-21 02:59:48,757 E 9761 9761] logging.cc:440:     @     0x7e9d26e42520  (unknown)  (unknown)\n"
     ]
    },
    {
     "name": "stdout",
     "output_type": "stream",
     "text": [
      "[2025-06-21 02:59:51,573] Processing | FILE = NIDS_NF-UQ-NIDS-v2_Multiclass                                    | FILE_SIZE   = 1750.775 MB  | MAX_TIME = 1920  \n"
     ]
    },
    {
     "data": {
      "application/vnd.jupyter.widget-view+json": {
       "model_id": "cb8a8c49164c44dc9ea0f872a854dc6f",
       "version_major": 2,
       "version_minor": 0
      },
      "text/plain": [
       "Executing:   0%|          | 0/15 [00:00<?, ?cell/s]"
      ]
     },
     "metadata": {},
     "output_type": "display_data"
    },
    {
     "name": "stderr",
     "output_type": "stream",
     "text": [
      "*** SIGTERM received at time=1750486418 on cpu 22 ***\n",
      "PC: @     0x7b13fe525e2e  (unknown)  epoll_wait\n",
      "    @     0x7b12489ac0ed         64  absl::lts_20230802::AbslFailureSignalHandler()\n",
      "    @     0x7b13fe442520  (unknown)  (unknown)\n",
      "[2025-06-21 03:13:38,465 E 12615 12615] logging.cc:440: *** SIGTERM received at time=1750486418 on cpu 22 ***\n",
      "[2025-06-21 03:13:38,465 E 12615 12615] logging.cc:440: PC: @     0x7b13fe525e2e  (unknown)  epoll_wait\n",
      "[2025-06-21 03:13:38,468 E 12615 12615] logging.cc:440:     @     0x7b12489ac119         64  absl::lts_20230802::AbslFailureSignalHandler()\n",
      "[2025-06-21 03:13:38,468 E 12615 12615] logging.cc:440:     @     0x7b13fe442520  (unknown)  (unknown)\n"
     ]
    },
    {
     "name": "stdout",
     "output_type": "stream",
     "text": [
      "[2025-06-21 03:13:41,284] Processing | FILE = NIDS_NF-UQ-NIDS-v2_Multiclass                                    | FILE_SIZE   = 1750.775 MB  | MAX_TIME = 3840  \n"
     ]
    },
    {
     "data": {
      "application/vnd.jupyter.widget-view+json": {
       "model_id": "f3e9ca6b9bb446f98aea6adf1322e7c9",
       "version_major": 2,
       "version_minor": 0
      },
      "text/plain": [
       "Executing:   0%|          | 0/15 [00:00<?, ?cell/s]"
      ]
     },
     "metadata": {},
     "output_type": "display_data"
    },
    {
     "name": "stderr",
     "output_type": "stream",
     "text": [
      "*** SIGTERM received at time=1750487235 on cpu 5 ***\n",
      "PC: @     0x7a0fbb925e2e  (unknown)  epoll_wait\n",
      "    @     0x7a0e04fac0ed         64  absl::lts_20230802::AbslFailureSignalHandler()\n",
      "    @     0x7a0fbb842520  (unknown)  (unknown)\n",
      "[2025-06-21 03:27:15,674 E 15568 15568] logging.cc:440: *** SIGTERM received at time=1750487235 on cpu 5 ***\n",
      "[2025-06-21 03:27:15,674 E 15568 15568] logging.cc:440: PC: @     0x7a0fbb925e2e  (unknown)  epoll_wait\n",
      "[2025-06-21 03:27:15,677 E 15568 15568] logging.cc:440:     @     0x7a0e04fac119         64  absl::lts_20230802::AbslFailureSignalHandler()\n",
      "[2025-06-21 03:27:15,677 E 15568 15568] logging.cc:440:     @     0x7a0fbb842520  (unknown)  (unknown)\n"
     ]
    },
    {
     "data": {
      "application/vnd.jupyter.widget-view+json": {
       "model_id": "da2767fd00654fff8c7b6de10adbcd07",
       "version_major": 2,
       "version_minor": 0
      },
      "text/plain": [
       "File:   0%|          | 0/61 [00:00<?, ?it/s]"
      ]
     },
     "metadata": {},
     "output_type": "display_data"
    },
    {
     "name": "stdout",
     "output_type": "stream",
     "text": [
      "[2025-06-21 03:27:18,520] Processing | FILE = ToN_IoT_IoT_Garage_Door_Binary                                   | FILE_SIZE   = 0.002 MB     | MAX_TIME = 60    \n",
      "[2025-06-21 03:27:18,521] Processed  | FILE = ToN_IoT_IoT_Garage_Door_Binary                                   | F1_WEIGHTED = 0.642857     | FIT_TIME = 0.836 \n",
      "[2025-06-21 03:27:18,522] Processing | FILE = ToN_IoT_IoT_Motion_Light_Binary                                  | FILE_SIZE   = 0.003 MB     | MAX_TIME = 60    \n"
     ]
    },
    {
     "data": {
      "application/vnd.jupyter.widget-view+json": {
       "model_id": "4d9f5725b20c49bf88fd47b960cce21d",
       "version_major": 2,
       "version_minor": 0
      },
      "text/plain": [
       "Executing:   0%|          | 0/15 [00:00<?, ?cell/s]"
      ]
     },
     "metadata": {},
     "output_type": "display_data"
    },
    {
     "name": "stdout",
     "output_type": "stream",
     "text": [
      "[2025-06-21 03:27:21,052] ERROR      | FILE = ToN_IoT_IoT_Motion_Light_Binary                                  | EXCEPTION = \n",
      "---------------------------------------------------------------------------\n",
      "Exception encountered at \"In [3]\":\n",
      "---------------------------------------------------------------------------\n",
      "ValueError                                Traceback (most recent call last)\n",
      "Cell In[3], line 21\n",
      "     18 from autogluon.tabular import TabularDataset\n",
      "     19 from sklearn.model_selection import train_test_split\n",
      "---> 21 train_df, test_df = train_test_split(df, test_size=TEST_SIZE, random_state=RANDOM_STATE, stratify=df[TARGET_COL])\n",
      "     23 train_data, test_data = TabularDataset(train_df), TabularDataset(test_df)\n",
      "     25 # Step 4: Print dtypes\n",
      "\n",
      "File ~/miniforge3/envs/ag/lib/python3.11/site-packages/sklearn/utils/_param_validation.py:216, in validate_params.<locals>.decorator.<locals>.wrapper(*args, **kwargs)\n",
      "    210 try:\n",
      "    211     with config_context(\n",
      "    212         skip_parameter_validation=(\n",
      "    213             prefer_skip_nested_validation or global_skip_validation\n",
      "    214         )\n",
      "    215     ):\n",
      "--> 216         return func(*args, **kwargs)\n",
      "    217 except InvalidParameterError as e:\n",
      "    218     # When the function is just a wrapper around an estimator, we allow\n",
      "    219     # the function to delegate validation to the estimator, but we replace\n",
      "    220     # the name of the estimator by the name of the function in the error\n",
      "    221     # message to avoid confusion.\n",
      "    222     msg = re.sub(\n",
      "    223         r\"parameter of \\w+ must be\",\n",
      "    224         f\"parameter of {func.__qualname__} must be\",\n",
      "    225         str(e),\n",
      "    226     )\n",
      "\n",
      "File ~/miniforge3/envs/ag/lib/python3.11/site-packages/sklearn/model_selection/_split.py:2872, in train_test_split(test_size, train_size, random_state, shuffle, stratify, *arrays)\n",
      "   2868         CVClass = ShuffleSplit\n",
      "   2870     cv = CVClass(test_size=n_test, train_size=n_train, random_state=random_state)\n",
      "-> 2872     train, test = next(cv.split(X=arrays[0], y=stratify))\n",
      "   2874 train, test = ensure_common_namespace_device(arrays[0], train, test)\n",
      "   2876 return list(\n",
      "   2877     chain.from_iterable(\n",
      "   2878         (_safe_indexing(a, train), _safe_indexing(a, test)) for a in arrays\n",
      "   2879     )\n",
      "   2880 )\n",
      "\n",
      "File ~/miniforge3/envs/ag/lib/python3.11/site-packages/sklearn/model_selection/_split.py:1909, in BaseShuffleSplit.split(self, X, y, groups)\n",
      "   1879 \"\"\"Generate indices to split data into training and test set.\n",
      "   1880 \n",
      "   1881 Parameters\n",
      "   (...)   1906 to an integer.\n",
      "   1907 \"\"\"\n",
      "   1908 X, y, groups = indexable(X, y, groups)\n",
      "-> 1909 for train, test in self._iter_indices(X, y, groups):\n",
      "   1910     yield train, test\n",
      "\n",
      "File ~/miniforge3/envs/ag/lib/python3.11/site-packages/sklearn/model_selection/_split.py:2331, in StratifiedShuffleSplit._iter_indices(self, X, y, groups)\n",
      "   2326     raise ValueError(\n",
      "   2327         \"The train_size = %d should be greater or \"\n",
      "   2328         \"equal to the number of classes = %d\" % (n_train, n_classes)\n",
      "   2329     )\n",
      "   2330 if n_test < n_classes:\n",
      "-> 2331     raise ValueError(\n",
      "   2332         \"The test_size = %d should be greater or \"\n",
      "   2333         \"equal to the number of classes = %d\" % (n_test, n_classes)\n",
      "   2334     )\n",
      "   2336 # Find the sorted list of instances for each class:\n",
      "   2337 # (np.unique above performs a sort, so code is O(n logn) already)\n",
      "   2338 class_indices = np.split(\n",
      "   2339     np.argsort(y_indices, kind=\"mergesort\"), np.cumsum(class_counts)[:-1]\n",
      "   2340 )\n",
      "\n",
      "ValueError: The test_size = 1 should be greater or equal to the number of classes = 2\n",
      "\n",
      "[2025-06-21 03:27:21,053] Processing | FILE = ToN_IoT_IoT_Fridge_Binary                                        | FILE_SIZE   = 0.003 MB     | MAX_TIME = 60    \n",
      "[2025-06-21 03:27:21,054] Processed  | FILE = ToN_IoT_IoT_Fridge_Binary                                        | F1_WEIGHTED = 0.941909     | FIT_TIME = 13.890\n",
      "[2025-06-21 03:27:21,055] Processing | FILE = ToN_IoT_IoT_Thermostat_Binary                                    | FILE_SIZE   = 0.093 MB     | MAX_TIME = 60    \n",
      "[2025-06-21 03:27:21,056] Processed  | FILE = ToN_IoT_IoT_Thermostat_Binary                                    | F1_WEIGHTED = 0.884172     | FIT_TIME = 31.318\n",
      "[2025-06-21 03:27:21,056] Processing | FILE = ToN_IoT_Linux_Process_Binary                                     | FILE_SIZE   = 0.094 MB     | MAX_TIME = 60    \n",
      "[2025-06-21 03:27:21,057] Processed  | FILE = ToN_IoT_Linux_Process_Binary                                     | F1_WEIGHTED = 0.797870     | FIT_TIME = 33.360\n",
      "[2025-06-21 03:27:21,057] Processing | FILE = ToN_IoT_Linux_Disk_Binary                                        | FILE_SIZE   = 0.094 MB     | MAX_TIME = 60    \n",
      "[2025-06-21 03:27:21,058] Processed  | FILE = ToN_IoT_Linux_Disk_Binary                                        | F1_WEIGHTED = 0.810178     | FIT_TIME = 31.401\n",
      "[2025-06-21 03:27:21,058] Processing | FILE = CICIoMT2024_Bluetooth_Binary                                     | FILE_SIZE   = 0.283 MB     | MAX_TIME = 60    \n",
      "[2025-06-21 03:27:21,059] Processed  | FILE = CICIoMT2024_Bluetooth_Binary                                     | F1_WEIGHTED = 0.996905     | FIT_TIME = 32.184\n",
      "[2025-06-21 03:27:21,059] Processing | FILE = ToN_IoT_Linux_Memory_Binary                                      | FILE_SIZE   = 0.759 MB     | MAX_TIME = 60    \n",
      "[2025-06-21 03:27:21,060] Processed  | FILE = ToN_IoT_Linux_Memory_Binary                                      | F1_WEIGHTED = 0.900662     | FIT_TIME = 41.957\n",
      "[2025-06-21 03:27:21,060] Processing | FILE = ToN_IoT_IoT_Modbus_Binary                                        | FILE_SIZE   = 1.686 MB     | MAX_TIME = 60    \n",
      "[2025-06-21 03:27:21,061] Processed  | FILE = ToN_IoT_IoT_Modbus_Binary                                        | F1_WEIGHTED = 0.715096     | FIT_TIME = 26.104\n",
      "[2025-06-21 03:27:21,061] Processing | FILE = NIDS_NF-BoT-IoT_Binary                                           | FILE_SIZE   = 1.825 MB     | MAX_TIME = 60    \n",
      "[2025-06-21 03:27:21,062] Processed  | FILE = NIDS_NF-BoT-IoT_Binary                                           | F1_WEIGHTED = 0.993885     | FIT_TIME = 33.135\n",
      "[2025-06-21 03:27:21,062] Processing | FILE = EDGE-IIOTSET_ML-EdgeIIoT_Binary                                  | FILE_SIZE   = 2.073 MB     | MAX_TIME = 60    \n",
      "[2025-06-21 03:27:21,062] Processed  | FILE = EDGE-IIOTSET_ML-EdgeIIoT_Binary                                  | F1_WEIGHTED = 1.000000     | FIT_TIME = 1.165 \n",
      "[2025-06-21 03:27:21,062] Processing | FILE = ToN_IoT_IoT_Weather_Binary                                       | FILE_SIZE   = 3.038 MB     | MAX_TIME = 60    \n",
      "[2025-06-21 03:27:21,063] Processed  | FILE = ToN_IoT_IoT_Weather_Binary                                       | F1_WEIGHTED = 0.947652     | FIT_TIME = 30.009\n",
      "[2025-06-21 03:27:21,063] Processing | FILE = MQTT_IoT_IDS2020_BiflowFeatures_Binary                           | FILE_SIZE   = 3.079 MB     | MAX_TIME = 60    \n",
      "[2025-06-21 03:27:21,064] Processed  | FILE = MQTT_IoT_IDS2020_BiflowFeatures_Binary                           | F1_WEIGHTED = 0.998966     | FIT_TIME = 24.216\n",
      "[2025-06-21 03:27:21,064] Processing | FILE = MQTT_IoT_IDS2020_UniflowFeatures_Binary                          | FILE_SIZE   = 3.864 MB     | MAX_TIME = 60    \n",
      "[2025-06-21 03:27:21,065] Processed  | FILE = MQTT_IoT_IDS2020_UniflowFeatures_Binary                          | F1_WEIGHTED = 0.998945     | FIT_TIME = 26.635\n",
      "[2025-06-21 03:27:21,065] Processing | FILE = BCCC_CIC-BCCC-NRC-IoT-HCRL-2019_Binary                           | FILE_SIZE   = 3.900 MB     | MAX_TIME = 60    \n",
      "[2025-06-21 03:27:21,066] Processed  | FILE = BCCC_CIC-BCCC-NRC-IoT-HCRL-2019_Binary                           | F1_WEIGHTED = 0.997390     | FIT_TIME = 37.191\n",
      "[2025-06-21 03:27:21,066] Processing | FILE = MQTT_IoT_IDS2020_PacketFeatures_Binary                           | FILE_SIZE   = 4.294 MB     | MAX_TIME = 60    \n",
      "[2025-06-21 03:27:21,067] Processed  | FILE = MQTT_IoT_IDS2020_PacketFeatures_Binary                           | F1_WEIGHTED = 0.997119     | FIT_TIME = 46.477\n",
      "[2025-06-21 03:27:21,067] Processing | FILE = ToN_IoT_IoT_GPS_Tracker_Binary                                   | FILE_SIZE   = 4.495 MB     | MAX_TIME = 60    \n",
      "[2025-06-21 03:27:21,068] Processed  | FILE = ToN_IoT_IoT_GPS_Tracker_Binary                                   | F1_WEIGHTED = 0.943261     | FIT_TIME = 32.101\n",
      "[2025-06-21 03:27:21,068] Processing | FILE = KDD_Cup_1999_Binary                                              | FILE_SIZE   = 5.990 MB     | MAX_TIME = 60    \n",
      "[2025-06-21 03:27:21,068] Processed  | FILE = KDD_Cup_1999_Binary                                              | F1_WEIGHTED = 0.999874     | FIT_TIME = 27.249\n",
      "[2025-06-21 03:27:21,068] Processing | FILE = NIDS_NF-ToN-IoT_Binary                                           | FILE_SIZE   = 6.948 MB     | MAX_TIME = 60    \n",
      "[2025-06-21 03:27:21,069] Processed  | FILE = NIDS_NF-ToN-IoT_Binary                                           | F1_WEIGHTED = 0.998503     | FIT_TIME = 45.190\n",
      "[2025-06-21 03:27:21,069] Processing | FILE = ToN_IoT_Windows_7_Binary                                         | FILE_SIZE   = 7.112 MB     | MAX_TIME = 60    \n"
     ]
    },
    {
     "data": {
      "application/vnd.jupyter.widget-view+json": {
       "model_id": "0232aaadb90d4c94aff6adde1a3c1c8b",
       "version_major": 2,
       "version_minor": 0
      },
      "text/plain": [
       "Executing:   0%|          | 0/15 [00:00<?, ?cell/s]"
      ]
     },
     "metadata": {},
     "output_type": "display_data"
    },
    {
     "name": "stderr",
     "output_type": "stream",
     "text": [
      "*** SIGTERM received at time=1750487325 on cpu 0 ***\n",
      "PC: @     0x79d8bd925e2e  (unknown)  epoll_wait\n",
      "    @     0x79d7095ac0ed         64  absl::lts_20230802::AbslFailureSignalHandler()\n",
      "    @     0x79d8bd842520  (unknown)  (unknown)\n",
      "[2025-06-21 03:28:45,082 E 18519 18519] logging.cc:440: *** SIGTERM received at time=1750487325 on cpu 0 ***\n",
      "[2025-06-21 03:28:45,082 E 18519 18519] logging.cc:440: PC: @     0x79d8bd925e2e  (unknown)  epoll_wait\n",
      "[2025-06-21 03:28:45,084 E 18519 18519] logging.cc:440:     @     0x79d7095ac119         64  absl::lts_20230802::AbslFailureSignalHandler()\n",
      "[2025-06-21 03:28:45,084 E 18519 18519] logging.cc:440:     @     0x79d8bd842520  (unknown)  (unknown)\n"
     ]
    },
    {
     "name": "stdout",
     "output_type": "stream",
     "text": [
      "[2025-06-21 03:28:47,707] Processed  | FILE = ToN_IoT_Windows_7_Binary                                         | F1_WEIGHTED = 0.995557     | FIT_TIME = 32.222\n",
      "[2025-06-21 03:28:47,708] Processing | FILE = BCCC_CIC-BCCC-NRC-IoT-2022_Binary                                | FILE_SIZE   = 8.331 MB     | MAX_TIME = 60    \n",
      "[2025-06-21 03:28:47,709] Processed  | FILE = BCCC_CIC-BCCC-NRC-IoT-2022_Binary                                | F1_WEIGHTED = 0.999971     | FIT_TIME = 2.705 \n",
      "[2025-06-21 03:28:47,709] Processing | FILE = ToN_IoT_Windows_10_Binary                                        | FILE_SIZE   = 11.665 MB    | MAX_TIME = 60    \n"
     ]
    },
    {
     "data": {
      "application/vnd.jupyter.widget-view+json": {
       "model_id": "35d7eca764ac4d669a0adb28e1b6bfcc",
       "version_major": 2,
       "version_minor": 0
      },
      "text/plain": [
       "Executing:   0%|          | 0/15 [00:00<?, ?cell/s]"
      ]
     },
     "metadata": {},
     "output_type": "display_data"
    },
    {
     "name": "stderr",
     "output_type": "stream",
     "text": [
      "*** SIGTERM received at time=1750487415 on cpu 22 ***\n",
      "PC: @     0x7bfdb2b25e2e  (unknown)  epoll_wait\n",
      "    @     0x7bfbc77ac0ed         64  absl::lts_20230802::AbslFailureSignalHandler()\n",
      "    @     0x7bfdb2a42520  (unknown)  (unknown)\n",
      "[2025-06-21 03:30:15,677 E 26339 26339] logging.cc:440: *** SIGTERM received at time=1750487415 on cpu 22 ***\n",
      "[2025-06-21 03:30:15,677 E 26339 26339] logging.cc:440: PC: @     0x7bfdb2b25e2e  (unknown)  epoll_wait\n",
      "[2025-06-21 03:30:15,679 E 26339 26339] logging.cc:440:     @     0x7bfbc77ac119         64  absl::lts_20230802::AbslFailureSignalHandler()\n",
      "[2025-06-21 03:30:15,679 E 26339 26339] logging.cc:440:     @     0x7bfdb2a42520  (unknown)  (unknown)\n"
     ]
    },
    {
     "name": "stdout",
     "output_type": "stream",
     "text": [
      "[2025-06-21 03:30:18,402] Processed  | FILE = ToN_IoT_Windows_10_Binary                                        | F1_WEIGHTED = 0.984419     | FIT_TIME = 35.083\n",
      "[2025-06-21 03:30:18,403] Processing | FILE = EDGE-IIOTSET_DNN-EdgeIIoT_Binary                                 | FILE_SIZE   = 16.024 MB    | MAX_TIME = 60    \n",
      "[2025-06-21 03:30:18,404] Processed  | FILE = EDGE-IIOTSET_DNN-EdgeIIoT_Binary                                 | F1_WEIGHTED = 1.000000     | FIT_TIME = 4.377 \n",
      "[2025-06-21 03:30:18,404] Processing | FILE = NIDS_NF-UNSW-NB15_Binary                                         | FILE_SIZE   = 16.813 MB    | MAX_TIME = 60    \n",
      "[2025-06-21 03:30:18,405] Processed  | FILE = NIDS_NF-UNSW-NB15_Binary                                         | F1_WEIGHTED = 0.987532     | FIT_TIME = 42.897\n",
      "[2025-06-21 03:30:18,405] Processing | FILE = IoT_Network_Intrusion_Macro_Binary                               | FILE_SIZE   = 17.502 MB    | MAX_TIME = 60    \n",
      "[2025-06-21 03:30:18,406] Processed  | FILE = IoT_Network_Intrusion_Macro_Binary                               | F1_WEIGHTED = 0.985255     | FIT_TIME = 39.021\n",
      "[2025-06-21 03:30:18,406] Processing | FILE = IoT_Network_Intrusion_Micro_Binary                               | FILE_SIZE   = 17.502 MB    | MAX_TIME = 60    \n",
      "[2025-06-21 03:30:18,407] Processed  | FILE = IoT_Network_Intrusion_Micro_Binary                               | F1_WEIGHTED = 0.988501     | FIT_TIME = 39.584\n",
      "[2025-06-21 03:30:18,408] Processing | FILE = IoT_23_Binary                                                    | FILE_SIZE   = 21.193 MB    | MAX_TIME = 60    \n",
      "[2025-06-21 03:30:18,408] Processed  | FILE = IoT_23_Binary                                                    | F1_WEIGHTED = 0.988858     | FIT_TIME = 30.283\n",
      "[2025-06-21 03:30:18,408] Processing | FILE = N_BaIoT_Ennio_Doorbell_Binary                                    | FILE_SIZE   = 25.492 MB    | MAX_TIME = 60    \n",
      "[2025-06-21 03:30:18,409] Processed  | FILE = N_BaIoT_Ennio_Doorbell_Binary                                    | F1_WEIGHTED = 0.999966     | FIT_TIME = 2.960 \n",
      "[2025-06-21 03:30:18,409] Processing | FILE = BCCC_CIC-BCCC-NRC-ACI-IOT-2023_Binary                            | FILE_SIZE   = 32.315 MB    | MAX_TIME = 60    \n",
      "[2025-06-21 03:30:18,410] Processed  | FILE = BCCC_CIC-BCCC-NRC-ACI-IOT-2023_Binary                            | F1_WEIGHTED = 0.956290     | FIT_TIME = 11.488\n",
      "[2025-06-21 03:30:18,411] Processing | FILE = N_BaIoT_Samsung_SNH_1011_N_Webcam_Binary                         | FILE_SIZE   = 32.346 MB    | MAX_TIME = 60    \n",
      "[2025-06-21 03:30:18,412] Processed  | FILE = N_BaIoT_Samsung_SNH_1011_N_Webcam_Binary                         | F1_WEIGHTED = 0.999947     | FIT_TIME = 19.988\n",
      "[2025-06-21 03:30:18,412] Processing | FILE = NIDS_NF-UNSW-NB15-v2_Binary                                      | FILE_SIZE   = 52.363 MB    | MAX_TIME = 60    \n",
      "[2025-06-21 03:30:18,412] Processed  | FILE = NIDS_NF-UNSW-NB15-v2_Binary                                      | F1_WEIGHTED = 0.996850     | FIT_TIME = 40.011\n",
      "[2025-06-21 03:30:18,412] Processing | FILE = NIDS_NF-CSE-CIC-IDS2018_Binary                                   | FILE_SIZE   = 59.959 MB    | MAX_TIME = 60    \n",
      "[2025-06-21 03:30:18,413] Processed  | FILE = NIDS_NF-CSE-CIC-IDS2018_Binary                                   | F1_WEIGHTED = 0.986126     | FIT_TIME = 19.351\n",
      "[2025-06-21 03:30:18,413] Processing | FILE = NIDS_NF-BoT-IoT-v3_Binary                                        | FILE_SIZE   = 60.596 MB    | MAX_TIME = 60    \n",
      "[2025-06-21 03:30:18,414] Processed  | FILE = NIDS_NF-BoT-IoT-v3_Binary                                        | F1_WEIGHTED = 0.999276     | FIT_TIME = 22.889\n",
      "[2025-06-21 03:30:18,414] Processing | FILE = NIDS_NF-UQ-NIDS_Binary                                           | FILE_SIZE   = 85.805 MB    | MAX_TIME = 60    \n",
      "[2025-06-21 03:30:18,415] Processed  | FILE = NIDS_NF-UQ-NIDS_Binary                                           | F1_WEIGHTED = 0.935698     | FIT_TIME = 16.111\n",
      "[2025-06-21 03:30:18,415] Processing | FILE = BCCC_CIC-BCCC-NRC-TONIoT-2021_Binary                             | FILE_SIZE   = 89.992 MB    | MAX_TIME = 60    \n"
     ]
    },
    {
     "data": {
      "application/vnd.jupyter.widget-view+json": {
       "model_id": "2fd0bb15c25a4491b1dae4230037e638",
       "version_major": 2,
       "version_minor": 0
      },
      "text/plain": [
       "Executing:   0%|          | 0/15 [00:00<?, ?cell/s]"
      ]
     },
     "metadata": {},
     "output_type": "display_data"
    },
    {
     "name": "stdout",
     "output_type": "stream",
     "text": [
      "[2025-06-21 03:30:21,597] ERROR      | FILE = BCCC_CIC-BCCC-NRC-TONIoT-2021_Binary                             | EXCEPTION = \n",
      "---------------------------------------------------------------------------\n",
      "Exception encountered at \"In [3]\":\n",
      "---------------------------------------------------------------------------\n",
      "ValueError                                Traceback (most recent call last)\n",
      "Cell In[3], line 21\n",
      "     18 from autogluon.tabular import TabularDataset\n",
      "     19 from sklearn.model_selection import train_test_split\n",
      "---> 21 train_df, test_df = train_test_split(df, test_size=TEST_SIZE, random_state=RANDOM_STATE, stratify=df[TARGET_COL])\n",
      "     23 train_data, test_data = TabularDataset(train_df), TabularDataset(test_df)\n",
      "     25 # Step 4: Print dtypes\n",
      "\n",
      "File ~/miniforge3/envs/ag/lib/python3.11/site-packages/sklearn/utils/_param_validation.py:216, in validate_params.<locals>.decorator.<locals>.wrapper(*args, **kwargs)\n",
      "    210 try:\n",
      "    211     with config_context(\n",
      "    212         skip_parameter_validation=(\n",
      "    213             prefer_skip_nested_validation or global_skip_validation\n",
      "    214         )\n",
      "    215     ):\n",
      "--> 216         return func(*args, **kwargs)\n",
      "    217 except InvalidParameterError as e:\n",
      "    218     # When the function is just a wrapper around an estimator, we allow\n",
      "    219     # the function to delegate validation to the estimator, but we replace\n",
      "    220     # the name of the estimator by the name of the function in the error\n",
      "    221     # message to avoid confusion.\n",
      "    222     msg = re.sub(\n",
      "    223         r\"parameter of \\w+ must be\",\n",
      "    224         f\"parameter of {func.__qualname__} must be\",\n",
      "    225         str(e),\n",
      "    226     )\n",
      "\n",
      "File ~/miniforge3/envs/ag/lib/python3.11/site-packages/sklearn/model_selection/_split.py:2872, in train_test_split(test_size, train_size, random_state, shuffle, stratify, *arrays)\n",
      "   2868         CVClass = ShuffleSplit\n",
      "   2870     cv = CVClass(test_size=n_test, train_size=n_train, random_state=random_state)\n",
      "-> 2872     train, test = next(cv.split(X=arrays[0], y=stratify))\n",
      "   2874 train, test = ensure_common_namespace_device(arrays[0], train, test)\n",
      "   2876 return list(\n",
      "   2877     chain.from_iterable(\n",
      "   2878         (_safe_indexing(a, train), _safe_indexing(a, test)) for a in arrays\n",
      "   2879     )\n",
      "   2880 )\n",
      "\n",
      "File ~/miniforge3/envs/ag/lib/python3.11/site-packages/sklearn/model_selection/_split.py:2405, in StratifiedShuffleSplit.split(self, X, y, groups)\n",
      "   2400 if groups is not None:\n",
      "   2401     warnings.warn(\n",
      "   2402         f\"The groups parameter is ignored by {self.__class__.__name__}\",\n",
      "   2403         UserWarning,\n",
      "   2404     )\n",
      "-> 2405 y = check_array(y, input_name=\"y\", ensure_2d=False, dtype=None)\n",
      "   2406 return super().split(X, y, groups)\n",
      "\n",
      "File ~/miniforge3/envs/ag/lib/python3.11/site-packages/sklearn/utils/validation.py:1107, in check_array(array, accept_sparse, accept_large_sparse, dtype, order, copy, force_writeable, force_all_finite, ensure_all_finite, ensure_non_negative, ensure_2d, allow_nd, ensure_min_samples, ensure_min_features, estimator, input_name)\n",
      "   1101     raise ValueError(\n",
      "   1102         \"Found array with dim %d. %s expected <= 2.\"\n",
      "   1103         % (array.ndim, estimator_name)\n",
      "   1104     )\n",
      "   1106 if ensure_all_finite:\n",
      "-> 1107     _assert_all_finite(\n",
      "   1108         array,\n",
      "   1109         input_name=input_name,\n",
      "   1110         estimator_name=estimator_name,\n",
      "   1111         allow_nan=ensure_all_finite == \"allow-nan\",\n",
      "   1112     )\n",
      "   1114 if copy:\n",
      "   1115     if _is_numpy_namespace(xp):\n",
      "   1116         # only make a copy if `array` and `array_orig` may share memory`\n",
      "\n",
      "File ~/miniforge3/envs/ag/lib/python3.11/site-packages/sklearn/utils/validation.py:120, in _assert_all_finite(X, allow_nan, msg_dtype, estimator_name, input_name)\n",
      "    117 if first_pass_isfinite:\n",
      "    118     return\n",
      "--> 120 _assert_all_finite_element_wise(\n",
      "    121     X,\n",
      "    122     xp=xp,\n",
      "    123     allow_nan=allow_nan,\n",
      "    124     msg_dtype=msg_dtype,\n",
      "    125     estimator_name=estimator_name,\n",
      "    126     input_name=input_name,\n",
      "    127 )\n",
      "\n",
      "File ~/miniforge3/envs/ag/lib/python3.11/site-packages/sklearn/utils/validation.py:169, in _assert_all_finite_element_wise(X, xp, allow_nan, msg_dtype, estimator_name, input_name)\n",
      "    152 if estimator_name and input_name == \"X\" and has_nan_error:\n",
      "    153     # Improve the error message on how to handle missing values in\n",
      "    154     # scikit-learn.\n",
      "    155     msg_err += (\n",
      "    156         f\"\\n{estimator_name} does not accept missing values\"\n",
      "    157         \" encoded as NaN natively. For supervised learning, you might want\"\n",
      "   (...)    167         \"#estimators-that-handle-nan-values\"\n",
      "    168     )\n",
      "--> 169 raise ValueError(msg_err)\n",
      "\n",
      "ValueError: Input y contains NaN.\n",
      "\n",
      "[2025-06-21 03:30:21,598] Processing | FILE = NIDS_NF-UNSW-NB15-v3_Binary                                      | FILE_SIZE   = 91.674 MB    | MAX_TIME = 60    \n",
      "[2025-06-21 03:30:21,599] Processed  | FILE = NIDS_NF-UNSW-NB15-v3_Binary                                      | F1_WEIGHTED = 0.999998     | FIT_TIME = 6.509 \n",
      "[2025-06-21 03:30:21,599] Processing | FILE = UNSW_NB15_Binary                                                 | FILE_SIZE   = 103.346 MB   | MAX_TIME = 60    \n",
      "[2025-06-21 03:30:21,600] Processed  | FILE = UNSW_NB15_Binary                                                 | F1_WEIGHTED = 0.993114     | FIT_TIME = 23.513\n",
      "[2025-06-21 03:30:21,600] Processing | FILE = N_BaIoT_Provision_PT_737E_Security_Camera_Binary                 | FILE_SIZE   = 104.148 MB   | MAX_TIME = 60    \n",
      "[2025-06-21 03:30:21,600] Processed  | FILE = N_BaIoT_Provision_PT_737E_Security_Camera_Binary                 | F1_WEIGHTED = 0.999988     | FIT_TIME = 4.202 \n",
      "[2025-06-21 03:30:21,601] Processing | FILE = BCCC_CIC-BCCC-NRC-Edge-IIoTSet-2022_Binary                       | FILE_SIZE   = 106.703 MB   | MAX_TIME = 60    \n",
      "[2025-06-21 03:30:21,601] Processed  | FILE = BCCC_CIC-BCCC-NRC-Edge-IIoTSet-2022_Binary                       | F1_WEIGHTED = 0.999991     | FIT_TIME = 9.138 \n",
      "[2025-06-21 03:30:21,602] Processing | FILE = N_BaIoT_SimpleHome_XCS7_1003_WHT_Security_Camera_Binary          | FILE_SIZE   = 109.360 MB   | MAX_TIME = 60    \n",
      "[2025-06-21 03:30:21,602] Processed  | FILE = N_BaIoT_SimpleHome_XCS7_1003_WHT_Security_Camera_Binary          | F1_WEIGHTED = 0.999990     | FIT_TIME = 5.163 \n",
      "[2025-06-21 03:30:21,602] Processing | FILE = N_BaIoT_Ecobee_Thermostat_Binary                                 | FILE_SIZE   = 111.412 MB   | MAX_TIME = 60    \n",
      "[2025-06-21 03:30:21,603] Processed  | FILE = N_BaIoT_Ecobee_Thermostat_Binary                                 | F1_WEIGHTED = 0.999986     | FIT_TIME = 5.381 \n",
      "[2025-06-21 03:30:21,603] Processing | FILE = N_BaIoT_Provision_PT_838_Security_Camera_Binary                  | FILE_SIZE   = 113.737 MB   | MAX_TIME = 60    \n",
      "[2025-06-21 03:30:21,604] Processed  | FILE = N_BaIoT_Provision_PT_838_Security_Camera_Binary                  | F1_WEIGHTED = 0.999988     | FIT_TIME = 16.366\n",
      "[2025-06-21 03:30:21,604] Processing | FILE = N_BaIoT_SimpleHome_XCS7_1002_WHT_Security_Camera_Binary          | FILE_SIZE   = 113.813 MB   | MAX_TIME = 60    \n",
      "[2025-06-21 03:30:21,605] Processed  | FILE = N_BaIoT_SimpleHome_XCS7_1002_WHT_Security_Camera_Binary          | F1_WEIGHTED = 0.999985     | FIT_TIME = 4.810 \n",
      "[2025-06-21 03:30:21,605] Processing | FILE = N_BaIoT_Danmini_Doorbell_Binary                                  | FILE_SIZE   = 115.887 MB   | MAX_TIME = 60    \n",
      "[2025-06-21 03:30:21,605] Processed  | FILE = N_BaIoT_Danmini_Doorbell_Binary                                  | F1_WEIGHTED = 0.999986     | FIT_TIME = 5.930 \n",
      "[2025-06-21 03:30:21,605] Processing | FILE = ToN_IoT_Network_Binary                                           | FILE_SIZE   = 122.062 MB   | MAX_TIME = 60    \n",
      "[2025-06-21 03:30:21,606] Processed  | FILE = ToN_IoT_Network_Binary                                           | F1_WEIGHTED = 0.999513     | FIT_TIME = 34.726\n",
      "[2025-06-21 03:30:21,606] Processing | FILE = CICIoMT2024_WiFi_and_MQTT_Binary                                 | FILE_SIZE   = 128.521 MB   | MAX_TIME = 60    \n",
      "[2025-06-21 03:30:21,607] Processed  | FILE = CICIoMT2024_WiFi_and_MQTT_Binary                                 | F1_WEIGHTED = 0.996481     | FIT_TIME = 25.517\n",
      "[2025-06-21 03:30:21,607] Processing | FILE = BoT_IoT_Macro_Binary                                             | FILE_SIZE   = 136.698 MB   | MAX_TIME = 60    \n",
      "[2025-06-21 03:30:21,607] Processed  | FILE = BoT_IoT_Macro_Binary                                             | F1_WEIGHTED = 0.999879     | FIT_TIME = 224.853\n",
      "[2025-06-21 03:30:21,607] Processing | FILE = BoT_IoT_Micro_Binary                                             | FILE_SIZE   = 136.698 MB   | MAX_TIME = 60    \n",
      "[2025-06-21 03:30:21,608] Processed  | FILE = BoT_IoT_Micro_Binary                                             | F1_WEIGHTED = 0.999886     | FIT_TIME = 229.861\n",
      "[2025-06-21 03:30:21,608] Processing | FILE = N_BaIoT_Philips_B120N10_Baby_Monitor_Binary                      | FILE_SIZE   = 146.147 MB   | MAX_TIME = 60    \n",
      "[2025-06-21 03:30:21,609] Processed  | FILE = N_BaIoT_Philips_B120N10_Baby_Monitor_Binary                      | F1_WEIGHTED = 0.999989     | FIT_TIME = 6.933 \n",
      "[2025-06-21 03:30:21,609] Processing | FILE = NIDS_NF-ToN-IoT-v2_Binary                                        | FILE_SIZE   = 152.090 MB   | MAX_TIME = 60    \n",
      "[2025-06-21 03:30:21,609] Processed  | FILE = NIDS_NF-ToN-IoT-v2_Binary                                        | F1_WEIGHTED = 0.918681     | FIT_TIME = 41.464\n",
      "[2025-06-21 03:30:21,610] Processing | FILE = BCCC_CIC-BCCC-NRC-UQ-IOT-2022_Binary                             | FILE_SIZE   = 171.283 MB   | MAX_TIME = 60    \n"
     ]
    },
    {
     "data": {
      "application/vnd.jupyter.widget-view+json": {
       "model_id": "3c94280d1a5d4697859c6a2ebd5ce7e7",
       "version_major": 2,
       "version_minor": 0
      },
      "text/plain": [
       "Executing:   0%|          | 0/15 [00:00<?, ?cell/s]"
      ]
     },
     "metadata": {},
     "output_type": "display_data"
    },
    {
     "name": "stdout",
     "output_type": "stream",
     "text": [
      "[2025-06-21 03:30:26,559] ERROR      | FILE = BCCC_CIC-BCCC-NRC-UQ-IOT-2022_Binary                             | EXCEPTION = \n",
      "---------------------------------------------------------------------------\n",
      "Exception encountered at \"In [3]\":\n",
      "---------------------------------------------------------------------------\n",
      "ValueError                                Traceback (most recent call last)\n",
      "Cell In[3], line 21\n",
      "     18 from autogluon.tabular import TabularDataset\n",
      "     19 from sklearn.model_selection import train_test_split\n",
      "---> 21 train_df, test_df = train_test_split(df, test_size=TEST_SIZE, random_state=RANDOM_STATE, stratify=df[TARGET_COL])\n",
      "     23 train_data, test_data = TabularDataset(train_df), TabularDataset(test_df)\n",
      "     25 # Step 4: Print dtypes\n",
      "\n",
      "File ~/miniforge3/envs/ag/lib/python3.11/site-packages/sklearn/utils/_param_validation.py:216, in validate_params.<locals>.decorator.<locals>.wrapper(*args, **kwargs)\n",
      "    210 try:\n",
      "    211     with config_context(\n",
      "    212         skip_parameter_validation=(\n",
      "    213             prefer_skip_nested_validation or global_skip_validation\n",
      "    214         )\n",
      "    215     ):\n",
      "--> 216         return func(*args, **kwargs)\n",
      "    217 except InvalidParameterError as e:\n",
      "    218     # When the function is just a wrapper around an estimator, we allow\n",
      "    219     # the function to delegate validation to the estimator, but we replace\n",
      "    220     # the name of the estimator by the name of the function in the error\n",
      "    221     # message to avoid confusion.\n",
      "    222     msg = re.sub(\n",
      "    223         r\"parameter of \\w+ must be\",\n",
      "    224         f\"parameter of {func.__qualname__} must be\",\n",
      "    225         str(e),\n",
      "    226     )\n",
      "\n",
      "File ~/miniforge3/envs/ag/lib/python3.11/site-packages/sklearn/model_selection/_split.py:2872, in train_test_split(test_size, train_size, random_state, shuffle, stratify, *arrays)\n",
      "   2868         CVClass = ShuffleSplit\n",
      "   2870     cv = CVClass(test_size=n_test, train_size=n_train, random_state=random_state)\n",
      "-> 2872     train, test = next(cv.split(X=arrays[0], y=stratify))\n",
      "   2874 train, test = ensure_common_namespace_device(arrays[0], train, test)\n",
      "   2876 return list(\n",
      "   2877     chain.from_iterable(\n",
      "   2878         (_safe_indexing(a, train), _safe_indexing(a, test)) for a in arrays\n",
      "   2879     )\n",
      "   2880 )\n",
      "\n",
      "File ~/miniforge3/envs/ag/lib/python3.11/site-packages/sklearn/model_selection/_split.py:2405, in StratifiedShuffleSplit.split(self, X, y, groups)\n",
      "   2400 if groups is not None:\n",
      "   2401     warnings.warn(\n",
      "   2402         f\"The groups parameter is ignored by {self.__class__.__name__}\",\n",
      "   2403         UserWarning,\n",
      "   2404     )\n",
      "-> 2405 y = check_array(y, input_name=\"y\", ensure_2d=False, dtype=None)\n",
      "   2406 return super().split(X, y, groups)\n",
      "\n",
      "File ~/miniforge3/envs/ag/lib/python3.11/site-packages/sklearn/utils/validation.py:1107, in check_array(array, accept_sparse, accept_large_sparse, dtype, order, copy, force_writeable, force_all_finite, ensure_all_finite, ensure_non_negative, ensure_2d, allow_nd, ensure_min_samples, ensure_min_features, estimator, input_name)\n",
      "   1101     raise ValueError(\n",
      "   1102         \"Found array with dim %d. %s expected <= 2.\"\n",
      "   1103         % (array.ndim, estimator_name)\n",
      "   1104     )\n",
      "   1106 if ensure_all_finite:\n",
      "-> 1107     _assert_all_finite(\n",
      "   1108         array,\n",
      "   1109         input_name=input_name,\n",
      "   1110         estimator_name=estimator_name,\n",
      "   1111         allow_nan=ensure_all_finite == \"allow-nan\",\n",
      "   1112     )\n",
      "   1114 if copy:\n",
      "   1115     if _is_numpy_namespace(xp):\n",
      "   1116         # only make a copy if `array` and `array_orig` may share memory`\n",
      "\n",
      "File ~/miniforge3/envs/ag/lib/python3.11/site-packages/sklearn/utils/validation.py:120, in _assert_all_finite(X, allow_nan, msg_dtype, estimator_name, input_name)\n",
      "    117 if first_pass_isfinite:\n",
      "    118     return\n",
      "--> 120 _assert_all_finite_element_wise(\n",
      "    121     X,\n",
      "    122     xp=xp,\n",
      "    123     allow_nan=allow_nan,\n",
      "    124     msg_dtype=msg_dtype,\n",
      "    125     estimator_name=estimator_name,\n",
      "    126     input_name=input_name,\n",
      "    127 )\n",
      "\n",
      "File ~/miniforge3/envs/ag/lib/python3.11/site-packages/sklearn/utils/validation.py:169, in _assert_all_finite_element_wise(X, xp, allow_nan, msg_dtype, estimator_name, input_name)\n",
      "    152 if estimator_name and input_name == \"X\" and has_nan_error:\n",
      "    153     # Improve the error message on how to handle missing values in\n",
      "    154     # scikit-learn.\n",
      "    155     msg_err += (\n",
      "    156         f\"\\n{estimator_name} does not accept missing values\"\n",
      "    157         \" encoded as NaN natively. For supervised learning, you might want\"\n",
      "   (...)    167         \"#estimators-that-handle-nan-values\"\n",
      "    168     )\n",
      "--> 169 raise ValueError(msg_err)\n",
      "\n",
      "ValueError: Input y contains NaN.\n",
      "\n",
      "[2025-06-21 03:30:26,560] Processing | FILE = BCCC_CIC-BCCC-NRC-IoMT-2024_Binary                               | FILE_SIZE   = 187.854 MB   | MAX_TIME = 60    \n",
      "[2025-06-21 03:30:26,560] Processed  | FILE = BCCC_CIC-BCCC-NRC-IoMT-2024_Binary                               | F1_WEIGHTED = 0.997639     | FIT_TIME = 24.758\n",
      "[2025-06-21 03:30:26,560] Processing | FILE = BCCC_CIC-BCCC-NRC-MQTTIoT-IDS-2020_Binary                        | FILE_SIZE   = 196.749 MB   | MAX_TIME = 60    \n",
      "[2025-06-21 03:30:26,561] Processed  | FILE = BCCC_CIC-BCCC-NRC-MQTTIoT-IDS-2020_Binary                        | F1_WEIGHTED = 0.983329     | FIT_TIME = 19.800\n",
      "[2025-06-21 03:30:26,562] Processing | FILE = NIDS_NF-ToN-IoT-v3_Binary                                        | FILE_SIZE   = 289.627 MB   | MAX_TIME = 60    \n",
      "[2025-06-21 03:30:26,562] Processed  | FILE = NIDS_NF-ToN-IoT-v3_Binary                                        | F1_WEIGHTED = 0.387088     | FIT_TIME = 19.959\n",
      "[2025-06-21 03:30:26,562] Processing | FILE = BCCC_CIC-BCCC-NRC-IoT-2023-Original_Training_and_Testing_Binary  | FILE_SIZE   = 304.476 MB   | MAX_TIME = 60    \n"
     ]
    },
    {
     "data": {
      "application/vnd.jupyter.widget-view+json": {
       "model_id": "79098c7611b2425b9d2ccac13b257992",
       "version_major": 2,
       "version_minor": 0
      },
      "text/plain": [
       "Executing:   0%|          | 0/15 [00:00<?, ?cell/s]"
      ]
     },
     "metadata": {},
     "output_type": "display_data"
    },
    {
     "name": "stdout",
     "output_type": "stream",
     "text": [
      "[2025-06-21 03:30:32,360] ERROR      | FILE = BCCC_CIC-BCCC-NRC-IoT-2023-Original_Training_and_Testing_Binary  | EXCEPTION = \n",
      "---------------------------------------------------------------------------\n",
      "Exception encountered at \"In [3]\":\n",
      "---------------------------------------------------------------------------\n",
      "ValueError                                Traceback (most recent call last)\n",
      "Cell In[3], line 21\n",
      "     18 from autogluon.tabular import TabularDataset\n",
      "     19 from sklearn.model_selection import train_test_split\n",
      "---> 21 train_df, test_df = train_test_split(df, test_size=TEST_SIZE, random_state=RANDOM_STATE, stratify=df[TARGET_COL])\n",
      "     23 train_data, test_data = TabularDataset(train_df), TabularDataset(test_df)\n",
      "     25 # Step 4: Print dtypes\n",
      "\n",
      "File ~/miniforge3/envs/ag/lib/python3.11/site-packages/sklearn/utils/_param_validation.py:216, in validate_params.<locals>.decorator.<locals>.wrapper(*args, **kwargs)\n",
      "    210 try:\n",
      "    211     with config_context(\n",
      "    212         skip_parameter_validation=(\n",
      "    213             prefer_skip_nested_validation or global_skip_validation\n",
      "    214         )\n",
      "    215     ):\n",
      "--> 216         return func(*args, **kwargs)\n",
      "    217 except InvalidParameterError as e:\n",
      "    218     # When the function is just a wrapper around an estimator, we allow\n",
      "    219     # the function to delegate validation to the estimator, but we replace\n",
      "    220     # the name of the estimator by the name of the function in the error\n",
      "    221     # message to avoid confusion.\n",
      "    222     msg = re.sub(\n",
      "    223         r\"parameter of \\w+ must be\",\n",
      "    224         f\"parameter of {func.__qualname__} must be\",\n",
      "    225         str(e),\n",
      "    226     )\n",
      "\n",
      "File ~/miniforge3/envs/ag/lib/python3.11/site-packages/sklearn/model_selection/_split.py:2872, in train_test_split(test_size, train_size, random_state, shuffle, stratify, *arrays)\n",
      "   2868         CVClass = ShuffleSplit\n",
      "   2870     cv = CVClass(test_size=n_test, train_size=n_train, random_state=random_state)\n",
      "-> 2872     train, test = next(cv.split(X=arrays[0], y=stratify))\n",
      "   2874 train, test = ensure_common_namespace_device(arrays[0], train, test)\n",
      "   2876 return list(\n",
      "   2877     chain.from_iterable(\n",
      "   2878         (_safe_indexing(a, train), _safe_indexing(a, test)) for a in arrays\n",
      "   2879     )\n",
      "   2880 )\n",
      "\n",
      "File ~/miniforge3/envs/ag/lib/python3.11/site-packages/sklearn/model_selection/_split.py:2405, in StratifiedShuffleSplit.split(self, X, y, groups)\n",
      "   2400 if groups is not None:\n",
      "   2401     warnings.warn(\n",
      "   2402         f\"The groups parameter is ignored by {self.__class__.__name__}\",\n",
      "   2403         UserWarning,\n",
      "   2404     )\n",
      "-> 2405 y = check_array(y, input_name=\"y\", ensure_2d=False, dtype=None)\n",
      "   2406 return super().split(X, y, groups)\n",
      "\n",
      "File ~/miniforge3/envs/ag/lib/python3.11/site-packages/sklearn/utils/validation.py:1107, in check_array(array, accept_sparse, accept_large_sparse, dtype, order, copy, force_writeable, force_all_finite, ensure_all_finite, ensure_non_negative, ensure_2d, allow_nd, ensure_min_samples, ensure_min_features, estimator, input_name)\n",
      "   1101     raise ValueError(\n",
      "   1102         \"Found array with dim %d. %s expected <= 2.\"\n",
      "   1103         % (array.ndim, estimator_name)\n",
      "   1104     )\n",
      "   1106 if ensure_all_finite:\n",
      "-> 1107     _assert_all_finite(\n",
      "   1108         array,\n",
      "   1109         input_name=input_name,\n",
      "   1110         estimator_name=estimator_name,\n",
      "   1111         allow_nan=ensure_all_finite == \"allow-nan\",\n",
      "   1112     )\n",
      "   1114 if copy:\n",
      "   1115     if _is_numpy_namespace(xp):\n",
      "   1116         # only make a copy if `array` and `array_orig` may share memory`\n",
      "\n",
      "File ~/miniforge3/envs/ag/lib/python3.11/site-packages/sklearn/utils/validation.py:120, in _assert_all_finite(X, allow_nan, msg_dtype, estimator_name, input_name)\n",
      "    117 if first_pass_isfinite:\n",
      "    118     return\n",
      "--> 120 _assert_all_finite_element_wise(\n",
      "    121     X,\n",
      "    122     xp=xp,\n",
      "    123     allow_nan=allow_nan,\n",
      "    124     msg_dtype=msg_dtype,\n",
      "    125     estimator_name=estimator_name,\n",
      "    126     input_name=input_name,\n",
      "    127 )\n",
      "\n",
      "File ~/miniforge3/envs/ag/lib/python3.11/site-packages/sklearn/utils/validation.py:169, in _assert_all_finite_element_wise(X, xp, allow_nan, msg_dtype, estimator_name, input_name)\n",
      "    152 if estimator_name and input_name == \"X\" and has_nan_error:\n",
      "    153     # Improve the error message on how to handle missing values in\n",
      "    154     # scikit-learn.\n",
      "    155     msg_err += (\n",
      "    156         f\"\\n{estimator_name} does not accept missing values\"\n",
      "    157         \" encoded as NaN natively. For supervised learning, you might want\"\n",
      "   (...)    167         \"#estimators-that-handle-nan-values\"\n",
      "    168     )\n",
      "--> 169 raise ValueError(msg_err)\n",
      "\n",
      "ValueError: Input y contains NaN.\n",
      "\n",
      "[2025-06-21 03:30:32,361] Processing | FILE = NIDS_CIC-ToN-IoT_Binary                                          | FILE_SIZE   = 370.096 MB   | MAX_TIME = 60    \n",
      "[2025-06-21 03:30:32,363] Processed  | FILE = NIDS_CIC-ToN-IoT_Binary                                          | F1_WEIGHTED = 0.982710     | FIT_TIME = 27.600\n",
      "[2025-06-21 03:30:32,363] Processing | FILE = NIDS_NF-BoT-IoT-v2_Binary                                        | FILE_SIZE   = 463.581 MB   | MAX_TIME = 60    \n",
      "[2025-06-21 03:30:32,364] Processed  | FILE = NIDS_NF-BoT-IoT-v2_Binary                                        | F1_WEIGHTED = 0.999572     | FIT_TIME = 124.610\n",
      "[2025-06-21 03:30:32,364] Processing | FILE = NIDS_NF-CSE-CIC-IDS2018-v2_Binary                                | FILE_SIZE   = 469.387 MB   | MAX_TIME = 60    \n",
      "[2025-06-21 03:30:32,365] Processed  | FILE = NIDS_NF-CSE-CIC-IDS2018-v2_Binary                                | F1_WEIGHTED = 0.795326     | FIT_TIME = 20.367\n",
      "[2025-06-21 03:30:32,365] Processing | FILE = NIDS_NF-CICIDS2018-v3_Binary                                     | FILE_SIZE   = 656.841 MB   | MAX_TIME = 60    \n",
      "[2025-06-21 03:30:32,366] Processed  | FILE = NIDS_NF-CICIDS2018-v3_Binary                                     | F1_WEIGHTED = 0.966760     | FIT_TIME = 67.503\n",
      "[2025-06-21 03:30:32,366] Processing | FILE = NIDS_CIC-BoT-IoT_Binary                                          | FILE_SIZE   = 1410.365 MB  | MAX_TIME = 60    \n",
      "[2025-06-21 03:30:32,367] Processed  | FILE = NIDS_CIC-BoT-IoT_Binary                                          | F1_WEIGHTED = 0.996403     | FIT_TIME = 119.519\n",
      "[2025-06-21 03:30:32,367] Processing | FILE = NIDS_NF-UQ-NIDS-v2_Binary                                        | FILE_SIZE   = 1816.803 MB  | MAX_TIME = 60    \n"
     ]
    },
    {
     "data": {
      "application/vnd.jupyter.widget-view+json": {
       "model_id": "16b1e2876a7346db989a2dd2aa3c3265",
       "version_major": 2,
       "version_minor": 0
      },
      "text/plain": [
       "Executing:   0%|          | 0/15 [00:00<?, ?cell/s]"
      ]
     },
     "metadata": {},
     "output_type": "display_data"
    },
    {
     "name": "stdout",
     "output_type": "stream",
     "text": [
      "[2025-06-21 03:33:55,660] Processing | FILE = NIDS_NF-UQ-NIDS-v2_Binary                                        | FILE_SIZE   = 1816.803 MB  | MAX_TIME = 120   \n"
     ]
    },
    {
     "data": {
      "application/vnd.jupyter.widget-view+json": {
       "model_id": "012b6a24bd104a489b83f8eb333ea59a",
       "version_major": 2,
       "version_minor": 0
      },
      "text/plain": [
       "Executing:   0%|          | 0/15 [00:00<?, ?cell/s]"
      ]
     },
     "metadata": {},
     "output_type": "display_data"
    },
    {
     "name": "stdout",
     "output_type": "stream",
     "text": [
      "[2025-06-21 03:37:46,808] Processing | FILE = NIDS_NF-UQ-NIDS-v2_Binary                                        | FILE_SIZE   = 1816.803 MB  | MAX_TIME = 240   \n"
     ]
    },
    {
     "data": {
      "application/vnd.jupyter.widget-view+json": {
       "model_id": "fb6a662758b14cdea1b394f676a57149",
       "version_major": 2,
       "version_minor": 0
      },
      "text/plain": [
       "Executing:   0%|          | 0/15 [00:00<?, ?cell/s]"
      ]
     },
     "metadata": {},
     "output_type": "display_data"
    },
    {
     "name": "stderr",
     "output_type": "stream",
     "text": [
      "*** SIGTERM received at time=1750490818 on cpu 2 ***\n",
      "PC: @     0x71dd4a925e2e  (unknown)  epoll_wait\n",
      "    @     0x71db90bac0ed         64  absl::lts_20230802::AbslFailureSignalHandler()\n",
      "    @     0x71dd4a842520  (unknown)  (unknown)\n",
      "[2025-06-21 04:26:58,687 E 2455 2455] logging.cc:440: *** SIGTERM received at time=1750490818 on cpu 2 ***\n",
      "[2025-06-21 04:26:58,687 E 2455 2455] logging.cc:440: PC: @     0x71dd4a925e2e  (unknown)  epoll_wait\n",
      "[2025-06-21 04:26:58,689 E 2455 2455] logging.cc:440:     @     0x71db90bac119         64  absl::lts_20230802::AbslFailureSignalHandler()\n",
      "[2025-06-21 04:26:58,689 E 2455 2455] logging.cc:440:     @     0x71dd4a842520  (unknown)  (unknown)\n"
     ]
    },
    {
     "name": "stdout",
     "output_type": "stream",
     "text": [
      "[2025-06-21 04:27:01,504] Processed  | FILE = NIDS_NF-UQ-NIDS-v2_Binary                                        | F1_WEIGHTED = 0.551050     | FIT_TIME = 179.600\n"
     ]
    }
   ],
   "source": [
    "from pathlib import Path\n",
    "from time import sleep\n",
    "from tqdm.notebook import tqdm\n",
    "import os\n",
    "import papermill as pm\n",
    "\n",
    "errors = {}\n",
    "\n",
    "base_time = 60\n",
    "\n",
    "# for kind in tqdm([\"Binary\", \"Multiclass\"], desc='Kind', leave='False'):\n",
    "for kind in tqdm([\"Multiclass\", \"Binary\"], desc='Kind', leave='False'):\n",
    "\n",
    "    base_folder = Path(f\"2025-06-13/{kind}\")\n",
    "    \n",
    "    # Find all .parquet files recursively\n",
    "    parquet_files = list(base_folder.rglob(\"*.parquet\"))\n",
    "    \n",
    "    # Sort by file size (ascending)\n",
    "    parquet_files_sorted = sorted(parquet_files, key=lambda p: os.path.getsize(p))\n",
    "    \n",
    "    # Iterate\n",
    "    for file in tqdm(parquet_files_sorted, desc='File', leave='False'):\n",
    "        \n",
    "        base_filename = os.path.join(file.parent, file.stem)\n",
    "        results_filename = f'{base_filename}_results.json'\n",
    "        size_mb = f'{(os.path.getsize(file) / (1024 * 1024)):.3f} MB'\n",
    "        input_notebook = 'ag_code.ipynb'\n",
    "        output_notebook = f'{base_filename}.ipynb'\n",
    "        \n",
    "        max_time = base_time\n",
    "        success = False\n",
    "\n",
    "        while not success and max_time <= 3840:\n",
    "        \n",
    "            try:\n",
    "\n",
    "                # if 'NIDS_NF-UQ-NIDS-v2' in str(file) or 'IoT_23' in str(file) or 'KDD_Cup_1999' in str(file):\n",
    "                #     break\n",
    "                # if 'ToN_IoT' not in str(file):\n",
    "                #     break\n",
    "        \n",
    "                tqdm.write(f'[{now()}] Processing | FILE = {str(file.stem):<64} | FILE_SIZE   = {size_mb:<12} | MAX_TIME = {max_time:<6}')\n",
    "            \n",
    "                if not Path(results_filename).exists():\n",
    "    \n",
    "                    pm.execute_notebook(\n",
    "                        input_notebook,\n",
    "                        output_notebook,\n",
    "                        parameters=dict(\n",
    "                            BASE_FILENAME=base_filename,\n",
    "                            TARGET_COL='label',\n",
    "                            TEST_SIZE=0.2,\n",
    "                            TIME_LIMIT=max_time,\n",
    "                            EVAL_METRIC='f1_weighted',\n",
    "                            PRESET='medium_quality',\n",
    "                            N_FOLDS=5,\n",
    "                            RANDOM_STATE=42\n",
    "                        )\n",
    "                    )\n",
    "            \n",
    "                f1_weighted, fit_time = load_results(results_filename)\n",
    "                tqdm.write(f'[{now()}] Processed  | FILE = {str(file.stem):<64} | F1_WEIGHTED = {f1_weighted:<12} | FIT_TIME = {fit_time:<6}')\n",
    "                success = True\n",
    "                \n",
    "            except Exception as e:\n",
    "                # if 'Consider specifying a larger time_limit.' in str(e):\n",
    "                if 'raise_on_no_models_fitted' in str(e) or 'time_limit' in str(e):\n",
    "                    max_time = 2 * max_time\n",
    "                else:\n",
    "                    tqdm.write(f'[{now()}] ERROR      | FILE = {str(file.stem):<64} | EXCEPTION = {str(e)}')\n",
    "                    errors[str(file.stem)] = e\n",
    "                    break"
   ]
  },
  {
   "cell_type": "code",
   "execution_count": 4,
   "id": "fe7ef0c5-af06-431d-862f-61e30c9f24a7",
   "metadata": {},
   "outputs": [
    {
     "name": "stdout",
     "output_type": "stream",
     "text": [
      "{   'BCCC_CIC-BCCC-NRC-IoT-2023-Original_Training_and_Testing_Binary': PapermillExecutionError(2, 3, 'import json\\nimport pandas as pd\\n\\npd.set_option(\"display.max_rows\", None)\\npd.set_option(\"display.max_columns\", None)\\n\\n# Step 1: Load parquet and metadata\\ndf = pd.read_parquet(f\\'{BASE_FILENAME}.parquet\\')#.dropna()\\n\\nwith open(f\\'{BASE_FILENAME}.json\\', \\'r\\', encoding=\\'utf-8\\') as f:\\n    metadata = json.load(f)\\n\\n# Step 2: Apply dtypes from metadata to df\\nfor col, dtype in metadata[\"dtypes\"].items():\\n    df[col] = df[col].astype(dtype)\\n\\n# Step 3: Split the data into 80% train (for CV) and 20% test (holdout)\\nfrom autogluon.tabular import TabularDataset\\nfrom sklearn.model_selection import train_test_split\\n\\ntrain_df, test_df = train_test_split(df, test_size=TEST_SIZE, random_state=RANDOM_STATE, stratify=df[TARGET_COL])\\n\\ntrain_data, test_data = TabularDataset(train_df), TabularDataset(test_df)\\n\\n# Step 4: Print dtypes\\nprint(f\\'{\"column\":<40}\\', f\\'{\"metadata\":<20}\\', f\\'{\"train_data\":<20}\\', f\\'{\"test_data\":<20}\\')\\nfor col in df.columns:\\n    print(f\\'{col:<40}\\', f\\'{str(metadata[\"dtypes\"][col]):<20}\\', f\\'{str(train_data[col].dtype):<20}\\', f\\'{str(test_data[col].dtype):<20}\\')', 'ValueError', 'Input y contains NaN.', ['\\x1b[31m---------------------------------------------------------------------------\\x1b[39m', '\\x1b[31mValueError\\x1b[39m                                Traceback (most recent call last)', '\\x1b[36mCell\\x1b[39m\\x1b[36m \\x1b[39m\\x1b[32mIn[3]\\x1b[39m\\x1b[32m, line 21\\x1b[39m\\n\\x1b[32m     18\\x1b[39m \\x1b[38;5;28;01mfrom\\x1b[39;00m\\x1b[38;5;250m \\x1b[39m\\x1b[34;01mautogluon\\x1b[39;00m\\x1b[34;01m.\\x1b[39;00m\\x1b[34;01mtabular\\x1b[39;00m\\x1b[38;5;250m \\x1b[39m\\x1b[38;5;28;01mimport\\x1b[39;00m TabularDataset\\n\\x1b[32m     19\\x1b[39m \\x1b[38;5;28;01mfrom\\x1b[39;00m\\x1b[38;5;250m \\x1b[39m\\x1b[34;01msklearn\\x1b[39;00m\\x1b[34;01m.\\x1b[39;00m\\x1b[34;01mmodel_selection\\x1b[39;00m\\x1b[38;5;250m \\x1b[39m\\x1b[38;5;28;01mimport\\x1b[39;00m train_test_split\\n\\x1b[32m---> \\x1b[39m\\x1b[32m21\\x1b[39m train_df, test_df = \\x1b[43mtrain_test_split\\x1b[49m\\x1b[43m(\\x1b[49m\\x1b[43mdf\\x1b[49m\\x1b[43m,\\x1b[49m\\x1b[43m \\x1b[49m\\x1b[43mtest_size\\x1b[49m\\x1b[43m=\\x1b[49m\\x1b[43mTEST_SIZE\\x1b[49m\\x1b[43m,\\x1b[49m\\x1b[43m \\x1b[49m\\x1b[43mrandom_state\\x1b[49m\\x1b[43m=\\x1b[49m\\x1b[43mRANDOM_STATE\\x1b[49m\\x1b[43m,\\x1b[49m\\x1b[43m \\x1b[49m\\x1b[43mstratify\\x1b[49m\\x1b[43m=\\x1b[49m\\x1b[43mdf\\x1b[49m\\x1b[43m[\\x1b[49m\\x1b[43mTARGET_COL\\x1b[49m\\x1b[43m]\\x1b[49m\\x1b[43m)\\x1b[49m\\n\\x1b[32m     23\\x1b[39m train_data, test_data = TabularDataset(train_df), TabularDataset(test_df)\\n\\x1b[32m     25\\x1b[39m \\x1b[38;5;66;03m# Step 4: Print dtypes\\x1b[39;00m\\n', '\\x1b[36mFile \\x1b[39m\\x1b[32m~/miniforge3/envs/ag/lib/python3.11/site-packages/sklearn/utils/_param_validation.py:216\\x1b[39m, in \\x1b[36mvalidate_params.<locals>.decorator.<locals>.wrapper\\x1b[39m\\x1b[34m(*args, **kwargs)\\x1b[39m\\n\\x1b[32m    210\\x1b[39m \\x1b[38;5;28;01mtry\\x1b[39;00m:\\n\\x1b[32m    211\\x1b[39m     \\x1b[38;5;28;01mwith\\x1b[39;00m config_context(\\n\\x1b[32m    212\\x1b[39m         skip_parameter_validation=(\\n\\x1b[32m    213\\x1b[39m             prefer_skip_nested_validation \\x1b[38;5;129;01mor\\x1b[39;00m global_skip_validation\\n\\x1b[32m    214\\x1b[39m         )\\n\\x1b[32m    215\\x1b[39m     ):\\n\\x1b[32m--> \\x1b[39m\\x1b[32m216\\x1b[39m         \\x1b[38;5;28;01mreturn\\x1b[39;00m \\x1b[43mfunc\\x1b[49m\\x1b[43m(\\x1b[49m\\x1b[43m*\\x1b[49m\\x1b[43margs\\x1b[49m\\x1b[43m,\\x1b[49m\\x1b[43m \\x1b[49m\\x1b[43m*\\x1b[49m\\x1b[43m*\\x1b[49m\\x1b[43mkwargs\\x1b[49m\\x1b[43m)\\x1b[49m\\n\\x1b[32m    217\\x1b[39m \\x1b[38;5;28;01mexcept\\x1b[39;00m InvalidParameterError \\x1b[38;5;28;01mas\\x1b[39;00m e:\\n\\x1b[32m    218\\x1b[39m     \\x1b[38;5;66;03m# When the function is just a wrapper around an estimator, we allow\\x1b[39;00m\\n\\x1b[32m    219\\x1b[39m     \\x1b[38;5;66;03m# the function to delegate validation to the estimator, but we replace\\x1b[39;00m\\n\\x1b[32m    220\\x1b[39m     \\x1b[38;5;66;03m# the name of the estimator by the name of the function in the error\\x1b[39;00m\\n\\x1b[32m    221\\x1b[39m     \\x1b[38;5;66;03m# message to avoid confusion.\\x1b[39;00m\\n\\x1b[32m    222\\x1b[39m     msg = re.sub(\\n\\x1b[32m    223\\x1b[39m         \\x1b[33mr\\x1b[39m\\x1b[33m\"\\x1b[39m\\x1b[33mparameter of \\x1b[39m\\x1b[33m\\\\\\x1b[39m\\x1b[33mw+ must be\\x1b[39m\\x1b[33m\"\\x1b[39m,\\n\\x1b[32m    224\\x1b[39m         \\x1b[33mf\\x1b[39m\\x1b[33m\"\\x1b[39m\\x1b[33mparameter of \\x1b[39m\\x1b[38;5;132;01m{\\x1b[39;00mfunc.\\x1b[34m__qualname__\\x1b[39m\\x1b[38;5;132;01m}\\x1b[39;00m\\x1b[33m must be\\x1b[39m\\x1b[33m\"\\x1b[39m,\\n\\x1b[32m    225\\x1b[39m         \\x1b[38;5;28mstr\\x1b[39m(e),\\n\\x1b[32m    226\\x1b[39m     )\\n', '\\x1b[36mFile \\x1b[39m\\x1b[32m~/miniforge3/envs/ag/lib/python3.11/site-packages/sklearn/model_selection/_split.py:2872\\x1b[39m, in \\x1b[36mtrain_test_split\\x1b[39m\\x1b[34m(test_size, train_size, random_state, shuffle, stratify, *arrays)\\x1b[39m\\n\\x1b[32m   2868\\x1b[39m         CVClass = ShuffleSplit\\n\\x1b[32m   2870\\x1b[39m     cv = CVClass(test_size=n_test, train_size=n_train, random_state=random_state)\\n\\x1b[32m-> \\x1b[39m\\x1b[32m2872\\x1b[39m     train, test = \\x1b[38;5;28mnext\\x1b[39m(\\x1b[43mcv\\x1b[49m\\x1b[43m.\\x1b[49m\\x1b[43msplit\\x1b[49m\\x1b[43m(\\x1b[49m\\x1b[43mX\\x1b[49m\\x1b[43m=\\x1b[49m\\x1b[43marrays\\x1b[49m\\x1b[43m[\\x1b[49m\\x1b[32;43m0\\x1b[39;49m\\x1b[43m]\\x1b[49m\\x1b[43m,\\x1b[49m\\x1b[43m \\x1b[49m\\x1b[43my\\x1b[49m\\x1b[43m=\\x1b[49m\\x1b[43mstratify\\x1b[49m\\x1b[43m)\\x1b[49m)\\n\\x1b[32m   2874\\x1b[39m train, test = ensure_common_namespace_device(arrays[\\x1b[32m0\\x1b[39m], train, test)\\n\\x1b[32m   2876\\x1b[39m \\x1b[38;5;28;01mreturn\\x1b[39;00m \\x1b[38;5;28mlist\\x1b[39m(\\n\\x1b[32m   2877\\x1b[39m     chain.from_iterable(\\n\\x1b[32m   2878\\x1b[39m         (_safe_indexing(a, train), _safe_indexing(a, test)) \\x1b[38;5;28;01mfor\\x1b[39;00m a \\x1b[38;5;129;01min\\x1b[39;00m arrays\\n\\x1b[32m   2879\\x1b[39m     )\\n\\x1b[32m   2880\\x1b[39m )\\n', '\\x1b[36mFile \\x1b[39m\\x1b[32m~/miniforge3/envs/ag/lib/python3.11/site-packages/sklearn/model_selection/_split.py:2405\\x1b[39m, in \\x1b[36mStratifiedShuffleSplit.split\\x1b[39m\\x1b[34m(self, X, y, groups)\\x1b[39m\\n\\x1b[32m   2400\\x1b[39m \\x1b[38;5;28;01mif\\x1b[39;00m groups \\x1b[38;5;129;01mis\\x1b[39;00m \\x1b[38;5;129;01mnot\\x1b[39;00m \\x1b[38;5;28;01mNone\\x1b[39;00m:\\n\\x1b[32m   2401\\x1b[39m     warnings.warn(\\n\\x1b[32m   2402\\x1b[39m         \\x1b[33mf\\x1b[39m\\x1b[33m\"\\x1b[39m\\x1b[33mThe groups parameter is ignored by \\x1b[39m\\x1b[38;5;132;01m{\\x1b[39;00m\\x1b[38;5;28mself\\x1b[39m.\\x1b[34m__class__\\x1b[39m.\\x1b[34m__name__\\x1b[39m\\x1b[38;5;132;01m}\\x1b[39;00m\\x1b[33m\"\\x1b[39m,\\n\\x1b[32m   2403\\x1b[39m         \\x1b[38;5;167;01mUserWarning\\x1b[39;00m,\\n\\x1b[32m   2404\\x1b[39m     )\\n\\x1b[32m-> \\x1b[39m\\x1b[32m2405\\x1b[39m y = \\x1b[43mcheck_array\\x1b[49m\\x1b[43m(\\x1b[49m\\x1b[43my\\x1b[49m\\x1b[43m,\\x1b[49m\\x1b[43m \\x1b[49m\\x1b[43minput_name\\x1b[49m\\x1b[43m=\\x1b[49m\\x1b[33;43m\"\\x1b[39;49m\\x1b[33;43my\\x1b[39;49m\\x1b[33;43m\"\\x1b[39;49m\\x1b[43m,\\x1b[49m\\x1b[43m \\x1b[49m\\x1b[43mensure_2d\\x1b[49m\\x1b[43m=\\x1b[49m\\x1b[38;5;28;43;01mFalse\\x1b[39;49;00m\\x1b[43m,\\x1b[49m\\x1b[43m \\x1b[49m\\x1b[43mdtype\\x1b[49m\\x1b[43m=\\x1b[49m\\x1b[38;5;28;43;01mNone\\x1b[39;49;00m\\x1b[43m)\\x1b[49m\\n\\x1b[32m   2406\\x1b[39m \\x1b[38;5;28;01mreturn\\x1b[39;00m \\x1b[38;5;28msuper\\x1b[39m().split(X, y, groups)\\n', '\\x1b[36mFile \\x1b[39m\\x1b[32m~/miniforge3/envs/ag/lib/python3.11/site-packages/sklearn/utils/validation.py:1107\\x1b[39m, in \\x1b[36mcheck_array\\x1b[39m\\x1b[34m(array, accept_sparse, accept_large_sparse, dtype, order, copy, force_writeable, force_all_finite, ensure_all_finite, ensure_non_negative, ensure_2d, allow_nd, ensure_min_samples, ensure_min_features, estimator, input_name)\\x1b[39m\\n\\x1b[32m   1101\\x1b[39m     \\x1b[38;5;28;01mraise\\x1b[39;00m \\x1b[38;5;167;01mValueError\\x1b[39;00m(\\n\\x1b[32m   1102\\x1b[39m         \\x1b[33m\"\\x1b[39m\\x1b[33mFound array with dim \\x1b[39m\\x1b[38;5;132;01m%d\\x1b[39;00m\\x1b[33m. \\x1b[39m\\x1b[38;5;132;01m%s\\x1b[39;00m\\x1b[33m expected <= 2.\\x1b[39m\\x1b[33m\"\\x1b[39m\\n\\x1b[32m   1103\\x1b[39m         % (array.ndim, estimator_name)\\n\\x1b[32m   1104\\x1b[39m     )\\n\\x1b[32m   1106\\x1b[39m \\x1b[38;5;28;01mif\\x1b[39;00m ensure_all_finite:\\n\\x1b[32m-> \\x1b[39m\\x1b[32m1107\\x1b[39m     \\x1b[43m_assert_all_finite\\x1b[49m\\x1b[43m(\\x1b[49m\\n\\x1b[32m   1108\\x1b[39m \\x1b[43m        \\x1b[49m\\x1b[43marray\\x1b[49m\\x1b[43m,\\x1b[49m\\n\\x1b[32m   1109\\x1b[39m \\x1b[43m        \\x1b[49m\\x1b[43minput_name\\x1b[49m\\x1b[43m=\\x1b[49m\\x1b[43minput_name\\x1b[49m\\x1b[43m,\\x1b[49m\\n\\x1b[32m   1110\\x1b[39m \\x1b[43m        \\x1b[49m\\x1b[43mestimator_name\\x1b[49m\\x1b[43m=\\x1b[49m\\x1b[43mestimator_name\\x1b[49m\\x1b[43m,\\x1b[49m\\n\\x1b[32m   1111\\x1b[39m \\x1b[43m        \\x1b[49m\\x1b[43mallow_nan\\x1b[49m\\x1b[43m=\\x1b[49m\\x1b[43mensure_all_finite\\x1b[49m\\x1b[43m \\x1b[49m\\x1b[43m==\\x1b[49m\\x1b[43m \\x1b[49m\\x1b[33;43m\"\\x1b[39;49m\\x1b[33;43mallow-nan\\x1b[39;49m\\x1b[33;43m\"\\x1b[39;49m\\x1b[43m,\\x1b[49m\\n\\x1b[32m   1112\\x1b[39m \\x1b[43m    \\x1b[49m\\x1b[43m)\\x1b[49m\\n\\x1b[32m   1114\\x1b[39m \\x1b[38;5;28;01mif\\x1b[39;00m copy:\\n\\x1b[32m   1115\\x1b[39m     \\x1b[38;5;28;01mif\\x1b[39;00m _is_numpy_namespace(xp):\\n\\x1b[32m   1116\\x1b[39m         \\x1b[38;5;66;03m# only make a copy if `array` and `array_orig` may share memory`\\x1b[39;00m\\n', '\\x1b[36mFile \\x1b[39m\\x1b[32m~/miniforge3/envs/ag/lib/python3.11/site-packages/sklearn/utils/validation.py:120\\x1b[39m, in \\x1b[36m_assert_all_finite\\x1b[39m\\x1b[34m(X, allow_nan, msg_dtype, estimator_name, input_name)\\x1b[39m\\n\\x1b[32m    117\\x1b[39m \\x1b[38;5;28;01mif\\x1b[39;00m first_pass_isfinite:\\n\\x1b[32m    118\\x1b[39m     \\x1b[38;5;28;01mreturn\\x1b[39;00m\\n\\x1b[32m--> \\x1b[39m\\x1b[32m120\\x1b[39m \\x1b[43m_assert_all_finite_element_wise\\x1b[49m\\x1b[43m(\\x1b[49m\\n\\x1b[32m    121\\x1b[39m \\x1b[43m    \\x1b[49m\\x1b[43mX\\x1b[49m\\x1b[43m,\\x1b[49m\\n\\x1b[32m    122\\x1b[39m \\x1b[43m    \\x1b[49m\\x1b[43mxp\\x1b[49m\\x1b[43m=\\x1b[49m\\x1b[43mxp\\x1b[49m\\x1b[43m,\\x1b[49m\\n\\x1b[32m    123\\x1b[39m \\x1b[43m    \\x1b[49m\\x1b[43mallow_nan\\x1b[49m\\x1b[43m=\\x1b[49m\\x1b[43mallow_nan\\x1b[49m\\x1b[43m,\\x1b[49m\\n\\x1b[32m    124\\x1b[39m \\x1b[43m    \\x1b[49m\\x1b[43mmsg_dtype\\x1b[49m\\x1b[43m=\\x1b[49m\\x1b[43mmsg_dtype\\x1b[49m\\x1b[43m,\\x1b[49m\\n\\x1b[32m    125\\x1b[39m \\x1b[43m    \\x1b[49m\\x1b[43mestimator_name\\x1b[49m\\x1b[43m=\\x1b[49m\\x1b[43mestimator_name\\x1b[49m\\x1b[43m,\\x1b[49m\\n\\x1b[32m    126\\x1b[39m \\x1b[43m    \\x1b[49m\\x1b[43minput_name\\x1b[49m\\x1b[43m=\\x1b[49m\\x1b[43minput_name\\x1b[49m\\x1b[43m,\\x1b[49m\\n\\x1b[32m    127\\x1b[39m \\x1b[43m\\x1b[49m\\x1b[43m)\\x1b[49m\\n', '\\x1b[36mFile \\x1b[39m\\x1b[32m~/miniforge3/envs/ag/lib/python3.11/site-packages/sklearn/utils/validation.py:169\\x1b[39m, in \\x1b[36m_assert_all_finite_element_wise\\x1b[39m\\x1b[34m(X, xp, allow_nan, msg_dtype, estimator_name, input_name)\\x1b[39m\\n\\x1b[32m    152\\x1b[39m \\x1b[38;5;28;01mif\\x1b[39;00m estimator_name \\x1b[38;5;129;01mand\\x1b[39;00m input_name == \\x1b[33m\"\\x1b[39m\\x1b[33mX\\x1b[39m\\x1b[33m\"\\x1b[39m \\x1b[38;5;129;01mand\\x1b[39;00m has_nan_error:\\n\\x1b[32m    153\\x1b[39m     \\x1b[38;5;66;03m# Improve the error message on how to handle missing values in\\x1b[39;00m\\n\\x1b[32m    154\\x1b[39m     \\x1b[38;5;66;03m# scikit-learn.\\x1b[39;00m\\n\\x1b[32m    155\\x1b[39m     msg_err += (\\n\\x1b[32m    156\\x1b[39m         \\x1b[33mf\\x1b[39m\\x1b[33m\"\\x1b[39m\\x1b[38;5;130;01m\\\\n\\x1b[39;00m\\x1b[38;5;132;01m{\\x1b[39;00mestimator_name\\x1b[38;5;132;01m}\\x1b[39;00m\\x1b[33m does not accept missing values\\x1b[39m\\x1b[33m\"\\x1b[39m\\n\\x1b[32m    157\\x1b[39m         \\x1b[33m\"\\x1b[39m\\x1b[33m encoded as NaN natively. For supervised learning, you might want\\x1b[39m\\x1b[33m\"\\x1b[39m\\n\\x1b[32m   (...)\\x1b[39m\\x1b[32m    167\\x1b[39m         \\x1b[33m\"\\x1b[39m\\x1b[33m#estimators-that-handle-nan-values\\x1b[39m\\x1b[33m\"\\x1b[39m\\n\\x1b[32m    168\\x1b[39m     )\\n\\x1b[32m--> \\x1b[39m\\x1b[32m169\\x1b[39m \\x1b[38;5;28;01mraise\\x1b[39;00m \\x1b[38;5;167;01mValueError\\x1b[39;00m(msg_err)\\n', '\\x1b[31mValueError\\x1b[39m: Input y contains NaN.']),\n",
      "    'BCCC_CIC-BCCC-NRC-TONIoT-2021_Binary': PapermillExecutionError(2, 3, 'import json\\nimport pandas as pd\\n\\npd.set_option(\"display.max_rows\", None)\\npd.set_option(\"display.max_columns\", None)\\n\\n# Step 1: Load parquet and metadata\\ndf = pd.read_parquet(f\\'{BASE_FILENAME}.parquet\\')#.dropna()\\n\\nwith open(f\\'{BASE_FILENAME}.json\\', \\'r\\', encoding=\\'utf-8\\') as f:\\n    metadata = json.load(f)\\n\\n# Step 2: Apply dtypes from metadata to df\\nfor col, dtype in metadata[\"dtypes\"].items():\\n    df[col] = df[col].astype(dtype)\\n\\n# Step 3: Split the data into 80% train (for CV) and 20% test (holdout)\\nfrom autogluon.tabular import TabularDataset\\nfrom sklearn.model_selection import train_test_split\\n\\ntrain_df, test_df = train_test_split(df, test_size=TEST_SIZE, random_state=RANDOM_STATE, stratify=df[TARGET_COL])\\n\\ntrain_data, test_data = TabularDataset(train_df), TabularDataset(test_df)\\n\\n# Step 4: Print dtypes\\nprint(f\\'{\"column\":<40}\\', f\\'{\"metadata\":<20}\\', f\\'{\"train_data\":<20}\\', f\\'{\"test_data\":<20}\\')\\nfor col in df.columns:\\n    print(f\\'{col:<40}\\', f\\'{str(metadata[\"dtypes\"][col]):<20}\\', f\\'{str(train_data[col].dtype):<20}\\', f\\'{str(test_data[col].dtype):<20}\\')', 'ValueError', 'Input y contains NaN.', ['\\x1b[31m---------------------------------------------------------------------------\\x1b[39m', '\\x1b[31mValueError\\x1b[39m                                Traceback (most recent call last)', '\\x1b[36mCell\\x1b[39m\\x1b[36m \\x1b[39m\\x1b[32mIn[3]\\x1b[39m\\x1b[32m, line 21\\x1b[39m\\n\\x1b[32m     18\\x1b[39m \\x1b[38;5;28;01mfrom\\x1b[39;00m\\x1b[38;5;250m \\x1b[39m\\x1b[34;01mautogluon\\x1b[39;00m\\x1b[34;01m.\\x1b[39;00m\\x1b[34;01mtabular\\x1b[39;00m\\x1b[38;5;250m \\x1b[39m\\x1b[38;5;28;01mimport\\x1b[39;00m TabularDataset\\n\\x1b[32m     19\\x1b[39m \\x1b[38;5;28;01mfrom\\x1b[39;00m\\x1b[38;5;250m \\x1b[39m\\x1b[34;01msklearn\\x1b[39;00m\\x1b[34;01m.\\x1b[39;00m\\x1b[34;01mmodel_selection\\x1b[39;00m\\x1b[38;5;250m \\x1b[39m\\x1b[38;5;28;01mimport\\x1b[39;00m train_test_split\\n\\x1b[32m---> \\x1b[39m\\x1b[32m21\\x1b[39m train_df, test_df = \\x1b[43mtrain_test_split\\x1b[49m\\x1b[43m(\\x1b[49m\\x1b[43mdf\\x1b[49m\\x1b[43m,\\x1b[49m\\x1b[43m \\x1b[49m\\x1b[43mtest_size\\x1b[49m\\x1b[43m=\\x1b[49m\\x1b[43mTEST_SIZE\\x1b[49m\\x1b[43m,\\x1b[49m\\x1b[43m \\x1b[49m\\x1b[43mrandom_state\\x1b[49m\\x1b[43m=\\x1b[49m\\x1b[43mRANDOM_STATE\\x1b[49m\\x1b[43m,\\x1b[49m\\x1b[43m \\x1b[49m\\x1b[43mstratify\\x1b[49m\\x1b[43m=\\x1b[49m\\x1b[43mdf\\x1b[49m\\x1b[43m[\\x1b[49m\\x1b[43mTARGET_COL\\x1b[49m\\x1b[43m]\\x1b[49m\\x1b[43m)\\x1b[49m\\n\\x1b[32m     23\\x1b[39m train_data, test_data = TabularDataset(train_df), TabularDataset(test_df)\\n\\x1b[32m     25\\x1b[39m \\x1b[38;5;66;03m# Step 4: Print dtypes\\x1b[39;00m\\n', '\\x1b[36mFile \\x1b[39m\\x1b[32m~/miniforge3/envs/ag/lib/python3.11/site-packages/sklearn/utils/_param_validation.py:216\\x1b[39m, in \\x1b[36mvalidate_params.<locals>.decorator.<locals>.wrapper\\x1b[39m\\x1b[34m(*args, **kwargs)\\x1b[39m\\n\\x1b[32m    210\\x1b[39m \\x1b[38;5;28;01mtry\\x1b[39;00m:\\n\\x1b[32m    211\\x1b[39m     \\x1b[38;5;28;01mwith\\x1b[39;00m config_context(\\n\\x1b[32m    212\\x1b[39m         skip_parameter_validation=(\\n\\x1b[32m    213\\x1b[39m             prefer_skip_nested_validation \\x1b[38;5;129;01mor\\x1b[39;00m global_skip_validation\\n\\x1b[32m    214\\x1b[39m         )\\n\\x1b[32m    215\\x1b[39m     ):\\n\\x1b[32m--> \\x1b[39m\\x1b[32m216\\x1b[39m         \\x1b[38;5;28;01mreturn\\x1b[39;00m \\x1b[43mfunc\\x1b[49m\\x1b[43m(\\x1b[49m\\x1b[43m*\\x1b[49m\\x1b[43margs\\x1b[49m\\x1b[43m,\\x1b[49m\\x1b[43m \\x1b[49m\\x1b[43m*\\x1b[49m\\x1b[43m*\\x1b[49m\\x1b[43mkwargs\\x1b[49m\\x1b[43m)\\x1b[49m\\n\\x1b[32m    217\\x1b[39m \\x1b[38;5;28;01mexcept\\x1b[39;00m InvalidParameterError \\x1b[38;5;28;01mas\\x1b[39;00m e:\\n\\x1b[32m    218\\x1b[39m     \\x1b[38;5;66;03m# When the function is just a wrapper around an estimator, we allow\\x1b[39;00m\\n\\x1b[32m    219\\x1b[39m     \\x1b[38;5;66;03m# the function to delegate validation to the estimator, but we replace\\x1b[39;00m\\n\\x1b[32m    220\\x1b[39m     \\x1b[38;5;66;03m# the name of the estimator by the name of the function in the error\\x1b[39;00m\\n\\x1b[32m    221\\x1b[39m     \\x1b[38;5;66;03m# message to avoid confusion.\\x1b[39;00m\\n\\x1b[32m    222\\x1b[39m     msg = re.sub(\\n\\x1b[32m    223\\x1b[39m         \\x1b[33mr\\x1b[39m\\x1b[33m\"\\x1b[39m\\x1b[33mparameter of \\x1b[39m\\x1b[33m\\\\\\x1b[39m\\x1b[33mw+ must be\\x1b[39m\\x1b[33m\"\\x1b[39m,\\n\\x1b[32m    224\\x1b[39m         \\x1b[33mf\\x1b[39m\\x1b[33m\"\\x1b[39m\\x1b[33mparameter of \\x1b[39m\\x1b[38;5;132;01m{\\x1b[39;00mfunc.\\x1b[34m__qualname__\\x1b[39m\\x1b[38;5;132;01m}\\x1b[39;00m\\x1b[33m must be\\x1b[39m\\x1b[33m\"\\x1b[39m,\\n\\x1b[32m    225\\x1b[39m         \\x1b[38;5;28mstr\\x1b[39m(e),\\n\\x1b[32m    226\\x1b[39m     )\\n', '\\x1b[36mFile \\x1b[39m\\x1b[32m~/miniforge3/envs/ag/lib/python3.11/site-packages/sklearn/model_selection/_split.py:2872\\x1b[39m, in \\x1b[36mtrain_test_split\\x1b[39m\\x1b[34m(test_size, train_size, random_state, shuffle, stratify, *arrays)\\x1b[39m\\n\\x1b[32m   2868\\x1b[39m         CVClass = ShuffleSplit\\n\\x1b[32m   2870\\x1b[39m     cv = CVClass(test_size=n_test, train_size=n_train, random_state=random_state)\\n\\x1b[32m-> \\x1b[39m\\x1b[32m2872\\x1b[39m     train, test = \\x1b[38;5;28mnext\\x1b[39m(\\x1b[43mcv\\x1b[49m\\x1b[43m.\\x1b[49m\\x1b[43msplit\\x1b[49m\\x1b[43m(\\x1b[49m\\x1b[43mX\\x1b[49m\\x1b[43m=\\x1b[49m\\x1b[43marrays\\x1b[49m\\x1b[43m[\\x1b[49m\\x1b[32;43m0\\x1b[39;49m\\x1b[43m]\\x1b[49m\\x1b[43m,\\x1b[49m\\x1b[43m \\x1b[49m\\x1b[43my\\x1b[49m\\x1b[43m=\\x1b[49m\\x1b[43mstratify\\x1b[49m\\x1b[43m)\\x1b[49m)\\n\\x1b[32m   2874\\x1b[39m train, test = ensure_common_namespace_device(arrays[\\x1b[32m0\\x1b[39m], train, test)\\n\\x1b[32m   2876\\x1b[39m \\x1b[38;5;28;01mreturn\\x1b[39;00m \\x1b[38;5;28mlist\\x1b[39m(\\n\\x1b[32m   2877\\x1b[39m     chain.from_iterable(\\n\\x1b[32m   2878\\x1b[39m         (_safe_indexing(a, train), _safe_indexing(a, test)) \\x1b[38;5;28;01mfor\\x1b[39;00m a \\x1b[38;5;129;01min\\x1b[39;00m arrays\\n\\x1b[32m   2879\\x1b[39m     )\\n\\x1b[32m   2880\\x1b[39m )\\n', '\\x1b[36mFile \\x1b[39m\\x1b[32m~/miniforge3/envs/ag/lib/python3.11/site-packages/sklearn/model_selection/_split.py:2405\\x1b[39m, in \\x1b[36mStratifiedShuffleSplit.split\\x1b[39m\\x1b[34m(self, X, y, groups)\\x1b[39m\\n\\x1b[32m   2400\\x1b[39m \\x1b[38;5;28;01mif\\x1b[39;00m groups \\x1b[38;5;129;01mis\\x1b[39;00m \\x1b[38;5;129;01mnot\\x1b[39;00m \\x1b[38;5;28;01mNone\\x1b[39;00m:\\n\\x1b[32m   2401\\x1b[39m     warnings.warn(\\n\\x1b[32m   2402\\x1b[39m         \\x1b[33mf\\x1b[39m\\x1b[33m\"\\x1b[39m\\x1b[33mThe groups parameter is ignored by \\x1b[39m\\x1b[38;5;132;01m{\\x1b[39;00m\\x1b[38;5;28mself\\x1b[39m.\\x1b[34m__class__\\x1b[39m.\\x1b[34m__name__\\x1b[39m\\x1b[38;5;132;01m}\\x1b[39;00m\\x1b[33m\"\\x1b[39m,\\n\\x1b[32m   2403\\x1b[39m         \\x1b[38;5;167;01mUserWarning\\x1b[39;00m,\\n\\x1b[32m   2404\\x1b[39m     )\\n\\x1b[32m-> \\x1b[39m\\x1b[32m2405\\x1b[39m y = \\x1b[43mcheck_array\\x1b[49m\\x1b[43m(\\x1b[49m\\x1b[43my\\x1b[49m\\x1b[43m,\\x1b[49m\\x1b[43m \\x1b[49m\\x1b[43minput_name\\x1b[49m\\x1b[43m=\\x1b[49m\\x1b[33;43m\"\\x1b[39;49m\\x1b[33;43my\\x1b[39;49m\\x1b[33;43m\"\\x1b[39;49m\\x1b[43m,\\x1b[49m\\x1b[43m \\x1b[49m\\x1b[43mensure_2d\\x1b[49m\\x1b[43m=\\x1b[49m\\x1b[38;5;28;43;01mFalse\\x1b[39;49;00m\\x1b[43m,\\x1b[49m\\x1b[43m \\x1b[49m\\x1b[43mdtype\\x1b[49m\\x1b[43m=\\x1b[49m\\x1b[38;5;28;43;01mNone\\x1b[39;49;00m\\x1b[43m)\\x1b[49m\\n\\x1b[32m   2406\\x1b[39m \\x1b[38;5;28;01mreturn\\x1b[39;00m \\x1b[38;5;28msuper\\x1b[39m().split(X, y, groups)\\n', '\\x1b[36mFile \\x1b[39m\\x1b[32m~/miniforge3/envs/ag/lib/python3.11/site-packages/sklearn/utils/validation.py:1107\\x1b[39m, in \\x1b[36mcheck_array\\x1b[39m\\x1b[34m(array, accept_sparse, accept_large_sparse, dtype, order, copy, force_writeable, force_all_finite, ensure_all_finite, ensure_non_negative, ensure_2d, allow_nd, ensure_min_samples, ensure_min_features, estimator, input_name)\\x1b[39m\\n\\x1b[32m   1101\\x1b[39m     \\x1b[38;5;28;01mraise\\x1b[39;00m \\x1b[38;5;167;01mValueError\\x1b[39;00m(\\n\\x1b[32m   1102\\x1b[39m         \\x1b[33m\"\\x1b[39m\\x1b[33mFound array with dim \\x1b[39m\\x1b[38;5;132;01m%d\\x1b[39;00m\\x1b[33m. \\x1b[39m\\x1b[38;5;132;01m%s\\x1b[39;00m\\x1b[33m expected <= 2.\\x1b[39m\\x1b[33m\"\\x1b[39m\\n\\x1b[32m   1103\\x1b[39m         % (array.ndim, estimator_name)\\n\\x1b[32m   1104\\x1b[39m     )\\n\\x1b[32m   1106\\x1b[39m \\x1b[38;5;28;01mif\\x1b[39;00m ensure_all_finite:\\n\\x1b[32m-> \\x1b[39m\\x1b[32m1107\\x1b[39m     \\x1b[43m_assert_all_finite\\x1b[49m\\x1b[43m(\\x1b[49m\\n\\x1b[32m   1108\\x1b[39m \\x1b[43m        \\x1b[49m\\x1b[43marray\\x1b[49m\\x1b[43m,\\x1b[49m\\n\\x1b[32m   1109\\x1b[39m \\x1b[43m        \\x1b[49m\\x1b[43minput_name\\x1b[49m\\x1b[43m=\\x1b[49m\\x1b[43minput_name\\x1b[49m\\x1b[43m,\\x1b[49m\\n\\x1b[32m   1110\\x1b[39m \\x1b[43m        \\x1b[49m\\x1b[43mestimator_name\\x1b[49m\\x1b[43m=\\x1b[49m\\x1b[43mestimator_name\\x1b[49m\\x1b[43m,\\x1b[49m\\n\\x1b[32m   1111\\x1b[39m \\x1b[43m        \\x1b[49m\\x1b[43mallow_nan\\x1b[49m\\x1b[43m=\\x1b[49m\\x1b[43mensure_all_finite\\x1b[49m\\x1b[43m \\x1b[49m\\x1b[43m==\\x1b[49m\\x1b[43m \\x1b[49m\\x1b[33;43m\"\\x1b[39;49m\\x1b[33;43mallow-nan\\x1b[39;49m\\x1b[33;43m\"\\x1b[39;49m\\x1b[43m,\\x1b[49m\\n\\x1b[32m   1112\\x1b[39m \\x1b[43m    \\x1b[49m\\x1b[43m)\\x1b[49m\\n\\x1b[32m   1114\\x1b[39m \\x1b[38;5;28;01mif\\x1b[39;00m copy:\\n\\x1b[32m   1115\\x1b[39m     \\x1b[38;5;28;01mif\\x1b[39;00m _is_numpy_namespace(xp):\\n\\x1b[32m   1116\\x1b[39m         \\x1b[38;5;66;03m# only make a copy if `array` and `array_orig` may share memory`\\x1b[39;00m\\n', '\\x1b[36mFile \\x1b[39m\\x1b[32m~/miniforge3/envs/ag/lib/python3.11/site-packages/sklearn/utils/validation.py:120\\x1b[39m, in \\x1b[36m_assert_all_finite\\x1b[39m\\x1b[34m(X, allow_nan, msg_dtype, estimator_name, input_name)\\x1b[39m\\n\\x1b[32m    117\\x1b[39m \\x1b[38;5;28;01mif\\x1b[39;00m first_pass_isfinite:\\n\\x1b[32m    118\\x1b[39m     \\x1b[38;5;28;01mreturn\\x1b[39;00m\\n\\x1b[32m--> \\x1b[39m\\x1b[32m120\\x1b[39m \\x1b[43m_assert_all_finite_element_wise\\x1b[49m\\x1b[43m(\\x1b[49m\\n\\x1b[32m    121\\x1b[39m \\x1b[43m    \\x1b[49m\\x1b[43mX\\x1b[49m\\x1b[43m,\\x1b[49m\\n\\x1b[32m    122\\x1b[39m \\x1b[43m    \\x1b[49m\\x1b[43mxp\\x1b[49m\\x1b[43m=\\x1b[49m\\x1b[43mxp\\x1b[49m\\x1b[43m,\\x1b[49m\\n\\x1b[32m    123\\x1b[39m \\x1b[43m    \\x1b[49m\\x1b[43mallow_nan\\x1b[49m\\x1b[43m=\\x1b[49m\\x1b[43mallow_nan\\x1b[49m\\x1b[43m,\\x1b[49m\\n\\x1b[32m    124\\x1b[39m \\x1b[43m    \\x1b[49m\\x1b[43mmsg_dtype\\x1b[49m\\x1b[43m=\\x1b[49m\\x1b[43mmsg_dtype\\x1b[49m\\x1b[43m,\\x1b[49m\\n\\x1b[32m    125\\x1b[39m \\x1b[43m    \\x1b[49m\\x1b[43mestimator_name\\x1b[49m\\x1b[43m=\\x1b[49m\\x1b[43mestimator_name\\x1b[49m\\x1b[43m,\\x1b[49m\\n\\x1b[32m    126\\x1b[39m \\x1b[43m    \\x1b[49m\\x1b[43minput_name\\x1b[49m\\x1b[43m=\\x1b[49m\\x1b[43minput_name\\x1b[49m\\x1b[43m,\\x1b[49m\\n\\x1b[32m    127\\x1b[39m \\x1b[43m\\x1b[49m\\x1b[43m)\\x1b[49m\\n', '\\x1b[36mFile \\x1b[39m\\x1b[32m~/miniforge3/envs/ag/lib/python3.11/site-packages/sklearn/utils/validation.py:169\\x1b[39m, in \\x1b[36m_assert_all_finite_element_wise\\x1b[39m\\x1b[34m(X, xp, allow_nan, msg_dtype, estimator_name, input_name)\\x1b[39m\\n\\x1b[32m    152\\x1b[39m \\x1b[38;5;28;01mif\\x1b[39;00m estimator_name \\x1b[38;5;129;01mand\\x1b[39;00m input_name == \\x1b[33m\"\\x1b[39m\\x1b[33mX\\x1b[39m\\x1b[33m\"\\x1b[39m \\x1b[38;5;129;01mand\\x1b[39;00m has_nan_error:\\n\\x1b[32m    153\\x1b[39m     \\x1b[38;5;66;03m# Improve the error message on how to handle missing values in\\x1b[39;00m\\n\\x1b[32m    154\\x1b[39m     \\x1b[38;5;66;03m# scikit-learn.\\x1b[39;00m\\n\\x1b[32m    155\\x1b[39m     msg_err += (\\n\\x1b[32m    156\\x1b[39m         \\x1b[33mf\\x1b[39m\\x1b[33m\"\\x1b[39m\\x1b[38;5;130;01m\\\\n\\x1b[39;00m\\x1b[38;5;132;01m{\\x1b[39;00mestimator_name\\x1b[38;5;132;01m}\\x1b[39;00m\\x1b[33m does not accept missing values\\x1b[39m\\x1b[33m\"\\x1b[39m\\n\\x1b[32m    157\\x1b[39m         \\x1b[33m\"\\x1b[39m\\x1b[33m encoded as NaN natively. For supervised learning, you might want\\x1b[39m\\x1b[33m\"\\x1b[39m\\n\\x1b[32m   (...)\\x1b[39m\\x1b[32m    167\\x1b[39m         \\x1b[33m\"\\x1b[39m\\x1b[33m#estimators-that-handle-nan-values\\x1b[39m\\x1b[33m\"\\x1b[39m\\n\\x1b[32m    168\\x1b[39m     )\\n\\x1b[32m--> \\x1b[39m\\x1b[32m169\\x1b[39m \\x1b[38;5;28;01mraise\\x1b[39;00m \\x1b[38;5;167;01mValueError\\x1b[39;00m(msg_err)\\n', '\\x1b[31mValueError\\x1b[39m: Input y contains NaN.']),\n",
      "    'BCCC_CIC-BCCC-NRC-UQ-IOT-2022_Binary': PapermillExecutionError(2, 3, 'import json\\nimport pandas as pd\\n\\npd.set_option(\"display.max_rows\", None)\\npd.set_option(\"display.max_columns\", None)\\n\\n# Step 1: Load parquet and metadata\\ndf = pd.read_parquet(f\\'{BASE_FILENAME}.parquet\\')#.dropna()\\n\\nwith open(f\\'{BASE_FILENAME}.json\\', \\'r\\', encoding=\\'utf-8\\') as f:\\n    metadata = json.load(f)\\n\\n# Step 2: Apply dtypes from metadata to df\\nfor col, dtype in metadata[\"dtypes\"].items():\\n    df[col] = df[col].astype(dtype)\\n\\n# Step 3: Split the data into 80% train (for CV) and 20% test (holdout)\\nfrom autogluon.tabular import TabularDataset\\nfrom sklearn.model_selection import train_test_split\\n\\ntrain_df, test_df = train_test_split(df, test_size=TEST_SIZE, random_state=RANDOM_STATE, stratify=df[TARGET_COL])\\n\\ntrain_data, test_data = TabularDataset(train_df), TabularDataset(test_df)\\n\\n# Step 4: Print dtypes\\nprint(f\\'{\"column\":<40}\\', f\\'{\"metadata\":<20}\\', f\\'{\"train_data\":<20}\\', f\\'{\"test_data\":<20}\\')\\nfor col in df.columns:\\n    print(f\\'{col:<40}\\', f\\'{str(metadata[\"dtypes\"][col]):<20}\\', f\\'{str(train_data[col].dtype):<20}\\', f\\'{str(test_data[col].dtype):<20}\\')', 'ValueError', 'Input y contains NaN.', ['\\x1b[31m---------------------------------------------------------------------------\\x1b[39m', '\\x1b[31mValueError\\x1b[39m                                Traceback (most recent call last)', '\\x1b[36mCell\\x1b[39m\\x1b[36m \\x1b[39m\\x1b[32mIn[3]\\x1b[39m\\x1b[32m, line 21\\x1b[39m\\n\\x1b[32m     18\\x1b[39m \\x1b[38;5;28;01mfrom\\x1b[39;00m\\x1b[38;5;250m \\x1b[39m\\x1b[34;01mautogluon\\x1b[39;00m\\x1b[34;01m.\\x1b[39;00m\\x1b[34;01mtabular\\x1b[39;00m\\x1b[38;5;250m \\x1b[39m\\x1b[38;5;28;01mimport\\x1b[39;00m TabularDataset\\n\\x1b[32m     19\\x1b[39m \\x1b[38;5;28;01mfrom\\x1b[39;00m\\x1b[38;5;250m \\x1b[39m\\x1b[34;01msklearn\\x1b[39;00m\\x1b[34;01m.\\x1b[39;00m\\x1b[34;01mmodel_selection\\x1b[39;00m\\x1b[38;5;250m \\x1b[39m\\x1b[38;5;28;01mimport\\x1b[39;00m train_test_split\\n\\x1b[32m---> \\x1b[39m\\x1b[32m21\\x1b[39m train_df, test_df = \\x1b[43mtrain_test_split\\x1b[49m\\x1b[43m(\\x1b[49m\\x1b[43mdf\\x1b[49m\\x1b[43m,\\x1b[49m\\x1b[43m \\x1b[49m\\x1b[43mtest_size\\x1b[49m\\x1b[43m=\\x1b[49m\\x1b[43mTEST_SIZE\\x1b[49m\\x1b[43m,\\x1b[49m\\x1b[43m \\x1b[49m\\x1b[43mrandom_state\\x1b[49m\\x1b[43m=\\x1b[49m\\x1b[43mRANDOM_STATE\\x1b[49m\\x1b[43m,\\x1b[49m\\x1b[43m \\x1b[49m\\x1b[43mstratify\\x1b[49m\\x1b[43m=\\x1b[49m\\x1b[43mdf\\x1b[49m\\x1b[43m[\\x1b[49m\\x1b[43mTARGET_COL\\x1b[49m\\x1b[43m]\\x1b[49m\\x1b[43m)\\x1b[49m\\n\\x1b[32m     23\\x1b[39m train_data, test_data = TabularDataset(train_df), TabularDataset(test_df)\\n\\x1b[32m     25\\x1b[39m \\x1b[38;5;66;03m# Step 4: Print dtypes\\x1b[39;00m\\n', '\\x1b[36mFile \\x1b[39m\\x1b[32m~/miniforge3/envs/ag/lib/python3.11/site-packages/sklearn/utils/_param_validation.py:216\\x1b[39m, in \\x1b[36mvalidate_params.<locals>.decorator.<locals>.wrapper\\x1b[39m\\x1b[34m(*args, **kwargs)\\x1b[39m\\n\\x1b[32m    210\\x1b[39m \\x1b[38;5;28;01mtry\\x1b[39;00m:\\n\\x1b[32m    211\\x1b[39m     \\x1b[38;5;28;01mwith\\x1b[39;00m config_context(\\n\\x1b[32m    212\\x1b[39m         skip_parameter_validation=(\\n\\x1b[32m    213\\x1b[39m             prefer_skip_nested_validation \\x1b[38;5;129;01mor\\x1b[39;00m global_skip_validation\\n\\x1b[32m    214\\x1b[39m         )\\n\\x1b[32m    215\\x1b[39m     ):\\n\\x1b[32m--> \\x1b[39m\\x1b[32m216\\x1b[39m         \\x1b[38;5;28;01mreturn\\x1b[39;00m \\x1b[43mfunc\\x1b[49m\\x1b[43m(\\x1b[49m\\x1b[43m*\\x1b[49m\\x1b[43margs\\x1b[49m\\x1b[43m,\\x1b[49m\\x1b[43m \\x1b[49m\\x1b[43m*\\x1b[49m\\x1b[43m*\\x1b[49m\\x1b[43mkwargs\\x1b[49m\\x1b[43m)\\x1b[49m\\n\\x1b[32m    217\\x1b[39m \\x1b[38;5;28;01mexcept\\x1b[39;00m InvalidParameterError \\x1b[38;5;28;01mas\\x1b[39;00m e:\\n\\x1b[32m    218\\x1b[39m     \\x1b[38;5;66;03m# When the function is just a wrapper around an estimator, we allow\\x1b[39;00m\\n\\x1b[32m    219\\x1b[39m     \\x1b[38;5;66;03m# the function to delegate validation to the estimator, but we replace\\x1b[39;00m\\n\\x1b[32m    220\\x1b[39m     \\x1b[38;5;66;03m# the name of the estimator by the name of the function in the error\\x1b[39;00m\\n\\x1b[32m    221\\x1b[39m     \\x1b[38;5;66;03m# message to avoid confusion.\\x1b[39;00m\\n\\x1b[32m    222\\x1b[39m     msg = re.sub(\\n\\x1b[32m    223\\x1b[39m         \\x1b[33mr\\x1b[39m\\x1b[33m\"\\x1b[39m\\x1b[33mparameter of \\x1b[39m\\x1b[33m\\\\\\x1b[39m\\x1b[33mw+ must be\\x1b[39m\\x1b[33m\"\\x1b[39m,\\n\\x1b[32m    224\\x1b[39m         \\x1b[33mf\\x1b[39m\\x1b[33m\"\\x1b[39m\\x1b[33mparameter of \\x1b[39m\\x1b[38;5;132;01m{\\x1b[39;00mfunc.\\x1b[34m__qualname__\\x1b[39m\\x1b[38;5;132;01m}\\x1b[39;00m\\x1b[33m must be\\x1b[39m\\x1b[33m\"\\x1b[39m,\\n\\x1b[32m    225\\x1b[39m         \\x1b[38;5;28mstr\\x1b[39m(e),\\n\\x1b[32m    226\\x1b[39m     )\\n', '\\x1b[36mFile \\x1b[39m\\x1b[32m~/miniforge3/envs/ag/lib/python3.11/site-packages/sklearn/model_selection/_split.py:2872\\x1b[39m, in \\x1b[36mtrain_test_split\\x1b[39m\\x1b[34m(test_size, train_size, random_state, shuffle, stratify, *arrays)\\x1b[39m\\n\\x1b[32m   2868\\x1b[39m         CVClass = ShuffleSplit\\n\\x1b[32m   2870\\x1b[39m     cv = CVClass(test_size=n_test, train_size=n_train, random_state=random_state)\\n\\x1b[32m-> \\x1b[39m\\x1b[32m2872\\x1b[39m     train, test = \\x1b[38;5;28mnext\\x1b[39m(\\x1b[43mcv\\x1b[49m\\x1b[43m.\\x1b[49m\\x1b[43msplit\\x1b[49m\\x1b[43m(\\x1b[49m\\x1b[43mX\\x1b[49m\\x1b[43m=\\x1b[49m\\x1b[43marrays\\x1b[49m\\x1b[43m[\\x1b[49m\\x1b[32;43m0\\x1b[39;49m\\x1b[43m]\\x1b[49m\\x1b[43m,\\x1b[49m\\x1b[43m \\x1b[49m\\x1b[43my\\x1b[49m\\x1b[43m=\\x1b[49m\\x1b[43mstratify\\x1b[49m\\x1b[43m)\\x1b[49m)\\n\\x1b[32m   2874\\x1b[39m train, test = ensure_common_namespace_device(arrays[\\x1b[32m0\\x1b[39m], train, test)\\n\\x1b[32m   2876\\x1b[39m \\x1b[38;5;28;01mreturn\\x1b[39;00m \\x1b[38;5;28mlist\\x1b[39m(\\n\\x1b[32m   2877\\x1b[39m     chain.from_iterable(\\n\\x1b[32m   2878\\x1b[39m         (_safe_indexing(a, train), _safe_indexing(a, test)) \\x1b[38;5;28;01mfor\\x1b[39;00m a \\x1b[38;5;129;01min\\x1b[39;00m arrays\\n\\x1b[32m   2879\\x1b[39m     )\\n\\x1b[32m   2880\\x1b[39m )\\n', '\\x1b[36mFile \\x1b[39m\\x1b[32m~/miniforge3/envs/ag/lib/python3.11/site-packages/sklearn/model_selection/_split.py:2405\\x1b[39m, in \\x1b[36mStratifiedShuffleSplit.split\\x1b[39m\\x1b[34m(self, X, y, groups)\\x1b[39m\\n\\x1b[32m   2400\\x1b[39m \\x1b[38;5;28;01mif\\x1b[39;00m groups \\x1b[38;5;129;01mis\\x1b[39;00m \\x1b[38;5;129;01mnot\\x1b[39;00m \\x1b[38;5;28;01mNone\\x1b[39;00m:\\n\\x1b[32m   2401\\x1b[39m     warnings.warn(\\n\\x1b[32m   2402\\x1b[39m         \\x1b[33mf\\x1b[39m\\x1b[33m\"\\x1b[39m\\x1b[33mThe groups parameter is ignored by \\x1b[39m\\x1b[38;5;132;01m{\\x1b[39;00m\\x1b[38;5;28mself\\x1b[39m.\\x1b[34m__class__\\x1b[39m.\\x1b[34m__name__\\x1b[39m\\x1b[38;5;132;01m}\\x1b[39;00m\\x1b[33m\"\\x1b[39m,\\n\\x1b[32m   2403\\x1b[39m         \\x1b[38;5;167;01mUserWarning\\x1b[39;00m,\\n\\x1b[32m   2404\\x1b[39m     )\\n\\x1b[32m-> \\x1b[39m\\x1b[32m2405\\x1b[39m y = \\x1b[43mcheck_array\\x1b[49m\\x1b[43m(\\x1b[49m\\x1b[43my\\x1b[49m\\x1b[43m,\\x1b[49m\\x1b[43m \\x1b[49m\\x1b[43minput_name\\x1b[49m\\x1b[43m=\\x1b[49m\\x1b[33;43m\"\\x1b[39;49m\\x1b[33;43my\\x1b[39;49m\\x1b[33;43m\"\\x1b[39;49m\\x1b[43m,\\x1b[49m\\x1b[43m \\x1b[49m\\x1b[43mensure_2d\\x1b[49m\\x1b[43m=\\x1b[49m\\x1b[38;5;28;43;01mFalse\\x1b[39;49;00m\\x1b[43m,\\x1b[49m\\x1b[43m \\x1b[49m\\x1b[43mdtype\\x1b[49m\\x1b[43m=\\x1b[49m\\x1b[38;5;28;43;01mNone\\x1b[39;49;00m\\x1b[43m)\\x1b[49m\\n\\x1b[32m   2406\\x1b[39m \\x1b[38;5;28;01mreturn\\x1b[39;00m \\x1b[38;5;28msuper\\x1b[39m().split(X, y, groups)\\n', '\\x1b[36mFile \\x1b[39m\\x1b[32m~/miniforge3/envs/ag/lib/python3.11/site-packages/sklearn/utils/validation.py:1107\\x1b[39m, in \\x1b[36mcheck_array\\x1b[39m\\x1b[34m(array, accept_sparse, accept_large_sparse, dtype, order, copy, force_writeable, force_all_finite, ensure_all_finite, ensure_non_negative, ensure_2d, allow_nd, ensure_min_samples, ensure_min_features, estimator, input_name)\\x1b[39m\\n\\x1b[32m   1101\\x1b[39m     \\x1b[38;5;28;01mraise\\x1b[39;00m \\x1b[38;5;167;01mValueError\\x1b[39;00m(\\n\\x1b[32m   1102\\x1b[39m         \\x1b[33m\"\\x1b[39m\\x1b[33mFound array with dim \\x1b[39m\\x1b[38;5;132;01m%d\\x1b[39;00m\\x1b[33m. \\x1b[39m\\x1b[38;5;132;01m%s\\x1b[39;00m\\x1b[33m expected <= 2.\\x1b[39m\\x1b[33m\"\\x1b[39m\\n\\x1b[32m   1103\\x1b[39m         % (array.ndim, estimator_name)\\n\\x1b[32m   1104\\x1b[39m     )\\n\\x1b[32m   1106\\x1b[39m \\x1b[38;5;28;01mif\\x1b[39;00m ensure_all_finite:\\n\\x1b[32m-> \\x1b[39m\\x1b[32m1107\\x1b[39m     \\x1b[43m_assert_all_finite\\x1b[49m\\x1b[43m(\\x1b[49m\\n\\x1b[32m   1108\\x1b[39m \\x1b[43m        \\x1b[49m\\x1b[43marray\\x1b[49m\\x1b[43m,\\x1b[49m\\n\\x1b[32m   1109\\x1b[39m \\x1b[43m        \\x1b[49m\\x1b[43minput_name\\x1b[49m\\x1b[43m=\\x1b[49m\\x1b[43minput_name\\x1b[49m\\x1b[43m,\\x1b[49m\\n\\x1b[32m   1110\\x1b[39m \\x1b[43m        \\x1b[49m\\x1b[43mestimator_name\\x1b[49m\\x1b[43m=\\x1b[49m\\x1b[43mestimator_name\\x1b[49m\\x1b[43m,\\x1b[49m\\n\\x1b[32m   1111\\x1b[39m \\x1b[43m        \\x1b[49m\\x1b[43mallow_nan\\x1b[49m\\x1b[43m=\\x1b[49m\\x1b[43mensure_all_finite\\x1b[49m\\x1b[43m \\x1b[49m\\x1b[43m==\\x1b[49m\\x1b[43m \\x1b[49m\\x1b[33;43m\"\\x1b[39;49m\\x1b[33;43mallow-nan\\x1b[39;49m\\x1b[33;43m\"\\x1b[39;49m\\x1b[43m,\\x1b[49m\\n\\x1b[32m   1112\\x1b[39m \\x1b[43m    \\x1b[49m\\x1b[43m)\\x1b[49m\\n\\x1b[32m   1114\\x1b[39m \\x1b[38;5;28;01mif\\x1b[39;00m copy:\\n\\x1b[32m   1115\\x1b[39m     \\x1b[38;5;28;01mif\\x1b[39;00m _is_numpy_namespace(xp):\\n\\x1b[32m   1116\\x1b[39m         \\x1b[38;5;66;03m# only make a copy if `array` and `array_orig` may share memory`\\x1b[39;00m\\n', '\\x1b[36mFile \\x1b[39m\\x1b[32m~/miniforge3/envs/ag/lib/python3.11/site-packages/sklearn/utils/validation.py:120\\x1b[39m, in \\x1b[36m_assert_all_finite\\x1b[39m\\x1b[34m(X, allow_nan, msg_dtype, estimator_name, input_name)\\x1b[39m\\n\\x1b[32m    117\\x1b[39m \\x1b[38;5;28;01mif\\x1b[39;00m first_pass_isfinite:\\n\\x1b[32m    118\\x1b[39m     \\x1b[38;5;28;01mreturn\\x1b[39;00m\\n\\x1b[32m--> \\x1b[39m\\x1b[32m120\\x1b[39m \\x1b[43m_assert_all_finite_element_wise\\x1b[49m\\x1b[43m(\\x1b[49m\\n\\x1b[32m    121\\x1b[39m \\x1b[43m    \\x1b[49m\\x1b[43mX\\x1b[49m\\x1b[43m,\\x1b[49m\\n\\x1b[32m    122\\x1b[39m \\x1b[43m    \\x1b[49m\\x1b[43mxp\\x1b[49m\\x1b[43m=\\x1b[49m\\x1b[43mxp\\x1b[49m\\x1b[43m,\\x1b[49m\\n\\x1b[32m    123\\x1b[39m \\x1b[43m    \\x1b[49m\\x1b[43mallow_nan\\x1b[49m\\x1b[43m=\\x1b[49m\\x1b[43mallow_nan\\x1b[49m\\x1b[43m,\\x1b[49m\\n\\x1b[32m    124\\x1b[39m \\x1b[43m    \\x1b[49m\\x1b[43mmsg_dtype\\x1b[49m\\x1b[43m=\\x1b[49m\\x1b[43mmsg_dtype\\x1b[49m\\x1b[43m,\\x1b[49m\\n\\x1b[32m    125\\x1b[39m \\x1b[43m    \\x1b[49m\\x1b[43mestimator_name\\x1b[49m\\x1b[43m=\\x1b[49m\\x1b[43mestimator_name\\x1b[49m\\x1b[43m,\\x1b[49m\\n\\x1b[32m    126\\x1b[39m \\x1b[43m    \\x1b[49m\\x1b[43minput_name\\x1b[49m\\x1b[43m=\\x1b[49m\\x1b[43minput_name\\x1b[49m\\x1b[43m,\\x1b[49m\\n\\x1b[32m    127\\x1b[39m \\x1b[43m\\x1b[49m\\x1b[43m)\\x1b[49m\\n', '\\x1b[36mFile \\x1b[39m\\x1b[32m~/miniforge3/envs/ag/lib/python3.11/site-packages/sklearn/utils/validation.py:169\\x1b[39m, in \\x1b[36m_assert_all_finite_element_wise\\x1b[39m\\x1b[34m(X, xp, allow_nan, msg_dtype, estimator_name, input_name)\\x1b[39m\\n\\x1b[32m    152\\x1b[39m \\x1b[38;5;28;01mif\\x1b[39;00m estimator_name \\x1b[38;5;129;01mand\\x1b[39;00m input_name == \\x1b[33m\"\\x1b[39m\\x1b[33mX\\x1b[39m\\x1b[33m\"\\x1b[39m \\x1b[38;5;129;01mand\\x1b[39;00m has_nan_error:\\n\\x1b[32m    153\\x1b[39m     \\x1b[38;5;66;03m# Improve the error message on how to handle missing values in\\x1b[39;00m\\n\\x1b[32m    154\\x1b[39m     \\x1b[38;5;66;03m# scikit-learn.\\x1b[39;00m\\n\\x1b[32m    155\\x1b[39m     msg_err += (\\n\\x1b[32m    156\\x1b[39m         \\x1b[33mf\\x1b[39m\\x1b[33m\"\\x1b[39m\\x1b[38;5;130;01m\\\\n\\x1b[39;00m\\x1b[38;5;132;01m{\\x1b[39;00mestimator_name\\x1b[38;5;132;01m}\\x1b[39;00m\\x1b[33m does not accept missing values\\x1b[39m\\x1b[33m\"\\x1b[39m\\n\\x1b[32m    157\\x1b[39m         \\x1b[33m\"\\x1b[39m\\x1b[33m encoded as NaN natively. For supervised learning, you might want\\x1b[39m\\x1b[33m\"\\x1b[39m\\n\\x1b[32m   (...)\\x1b[39m\\x1b[32m    167\\x1b[39m         \\x1b[33m\"\\x1b[39m\\x1b[33m#estimators-that-handle-nan-values\\x1b[39m\\x1b[33m\"\\x1b[39m\\n\\x1b[32m    168\\x1b[39m     )\\n\\x1b[32m--> \\x1b[39m\\x1b[32m169\\x1b[39m \\x1b[38;5;28;01mraise\\x1b[39;00m \\x1b[38;5;167;01mValueError\\x1b[39;00m(msg_err)\\n', '\\x1b[31mValueError\\x1b[39m: Input y contains NaN.']),\n",
      "    'IoT_23_Multiclass': PapermillExecutionError(6, 7, 'from sklearn.metrics import (\\n    f1_score, precision_score, recall_score, roc_auc_score,\\n    average_precision_score, accuracy_score, matthews_corrcoef, log_loss,\\n    confusion_matrix\\n)\\nimport numpy as np\\n\\n# ------------------------------\\n# Setup\\n# ------------------------------\\nmodel_names = predictor.model_names()\\ny_true = test_data[TARGET_COL]\\n\\n# Determine valid averaging strategies and ROC modes\\nif problem_type == \\'binary\\':\\n    averages = [\\'binary\\', \\'micro\\', \\'macro\\', \\'weighted\\']\\n    multi_class_args = [None]\\n    use_pos_label = \\'Malign\\' if \\'Malign\\' in y_true.unique() else None\\nelse:\\n    averages = [\\'micro\\', \\'macro\\', \\'weighted\\']\\n    multi_class_args = [\\'ovo\\', \\'ovr\\']\\n    use_pos_label = None  # not applicable in multiclass\\n\\n# Fix key names: use \\'binary\\' instead of \\'None\\' for binary mode\\nroc_auc_keys = [\\n    (f\\'{mode}_{avg}\\' if mode else f\\'binary_{avg}\\')\\n    for mode in multi_class_args\\n    for avg in averages\\n]\\n\\n# Initialize metric containers\\nmetrics_scores = {\\n    \\'f1\\': {avg: [] for avg in averages},\\n    \\'precision\\': {avg: [] for avg in averages},\\n    \\'recall\\': {avg: [] for avg in averages},\\n    \\'pr_auc\\': {avg: [] for avg in averages},\\n    \\'roc_auc\\': {key: [] for key in roc_auc_keys},\\n    \\'log_loss\\': [],\\n    \\'accuracy\\': [],\\n    \\'mcc\\': [],\\n}\\n\\n# ------------------------------\\n# Evaluation loop\\n# ------------------------------\\nconf_matrix_counts = []\\n\\nfor model in model_names:\\n    print(f\"Evaluating model: {model}\")\\n    y_pred = predictor.predict(test_data, model=model)\\n    y_proba = predictor.predict_proba(test_data, model=model)\\n    assert np.allclose(y_proba.sum(axis=1), 1.0, atol=1e-6)\\n\\n    # --------------------------\\n    # Confusion matrix + derived counts\\n    # --------------------------\\n    classes = np.unique(y_true)\\n    cm = confusion_matrix(y_true, y_pred, labels=classes)\\n    conf_row = {\\'confusion_matrix\\': cm.tolist()}  # Add raw matrix\\n\\n    if problem_type == \\'binary\\':\\n        try:\\n            pos_idx = list(classes).index(\"Malign\")\\n            neg_idx = 1 - pos_idx\\n        except ValueError:\\n            pos_idx, neg_idx = 1, 0  # fallback\\n\\n        tn = cm[neg_idx, neg_idx]\\n        fp = cm[neg_idx, pos_idx]\\n        fn = cm[pos_idx, neg_idx]\\n        tp = cm[pos_idx, pos_idx]\\n\\n        conf_row.update({\\n            \\'global_tp\\': tp,\\n            \\'global_fp\\': fp,\\n            \\'global_tn\\': tn,\\n            \\'global_fn\\': fn\\n        })\\n\\n    else:  # multiclass\\n        for i, label in enumerate(classes):\\n            tp = cm[i, i]\\n            fn = cm[i, :].sum() - tp\\n            fp = cm[:, i].sum() - tp\\n            tn = cm.sum() - (tp + fp + fn)\\n\\n            conf_row.update({\\n                f\\'tp_{label}\\': tp,\\n                f\\'fp_{label}\\': fp,\\n                f\\'tn_{label}\\': tn,\\n                f\\'fn_{label}\\': fn\\n            })\\n\\n    conf_matrix_counts.append(conf_row)\\n\\n    # --------------------------\\n    # Multi-avg metrics: f1, precision, recall\\n    # --------------------------\\n    for avg in averages:\\n        for name, func in zip([\\'f1\\', \\'precision\\', \\'recall\\'],\\n                              [f1_score, precision_score, recall_score]):\\n            kwargs = {\\'average\\': avg, \\'zero_division\\': 0}\\n            if avg == \\'binary\\' and use_pos_label:\\n                kwargs[\\'pos_label\\'] = use_pos_label\\n            try:\\n                score = func(y_true, y_pred, **kwargs)\\n            except ValueError:\\n                score = np.nan\\n            metrics_scores[name][avg].append(score)\\n\\n    # --------------------------\\n    # ROC AUC: ovo and ovr (for multiclass)\\n    # --------------------------\\n    for mode in multi_class_args:\\n        for avg in averages:\\n            key = f\\'{mode}_{avg}\\' if mode else f\\'binary_{avg}\\'\\n            try:\\n                if problem_type == \\'binary\\':\\n                    # Use only the Malign column for ROC AUC\\n                    pos_col = \\'Malign\\' if \\'Malign\\' in y_proba.columns else y_proba.columns[-1]\\n                    score = roc_auc_score(y_true, y_proba[pos_col], average=avg)\\n                else:\\n                    score = roc_auc_score(y_true, y_proba, average=avg, multi_class=mode)\\n            except ValueError:\\n                score = np.nan\\n            metrics_scores[\\'roc_auc\\'][key].append(score)\\n\\n    # --------------------------\\n    # PR AUC (Average Precision)\\n    # --------------------------\\n    for avg in averages:\\n        kwargs = {\\'average\\': avg}\\n        if use_pos_label and avg == \\'binary\\':\\n            kwargs[\\'pos_label\\'] = use_pos_label\\n        try:\\n            score = average_precision_score(y_true, y_proba, **kwargs)\\n        except ValueError:\\n            score = np.nan\\n        metrics_scores[\\'pr_auc\\'][avg].append(score)\\n\\n    # --------------------------\\n    # Flat metrics: log loss, accuracy, MCC\\n    # --------------------------\\n    try:\\n        metrics_scores[\\'log_loss\\'].append(log_loss(y_true, y_proba))\\n    except ValueError:\\n        metrics_scores[\\'log_loss\\'].append(np.nan)\\n\\n    try:\\n        metrics_scores[\\'accuracy\\'].append(accuracy_score(y_true, y_pred))\\n    except ValueError:\\n        metrics_scores[\\'accuracy\\'].append(np.nan)\\n\\n    try:\\n        metrics_scores[\\'mcc\\'].append(matthews_corrcoef(y_true, y_pred))\\n    except ValueError:\\n        metrics_scores[\\'mcc\\'].append(np.nan)', 'IndexError', 'index 15 is out of bounds for axis 1 with size 15', ['\\x1b[31m---------------------------------------------------------------------------\\x1b[39m', '\\x1b[31mIndexError\\x1b[39m                                Traceback (most recent call last)', \"\\x1b[36mCell\\x1b[39m\\x1b[36m \\x1b[39m\\x1b[32mIn[7]\\x1b[39m\\x1b[32m, line 136\\x1b[39m\\n\\x1b[32m    134\\x1b[39m     kwargs[\\x1b[33m'\\x1b[39m\\x1b[33mpos_label\\x1b[39m\\x1b[33m'\\x1b[39m] = use_pos_label\\n\\x1b[32m    135\\x1b[39m \\x1b[38;5;28;01mtry\\x1b[39;00m:\\n\\x1b[32m--> \\x1b[39m\\x1b[32m136\\x1b[39m     score = \\x1b[43maverage_precision_score\\x1b[49m\\x1b[43m(\\x1b[49m\\x1b[43my_true\\x1b[49m\\x1b[43m,\\x1b[49m\\x1b[43m \\x1b[49m\\x1b[43my_proba\\x1b[49m\\x1b[43m,\\x1b[49m\\x1b[43m \\x1b[49m\\x1b[43m*\\x1b[49m\\x1b[43m*\\x1b[49m\\x1b[43mkwargs\\x1b[49m\\x1b[43m)\\x1b[49m\\n\\x1b[32m    137\\x1b[39m \\x1b[38;5;28;01mexcept\\x1b[39;00m \\x1b[38;5;167;01mValueError\\x1b[39;00m:\\n\\x1b[32m    138\\x1b[39m     score = np.nan\\n\", '\\x1b[36mFile \\x1b[39m\\x1b[32m~/miniforge3/envs/ag/lib/python3.11/site-packages/sklearn/utils/_param_validation.py:216\\x1b[39m, in \\x1b[36mvalidate_params.<locals>.decorator.<locals>.wrapper\\x1b[39m\\x1b[34m(*args, **kwargs)\\x1b[39m\\n\\x1b[32m    210\\x1b[39m \\x1b[38;5;28;01mtry\\x1b[39;00m:\\n\\x1b[32m    211\\x1b[39m     \\x1b[38;5;28;01mwith\\x1b[39;00m config_context(\\n\\x1b[32m    212\\x1b[39m         skip_parameter_validation=(\\n\\x1b[32m    213\\x1b[39m             prefer_skip_nested_validation \\x1b[38;5;129;01mor\\x1b[39;00m global_skip_validation\\n\\x1b[32m    214\\x1b[39m         )\\n\\x1b[32m    215\\x1b[39m     ):\\n\\x1b[32m--> \\x1b[39m\\x1b[32m216\\x1b[39m         \\x1b[38;5;28;01mreturn\\x1b[39;00m \\x1b[43mfunc\\x1b[49m\\x1b[43m(\\x1b[49m\\x1b[43m*\\x1b[49m\\x1b[43margs\\x1b[49m\\x1b[43m,\\x1b[49m\\x1b[43m \\x1b[49m\\x1b[43m*\\x1b[49m\\x1b[43m*\\x1b[49m\\x1b[43mkwargs\\x1b[49m\\x1b[43m)\\x1b[49m\\n\\x1b[32m    217\\x1b[39m \\x1b[38;5;28;01mexcept\\x1b[39;00m InvalidParameterError \\x1b[38;5;28;01mas\\x1b[39;00m e:\\n\\x1b[32m    218\\x1b[39m     \\x1b[38;5;66;03m# When the function is just a wrapper around an estimator, we allow\\x1b[39;00m\\n\\x1b[32m    219\\x1b[39m     \\x1b[38;5;66;03m# the function to delegate validation to the estimator, but we replace\\x1b[39;00m\\n\\x1b[32m    220\\x1b[39m     \\x1b[38;5;66;03m# the name of the estimator by the name of the function in the error\\x1b[39;00m\\n\\x1b[32m    221\\x1b[39m     \\x1b[38;5;66;03m# message to avoid confusion.\\x1b[39;00m\\n\\x1b[32m    222\\x1b[39m     msg = re.sub(\\n\\x1b[32m    223\\x1b[39m         \\x1b[33mr\\x1b[39m\\x1b[33m\"\\x1b[39m\\x1b[33mparameter of \\x1b[39m\\x1b[33m\\\\\\x1b[39m\\x1b[33mw+ must be\\x1b[39m\\x1b[33m\"\\x1b[39m,\\n\\x1b[32m    224\\x1b[39m         \\x1b[33mf\\x1b[39m\\x1b[33m\"\\x1b[39m\\x1b[33mparameter of \\x1b[39m\\x1b[38;5;132;01m{\\x1b[39;00mfunc.\\x1b[34m__qualname__\\x1b[39m\\x1b[38;5;132;01m}\\x1b[39;00m\\x1b[33m must be\\x1b[39m\\x1b[33m\"\\x1b[39m,\\n\\x1b[32m    225\\x1b[39m         \\x1b[38;5;28mstr\\x1b[39m(e),\\n\\x1b[32m    226\\x1b[39m     )\\n', '\\x1b[36mFile \\x1b[39m\\x1b[32m~/miniforge3/envs/ag/lib/python3.11/site-packages/sklearn/metrics/_ranking.py:263\\x1b[39m, in \\x1b[36maverage_precision_score\\x1b[39m\\x1b[34m(y_true, y_score, average, pos_label, sample_weight)\\x1b[39m\\n\\x1b[32m    258\\x1b[39m     y_true = label_binarize(y_true, classes=present_labels)\\n\\x1b[32m    260\\x1b[39m average_precision = partial(\\n\\x1b[32m    261\\x1b[39m     _binary_uninterpolated_average_precision, pos_label=pos_label\\n\\x1b[32m    262\\x1b[39m )\\n\\x1b[32m--> \\x1b[39m\\x1b[32m263\\x1b[39m \\x1b[38;5;28;01mreturn\\x1b[39;00m \\x1b[43m_average_binary_score\\x1b[49m\\x1b[43m(\\x1b[49m\\n\\x1b[32m    264\\x1b[39m \\x1b[43m    \\x1b[49m\\x1b[43maverage_precision\\x1b[49m\\x1b[43m,\\x1b[49m\\x1b[43m \\x1b[49m\\x1b[43my_true\\x1b[49m\\x1b[43m,\\x1b[49m\\x1b[43m \\x1b[49m\\x1b[43my_score\\x1b[49m\\x1b[43m,\\x1b[49m\\x1b[43m \\x1b[49m\\x1b[43maverage\\x1b[49m\\x1b[43m,\\x1b[49m\\x1b[43m \\x1b[49m\\x1b[43msample_weight\\x1b[49m\\x1b[43m=\\x1b[49m\\x1b[43msample_weight\\x1b[49m\\n\\x1b[32m    265\\x1b[39m \\x1b[43m\\x1b[49m\\x1b[43m)\\x1b[49m\\n', '\\x1b[36mFile \\x1b[39m\\x1b[32m~/miniforge3/envs/ag/lib/python3.11/site-packages/sklearn/metrics/_base.py:110\\x1b[39m, in \\x1b[36m_average_binary_score\\x1b[39m\\x1b[34m(binary_metric, y_true, y_score, average, sample_weight)\\x1b[39m\\n\\x1b[32m    108\\x1b[39m score = np.zeros((n_classes,))\\n\\x1b[32m    109\\x1b[39m \\x1b[38;5;28;01mfor\\x1b[39;00m c \\x1b[38;5;129;01min\\x1b[39;00m \\x1b[38;5;28mrange\\x1b[39m(n_classes):\\n\\x1b[32m--> \\x1b[39m\\x1b[32m110\\x1b[39m     y_true_c = \\x1b[43my_true\\x1b[49m\\x1b[43m.\\x1b[49m\\x1b[43mtake\\x1b[49m\\x1b[43m(\\x1b[49m\\x1b[43m[\\x1b[49m\\x1b[43mc\\x1b[49m\\x1b[43m]\\x1b[49m\\x1b[43m,\\x1b[49m\\x1b[43m \\x1b[49m\\x1b[43maxis\\x1b[49m\\x1b[43m=\\x1b[49m\\x1b[43mnot_average_axis\\x1b[49m\\x1b[43m)\\x1b[49m.ravel()\\n\\x1b[32m    111\\x1b[39m     y_score_c = y_score.take([c], axis=not_average_axis).ravel()\\n\\x1b[32m    112\\x1b[39m     score[c] = binary_metric(y_true_c, y_score_c, sample_weight=score_weight)\\n', '\\x1b[31mIndexError\\x1b[39m: index 15 is out of bounds for axis 1 with size 15']),\n",
      "    'KDD_Cup_1999_Multiclass': PapermillExecutionError(6, 7, 'from sklearn.metrics import (\\n    f1_score, precision_score, recall_score, roc_auc_score,\\n    average_precision_score, accuracy_score, matthews_corrcoef, log_loss,\\n    confusion_matrix\\n)\\nimport numpy as np\\n\\n# ------------------------------\\n# Setup\\n# ------------------------------\\nmodel_names = predictor.model_names()\\ny_true = test_data[TARGET_COL]\\n\\n# Determine valid averaging strategies and ROC modes\\nif problem_type == \\'binary\\':\\n    averages = [\\'binary\\', \\'micro\\', \\'macro\\', \\'weighted\\']\\n    multi_class_args = [None]\\n    use_pos_label = \\'Malign\\' if \\'Malign\\' in y_true.unique() else None\\nelse:\\n    averages = [\\'micro\\', \\'macro\\', \\'weighted\\']\\n    multi_class_args = [\\'ovo\\', \\'ovr\\']\\n    use_pos_label = None  # not applicable in multiclass\\n\\n# Fix key names: use \\'binary\\' instead of \\'None\\' for binary mode\\nroc_auc_keys = [\\n    (f\\'{mode}_{avg}\\' if mode else f\\'binary_{avg}\\')\\n    for mode in multi_class_args\\n    for avg in averages\\n]\\n\\n# Initialize metric containers\\nmetrics_scores = {\\n    \\'f1\\': {avg: [] for avg in averages},\\n    \\'precision\\': {avg: [] for avg in averages},\\n    \\'recall\\': {avg: [] for avg in averages},\\n    \\'pr_auc\\': {avg: [] for avg in averages},\\n    \\'roc_auc\\': {key: [] for key in roc_auc_keys},\\n    \\'log_loss\\': [],\\n    \\'accuracy\\': [],\\n    \\'mcc\\': [],\\n}\\n\\n# ------------------------------\\n# Evaluation loop\\n# ------------------------------\\nconf_matrix_counts = []\\n\\nfor model in model_names:\\n    print(f\"Evaluating model: {model}\")\\n    y_pred = predictor.predict(test_data, model=model)\\n    y_proba = predictor.predict_proba(test_data, model=model)\\n    assert np.allclose(y_proba.sum(axis=1), 1.0, atol=1e-6)\\n\\n    # --------------------------\\n    # Confusion matrix + derived counts\\n    # --------------------------\\n    classes = np.unique(y_true)\\n    cm = confusion_matrix(y_true, y_pred, labels=classes)\\n    conf_row = {\\'confusion_matrix\\': cm.tolist()}  # Add raw matrix\\n\\n    if problem_type == \\'binary\\':\\n        try:\\n            pos_idx = list(classes).index(\"Malign\")\\n            neg_idx = 1 - pos_idx\\n        except ValueError:\\n            pos_idx, neg_idx = 1, 0  # fallback\\n\\n        tn = cm[neg_idx, neg_idx]\\n        fp = cm[neg_idx, pos_idx]\\n        fn = cm[pos_idx, neg_idx]\\n        tp = cm[pos_idx, pos_idx]\\n\\n        conf_row.update({\\n            \\'global_tp\\': tp,\\n            \\'global_fp\\': fp,\\n            \\'global_tn\\': tn,\\n            \\'global_fn\\': fn\\n        })\\n\\n    else:  # multiclass\\n        for i, label in enumerate(classes):\\n            tp = cm[i, i]\\n            fn = cm[i, :].sum() - tp\\n            fp = cm[:, i].sum() - tp\\n            tn = cm.sum() - (tp + fp + fn)\\n\\n            conf_row.update({\\n                f\\'tp_{label}\\': tp,\\n                f\\'fp_{label}\\': fp,\\n                f\\'tn_{label}\\': tn,\\n                f\\'fn_{label}\\': fn\\n            })\\n\\n    conf_matrix_counts.append(conf_row)\\n\\n    # --------------------------\\n    # Multi-avg metrics: f1, precision, recall\\n    # --------------------------\\n    for avg in averages:\\n        for name, func in zip([\\'f1\\', \\'precision\\', \\'recall\\'],\\n                              [f1_score, precision_score, recall_score]):\\n            kwargs = {\\'average\\': avg, \\'zero_division\\': 0}\\n            if avg == \\'binary\\' and use_pos_label:\\n                kwargs[\\'pos_label\\'] = use_pos_label\\n            try:\\n                score = func(y_true, y_pred, **kwargs)\\n            except ValueError:\\n                score = np.nan\\n            metrics_scores[name][avg].append(score)\\n\\n    # --------------------------\\n    # ROC AUC: ovo and ovr (for multiclass)\\n    # --------------------------\\n    for mode in multi_class_args:\\n        for avg in averages:\\n            key = f\\'{mode}_{avg}\\' if mode else f\\'binary_{avg}\\'\\n            try:\\n                if problem_type == \\'binary\\':\\n                    # Use only the Malign column for ROC AUC\\n                    pos_col = \\'Malign\\' if \\'Malign\\' in y_proba.columns else y_proba.columns[-1]\\n                    score = roc_auc_score(y_true, y_proba[pos_col], average=avg)\\n                else:\\n                    score = roc_auc_score(y_true, y_proba, average=avg, multi_class=mode)\\n            except ValueError:\\n                score = np.nan\\n            metrics_scores[\\'roc_auc\\'][key].append(score)\\n\\n    # --------------------------\\n    # PR AUC (Average Precision)\\n    # --------------------------\\n    for avg in averages:\\n        kwargs = {\\'average\\': avg}\\n        if use_pos_label and avg == \\'binary\\':\\n            kwargs[\\'pos_label\\'] = use_pos_label\\n        try:\\n            score = average_precision_score(y_true, y_proba, **kwargs)\\n        except ValueError:\\n            score = np.nan\\n        metrics_scores[\\'pr_auc\\'][avg].append(score)\\n\\n    # --------------------------\\n    # Flat metrics: log loss, accuracy, MCC\\n    # --------------------------\\n    try:\\n        metrics_scores[\\'log_loss\\'].append(log_loss(y_true, y_proba))\\n    except ValueError:\\n        metrics_scores[\\'log_loss\\'].append(np.nan)\\n\\n    try:\\n        metrics_scores[\\'accuracy\\'].append(accuracy_score(y_true, y_pred))\\n    except ValueError:\\n        metrics_scores[\\'accuracy\\'].append(np.nan)\\n\\n    try:\\n        metrics_scores[\\'mcc\\'].append(matthews_corrcoef(y_true, y_pred))\\n    except ValueError:\\n        metrics_scores[\\'mcc\\'].append(np.nan)', 'IndexError', 'index 21 is out of bounds for axis 1 with size 21', ['\\x1b[31m---------------------------------------------------------------------------\\x1b[39m', '\\x1b[31mIndexError\\x1b[39m                                Traceback (most recent call last)', \"\\x1b[36mCell\\x1b[39m\\x1b[36m \\x1b[39m\\x1b[32mIn[7]\\x1b[39m\\x1b[32m, line 136\\x1b[39m\\n\\x1b[32m    134\\x1b[39m     kwargs[\\x1b[33m'\\x1b[39m\\x1b[33mpos_label\\x1b[39m\\x1b[33m'\\x1b[39m] = use_pos_label\\n\\x1b[32m    135\\x1b[39m \\x1b[38;5;28;01mtry\\x1b[39;00m:\\n\\x1b[32m--> \\x1b[39m\\x1b[32m136\\x1b[39m     score = \\x1b[43maverage_precision_score\\x1b[49m\\x1b[43m(\\x1b[49m\\x1b[43my_true\\x1b[49m\\x1b[43m,\\x1b[49m\\x1b[43m \\x1b[49m\\x1b[43my_proba\\x1b[49m\\x1b[43m,\\x1b[49m\\x1b[43m \\x1b[49m\\x1b[43m*\\x1b[49m\\x1b[43m*\\x1b[49m\\x1b[43mkwargs\\x1b[49m\\x1b[43m)\\x1b[49m\\n\\x1b[32m    137\\x1b[39m \\x1b[38;5;28;01mexcept\\x1b[39;00m \\x1b[38;5;167;01mValueError\\x1b[39;00m:\\n\\x1b[32m    138\\x1b[39m     score = np.nan\\n\", '\\x1b[36mFile \\x1b[39m\\x1b[32m~/miniforge3/envs/ag/lib/python3.11/site-packages/sklearn/utils/_param_validation.py:216\\x1b[39m, in \\x1b[36mvalidate_params.<locals>.decorator.<locals>.wrapper\\x1b[39m\\x1b[34m(*args, **kwargs)\\x1b[39m\\n\\x1b[32m    210\\x1b[39m \\x1b[38;5;28;01mtry\\x1b[39;00m:\\n\\x1b[32m    211\\x1b[39m     \\x1b[38;5;28;01mwith\\x1b[39;00m config_context(\\n\\x1b[32m    212\\x1b[39m         skip_parameter_validation=(\\n\\x1b[32m    213\\x1b[39m             prefer_skip_nested_validation \\x1b[38;5;129;01mor\\x1b[39;00m global_skip_validation\\n\\x1b[32m    214\\x1b[39m         )\\n\\x1b[32m    215\\x1b[39m     ):\\n\\x1b[32m--> \\x1b[39m\\x1b[32m216\\x1b[39m         \\x1b[38;5;28;01mreturn\\x1b[39;00m \\x1b[43mfunc\\x1b[49m\\x1b[43m(\\x1b[49m\\x1b[43m*\\x1b[49m\\x1b[43margs\\x1b[49m\\x1b[43m,\\x1b[49m\\x1b[43m \\x1b[49m\\x1b[43m*\\x1b[49m\\x1b[43m*\\x1b[49m\\x1b[43mkwargs\\x1b[49m\\x1b[43m)\\x1b[49m\\n\\x1b[32m    217\\x1b[39m \\x1b[38;5;28;01mexcept\\x1b[39;00m InvalidParameterError \\x1b[38;5;28;01mas\\x1b[39;00m e:\\n\\x1b[32m    218\\x1b[39m     \\x1b[38;5;66;03m# When the function is just a wrapper around an estimator, we allow\\x1b[39;00m\\n\\x1b[32m    219\\x1b[39m     \\x1b[38;5;66;03m# the function to delegate validation to the estimator, but we replace\\x1b[39;00m\\n\\x1b[32m    220\\x1b[39m     \\x1b[38;5;66;03m# the name of the estimator by the name of the function in the error\\x1b[39;00m\\n\\x1b[32m    221\\x1b[39m     \\x1b[38;5;66;03m# message to avoid confusion.\\x1b[39;00m\\n\\x1b[32m    222\\x1b[39m     msg = re.sub(\\n\\x1b[32m    223\\x1b[39m         \\x1b[33mr\\x1b[39m\\x1b[33m\"\\x1b[39m\\x1b[33mparameter of \\x1b[39m\\x1b[33m\\\\\\x1b[39m\\x1b[33mw+ must be\\x1b[39m\\x1b[33m\"\\x1b[39m,\\n\\x1b[32m    224\\x1b[39m         \\x1b[33mf\\x1b[39m\\x1b[33m\"\\x1b[39m\\x1b[33mparameter of \\x1b[39m\\x1b[38;5;132;01m{\\x1b[39;00mfunc.\\x1b[34m__qualname__\\x1b[39m\\x1b[38;5;132;01m}\\x1b[39;00m\\x1b[33m must be\\x1b[39m\\x1b[33m\"\\x1b[39m,\\n\\x1b[32m    225\\x1b[39m         \\x1b[38;5;28mstr\\x1b[39m(e),\\n\\x1b[32m    226\\x1b[39m     )\\n', '\\x1b[36mFile \\x1b[39m\\x1b[32m~/miniforge3/envs/ag/lib/python3.11/site-packages/sklearn/metrics/_ranking.py:263\\x1b[39m, in \\x1b[36maverage_precision_score\\x1b[39m\\x1b[34m(y_true, y_score, average, pos_label, sample_weight)\\x1b[39m\\n\\x1b[32m    258\\x1b[39m     y_true = label_binarize(y_true, classes=present_labels)\\n\\x1b[32m    260\\x1b[39m average_precision = partial(\\n\\x1b[32m    261\\x1b[39m     _binary_uninterpolated_average_precision, pos_label=pos_label\\n\\x1b[32m    262\\x1b[39m )\\n\\x1b[32m--> \\x1b[39m\\x1b[32m263\\x1b[39m \\x1b[38;5;28;01mreturn\\x1b[39;00m \\x1b[43m_average_binary_score\\x1b[49m\\x1b[43m(\\x1b[49m\\n\\x1b[32m    264\\x1b[39m \\x1b[43m    \\x1b[49m\\x1b[43maverage_precision\\x1b[49m\\x1b[43m,\\x1b[49m\\x1b[43m \\x1b[49m\\x1b[43my_true\\x1b[49m\\x1b[43m,\\x1b[49m\\x1b[43m \\x1b[49m\\x1b[43my_score\\x1b[49m\\x1b[43m,\\x1b[49m\\x1b[43m \\x1b[49m\\x1b[43maverage\\x1b[49m\\x1b[43m,\\x1b[49m\\x1b[43m \\x1b[49m\\x1b[43msample_weight\\x1b[49m\\x1b[43m=\\x1b[49m\\x1b[43msample_weight\\x1b[49m\\n\\x1b[32m    265\\x1b[39m \\x1b[43m\\x1b[49m\\x1b[43m)\\x1b[49m\\n', '\\x1b[36mFile \\x1b[39m\\x1b[32m~/miniforge3/envs/ag/lib/python3.11/site-packages/sklearn/metrics/_base.py:110\\x1b[39m, in \\x1b[36m_average_binary_score\\x1b[39m\\x1b[34m(binary_metric, y_true, y_score, average, sample_weight)\\x1b[39m\\n\\x1b[32m    108\\x1b[39m score = np.zeros((n_classes,))\\n\\x1b[32m    109\\x1b[39m \\x1b[38;5;28;01mfor\\x1b[39;00m c \\x1b[38;5;129;01min\\x1b[39;00m \\x1b[38;5;28mrange\\x1b[39m(n_classes):\\n\\x1b[32m--> \\x1b[39m\\x1b[32m110\\x1b[39m     y_true_c = \\x1b[43my_true\\x1b[49m\\x1b[43m.\\x1b[49m\\x1b[43mtake\\x1b[49m\\x1b[43m(\\x1b[49m\\x1b[43m[\\x1b[49m\\x1b[43mc\\x1b[49m\\x1b[43m]\\x1b[49m\\x1b[43m,\\x1b[49m\\x1b[43m \\x1b[49m\\x1b[43maxis\\x1b[49m\\x1b[43m=\\x1b[49m\\x1b[43mnot_average_axis\\x1b[49m\\x1b[43m)\\x1b[49m.ravel()\\n\\x1b[32m    111\\x1b[39m     y_score_c = y_score.take([c], axis=not_average_axis).ravel()\\n\\x1b[32m    112\\x1b[39m     score[c] = binary_metric(y_true_c, y_score_c, sample_weight=score_weight)\\n', '\\x1b[31mIndexError\\x1b[39m: index 21 is out of bounds for axis 1 with size 21']),\n",
      "    'ToN_IoT_IoT_Garage_Door_Multiclass': PapermillExecutionError(2, 3, 'import json\\nimport pandas as pd\\n\\npd.set_option(\"display.max_rows\", None)\\npd.set_option(\"display.max_columns\", None)\\n\\n# Step 1: Load parquet and metadata\\ndf = pd.read_parquet(f\\'{BASE_FILENAME}.parquet\\')#.dropna()\\n\\nwith open(f\\'{BASE_FILENAME}.json\\', \\'r\\', encoding=\\'utf-8\\') as f:\\n    metadata = json.load(f)\\n\\n# Step 2: Apply dtypes from metadata to df\\nfor col, dtype in metadata[\"dtypes\"].items():\\n    df[col] = df[col].astype(dtype)\\n\\n# Step 3: Split the data into 80% train (for CV) and 20% test (holdout)\\nfrom autogluon.tabular import TabularDataset\\nfrom sklearn.model_selection import train_test_split\\n\\ntrain_df, test_df = train_test_split(df, test_size=TEST_SIZE, random_state=RANDOM_STATE, stratify=df[TARGET_COL])\\n\\ntrain_data, test_data = TabularDataset(train_df), TabularDataset(test_df)\\n\\n# Step 4: Print dtypes\\nprint(f\\'{\"column\":<40}\\', f\\'{\"metadata\":<20}\\', f\\'{\"train_data\":<20}\\', f\\'{\"test_data\":<20}\\')\\nfor col in df.columns:\\n    print(f\\'{col:<40}\\', f\\'{str(metadata[\"dtypes\"][col]):<20}\\', f\\'{str(train_data[col].dtype):<20}\\', f\\'{str(test_data[col].dtype):<20}\\')', 'ValueError', 'The test_size = 4 should be greater or equal to the number of classes = 8', ['\\x1b[31m---------------------------------------------------------------------------\\x1b[39m', '\\x1b[31mValueError\\x1b[39m                                Traceback (most recent call last)', '\\x1b[36mCell\\x1b[39m\\x1b[36m \\x1b[39m\\x1b[32mIn[3]\\x1b[39m\\x1b[32m, line 21\\x1b[39m\\n\\x1b[32m     18\\x1b[39m \\x1b[38;5;28;01mfrom\\x1b[39;00m\\x1b[38;5;250m \\x1b[39m\\x1b[34;01mautogluon\\x1b[39;00m\\x1b[34;01m.\\x1b[39;00m\\x1b[34;01mtabular\\x1b[39;00m\\x1b[38;5;250m \\x1b[39m\\x1b[38;5;28;01mimport\\x1b[39;00m TabularDataset\\n\\x1b[32m     19\\x1b[39m \\x1b[38;5;28;01mfrom\\x1b[39;00m\\x1b[38;5;250m \\x1b[39m\\x1b[34;01msklearn\\x1b[39;00m\\x1b[34;01m.\\x1b[39;00m\\x1b[34;01mmodel_selection\\x1b[39;00m\\x1b[38;5;250m \\x1b[39m\\x1b[38;5;28;01mimport\\x1b[39;00m train_test_split\\n\\x1b[32m---> \\x1b[39m\\x1b[32m21\\x1b[39m train_df, test_df = \\x1b[43mtrain_test_split\\x1b[49m\\x1b[43m(\\x1b[49m\\x1b[43mdf\\x1b[49m\\x1b[43m,\\x1b[49m\\x1b[43m \\x1b[49m\\x1b[43mtest_size\\x1b[49m\\x1b[43m=\\x1b[49m\\x1b[43mTEST_SIZE\\x1b[49m\\x1b[43m,\\x1b[49m\\x1b[43m \\x1b[49m\\x1b[43mrandom_state\\x1b[49m\\x1b[43m=\\x1b[49m\\x1b[43mRANDOM_STATE\\x1b[49m\\x1b[43m,\\x1b[49m\\x1b[43m \\x1b[49m\\x1b[43mstratify\\x1b[49m\\x1b[43m=\\x1b[49m\\x1b[43mdf\\x1b[49m\\x1b[43m[\\x1b[49m\\x1b[43mTARGET_COL\\x1b[49m\\x1b[43m]\\x1b[49m\\x1b[43m)\\x1b[49m\\n\\x1b[32m     23\\x1b[39m train_data, test_data = TabularDataset(train_df), TabularDataset(test_df)\\n\\x1b[32m     25\\x1b[39m \\x1b[38;5;66;03m# Step 4: Print dtypes\\x1b[39;00m\\n', '\\x1b[36mFile \\x1b[39m\\x1b[32m~/miniforge3/envs/ag/lib/python3.11/site-packages/sklearn/utils/_param_validation.py:216\\x1b[39m, in \\x1b[36mvalidate_params.<locals>.decorator.<locals>.wrapper\\x1b[39m\\x1b[34m(*args, **kwargs)\\x1b[39m\\n\\x1b[32m    210\\x1b[39m \\x1b[38;5;28;01mtry\\x1b[39;00m:\\n\\x1b[32m    211\\x1b[39m     \\x1b[38;5;28;01mwith\\x1b[39;00m config_context(\\n\\x1b[32m    212\\x1b[39m         skip_parameter_validation=(\\n\\x1b[32m    213\\x1b[39m             prefer_skip_nested_validation \\x1b[38;5;129;01mor\\x1b[39;00m global_skip_validation\\n\\x1b[32m    214\\x1b[39m         )\\n\\x1b[32m    215\\x1b[39m     ):\\n\\x1b[32m--> \\x1b[39m\\x1b[32m216\\x1b[39m         \\x1b[38;5;28;01mreturn\\x1b[39;00m \\x1b[43mfunc\\x1b[49m\\x1b[43m(\\x1b[49m\\x1b[43m*\\x1b[49m\\x1b[43margs\\x1b[49m\\x1b[43m,\\x1b[49m\\x1b[43m \\x1b[49m\\x1b[43m*\\x1b[49m\\x1b[43m*\\x1b[49m\\x1b[43mkwargs\\x1b[49m\\x1b[43m)\\x1b[49m\\n\\x1b[32m    217\\x1b[39m \\x1b[38;5;28;01mexcept\\x1b[39;00m InvalidParameterError \\x1b[38;5;28;01mas\\x1b[39;00m e:\\n\\x1b[32m    218\\x1b[39m     \\x1b[38;5;66;03m# When the function is just a wrapper around an estimator, we allow\\x1b[39;00m\\n\\x1b[32m    219\\x1b[39m     \\x1b[38;5;66;03m# the function to delegate validation to the estimator, but we replace\\x1b[39;00m\\n\\x1b[32m    220\\x1b[39m     \\x1b[38;5;66;03m# the name of the estimator by the name of the function in the error\\x1b[39;00m\\n\\x1b[32m    221\\x1b[39m     \\x1b[38;5;66;03m# message to avoid confusion.\\x1b[39;00m\\n\\x1b[32m    222\\x1b[39m     msg = re.sub(\\n\\x1b[32m    223\\x1b[39m         \\x1b[33mr\\x1b[39m\\x1b[33m\"\\x1b[39m\\x1b[33mparameter of \\x1b[39m\\x1b[33m\\\\\\x1b[39m\\x1b[33mw+ must be\\x1b[39m\\x1b[33m\"\\x1b[39m,\\n\\x1b[32m    224\\x1b[39m         \\x1b[33mf\\x1b[39m\\x1b[33m\"\\x1b[39m\\x1b[33mparameter of \\x1b[39m\\x1b[38;5;132;01m{\\x1b[39;00mfunc.\\x1b[34m__qualname__\\x1b[39m\\x1b[38;5;132;01m}\\x1b[39;00m\\x1b[33m must be\\x1b[39m\\x1b[33m\"\\x1b[39m,\\n\\x1b[32m    225\\x1b[39m         \\x1b[38;5;28mstr\\x1b[39m(e),\\n\\x1b[32m    226\\x1b[39m     )\\n', '\\x1b[36mFile \\x1b[39m\\x1b[32m~/miniforge3/envs/ag/lib/python3.11/site-packages/sklearn/model_selection/_split.py:2872\\x1b[39m, in \\x1b[36mtrain_test_split\\x1b[39m\\x1b[34m(test_size, train_size, random_state, shuffle, stratify, *arrays)\\x1b[39m\\n\\x1b[32m   2868\\x1b[39m         CVClass = ShuffleSplit\\n\\x1b[32m   2870\\x1b[39m     cv = CVClass(test_size=n_test, train_size=n_train, random_state=random_state)\\n\\x1b[32m-> \\x1b[39m\\x1b[32m2872\\x1b[39m     train, test = \\x1b[38;5;28;43mnext\\x1b[39;49m\\x1b[43m(\\x1b[49m\\x1b[43mcv\\x1b[49m\\x1b[43m.\\x1b[49m\\x1b[43msplit\\x1b[49m\\x1b[43m(\\x1b[49m\\x1b[43mX\\x1b[49m\\x1b[43m=\\x1b[49m\\x1b[43marrays\\x1b[49m\\x1b[43m[\\x1b[49m\\x1b[32;43m0\\x1b[39;49m\\x1b[43m]\\x1b[49m\\x1b[43m,\\x1b[49m\\x1b[43m \\x1b[49m\\x1b[43my\\x1b[49m\\x1b[43m=\\x1b[49m\\x1b[43mstratify\\x1b[49m\\x1b[43m)\\x1b[49m\\x1b[43m)\\x1b[49m\\n\\x1b[32m   2874\\x1b[39m train, test = ensure_common_namespace_device(arrays[\\x1b[32m0\\x1b[39m], train, test)\\n\\x1b[32m   2876\\x1b[39m \\x1b[38;5;28;01mreturn\\x1b[39;00m \\x1b[38;5;28mlist\\x1b[39m(\\n\\x1b[32m   2877\\x1b[39m     chain.from_iterable(\\n\\x1b[32m   2878\\x1b[39m         (_safe_indexing(a, train), _safe_indexing(a, test)) \\x1b[38;5;28;01mfor\\x1b[39;00m a \\x1b[38;5;129;01min\\x1b[39;00m arrays\\n\\x1b[32m   2879\\x1b[39m     )\\n\\x1b[32m   2880\\x1b[39m )\\n', '\\x1b[36mFile \\x1b[39m\\x1b[32m~/miniforge3/envs/ag/lib/python3.11/site-packages/sklearn/model_selection/_split.py:1909\\x1b[39m, in \\x1b[36mBaseShuffleSplit.split\\x1b[39m\\x1b[34m(self, X, y, groups)\\x1b[39m\\n\\x1b[32m   1879\\x1b[39m \\x1b[38;5;250m\\x1b[39m\\x1b[33;03m\"\"\"Generate indices to split data into training and test set.\\x1b[39;00m\\n\\x1b[32m   1880\\x1b[39m \\n\\x1b[32m   1881\\x1b[39m \\x1b[33;03mParameters\\x1b[39;00m\\n\\x1b[32m   (...)\\x1b[39m\\x1b[32m   1906\\x1b[39m \\x1b[33;03mto an integer.\\x1b[39;00m\\n\\x1b[32m   1907\\x1b[39m \\x1b[33;03m\"\"\"\\x1b[39;00m\\n\\x1b[32m   1908\\x1b[39m X, y, groups = indexable(X, y, groups)\\n\\x1b[32m-> \\x1b[39m\\x1b[32m1909\\x1b[39m \\x1b[43m\\x1b[49m\\x1b[38;5;28;43;01mfor\\x1b[39;49;00m\\x1b[43m \\x1b[49m\\x1b[43mtrain\\x1b[49m\\x1b[43m,\\x1b[49m\\x1b[43m \\x1b[49m\\x1b[43mtest\\x1b[49m\\x1b[43m \\x1b[49m\\x1b[38;5;129;43;01min\\x1b[39;49;00m\\x1b[43m \\x1b[49m\\x1b[38;5;28;43mself\\x1b[39;49m\\x1b[43m.\\x1b[49m\\x1b[43m_iter_indices\\x1b[49m\\x1b[43m(\\x1b[49m\\x1b[43mX\\x1b[49m\\x1b[43m,\\x1b[49m\\x1b[43m \\x1b[49m\\x1b[43my\\x1b[49m\\x1b[43m,\\x1b[49m\\x1b[43m \\x1b[49m\\x1b[43mgroups\\x1b[49m\\x1b[43m)\\x1b[49m\\x1b[43m:\\x1b[49m\\n\\x1b[32m   1910\\x1b[39m \\x1b[43m    \\x1b[49m\\x1b[38;5;28;43;01myield\\x1b[39;49;00m\\x1b[43m \\x1b[49m\\x1b[43mtrain\\x1b[49m\\x1b[43m,\\x1b[49m\\x1b[43m \\x1b[49m\\x1b[43mtest\\x1b[49m\\n', '\\x1b[36mFile \\x1b[39m\\x1b[32m~/miniforge3/envs/ag/lib/python3.11/site-packages/sklearn/model_selection/_split.py:2331\\x1b[39m, in \\x1b[36mStratifiedShuffleSplit._iter_indices\\x1b[39m\\x1b[34m(self, X, y, groups)\\x1b[39m\\n\\x1b[32m   2326\\x1b[39m     \\x1b[38;5;28;01mraise\\x1b[39;00m \\x1b[38;5;167;01mValueError\\x1b[39;00m(\\n\\x1b[32m   2327\\x1b[39m         \\x1b[33m\"\\x1b[39m\\x1b[33mThe train_size = \\x1b[39m\\x1b[38;5;132;01m%d\\x1b[39;00m\\x1b[33m should be greater or \\x1b[39m\\x1b[33m\"\\x1b[39m\\n\\x1b[32m   2328\\x1b[39m         \\x1b[33m\"\\x1b[39m\\x1b[33mequal to the number of classes = \\x1b[39m\\x1b[38;5;132;01m%d\\x1b[39;00m\\x1b[33m\"\\x1b[39m % (n_train, n_classes)\\n\\x1b[32m   2329\\x1b[39m     )\\n\\x1b[32m   2330\\x1b[39m \\x1b[38;5;28;01mif\\x1b[39;00m n_test < n_classes:\\n\\x1b[32m-> \\x1b[39m\\x1b[32m2331\\x1b[39m     \\x1b[38;5;28;01mraise\\x1b[39;00m \\x1b[38;5;167;01mValueError\\x1b[39;00m(\\n\\x1b[32m   2332\\x1b[39m         \\x1b[33m\"\\x1b[39m\\x1b[33mThe test_size = \\x1b[39m\\x1b[38;5;132;01m%d\\x1b[39;00m\\x1b[33m should be greater or \\x1b[39m\\x1b[33m\"\\x1b[39m\\n\\x1b[32m   2333\\x1b[39m         \\x1b[33m\"\\x1b[39m\\x1b[33mequal to the number of classes = \\x1b[39m\\x1b[38;5;132;01m%d\\x1b[39;00m\\x1b[33m\"\\x1b[39m % (n_test, n_classes)\\n\\x1b[32m   2334\\x1b[39m     )\\n\\x1b[32m   2336\\x1b[39m \\x1b[38;5;66;03m# Find the sorted list of instances for each class:\\x1b[39;00m\\n\\x1b[32m   2337\\x1b[39m \\x1b[38;5;66;03m# (np.unique above performs a sort, so code is O(n logn) already)\\x1b[39;00m\\n\\x1b[32m   2338\\x1b[39m class_indices = np.split(\\n\\x1b[32m   2339\\x1b[39m     np.argsort(y_indices, kind=\\x1b[33m\"\\x1b[39m\\x1b[33mmergesort\\x1b[39m\\x1b[33m\"\\x1b[39m), np.cumsum(class_counts)[:-\\x1b[32m1\\x1b[39m]\\n\\x1b[32m   2340\\x1b[39m )\\n', '\\x1b[31mValueError\\x1b[39m: The test_size = 4 should be greater or equal to the number of classes = 8']),\n",
      "    'ToN_IoT_IoT_Motion_Light_Binary': PapermillExecutionError(2, 3, 'import json\\nimport pandas as pd\\n\\npd.set_option(\"display.max_rows\", None)\\npd.set_option(\"display.max_columns\", None)\\n\\n# Step 1: Load parquet and metadata\\ndf = pd.read_parquet(f\\'{BASE_FILENAME}.parquet\\')#.dropna()\\n\\nwith open(f\\'{BASE_FILENAME}.json\\', \\'r\\', encoding=\\'utf-8\\') as f:\\n    metadata = json.load(f)\\n\\n# Step 2: Apply dtypes from metadata to df\\nfor col, dtype in metadata[\"dtypes\"].items():\\n    df[col] = df[col].astype(dtype)\\n\\n# Step 3: Split the data into 80% train (for CV) and 20% test (holdout)\\nfrom autogluon.tabular import TabularDataset\\nfrom sklearn.model_selection import train_test_split\\n\\ntrain_df, test_df = train_test_split(df, test_size=TEST_SIZE, random_state=RANDOM_STATE, stratify=df[TARGET_COL])\\n\\ntrain_data, test_data = TabularDataset(train_df), TabularDataset(test_df)\\n\\n# Step 4: Print dtypes\\nprint(f\\'{\"column\":<40}\\', f\\'{\"metadata\":<20}\\', f\\'{\"train_data\":<20}\\', f\\'{\"test_data\":<20}\\')\\nfor col in df.columns:\\n    print(f\\'{col:<40}\\', f\\'{str(metadata[\"dtypes\"][col]):<20}\\', f\\'{str(train_data[col].dtype):<20}\\', f\\'{str(test_data[col].dtype):<20}\\')', 'ValueError', 'The test_size = 1 should be greater or equal to the number of classes = 2', ['\\x1b[31m---------------------------------------------------------------------------\\x1b[39m', '\\x1b[31mValueError\\x1b[39m                                Traceback (most recent call last)', '\\x1b[36mCell\\x1b[39m\\x1b[36m \\x1b[39m\\x1b[32mIn[3]\\x1b[39m\\x1b[32m, line 21\\x1b[39m\\n\\x1b[32m     18\\x1b[39m \\x1b[38;5;28;01mfrom\\x1b[39;00m\\x1b[38;5;250m \\x1b[39m\\x1b[34;01mautogluon\\x1b[39;00m\\x1b[34;01m.\\x1b[39;00m\\x1b[34;01mtabular\\x1b[39;00m\\x1b[38;5;250m \\x1b[39m\\x1b[38;5;28;01mimport\\x1b[39;00m TabularDataset\\n\\x1b[32m     19\\x1b[39m \\x1b[38;5;28;01mfrom\\x1b[39;00m\\x1b[38;5;250m \\x1b[39m\\x1b[34;01msklearn\\x1b[39;00m\\x1b[34;01m.\\x1b[39;00m\\x1b[34;01mmodel_selection\\x1b[39;00m\\x1b[38;5;250m \\x1b[39m\\x1b[38;5;28;01mimport\\x1b[39;00m train_test_split\\n\\x1b[32m---> \\x1b[39m\\x1b[32m21\\x1b[39m train_df, test_df = \\x1b[43mtrain_test_split\\x1b[49m\\x1b[43m(\\x1b[49m\\x1b[43mdf\\x1b[49m\\x1b[43m,\\x1b[49m\\x1b[43m \\x1b[49m\\x1b[43mtest_size\\x1b[49m\\x1b[43m=\\x1b[49m\\x1b[43mTEST_SIZE\\x1b[49m\\x1b[43m,\\x1b[49m\\x1b[43m \\x1b[49m\\x1b[43mrandom_state\\x1b[49m\\x1b[43m=\\x1b[49m\\x1b[43mRANDOM_STATE\\x1b[49m\\x1b[43m,\\x1b[49m\\x1b[43m \\x1b[49m\\x1b[43mstratify\\x1b[49m\\x1b[43m=\\x1b[49m\\x1b[43mdf\\x1b[49m\\x1b[43m[\\x1b[49m\\x1b[43mTARGET_COL\\x1b[49m\\x1b[43m]\\x1b[49m\\x1b[43m)\\x1b[49m\\n\\x1b[32m     23\\x1b[39m train_data, test_data = TabularDataset(train_df), TabularDataset(test_df)\\n\\x1b[32m     25\\x1b[39m \\x1b[38;5;66;03m# Step 4: Print dtypes\\x1b[39;00m\\n', '\\x1b[36mFile \\x1b[39m\\x1b[32m~/miniforge3/envs/ag/lib/python3.11/site-packages/sklearn/utils/_param_validation.py:216\\x1b[39m, in \\x1b[36mvalidate_params.<locals>.decorator.<locals>.wrapper\\x1b[39m\\x1b[34m(*args, **kwargs)\\x1b[39m\\n\\x1b[32m    210\\x1b[39m \\x1b[38;5;28;01mtry\\x1b[39;00m:\\n\\x1b[32m    211\\x1b[39m     \\x1b[38;5;28;01mwith\\x1b[39;00m config_context(\\n\\x1b[32m    212\\x1b[39m         skip_parameter_validation=(\\n\\x1b[32m    213\\x1b[39m             prefer_skip_nested_validation \\x1b[38;5;129;01mor\\x1b[39;00m global_skip_validation\\n\\x1b[32m    214\\x1b[39m         )\\n\\x1b[32m    215\\x1b[39m     ):\\n\\x1b[32m--> \\x1b[39m\\x1b[32m216\\x1b[39m         \\x1b[38;5;28;01mreturn\\x1b[39;00m \\x1b[43mfunc\\x1b[49m\\x1b[43m(\\x1b[49m\\x1b[43m*\\x1b[49m\\x1b[43margs\\x1b[49m\\x1b[43m,\\x1b[49m\\x1b[43m \\x1b[49m\\x1b[43m*\\x1b[49m\\x1b[43m*\\x1b[49m\\x1b[43mkwargs\\x1b[49m\\x1b[43m)\\x1b[49m\\n\\x1b[32m    217\\x1b[39m \\x1b[38;5;28;01mexcept\\x1b[39;00m InvalidParameterError \\x1b[38;5;28;01mas\\x1b[39;00m e:\\n\\x1b[32m    218\\x1b[39m     \\x1b[38;5;66;03m# When the function is just a wrapper around an estimator, we allow\\x1b[39;00m\\n\\x1b[32m    219\\x1b[39m     \\x1b[38;5;66;03m# the function to delegate validation to the estimator, but we replace\\x1b[39;00m\\n\\x1b[32m    220\\x1b[39m     \\x1b[38;5;66;03m# the name of the estimator by the name of the function in the error\\x1b[39;00m\\n\\x1b[32m    221\\x1b[39m     \\x1b[38;5;66;03m# message to avoid confusion.\\x1b[39;00m\\n\\x1b[32m    222\\x1b[39m     msg = re.sub(\\n\\x1b[32m    223\\x1b[39m         \\x1b[33mr\\x1b[39m\\x1b[33m\"\\x1b[39m\\x1b[33mparameter of \\x1b[39m\\x1b[33m\\\\\\x1b[39m\\x1b[33mw+ must be\\x1b[39m\\x1b[33m\"\\x1b[39m,\\n\\x1b[32m    224\\x1b[39m         \\x1b[33mf\\x1b[39m\\x1b[33m\"\\x1b[39m\\x1b[33mparameter of \\x1b[39m\\x1b[38;5;132;01m{\\x1b[39;00mfunc.\\x1b[34m__qualname__\\x1b[39m\\x1b[38;5;132;01m}\\x1b[39;00m\\x1b[33m must be\\x1b[39m\\x1b[33m\"\\x1b[39m,\\n\\x1b[32m    225\\x1b[39m         \\x1b[38;5;28mstr\\x1b[39m(e),\\n\\x1b[32m    226\\x1b[39m     )\\n', '\\x1b[36mFile \\x1b[39m\\x1b[32m~/miniforge3/envs/ag/lib/python3.11/site-packages/sklearn/model_selection/_split.py:2872\\x1b[39m, in \\x1b[36mtrain_test_split\\x1b[39m\\x1b[34m(test_size, train_size, random_state, shuffle, stratify, *arrays)\\x1b[39m\\n\\x1b[32m   2868\\x1b[39m         CVClass = ShuffleSplit\\n\\x1b[32m   2870\\x1b[39m     cv = CVClass(test_size=n_test, train_size=n_train, random_state=random_state)\\n\\x1b[32m-> \\x1b[39m\\x1b[32m2872\\x1b[39m     train, test = \\x1b[38;5;28;43mnext\\x1b[39;49m\\x1b[43m(\\x1b[49m\\x1b[43mcv\\x1b[49m\\x1b[43m.\\x1b[49m\\x1b[43msplit\\x1b[49m\\x1b[43m(\\x1b[49m\\x1b[43mX\\x1b[49m\\x1b[43m=\\x1b[49m\\x1b[43marrays\\x1b[49m\\x1b[43m[\\x1b[49m\\x1b[32;43m0\\x1b[39;49m\\x1b[43m]\\x1b[49m\\x1b[43m,\\x1b[49m\\x1b[43m \\x1b[49m\\x1b[43my\\x1b[49m\\x1b[43m=\\x1b[49m\\x1b[43mstratify\\x1b[49m\\x1b[43m)\\x1b[49m\\x1b[43m)\\x1b[49m\\n\\x1b[32m   2874\\x1b[39m train, test = ensure_common_namespace_device(arrays[\\x1b[32m0\\x1b[39m], train, test)\\n\\x1b[32m   2876\\x1b[39m \\x1b[38;5;28;01mreturn\\x1b[39;00m \\x1b[38;5;28mlist\\x1b[39m(\\n\\x1b[32m   2877\\x1b[39m     chain.from_iterable(\\n\\x1b[32m   2878\\x1b[39m         (_safe_indexing(a, train), _safe_indexing(a, test)) \\x1b[38;5;28;01mfor\\x1b[39;00m a \\x1b[38;5;129;01min\\x1b[39;00m arrays\\n\\x1b[32m   2879\\x1b[39m     )\\n\\x1b[32m   2880\\x1b[39m )\\n', '\\x1b[36mFile \\x1b[39m\\x1b[32m~/miniforge3/envs/ag/lib/python3.11/site-packages/sklearn/model_selection/_split.py:1909\\x1b[39m, in \\x1b[36mBaseShuffleSplit.split\\x1b[39m\\x1b[34m(self, X, y, groups)\\x1b[39m\\n\\x1b[32m   1879\\x1b[39m \\x1b[38;5;250m\\x1b[39m\\x1b[33;03m\"\"\"Generate indices to split data into training and test set.\\x1b[39;00m\\n\\x1b[32m   1880\\x1b[39m \\n\\x1b[32m   1881\\x1b[39m \\x1b[33;03mParameters\\x1b[39;00m\\n\\x1b[32m   (...)\\x1b[39m\\x1b[32m   1906\\x1b[39m \\x1b[33;03mto an integer.\\x1b[39;00m\\n\\x1b[32m   1907\\x1b[39m \\x1b[33;03m\"\"\"\\x1b[39;00m\\n\\x1b[32m   1908\\x1b[39m X, y, groups = indexable(X, y, groups)\\n\\x1b[32m-> \\x1b[39m\\x1b[32m1909\\x1b[39m \\x1b[43m\\x1b[49m\\x1b[38;5;28;43;01mfor\\x1b[39;49;00m\\x1b[43m \\x1b[49m\\x1b[43mtrain\\x1b[49m\\x1b[43m,\\x1b[49m\\x1b[43m \\x1b[49m\\x1b[43mtest\\x1b[49m\\x1b[43m \\x1b[49m\\x1b[38;5;129;43;01min\\x1b[39;49;00m\\x1b[43m \\x1b[49m\\x1b[38;5;28;43mself\\x1b[39;49m\\x1b[43m.\\x1b[49m\\x1b[43m_iter_indices\\x1b[49m\\x1b[43m(\\x1b[49m\\x1b[43mX\\x1b[49m\\x1b[43m,\\x1b[49m\\x1b[43m \\x1b[49m\\x1b[43my\\x1b[49m\\x1b[43m,\\x1b[49m\\x1b[43m \\x1b[49m\\x1b[43mgroups\\x1b[49m\\x1b[43m)\\x1b[49m\\x1b[43m:\\x1b[49m\\n\\x1b[32m   1910\\x1b[39m \\x1b[43m    \\x1b[49m\\x1b[38;5;28;43;01myield\\x1b[39;49;00m\\x1b[43m \\x1b[49m\\x1b[43mtrain\\x1b[49m\\x1b[43m,\\x1b[49m\\x1b[43m \\x1b[49m\\x1b[43mtest\\x1b[49m\\n', '\\x1b[36mFile \\x1b[39m\\x1b[32m~/miniforge3/envs/ag/lib/python3.11/site-packages/sklearn/model_selection/_split.py:2331\\x1b[39m, in \\x1b[36mStratifiedShuffleSplit._iter_indices\\x1b[39m\\x1b[34m(self, X, y, groups)\\x1b[39m\\n\\x1b[32m   2326\\x1b[39m     \\x1b[38;5;28;01mraise\\x1b[39;00m \\x1b[38;5;167;01mValueError\\x1b[39;00m(\\n\\x1b[32m   2327\\x1b[39m         \\x1b[33m\"\\x1b[39m\\x1b[33mThe train_size = \\x1b[39m\\x1b[38;5;132;01m%d\\x1b[39;00m\\x1b[33m should be greater or \\x1b[39m\\x1b[33m\"\\x1b[39m\\n\\x1b[32m   2328\\x1b[39m         \\x1b[33m\"\\x1b[39m\\x1b[33mequal to the number of classes = \\x1b[39m\\x1b[38;5;132;01m%d\\x1b[39;00m\\x1b[33m\"\\x1b[39m % (n_train, n_classes)\\n\\x1b[32m   2329\\x1b[39m     )\\n\\x1b[32m   2330\\x1b[39m \\x1b[38;5;28;01mif\\x1b[39;00m n_test < n_classes:\\n\\x1b[32m-> \\x1b[39m\\x1b[32m2331\\x1b[39m     \\x1b[38;5;28;01mraise\\x1b[39;00m \\x1b[38;5;167;01mValueError\\x1b[39;00m(\\n\\x1b[32m   2332\\x1b[39m         \\x1b[33m\"\\x1b[39m\\x1b[33mThe test_size = \\x1b[39m\\x1b[38;5;132;01m%d\\x1b[39;00m\\x1b[33m should be greater or \\x1b[39m\\x1b[33m\"\\x1b[39m\\n\\x1b[32m   2333\\x1b[39m         \\x1b[33m\"\\x1b[39m\\x1b[33mequal to the number of classes = \\x1b[39m\\x1b[38;5;132;01m%d\\x1b[39;00m\\x1b[33m\"\\x1b[39m % (n_test, n_classes)\\n\\x1b[32m   2334\\x1b[39m     )\\n\\x1b[32m   2336\\x1b[39m \\x1b[38;5;66;03m# Find the sorted list of instances for each class:\\x1b[39;00m\\n\\x1b[32m   2337\\x1b[39m \\x1b[38;5;66;03m# (np.unique above performs a sort, so code is O(n logn) already)\\x1b[39;00m\\n\\x1b[32m   2338\\x1b[39m class_indices = np.split(\\n\\x1b[32m   2339\\x1b[39m     np.argsort(y_indices, kind=\\x1b[33m\"\\x1b[39m\\x1b[33mmergesort\\x1b[39m\\x1b[33m\"\\x1b[39m), np.cumsum(class_counts)[:-\\x1b[32m1\\x1b[39m]\\n\\x1b[32m   2340\\x1b[39m )\\n', '\\x1b[31mValueError\\x1b[39m: The test_size = 1 should be greater or equal to the number of classes = 2']),\n",
      "    'ToN_IoT_IoT_Motion_Light_Multiclass': PapermillExecutionError(2, 3, 'import json\\nimport pandas as pd\\n\\npd.set_option(\"display.max_rows\", None)\\npd.set_option(\"display.max_columns\", None)\\n\\n# Step 1: Load parquet and metadata\\ndf = pd.read_parquet(f\\'{BASE_FILENAME}.parquet\\')#.dropna()\\n\\nwith open(f\\'{BASE_FILENAME}.json\\', \\'r\\', encoding=\\'utf-8\\') as f:\\n    metadata = json.load(f)\\n\\n# Step 2: Apply dtypes from metadata to df\\nfor col, dtype in metadata[\"dtypes\"].items():\\n    df[col] = df[col].astype(dtype)\\n\\n# Step 3: Split the data into 80% train (for CV) and 20% test (holdout)\\nfrom autogluon.tabular import TabularDataset\\nfrom sklearn.model_selection import train_test_split\\n\\ntrain_df, test_df = train_test_split(df, test_size=TEST_SIZE, random_state=RANDOM_STATE, stratify=df[TARGET_COL])\\n\\ntrain_data, test_data = TabularDataset(train_df), TabularDataset(test_df)\\n\\n# Step 4: Print dtypes\\nprint(f\\'{\"column\":<40}\\', f\\'{\"metadata\":<20}\\', f\\'{\"train_data\":<20}\\', f\\'{\"test_data\":<20}\\')\\nfor col in df.columns:\\n    print(f\\'{col:<40}\\', f\\'{str(metadata[\"dtypes\"][col]):<20}\\', f\\'{str(train_data[col].dtype):<20}\\', f\\'{str(test_data[col].dtype):<20}\\')', 'ValueError', 'The test_size = 4 should be greater or equal to the number of classes = 8', ['\\x1b[31m---------------------------------------------------------------------------\\x1b[39m', '\\x1b[31mValueError\\x1b[39m                                Traceback (most recent call last)', '\\x1b[36mCell\\x1b[39m\\x1b[36m \\x1b[39m\\x1b[32mIn[3]\\x1b[39m\\x1b[32m, line 21\\x1b[39m\\n\\x1b[32m     18\\x1b[39m \\x1b[38;5;28;01mfrom\\x1b[39;00m\\x1b[38;5;250m \\x1b[39m\\x1b[34;01mautogluon\\x1b[39;00m\\x1b[34;01m.\\x1b[39;00m\\x1b[34;01mtabular\\x1b[39;00m\\x1b[38;5;250m \\x1b[39m\\x1b[38;5;28;01mimport\\x1b[39;00m TabularDataset\\n\\x1b[32m     19\\x1b[39m \\x1b[38;5;28;01mfrom\\x1b[39;00m\\x1b[38;5;250m \\x1b[39m\\x1b[34;01msklearn\\x1b[39;00m\\x1b[34;01m.\\x1b[39;00m\\x1b[34;01mmodel_selection\\x1b[39;00m\\x1b[38;5;250m \\x1b[39m\\x1b[38;5;28;01mimport\\x1b[39;00m train_test_split\\n\\x1b[32m---> \\x1b[39m\\x1b[32m21\\x1b[39m train_df, test_df = \\x1b[43mtrain_test_split\\x1b[49m\\x1b[43m(\\x1b[49m\\x1b[43mdf\\x1b[49m\\x1b[43m,\\x1b[49m\\x1b[43m \\x1b[49m\\x1b[43mtest_size\\x1b[49m\\x1b[43m=\\x1b[49m\\x1b[43mTEST_SIZE\\x1b[49m\\x1b[43m,\\x1b[49m\\x1b[43m \\x1b[49m\\x1b[43mrandom_state\\x1b[49m\\x1b[43m=\\x1b[49m\\x1b[43mRANDOM_STATE\\x1b[49m\\x1b[43m,\\x1b[49m\\x1b[43m \\x1b[49m\\x1b[43mstratify\\x1b[49m\\x1b[43m=\\x1b[49m\\x1b[43mdf\\x1b[49m\\x1b[43m[\\x1b[49m\\x1b[43mTARGET_COL\\x1b[49m\\x1b[43m]\\x1b[49m\\x1b[43m)\\x1b[49m\\n\\x1b[32m     23\\x1b[39m train_data, test_data = TabularDataset(train_df), TabularDataset(test_df)\\n\\x1b[32m     25\\x1b[39m \\x1b[38;5;66;03m# Step 4: Print dtypes\\x1b[39;00m\\n', '\\x1b[36mFile \\x1b[39m\\x1b[32m~/miniforge3/envs/ag/lib/python3.11/site-packages/sklearn/utils/_param_validation.py:216\\x1b[39m, in \\x1b[36mvalidate_params.<locals>.decorator.<locals>.wrapper\\x1b[39m\\x1b[34m(*args, **kwargs)\\x1b[39m\\n\\x1b[32m    210\\x1b[39m \\x1b[38;5;28;01mtry\\x1b[39;00m:\\n\\x1b[32m    211\\x1b[39m     \\x1b[38;5;28;01mwith\\x1b[39;00m config_context(\\n\\x1b[32m    212\\x1b[39m         skip_parameter_validation=(\\n\\x1b[32m    213\\x1b[39m             prefer_skip_nested_validation \\x1b[38;5;129;01mor\\x1b[39;00m global_skip_validation\\n\\x1b[32m    214\\x1b[39m         )\\n\\x1b[32m    215\\x1b[39m     ):\\n\\x1b[32m--> \\x1b[39m\\x1b[32m216\\x1b[39m         \\x1b[38;5;28;01mreturn\\x1b[39;00m \\x1b[43mfunc\\x1b[49m\\x1b[43m(\\x1b[49m\\x1b[43m*\\x1b[49m\\x1b[43margs\\x1b[49m\\x1b[43m,\\x1b[49m\\x1b[43m \\x1b[49m\\x1b[43m*\\x1b[49m\\x1b[43m*\\x1b[49m\\x1b[43mkwargs\\x1b[49m\\x1b[43m)\\x1b[49m\\n\\x1b[32m    217\\x1b[39m \\x1b[38;5;28;01mexcept\\x1b[39;00m InvalidParameterError \\x1b[38;5;28;01mas\\x1b[39;00m e:\\n\\x1b[32m    218\\x1b[39m     \\x1b[38;5;66;03m# When the function is just a wrapper around an estimator, we allow\\x1b[39;00m\\n\\x1b[32m    219\\x1b[39m     \\x1b[38;5;66;03m# the function to delegate validation to the estimator, but we replace\\x1b[39;00m\\n\\x1b[32m    220\\x1b[39m     \\x1b[38;5;66;03m# the name of the estimator by the name of the function in the error\\x1b[39;00m\\n\\x1b[32m    221\\x1b[39m     \\x1b[38;5;66;03m# message to avoid confusion.\\x1b[39;00m\\n\\x1b[32m    222\\x1b[39m     msg = re.sub(\\n\\x1b[32m    223\\x1b[39m         \\x1b[33mr\\x1b[39m\\x1b[33m\"\\x1b[39m\\x1b[33mparameter of \\x1b[39m\\x1b[33m\\\\\\x1b[39m\\x1b[33mw+ must be\\x1b[39m\\x1b[33m\"\\x1b[39m,\\n\\x1b[32m    224\\x1b[39m         \\x1b[33mf\\x1b[39m\\x1b[33m\"\\x1b[39m\\x1b[33mparameter of \\x1b[39m\\x1b[38;5;132;01m{\\x1b[39;00mfunc.\\x1b[34m__qualname__\\x1b[39m\\x1b[38;5;132;01m}\\x1b[39;00m\\x1b[33m must be\\x1b[39m\\x1b[33m\"\\x1b[39m,\\n\\x1b[32m    225\\x1b[39m         \\x1b[38;5;28mstr\\x1b[39m(e),\\n\\x1b[32m    226\\x1b[39m     )\\n', '\\x1b[36mFile \\x1b[39m\\x1b[32m~/miniforge3/envs/ag/lib/python3.11/site-packages/sklearn/model_selection/_split.py:2872\\x1b[39m, in \\x1b[36mtrain_test_split\\x1b[39m\\x1b[34m(test_size, train_size, random_state, shuffle, stratify, *arrays)\\x1b[39m\\n\\x1b[32m   2868\\x1b[39m         CVClass = ShuffleSplit\\n\\x1b[32m   2870\\x1b[39m     cv = CVClass(test_size=n_test, train_size=n_train, random_state=random_state)\\n\\x1b[32m-> \\x1b[39m\\x1b[32m2872\\x1b[39m     train, test = \\x1b[38;5;28;43mnext\\x1b[39;49m\\x1b[43m(\\x1b[49m\\x1b[43mcv\\x1b[49m\\x1b[43m.\\x1b[49m\\x1b[43msplit\\x1b[49m\\x1b[43m(\\x1b[49m\\x1b[43mX\\x1b[49m\\x1b[43m=\\x1b[49m\\x1b[43marrays\\x1b[49m\\x1b[43m[\\x1b[49m\\x1b[32;43m0\\x1b[39;49m\\x1b[43m]\\x1b[49m\\x1b[43m,\\x1b[49m\\x1b[43m \\x1b[49m\\x1b[43my\\x1b[49m\\x1b[43m=\\x1b[49m\\x1b[43mstratify\\x1b[49m\\x1b[43m)\\x1b[49m\\x1b[43m)\\x1b[49m\\n\\x1b[32m   2874\\x1b[39m train, test = ensure_common_namespace_device(arrays[\\x1b[32m0\\x1b[39m], train, test)\\n\\x1b[32m   2876\\x1b[39m \\x1b[38;5;28;01mreturn\\x1b[39;00m \\x1b[38;5;28mlist\\x1b[39m(\\n\\x1b[32m   2877\\x1b[39m     chain.from_iterable(\\n\\x1b[32m   2878\\x1b[39m         (_safe_indexing(a, train), _safe_indexing(a, test)) \\x1b[38;5;28;01mfor\\x1b[39;00m a \\x1b[38;5;129;01min\\x1b[39;00m arrays\\n\\x1b[32m   2879\\x1b[39m     )\\n\\x1b[32m   2880\\x1b[39m )\\n', '\\x1b[36mFile \\x1b[39m\\x1b[32m~/miniforge3/envs/ag/lib/python3.11/site-packages/sklearn/model_selection/_split.py:1909\\x1b[39m, in \\x1b[36mBaseShuffleSplit.split\\x1b[39m\\x1b[34m(self, X, y, groups)\\x1b[39m\\n\\x1b[32m   1879\\x1b[39m \\x1b[38;5;250m\\x1b[39m\\x1b[33;03m\"\"\"Generate indices to split data into training and test set.\\x1b[39;00m\\n\\x1b[32m   1880\\x1b[39m \\n\\x1b[32m   1881\\x1b[39m \\x1b[33;03mParameters\\x1b[39;00m\\n\\x1b[32m   (...)\\x1b[39m\\x1b[32m   1906\\x1b[39m \\x1b[33;03mto an integer.\\x1b[39;00m\\n\\x1b[32m   1907\\x1b[39m \\x1b[33;03m\"\"\"\\x1b[39;00m\\n\\x1b[32m   1908\\x1b[39m X, y, groups = indexable(X, y, groups)\\n\\x1b[32m-> \\x1b[39m\\x1b[32m1909\\x1b[39m \\x1b[43m\\x1b[49m\\x1b[38;5;28;43;01mfor\\x1b[39;49;00m\\x1b[43m \\x1b[49m\\x1b[43mtrain\\x1b[49m\\x1b[43m,\\x1b[49m\\x1b[43m \\x1b[49m\\x1b[43mtest\\x1b[49m\\x1b[43m \\x1b[49m\\x1b[38;5;129;43;01min\\x1b[39;49;00m\\x1b[43m \\x1b[49m\\x1b[38;5;28;43mself\\x1b[39;49m\\x1b[43m.\\x1b[49m\\x1b[43m_iter_indices\\x1b[49m\\x1b[43m(\\x1b[49m\\x1b[43mX\\x1b[49m\\x1b[43m,\\x1b[49m\\x1b[43m \\x1b[49m\\x1b[43my\\x1b[49m\\x1b[43m,\\x1b[49m\\x1b[43m \\x1b[49m\\x1b[43mgroups\\x1b[49m\\x1b[43m)\\x1b[49m\\x1b[43m:\\x1b[49m\\n\\x1b[32m   1910\\x1b[39m \\x1b[43m    \\x1b[49m\\x1b[38;5;28;43;01myield\\x1b[39;49;00m\\x1b[43m \\x1b[49m\\x1b[43mtrain\\x1b[49m\\x1b[43m,\\x1b[49m\\x1b[43m \\x1b[49m\\x1b[43mtest\\x1b[49m\\n', '\\x1b[36mFile \\x1b[39m\\x1b[32m~/miniforge3/envs/ag/lib/python3.11/site-packages/sklearn/model_selection/_split.py:2331\\x1b[39m, in \\x1b[36mStratifiedShuffleSplit._iter_indices\\x1b[39m\\x1b[34m(self, X, y, groups)\\x1b[39m\\n\\x1b[32m   2326\\x1b[39m     \\x1b[38;5;28;01mraise\\x1b[39;00m \\x1b[38;5;167;01mValueError\\x1b[39;00m(\\n\\x1b[32m   2327\\x1b[39m         \\x1b[33m\"\\x1b[39m\\x1b[33mThe train_size = \\x1b[39m\\x1b[38;5;132;01m%d\\x1b[39;00m\\x1b[33m should be greater or \\x1b[39m\\x1b[33m\"\\x1b[39m\\n\\x1b[32m   2328\\x1b[39m         \\x1b[33m\"\\x1b[39m\\x1b[33mequal to the number of classes = \\x1b[39m\\x1b[38;5;132;01m%d\\x1b[39;00m\\x1b[33m\"\\x1b[39m % (n_train, n_classes)\\n\\x1b[32m   2329\\x1b[39m     )\\n\\x1b[32m   2330\\x1b[39m \\x1b[38;5;28;01mif\\x1b[39;00m n_test < n_classes:\\n\\x1b[32m-> \\x1b[39m\\x1b[32m2331\\x1b[39m     \\x1b[38;5;28;01mraise\\x1b[39;00m \\x1b[38;5;167;01mValueError\\x1b[39;00m(\\n\\x1b[32m   2332\\x1b[39m         \\x1b[33m\"\\x1b[39m\\x1b[33mThe test_size = \\x1b[39m\\x1b[38;5;132;01m%d\\x1b[39;00m\\x1b[33m should be greater or \\x1b[39m\\x1b[33m\"\\x1b[39m\\n\\x1b[32m   2333\\x1b[39m         \\x1b[33m\"\\x1b[39m\\x1b[33mequal to the number of classes = \\x1b[39m\\x1b[38;5;132;01m%d\\x1b[39;00m\\x1b[33m\"\\x1b[39m % (n_test, n_classes)\\n\\x1b[32m   2334\\x1b[39m     )\\n\\x1b[32m   2336\\x1b[39m \\x1b[38;5;66;03m# Find the sorted list of instances for each class:\\x1b[39;00m\\n\\x1b[32m   2337\\x1b[39m \\x1b[38;5;66;03m# (np.unique above performs a sort, so code is O(n logn) already)\\x1b[39;00m\\n\\x1b[32m   2338\\x1b[39m class_indices = np.split(\\n\\x1b[32m   2339\\x1b[39m     np.argsort(y_indices, kind=\\x1b[33m\"\\x1b[39m\\x1b[33mmergesort\\x1b[39m\\x1b[33m\"\\x1b[39m), np.cumsum(class_counts)[:-\\x1b[32m1\\x1b[39m]\\n\\x1b[32m   2340\\x1b[39m )\\n', '\\x1b[31mValueError\\x1b[39m: The test_size = 4 should be greater or equal to the number of classes = 8'])}\n"
     ]
    }
   ],
   "source": [
    "from pprint import pprint\n",
    "\n",
    "pprint(errors, indent=4)"
   ]
  }
 ],
 "metadata": {
  "kernelspec": {
   "display_name": "Python 3 (ipykernel)",
   "language": "python",
   "name": "python3"
  },
  "language_info": {
   "codemirror_mode": {
    "name": "ipython",
    "version": 3
   },
   "file_extension": ".py",
   "mimetype": "text/x-python",
   "name": "python",
   "nbconvert_exporter": "python",
   "pygments_lexer": "ipython3",
   "version": "3.12.10"
  }
 },
 "nbformat": 4,
 "nbformat_minor": 5
}
