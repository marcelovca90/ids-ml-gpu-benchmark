{
 "cells": [
  {
   "cell_type": "code",
   "execution_count": 1,
   "id": "27a82064-6093-4a25-8459-2af877e3de4c",
   "metadata": {},
   "outputs": [],
   "source": [
    "# !pip install papermill"
   ]
  },
  {
   "cell_type": "code",
   "execution_count": 2,
   "id": "2e73dbf8-fa7a-4ab0-bd01-25259c733910",
   "metadata": {},
   "outputs": [],
   "source": [
    "from datetime import datetime\n",
    "import json\n",
    "\n",
    "def now():\n",
    "    now = datetime.now()\n",
    "    yyyymmdd_hhmmss_part = now.strftime('%Y-%m-%d %H:%M:%S')\n",
    "    ms_part = f'{int(now.microsecond / 1000):03d}'\n",
    "    return f'{yyyymmdd_hhmmss_part},{ms_part}'\n",
    "\n",
    "def load_oos_results(oos_results_filename):\n",
    "    with open(oos_results_filename, 'r', encoding='utf-8') as f:\n",
    "        content = json.load(f)\n",
    "        oos_f1_weighted = content[\"global_metrics\"][0][\"f1_weighted\"]\n",
    "        oos_log_loss = content[\"global_metrics\"][0][\"log_loss\"]\n",
    "    return oos_f1_weighted, oos_log_loss"
   ]
  },
  {
   "cell_type": "code",
   "execution_count": 3,
   "id": "d3b18448-632e-471a-868e-199d69d5008b",
   "metadata": {
    "editable": true,
    "slideshow": {
     "slide_type": ""
    },
    "tags": []
   },
   "outputs": [
    {
     "data": {
      "application/vnd.jupyter.widget-view+json": {
       "model_id": "7bac185cc21f44b6a6bca9ee28400c67",
       "version_major": 2,
       "version_minor": 0
      },
      "text/plain": [
       "File:   0%|          | 0/35 [00:00<?, ?it/s]"
      ]
     },
     "metadata": {},
     "output_type": "display_data"
    },
    {
     "name": "stdout",
     "output_type": "stream",
     "text": [
      "[2025-06-16 03:57:11,299] Processing | FILE = NIDS_NF-BoT-IoT_Binary                                           | SIZE = 1.83 MB\n"
     ]
    },
    {
     "data": {
      "application/vnd.jupyter.widget-view+json": {
       "model_id": "1d9ad51a946844b8bf58730989e40613",
       "version_major": 2,
       "version_minor": 0
      },
      "text/plain": [
       "Executing:   0%|          | 0/16 [00:00<?, ?cell/s]"
      ]
     },
     "metadata": {},
     "output_type": "display_data"
    },
    {
     "name": "stdout",
     "output_type": "stream",
     "text": [
      "[2025-06-16 04:02:21,599] Processed  | FILE = NIDS_NF-BoT-IoT_Binary                                           | F1_WEIGHTED = 0.990707 | LOG_LOSS = 0.021791\n",
      "[2025-06-16 04:02:31,600] Processing | FILE = MQTT_IoT_IDS2020_BiflowFeatures_Binary                           | SIZE = 3.08 MB\n"
     ]
    },
    {
     "data": {
      "application/vnd.jupyter.widget-view+json": {
       "model_id": "fc603ba641c7474e81cc3f17dbc8e787",
       "version_major": 2,
       "version_minor": 0
      },
      "text/plain": [
       "Executing:   0%|          | 0/16 [00:00<?, ?cell/s]"
      ]
     },
     "metadata": {},
     "output_type": "display_data"
    },
    {
     "name": "stdout",
     "output_type": "stream",
     "text": [
      "[2025-06-16 04:07:49,447] Processed  | FILE = MQTT_IoT_IDS2020_BiflowFeatures_Binary                           | F1_WEIGHTED = 0.998686 | LOG_LOSS = 0.003467\n",
      "[2025-06-16 04:07:59,449] Processing | FILE = MQTT_IoT_IDS2020_UniflowFeatures_Binary                          | SIZE = 3.86 MB\n"
     ]
    },
    {
     "data": {
      "application/vnd.jupyter.widget-view+json": {
       "model_id": "d240c6a22c9740fcb11a41b3ff72c060",
       "version_major": 2,
       "version_minor": 0
      },
      "text/plain": [
       "Executing:   0%|          | 0/16 [00:00<?, ?cell/s]"
      ]
     },
     "metadata": {},
     "output_type": "display_data"
    },
    {
     "name": "stdout",
     "output_type": "stream",
     "text": [
      "[2025-06-16 04:13:16,654] Processed  | FILE = MQTT_IoT_IDS2020_UniflowFeatures_Binary                          | F1_WEIGHTED = 0.998725 | LOG_LOSS = 0.003355\n",
      "[2025-06-16 04:13:26,656] Processing | FILE = BCCC_CIC-BCCC-NRC-IoT-HCRL-2019_Binary                           | SIZE = 3.90 MB\n"
     ]
    },
    {
     "data": {
      "application/vnd.jupyter.widget-view+json": {
       "model_id": "f145fc459edd4f579c9db158186b2e59",
       "version_major": 2,
       "version_minor": 0
      },
      "text/plain": [
       "Executing:   0%|          | 0/16 [00:00<?, ?cell/s]"
      ]
     },
     "metadata": {},
     "output_type": "display_data"
    },
    {
     "name": "stdout",
     "output_type": "stream",
     "text": [
      "[2025-06-16 04:18:42,489] Processed  | FILE = BCCC_CIC-BCCC-NRC-IoT-HCRL-2019_Binary                           | F1_WEIGHTED = 0.997443 | LOG_LOSS = 0.007945\n",
      "[2025-06-16 04:18:52,490] Processing | FILE = MQTT_IoT_IDS2020_PacketFeatures_Binary                           | SIZE = 4.29 MB\n"
     ]
    },
    {
     "data": {
      "application/vnd.jupyter.widget-view+json": {
       "model_id": "748dbd1670674d84830e05b2c83de557",
       "version_major": 2,
       "version_minor": 0
      },
      "text/plain": [
       "Executing:   0%|          | 0/16 [00:00<?, ?cell/s]"
      ]
     },
     "metadata": {},
     "output_type": "display_data"
    },
    {
     "name": "stdout",
     "output_type": "stream",
     "text": [
      "[2025-06-16 04:24:15,331] Processed  | FILE = MQTT_IoT_IDS2020_PacketFeatures_Binary                           | F1_WEIGHTED = 0.888937 | LOG_LOSS = 0.492931\n",
      "[2025-06-16 04:24:25,333] Processing | FILE = KDD_Cup_1999_Binary                                              | SIZE = 5.99 MB\n"
     ]
    },
    {
     "data": {
      "application/vnd.jupyter.widget-view+json": {
       "model_id": "1db7911fd2a74427bb530d5e3306b507",
       "version_major": 2,
       "version_minor": 0
      },
      "text/plain": [
       "Executing:   0%|          | 0/16 [00:00<?, ?cell/s]"
      ]
     },
     "metadata": {},
     "output_type": "display_data"
    },
    {
     "name": "stdout",
     "output_type": "stream",
     "text": [
      "[2025-06-16 04:29:57,674] Processed  | FILE = KDD_Cup_1999_Binary                                              | F1_WEIGHTED = 0.999698 | LOG_LOSS = 0.008673\n",
      "[2025-06-16 04:30:07,676] Processing | FILE = NIDS_NF-ToN-IoT_Binary                                           | SIZE = 6.95 MB\n"
     ]
    },
    {
     "data": {
      "application/vnd.jupyter.widget-view+json": {
       "model_id": "0cb4b2043a5a43d5b0eb0b1d702aa025",
       "version_major": 2,
       "version_minor": 0
      },
      "text/plain": [
       "Executing:   0%|          | 0/16 [00:00<?, ?cell/s]"
      ]
     },
     "metadata": {},
     "output_type": "display_data"
    },
    {
     "name": "stdout",
     "output_type": "stream",
     "text": [
      "[2025-06-16 04:35:29,039] Processed  | FILE = NIDS_NF-ToN-IoT_Binary                                           | F1_WEIGHTED = 0.998726 | LOG_LOSS = 0.004157\n",
      "[2025-06-16 04:35:39,040] Processing | FILE = BCCC_CIC-BCCC-NRC-IoT-2022_Binary                                | SIZE = 8.33 MB\n"
     ]
    },
    {
     "data": {
      "application/vnd.jupyter.widget-view+json": {
       "model_id": "81f84b9713b544b0b46afd529f2ff6c3",
       "version_major": 2,
       "version_minor": 0
      },
      "text/plain": [
       "Executing:   0%|          | 0/16 [00:00<?, ?cell/s]"
      ]
     },
     "metadata": {},
     "output_type": "display_data"
    },
    {
     "name": "stdout",
     "output_type": "stream",
     "text": [
      "[2025-06-16 04:40:56,047] Processed  | FILE = BCCC_CIC-BCCC-NRC-IoT-2022_Binary                                | F1_WEIGHTED = 0.999885 | LOG_LOSS = 0.000415\n",
      "[2025-06-16 04:41:06,049] Processing | FILE = NIDS_NF-UNSW-NB15_Binary                                         | SIZE = 16.81 MB\n"
     ]
    },
    {
     "data": {
      "application/vnd.jupyter.widget-view+json": {
       "model_id": "f5a038c478104f6dacf0ae420e79c69e",
       "version_major": 2,
       "version_minor": 0
      },
      "text/plain": [
       "Executing:   0%|          | 0/16 [00:00<?, ?cell/s]"
      ]
     },
     "metadata": {},
     "output_type": "display_data"
    },
    {
     "name": "stdout",
     "output_type": "stream",
     "text": [
      "[2025-06-16 04:46:30,808] Processed  | FILE = NIDS_NF-UNSW-NB15_Binary                                         | F1_WEIGHTED = 0.989071 | LOG_LOSS = 0.027317\n",
      "[2025-06-16 04:46:40,810] Processing | FILE = IoT_Network_Intrusion_Macro_Binary                               | SIZE = 17.50 MB\n"
     ]
    },
    {
     "data": {
      "application/vnd.jupyter.widget-view+json": {
       "model_id": "18949d65e8ee49b592510a4ceb22ada9",
       "version_major": 2,
       "version_minor": 0
      },
      "text/plain": [
       "Executing:   0%|          | 0/16 [00:00<?, ?cell/s]"
      ]
     },
     "metadata": {},
     "output_type": "display_data"
    },
    {
     "name": "stdout",
     "output_type": "stream",
     "text": [
      "[2025-06-16 04:52:24,248] Processed  | FILE = IoT_Network_Intrusion_Macro_Binary                               | F1_WEIGHTED = 0.986837 | LOG_LOSS = 0.056893\n",
      "[2025-06-16 04:52:34,250] Processing | FILE = IoT_Network_Intrusion_Micro_Binary                               | SIZE = 17.50 MB\n"
     ]
    },
    {
     "data": {
      "application/vnd.jupyter.widget-view+json": {
       "model_id": "fcad98baf4304d3d9184bdb3bc724063",
       "version_major": 2,
       "version_minor": 0
      },
      "text/plain": [
       "Executing:   0%|          | 0/16 [00:00<?, ?cell/s]"
      ]
     },
     "metadata": {},
     "output_type": "display_data"
    },
    {
     "name": "stdout",
     "output_type": "stream",
     "text": [
      "[2025-06-16 04:58:15,850] Processed  | FILE = IoT_Network_Intrusion_Micro_Binary                               | F1_WEIGHTED = 0.986836 | LOG_LOSS = 0.059183\n",
      "[2025-06-16 04:58:25,852] Processing | FILE = IoT_23_Binary                                                    | SIZE = 21.19 MB\n"
     ]
    },
    {
     "data": {
      "application/vnd.jupyter.widget-view+json": {
       "model_id": "37fecc718e834b68ba76cb30a6926c29",
       "version_major": 2,
       "version_minor": 0
      },
      "text/plain": [
       "Executing:   0%|          | 0/16 [00:00<?, ?cell/s]"
      ]
     },
     "metadata": {},
     "output_type": "display_data"
    },
    {
     "name": "stdout",
     "output_type": "stream",
     "text": [
      "[2025-06-16 05:04:19,441] Processed  | FILE = IoT_23_Binary                                                    | F1_WEIGHTED = 0.996327 | LOG_LOSS = 0.019629\n",
      "[2025-06-16 05:04:29,442] Processing | FILE = BCCC_CIC-BCCC-NRC-ACI-IOT-2023_Binary                            | SIZE = 32.32 MB\n"
     ]
    },
    {
     "data": {
      "application/vnd.jupyter.widget-view+json": {
       "model_id": "f95547a58619473db87a22ec3ade9f89",
       "version_major": 2,
       "version_minor": 0
      },
      "text/plain": [
       "Executing:   0%|          | 0/16 [00:00<?, ?cell/s]"
      ]
     },
     "metadata": {},
     "output_type": "display_data"
    },
    {
     "name": "stdout",
     "output_type": "stream",
     "text": [
      "[2025-06-16 05:10:04,065] Processed  | FILE = BCCC_CIC-BCCC-NRC-ACI-IOT-2023_Binary                            | F1_WEIGHTED = 0.962733 | LOG_LOSS = 0.076371\n",
      "[2025-06-16 05:10:14,067] Processing | FILE = NIDS_NF-UNSW-NB15-v2_Binary                                      | SIZE = 52.79 MB\n"
     ]
    },
    {
     "data": {
      "application/vnd.jupyter.widget-view+json": {
       "model_id": "779fdffef05f4485adfa3c304751b218",
       "version_major": 2,
       "version_minor": 0
      },
      "text/plain": [
       "Executing:   0%|          | 0/16 [00:00<?, ?cell/s]"
      ]
     },
     "metadata": {},
     "output_type": "display_data"
    },
    {
     "name": "stdout",
     "output_type": "stream",
     "text": [
      "[2025-06-16 05:15:57,612] Processed  | FILE = NIDS_NF-UNSW-NB15-v2_Binary                                      | F1_WEIGHTED = 0.996739 | LOG_LOSS = 0.213539\n",
      "[2025-06-16 05:16:07,613] Processing | FILE = NIDS_NF-CSE-CIC-IDS2018_Binary                                   | SIZE = 59.96 MB\n"
     ]
    },
    {
     "data": {
      "application/vnd.jupyter.widget-view+json": {
       "model_id": "76e778d359fa494cb6ac2c641774f58c",
       "version_major": 2,
       "version_minor": 0
      },
      "text/plain": [
       "Executing:   0%|          | 0/16 [00:00<?, ?cell/s]"
      ]
     },
     "metadata": {},
     "output_type": "display_data"
    },
    {
     "name": "stdout",
     "output_type": "stream",
     "text": [
      "[2025-06-16 05:22:05,781] Processed  | FILE = NIDS_NF-CSE-CIC-IDS2018_Binary                                   | F1_WEIGHTED = 0.990350 | LOG_LOSS = 0.053923\n",
      "[2025-06-16 05:22:15,782] Processing | FILE = NIDS_NF-BoT-IoT-v3_Binary                                        | SIZE = 60.65 MB\n"
     ]
    },
    {
     "data": {
      "application/vnd.jupyter.widget-view+json": {
       "model_id": "ed6bc91fa24940648f4a88107ee3f7ec",
       "version_major": 2,
       "version_minor": 0
      },
      "text/plain": [
       "Executing:   0%|          | 0/16 [00:00<?, ?cell/s]"
      ]
     },
     "metadata": {},
     "output_type": "display_data"
    },
    {
     "name": "stdout",
     "output_type": "stream",
     "text": [
      "[2025-06-16 05:31:29,496] Processed  | FILE = NIDS_NF-BoT-IoT-v3_Binary                                        | F1_WEIGHTED = 0.998313 | LOG_LOSS = 0.442440\n",
      "[2025-06-16 05:31:39,498] Processing | FILE = NIDS_NF-UQ-NIDS_Binary                                           | SIZE = 85.81 MB\n"
     ]
    },
    {
     "data": {
      "application/vnd.jupyter.widget-view+json": {
       "model_id": "49e8aef83054474aa2afd2a59ef95bfa",
       "version_major": 2,
       "version_minor": 0
      },
      "text/plain": [
       "Executing:   0%|          | 0/16 [00:00<?, ?cell/s]"
      ]
     },
     "metadata": {},
     "output_type": "display_data"
    },
    {
     "name": "stdout",
     "output_type": "stream",
     "text": [
      "[2025-06-16 05:37:59,686] Processed  | FILE = NIDS_NF-UQ-NIDS_Binary                                           | F1_WEIGHTED = 0.988903 | LOG_LOSS = 0.243982\n",
      "[2025-06-16 05:38:09,688] Processing | FILE = BCCC_CIC-BCCC-NRC-TONIoT-2021_Binary                             | SIZE = 89.99 MB\n"
     ]
    },
    {
     "data": {
      "application/vnd.jupyter.widget-view+json": {
       "model_id": "02b95f864b094ee595df1c7925c2e776",
       "version_major": 2,
       "version_minor": 0
      },
      "text/plain": [
       "Executing:   0%|          | 0/16 [00:00<?, ?cell/s]"
      ]
     },
     "metadata": {},
     "output_type": "display_data"
    },
    {
     "name": "stdout",
     "output_type": "stream",
     "text": [
      "[2025-06-16 05:38:49,282] ERROR      | FILE = BCCC_CIC-BCCC-NRC-TONIoT-2021_Binary                             | EXCEPTION = \n",
      "---------------------------------------------------------------------------\n",
      "Exception encountered at \"In [5]\":\n",
      "---------------------------------------------------------------------------\n",
      "H2OServerError                            Traceback (most recent call last)\n",
      "Cell In[5], line 19\n",
      "      8 from h2o.automl import H2OAutoML\n",
      "     10 aml = H2OAutoML(\n",
      "     11     max_runtime_secs=MAX_RUNTIME_SECS,\n",
      "     12     balance_classes=BALANCE_CLASSES,\n",
      "   (...)     16     seed=SEED\n",
      "     17 )\n",
      "---> 19 aml.train(x=features, y=TARGET_COL, training_frame=train)\n",
      "\n",
      "File ~/miniforge3/envs/h2o/lib/python3.12/site-packages/h2o/automl/_estimator.py:671, in H2OAutoML.train(self, x, y, training_frame, fold_column, weights_column, validation_frame, leaderboard_frame, blending_frame)\n",
      "    662     return ({k: clean_params(v) for k, v in params.items() if v is not None} if isinstance(params, dict)\n",
      "    663             else H2OEstimator._keyify(params))\n",
      "    665 automl_build_params = clean_params(dict(\n",
      "    666     build_control=self.build_control,\n",
      "    667     build_models=self.build_models,\n",
      "    668     input_spec=self.input_spec,\n",
      "    669 ))\n",
      "--> 671 resp = self._build_resp = h2o.api('POST /99/AutoMLBuilder', json=automl_build_params)\n",
      "    672 if 'job' not in resp:\n",
      "    673     raise H2OResponseError(\"Backend failed to build the AutoML job: {}\".format(resp))\n",
      "\n",
      "File ~/miniforge3/envs/h2o/lib/python3.12/site-packages/h2o/h2o.py:123, in api(endpoint, data, json, filename, save_to)\n",
      "    121 # type checks are performed in H2OConnection class\n",
      "    122 _check_connection()\n",
      "--> 123 return h2oconn.request(endpoint, data=data, json=json, filename=filename, save_to=save_to)\n",
      "\n",
      "File ~/miniforge3/envs/h2o/lib/python3.12/site-packages/h2o/backend/connection.py:499, in H2OConnection.request(self, endpoint, data, json, filename, save_to)\n",
      "    497         save_to = save_to(resp)\n",
      "    498     self._log_end_transaction(start_time, resp)\n",
      "--> 499     return self._process_response(resp, save_to)\n",
      "    501 except (requests.exceptions.ConnectionError, requests.exceptions.HTTPError) as e:\n",
      "    502     if self._local_server and not self._local_server.is_running():\n",
      "\n",
      "File ~/miniforge3/envs/h2o/lib/python3.12/site-packages/h2o/backend/connection.py:858, in H2OConnection._process_response(response, save_to)\n",
      "    853     raise H2OResponseError(data)\n",
      "    855 # Server errors (notably 500 = \"Server Error\")\n",
      "    856 # Note that it is possible to receive valid H2OErrorV3 object in this case, however it merely means the server\n",
      "    857 # did not provide the correct status code.\n",
      "--> 858 raise H2OServerError(\"HTTP %d %s:\\n%s\" % (status_code, response.reason, data))\n",
      "\n",
      "H2OServerError: HTTP 500 Server Error:\n",
      "Server error java.lang.RuntimeException:\n",
      "  Error: Number of classes is equal to 1.\n",
      "  Request: None\n",
      "  Stacktrace: java.lang.RuntimeException: Number of classes is equal to 1.\n",
      "      ai.h2o.automl.AutoML.inferDistribution(AutoML.java:650)\n",
      "      ai.h2o.automl.AutoML.prepareData(AutoML.java:719)\n",
      "      ai.h2o.automl.AutoML.<init>(AutoML.java:218)\n",
      "      ai.h2o.automl.AutoML.<init>(AutoML.java:196)\n",
      "      ai.h2o.automl.AutoML.<init>(AutoML.java:184)\n",
      "      ai.h2o.automl.AutoML.startAutoML(AutoML.java:94)\n",
      "      water.automl.api.AutoMLBuilderHandler.build(AutoMLBuilderHandler.java:15)\n",
      "      java.base/jdk.internal.reflect.NativeMethodAccessorImpl.invoke0(Native Method)\n",
      "      java.base/jdk.internal.reflect.NativeMethodAccessorImpl.invoke(NativeMethodAccessorImpl.java:62)\n",
      "\n",
      "\n",
      "[2025-06-16 05:38:49,284] Processing | FILE = NIDS_NF-UNSW-NB15-v3_Binary                                      | SIZE = 92.14 MB\n"
     ]
    },
    {
     "data": {
      "application/vnd.jupyter.widget-view+json": {
       "model_id": "aaa2b28e32804299906c6a01cb8de3bc",
       "version_major": 2,
       "version_minor": 0
      },
      "text/plain": [
       "Executing:   0%|          | 0/16 [00:00<?, ?cell/s]"
      ]
     },
     "metadata": {},
     "output_type": "display_data"
    },
    {
     "name": "stdout",
     "output_type": "stream",
     "text": [
      "[2025-06-16 05:44:34,547] Processed  | FILE = NIDS_NF-UNSW-NB15-v3_Binary                                      | F1_WEIGHTED = 0.999995 | LOG_LOSS = 0.147823\n",
      "[2025-06-16 05:44:44,549] Processing | FILE = UNSW_NB15_Binary                                                 | SIZE = 103.35 MB\n"
     ]
    },
    {
     "data": {
      "application/vnd.jupyter.widget-view+json": {
       "model_id": "3f89ad5822b4453aa8b3912f4b360e42",
       "version_major": 2,
       "version_minor": 0
      },
      "text/plain": [
       "Executing:   0%|          | 0/16 [00:00<?, ?cell/s]"
      ]
     },
     "metadata": {},
     "output_type": "display_data"
    },
    {
     "name": "stdout",
     "output_type": "stream",
     "text": [
      "[2025-06-16 05:50:39,062] Processed  | FILE = UNSW_NB15_Binary                                                 | F1_WEIGHTED = 0.992897 | LOG_LOSS = 0.307971\n",
      "[2025-06-16 05:50:49,064] Processing | FILE = BCCC_CIC-BCCC-NRC-Edge-IIoTSet-2022_Binary                       | SIZE = 106.70 MB\n"
     ]
    },
    {
     "data": {
      "application/vnd.jupyter.widget-view+json": {
       "model_id": "f642ae2ec8844919b42b6c1c3dcfe7fd",
       "version_major": 2,
       "version_minor": 0
      },
      "text/plain": [
       "Executing:   0%|          | 0/16 [00:00<?, ?cell/s]"
      ]
     },
     "metadata": {},
     "output_type": "display_data"
    },
    {
     "name": "stdout",
     "output_type": "stream",
     "text": [
      "[2025-06-16 05:51:45,864] ERROR      | FILE = BCCC_CIC-BCCC-NRC-Edge-IIoTSet-2022_Binary                       | EXCEPTION = \n",
      "---------------------------------------------------------------------------\n",
      "Exception encountered at \"In [4]\":\n",
      "---------------------------------------------------------------------------\n",
      "H2OValueError                             Traceback (most recent call last)\n",
      "Cell In[4], line 22\n",
      "     20 for col, dtype in metadata[\"dtypes\"].items():\n",
      "     21     if dtype == \"category\":\n",
      "---> 22         hf[col] = hf[col].asfactor()\n",
      "     23         assert hf[col].isfactor()[0], f\"{col} not converted to factor\"\n",
      "     25 # Step 5: Print result\n",
      "\n",
      "File ~/miniforge3/envs/h2o/lib/python3.12/site-packages/h2o/frame.py:3309, in H2OFrame.asfactor(self)\n",
      "   3307         t = self.types[colname]\n",
      "   3308         if t not in {\"bool\", \"int\", \"string\", \"enum\"}:\n",
      "-> 3309             raise H2OValueError(\"Only 'int' or 'string' are allowed for \"\n",
      "   3310                                 \"asfactor(), got %s:%s \" % (colname, t))\n",
      "   3311 fr = H2OFrame._expr(expr=ExprNode(\"as.factor\", self), cache=self._ex._cache)\n",
      "   3312 if fr._ex._cache.types_valid():\n",
      "\n",
      "H2OValueError: Only 'int' or 'string' are allowed for asfactor(), got Active Std:real \n",
      "\n",
      "[2025-06-16 05:51:45,865] Processing | FILE = BoT_IoT_Macro_Binary                                             | SIZE = 136.70 MB\n"
     ]
    },
    {
     "data": {
      "application/vnd.jupyter.widget-view+json": {
       "model_id": "a462647511684f60a64452b01c7e1acc",
       "version_major": 2,
       "version_minor": 0
      },
      "text/plain": [
       "Executing:   0%|          | 0/16 [00:00<?, ?cell/s]"
      ]
     },
     "metadata": {},
     "output_type": "display_data"
    },
    {
     "name": "stdout",
     "output_type": "stream",
     "text": [
      "[2025-06-16 06:03:20,165] ERROR      | FILE = BoT_IoT_Macro_Binary                                             | EXCEPTION = \n",
      "---------------------------------------------------------------------------\n",
      "Exception encountered at \"In [6]\":\n",
      "---------------------------------------------------------------------------\n",
      "AttributeError                            Traceback (most recent call last)\n",
      "Cell In[6], line 1\n",
      "----> 1 algo_type = aml.leader.algo\n",
      "      2 assert algo_type is not None, \"Wrong algorithm type (should be != None)\"\n",
      "      4 problem_type = aml.leader._model_json['output']['model_category']\n",
      "\n",
      "AttributeError: 'NoneType' object has no attribute 'algo'\n",
      "\n",
      "[2025-06-16 06:03:20,167] Processing | FILE = BoT_IoT_Micro_Binary                                             | SIZE = 136.70 MB\n"
     ]
    },
    {
     "data": {
      "application/vnd.jupyter.widget-view+json": {
       "model_id": "e409e2a6f34f4536afc7f4a75e417cd9",
       "version_major": 2,
       "version_minor": 0
      },
      "text/plain": [
       "Executing:   0%|          | 0/16 [00:00<?, ?cell/s]"
      ]
     },
     "metadata": {},
     "output_type": "display_data"
    },
    {
     "name": "stdout",
     "output_type": "stream",
     "text": [
      "[2025-06-16 06:14:49,980] ERROR      | FILE = BoT_IoT_Micro_Binary                                             | EXCEPTION = \n",
      "---------------------------------------------------------------------------\n",
      "Exception encountered at \"In [6]\":\n",
      "---------------------------------------------------------------------------\n",
      "AttributeError                            Traceback (most recent call last)\n",
      "Cell In[6], line 1\n",
      "----> 1 algo_type = aml.leader.algo\n",
      "      2 assert algo_type is not None, \"Wrong algorithm type (should be != None)\"\n",
      "      4 problem_type = aml.leader._model_json['output']['model_category']\n",
      "\n",
      "AttributeError: 'NoneType' object has no attribute 'algo'\n",
      "\n",
      "[2025-06-16 06:14:49,983] Processing | FILE = NIDS_NF-ToN-IoT-v2_Binary                                        | SIZE = 167.42 MB\n"
     ]
    },
    {
     "data": {
      "application/vnd.jupyter.widget-view+json": {
       "model_id": "e74e35d97e0f489e9871b1ac15929ac5",
       "version_major": 2,
       "version_minor": 0
      },
      "text/plain": [
       "Executing:   0%|          | 0/16 [00:00<?, ?cell/s]"
      ]
     },
     "metadata": {},
     "output_type": "display_data"
    },
    {
     "name": "stdout",
     "output_type": "stream",
     "text": [
      "[2025-06-16 06:22:49,265] Processed  | FILE = NIDS_NF-ToN-IoT-v2_Binary                                        | F1_WEIGHTED = 0.990725 | LOG_LOSS = 0.446920\n",
      "[2025-06-16 06:22:59,268] Processing | FILE = BCCC_CIC-BCCC-NRC-UQ-IOT-2022_Binary                             | SIZE = 171.28 MB\n"
     ]
    },
    {
     "data": {
      "application/vnd.jupyter.widget-view+json": {
       "model_id": "c1cb7c3df745460bbce90ffb49b6f877",
       "version_major": 2,
       "version_minor": 0
      },
      "text/plain": [
       "Executing:   0%|          | 0/16 [00:00<?, ?cell/s]"
      ]
     },
     "metadata": {},
     "output_type": "display_data"
    },
    {
     "name": "stdout",
     "output_type": "stream",
     "text": [
      "[2025-06-16 06:24:40,072] ERROR      | FILE = BCCC_CIC-BCCC-NRC-UQ-IOT-2022_Binary                             | EXCEPTION = \n",
      "---------------------------------------------------------------------------\n",
      "Exception encountered at \"In [4]\":\n",
      "---------------------------------------------------------------------------\n",
      "H2OValueError                             Traceback (most recent call last)\n",
      "Cell In[4], line 22\n",
      "     20 for col, dtype in metadata[\"dtypes\"].items():\n",
      "     21     if dtype == \"category\":\n",
      "---> 22         hf[col] = hf[col].asfactor()\n",
      "     23         assert hf[col].isfactor()[0], f\"{col} not converted to factor\"\n",
      "     25 # Step 5: Print result\n",
      "\n",
      "File ~/miniforge3/envs/h2o/lib/python3.12/site-packages/h2o/frame.py:3309, in H2OFrame.asfactor(self)\n",
      "   3307         t = self.types[colname]\n",
      "   3308         if t not in {\"bool\", \"int\", \"string\", \"enum\"}:\n",
      "-> 3309             raise H2OValueError(\"Only 'int' or 'string' are allowed for \"\n",
      "   3310                                 \"asfactor(), got %s:%s \" % (colname, t))\n",
      "   3311 fr = H2OFrame._expr(expr=ExprNode(\"as.factor\", self), cache=self._ex._cache)\n",
      "   3312 if fr._ex._cache.types_valid():\n",
      "\n",
      "H2OValueError: Only 'int' or 'string' are allowed for asfactor(), got Fwd Packet Length Mean:real \n",
      "\n",
      "[2025-06-16 06:24:40,073] Processing | FILE = BCCC_CIC-BCCC-NRC-IoMT-2024_Binary                               | SIZE = 187.85 MB\n"
     ]
    },
    {
     "data": {
      "application/vnd.jupyter.widget-view+json": {
       "model_id": "550999b9d746443394929663401a9440",
       "version_major": 2,
       "version_minor": 0
      },
      "text/plain": [
       "Executing:   0%|          | 0/16 [00:00<?, ?cell/s]"
      ]
     },
     "metadata": {},
     "output_type": "display_data"
    },
    {
     "name": "stdout",
     "output_type": "stream",
     "text": [
      "[2025-06-16 06:31:21,100] Processed  | FILE = BCCC_CIC-BCCC-NRC-IoMT-2024_Binary                               | F1_WEIGHTED = 0.996823 | LOG_LOSS = 0.009342\n",
      "[2025-06-16 06:31:31,102] Processing | FILE = BCCC_CIC-BCCC-NRC-MQTTIoT-IDS-2020_Binary                        | SIZE = 196.75 MB\n"
     ]
    },
    {
     "data": {
      "application/vnd.jupyter.widget-view+json": {
       "model_id": "b2ee76ce3c7a41d3b981bb93d7499c95",
       "version_major": 2,
       "version_minor": 0
      },
      "text/plain": [
       "Executing:   0%|          | 0/16 [00:00<?, ?cell/s]"
      ]
     },
     "metadata": {},
     "output_type": "display_data"
    },
    {
     "name": "stdout",
     "output_type": "stream",
     "text": [
      "[2025-06-16 06:32:36,704] ERROR      | FILE = BCCC_CIC-BCCC-NRC-MQTTIoT-IDS-2020_Binary                        | EXCEPTION = \n",
      "---------------------------------------------------------------------------\n",
      "Exception encountered at \"In [4]\":\n",
      "---------------------------------------------------------------------------\n",
      "H2OValueError                             Traceback (most recent call last)\n",
      "Cell In[4], line 22\n",
      "     20 for col, dtype in metadata[\"dtypes\"].items():\n",
      "     21     if dtype == \"category\":\n",
      "---> 22         hf[col] = hf[col].asfactor()\n",
      "     23         assert hf[col].isfactor()[0], f\"{col} not converted to factor\"\n",
      "     25 # Step 5: Print result\n",
      "\n",
      "File ~/miniforge3/envs/h2o/lib/python3.12/site-packages/h2o/frame.py:3309, in H2OFrame.asfactor(self)\n",
      "   3307         t = self.types[colname]\n",
      "   3308         if t not in {\"bool\", \"int\", \"string\", \"enum\"}:\n",
      "-> 3309             raise H2OValueError(\"Only 'int' or 'string' are allowed for \"\n",
      "   3310                                 \"asfactor(), got %s:%s \" % (colname, t))\n",
      "   3311 fr = H2OFrame._expr(expr=ExprNode(\"as.factor\", self), cache=self._ex._cache)\n",
      "   3312 if fr._ex._cache.types_valid():\n",
      "\n",
      "H2OValueError: Only 'int' or 'string' are allowed for asfactor(), got Active Std:real \n",
      "\n",
      "[2025-06-16 06:32:36,706] Processing | FILE = NIDS_NF-ToN-IoT-v3_Binary                                        | SIZE = 303.40 MB\n"
     ]
    },
    {
     "data": {
      "application/vnd.jupyter.widget-view+json": {
       "model_id": "35c13103ef3a447b948795cd7ab5b5ca",
       "version_major": 2,
       "version_minor": 0
      },
      "text/plain": [
       "Executing:   0%|          | 0/16 [00:00<?, ?cell/s]"
      ]
     },
     "metadata": {},
     "output_type": "display_data"
    },
    {
     "name": "stdout",
     "output_type": "stream",
     "text": [
      "[2025-06-16 06:40:52,639] Processed  | FILE = NIDS_NF-ToN-IoT-v3_Binary                                        | F1_WEIGHTED = 0.919208 | LOG_LOSS = 0.503439\n",
      "[2025-06-16 06:41:02,642] Processing | FILE = BCCC_CIC-BCCC-NRC-IoT-2023-Original_Training_and_Testing_Binary  | SIZE = 304.48 MB\n"
     ]
    },
    {
     "data": {
      "application/vnd.jupyter.widget-view+json": {
       "model_id": "02c0fb9f42ab440d8f2403a27b0c400e",
       "version_major": 2,
       "version_minor": 0
      },
      "text/plain": [
       "Executing:   0%|          | 0/16 [00:00<?, ?cell/s]"
      ]
     },
     "metadata": {},
     "output_type": "display_data"
    },
    {
     "name": "stdout",
     "output_type": "stream",
     "text": [
      "[2025-06-16 06:43:32,452] ERROR      | FILE = BCCC_CIC-BCCC-NRC-IoT-2023-Original_Training_and_Testing_Binary  | EXCEPTION = \n",
      "---------------------------------------------------------------------------\n",
      "Exception encountered at \"In [4]\":\n",
      "---------------------------------------------------------------------------\n",
      "H2OValueError                             Traceback (most recent call last)\n",
      "Cell In[4], line 22\n",
      "     20 for col, dtype in metadata[\"dtypes\"].items():\n",
      "     21     if dtype == \"category\":\n",
      "---> 22         hf[col] = hf[col].asfactor()\n",
      "     23         assert hf[col].isfactor()[0], f\"{col} not converted to factor\"\n",
      "     25 # Step 5: Print result\n",
      "\n",
      "File ~/miniforge3/envs/h2o/lib/python3.12/site-packages/h2o/frame.py:3309, in H2OFrame.asfactor(self)\n",
      "   3307         t = self.types[colname]\n",
      "   3308         if t not in {\"bool\", \"int\", \"string\", \"enum\"}:\n",
      "-> 3309             raise H2OValueError(\"Only 'int' or 'string' are allowed for \"\n",
      "   3310                                 \"asfactor(), got %s:%s \" % (colname, t))\n",
      "   3311 fr = H2OFrame._expr(expr=ExprNode(\"as.factor\", self), cache=self._ex._cache)\n",
      "   3312 if fr._ex._cache.types_valid():\n",
      "\n",
      "H2OValueError: Only 'int' or 'string' are allowed for asfactor(), got Active Std:real \n",
      "\n",
      "[2025-06-16 06:43:32,454] Processing | FILE = NIDS_CIC-ToN-IoT_Binary                                          | SIZE = 370.10 MB\n"
     ]
    },
    {
     "data": {
      "application/vnd.jupyter.widget-view+json": {
       "model_id": "d78d5d89d5c04da9a06ade61c0332ad9",
       "version_major": 2,
       "version_minor": 0
      },
      "text/plain": [
       "Executing:   0%|          | 0/16 [00:00<?, ?cell/s]"
      ]
     },
     "metadata": {},
     "output_type": "display_data"
    },
    {
     "name": "stdout",
     "output_type": "stream",
     "text": [
      "[2025-06-16 06:50:52,928] Processed  | FILE = NIDS_CIC-ToN-IoT_Binary                                          | F1_WEIGHTED = 0.992639 | LOG_LOSS = 0.442799\n",
      "[2025-06-16 06:51:02,929] Processing | FILE = NIDS_NF-BoT-IoT-v2_Binary                                        | SIZE = 463.86 MB\n"
     ]
    },
    {
     "data": {
      "application/vnd.jupyter.widget-view+json": {
       "model_id": "893733f9bf1942e4b795de822d88961c",
       "version_major": 2,
       "version_minor": 0
      },
      "text/plain": [
       "Executing:   0%|          | 0/16 [00:00<?, ?cell/s]"
      ]
     },
     "metadata": {},
     "output_type": "display_data"
    },
    {
     "name": "stdout",
     "output_type": "stream",
     "text": [
      "[2025-06-16 07:02:48,182] Processed  | FILE = NIDS_NF-BoT-IoT-v2_Binary                                        | F1_WEIGHTED = 0.999055 | LOG_LOSS = 0.438832\n",
      "[2025-06-16 07:02:58,184] Processing | FILE = NIDS_NF-CSE-CIC-IDS2018-v2_Binary                                | SIZE = 513.97 MB\n"
     ]
    },
    {
     "data": {
      "application/vnd.jupyter.widget-view+json": {
       "model_id": "b36118f6348f461ab9978463ba972f9f",
       "version_major": 2,
       "version_minor": 0
      },
      "text/plain": [
       "Executing:   0%|          | 0/16 [00:00<?, ?cell/s]"
      ]
     },
     "metadata": {},
     "output_type": "display_data"
    },
    {
     "name": "stdout",
     "output_type": "stream",
     "text": [
      "[2025-06-16 07:11:48,325] Processed  | FILE = NIDS_NF-CSE-CIC-IDS2018-v2_Binary                                | F1_WEIGHTED = 0.994869 | LOG_LOSS = 0.453572\n",
      "[2025-06-16 07:11:58,326] Processing | FILE = NIDS_NF-CICIDS2018-v3_Binary                                     | SIZE = 695.84 MB\n"
     ]
    },
    {
     "data": {
      "application/vnd.jupyter.widget-view+json": {
       "model_id": "3d3cc2b17c9547a4a81d7adb48996673",
       "version_major": 2,
       "version_minor": 0
      },
      "text/plain": [
       "Executing:   0%|          | 0/16 [00:00<?, ?cell/s]"
      ]
     },
     "metadata": {},
     "output_type": "display_data"
    },
    {
     "name": "stdout",
     "output_type": "stream",
     "text": [
      "[2025-06-16 07:20:51,407] Processed  | FILE = NIDS_NF-CICIDS2018-v3_Binary                                     | F1_WEIGHTED = 0.994677 | LOG_LOSS = 0.455516\n",
      "[2025-06-16 07:21:01,408] Processing | FILE = NIDS_CIC-BoT-IoT_Binary                                          | SIZE = 1410.37 MB\n"
     ]
    },
    {
     "data": {
      "application/vnd.jupyter.widget-view+json": {
       "model_id": "1ccae6d35082489a8f6547afea33fcf6",
       "version_major": 2,
       "version_minor": 0
      },
      "text/plain": [
       "Executing:   0%|          | 0/16 [00:00<?, ?cell/s]"
      ]
     },
     "metadata": {},
     "output_type": "display_data"
    },
    {
     "name": "stdout",
     "output_type": "stream",
     "text": [
      "[2025-06-16 07:34:11,668] Processed  | FILE = NIDS_CIC-BoT-IoT_Binary                                          | F1_WEIGHTED = 0.993808 | LOG_LOSS = 0.448569\n",
      "[2025-06-16 07:34:21,671] Processing | FILE = NIDS_NF-UQ-NIDS-v2_Binary                                        | SIZE = 1816.80 MB\n"
     ]
    },
    {
     "data": {
      "application/vnd.jupyter.widget-view+json": {
       "model_id": "0d6342fea7af45b98646b9c81273a241",
       "version_major": 2,
       "version_minor": 0
      },
      "text/plain": [
       "Executing:   0%|          | 0/16 [00:00<?, ?cell/s]"
      ]
     },
     "metadata": {},
     "output_type": "display_data"
    },
    {
     "name": "stdout",
     "output_type": "stream",
     "text": [
      "[2025-06-16 07:49:12,236] ERROR      | FILE = NIDS_NF-UQ-NIDS-v2_Binary                                        | EXCEPTION = \n",
      "---------------------------------------------------------------------------\n",
      "Exception encountered at \"In [6]\":\n",
      "---------------------------------------------------------------------------\n",
      "AttributeError                            Traceback (most recent call last)\n",
      "Cell In[6], line 1\n",
      "----> 1 algo_type = aml.leader.algo\n",
      "      2 assert algo_type is not None, \"Wrong algorithm type (should be != None)\"\n",
      "      4 problem_type = aml.leader._model_json['output']['model_category']\n",
      "\n",
      "AttributeError: 'NoneType' object has no attribute 'algo'\n",
      "\n"
     ]
    },
    {
     "data": {
      "application/vnd.jupyter.widget-view+json": {
       "model_id": "bcbda64a4da845f0a1ace7c9bac8454d",
       "version_major": 2,
       "version_minor": 0
      },
      "text/plain": [
       "File:   0%|          | 0/35 [00:00<?, ?it/s]"
      ]
     },
     "metadata": {},
     "output_type": "display_data"
    },
    {
     "name": "stdout",
     "output_type": "stream",
     "text": [
      "[2025-06-16 07:49:12,337] Processing | FILE = NIDS_NF-BoT-IoT_Multiclass                                       | SIZE = 2.13 MB\n"
     ]
    },
    {
     "data": {
      "application/vnd.jupyter.widget-view+json": {
       "model_id": "054e33a9bcb141998e7a157d507983dd",
       "version_major": 2,
       "version_minor": 0
      },
      "text/plain": [
       "Executing:   0%|          | 0/16 [00:00<?, ?cell/s]"
      ]
     },
     "metadata": {},
     "output_type": "display_data"
    },
    {
     "name": "stdout",
     "output_type": "stream",
     "text": [
      "[2025-06-16 07:54:38,303] Processed  | FILE = NIDS_NF-BoT-IoT_Multiclass                                       | F1_WEIGHTED = 0.865622 | LOG_LOSS = 0.269912\n",
      "[2025-06-16 07:54:48,304] Processing | FILE = MQTT_IoT_IDS2020_BiflowFeatures_Multiclass                       | SIZE = 3.08 MB\n"
     ]
    },
    {
     "data": {
      "application/vnd.jupyter.widget-view+json": {
       "model_id": "b9ccf9626ab4444d83fdb51f54c3bbde",
       "version_major": 2,
       "version_minor": 0
      },
      "text/plain": [
       "Executing:   0%|          | 0/16 [00:00<?, ?cell/s]"
      ]
     },
     "metadata": {},
     "output_type": "display_data"
    },
    {
     "name": "stdout",
     "output_type": "stream",
     "text": [
      "[2025-06-16 08:00:05,251] Processed  | FILE = MQTT_IoT_IDS2020_BiflowFeatures_Multiclass                       | F1_WEIGHTED = 0.998685 | LOG_LOSS = 0.003359\n",
      "[2025-06-16 08:00:15,253] Processing | FILE = MQTT_IoT_IDS2020_UniflowFeatures_Multiclass                      | SIZE = 3.87 MB\n"
     ]
    },
    {
     "data": {
      "application/vnd.jupyter.widget-view+json": {
       "model_id": "680752dd91ec43e1a63c46238c49604f",
       "version_major": 2,
       "version_minor": 0
      },
      "text/plain": [
       "Executing:   0%|          | 0/16 [00:00<?, ?cell/s]"
      ]
     },
     "metadata": {},
     "output_type": "display_data"
    },
    {
     "name": "stdout",
     "output_type": "stream",
     "text": [
      "[2025-06-16 08:05:32,503] Processed  | FILE = MQTT_IoT_IDS2020_UniflowFeatures_Multiclass                      | F1_WEIGHTED = 0.998676 | LOG_LOSS = 0.003302\n",
      "[2025-06-16 08:05:42,505] Processing | FILE = BCCC_CIC-BCCC-NRC-IoT-HCRL-2019_Multiclass                       | SIZE = 3.97 MB\n"
     ]
    },
    {
     "data": {
      "application/vnd.jupyter.widget-view+json": {
       "model_id": "dd35ab1d944246a399672a4901a8fd37",
       "version_major": 2,
       "version_minor": 0
      },
      "text/plain": [
       "Executing:   0%|          | 0/16 [00:00<?, ?cell/s]"
      ]
     },
     "metadata": {},
     "output_type": "display_data"
    },
    {
     "name": "stdout",
     "output_type": "stream",
     "text": [
      "[2025-06-16 08:10:59,656] Processed  | FILE = BCCC_CIC-BCCC-NRC-IoT-HCRL-2019_Multiclass                       | F1_WEIGHTED = 0.963070 | LOG_LOSS = 0.116299\n",
      "[2025-06-16 08:11:09,658] Processing | FILE = MQTT_IoT_IDS2020_PacketFeatures_Multiclass                       | SIZE = 4.31 MB\n"
     ]
    },
    {
     "data": {
      "application/vnd.jupyter.widget-view+json": {
       "model_id": "f935dab34b044eb4a8747bb63231da94",
       "version_major": 2,
       "version_minor": 0
      },
      "text/plain": [
       "Executing:   0%|          | 0/16 [00:00<?, ?cell/s]"
      ]
     },
     "metadata": {},
     "output_type": "display_data"
    },
    {
     "name": "stdout",
     "output_type": "stream",
     "text": [
      "[2025-06-16 08:16:30,112] Processed  | FILE = MQTT_IoT_IDS2020_PacketFeatures_Multiclass                       | F1_WEIGHTED = 0.894890 | LOG_LOSS = 1.032044\n",
      "[2025-06-16 08:16:40,114] Processing | FILE = KDD_Cup_1999_Multiclass                                          | SIZE = 6.02 MB\n"
     ]
    },
    {
     "data": {
      "application/vnd.jupyter.widget-view+json": {
       "model_id": "8f1fb57d596143c184379f8036a9516c",
       "version_major": 2,
       "version_minor": 0
      },
      "text/plain": [
       "Executing:   0%|          | 0/16 [00:00<?, ?cell/s]"
      ]
     },
     "metadata": {},
     "output_type": "display_data"
    },
    {
     "name": "stdout",
     "output_type": "stream",
     "text": [
      "[2025-06-16 08:22:40,829] ERROR      | FILE = KDD_Cup_1999_Multiclass                                          | EXCEPTION = Unknown format code 'f' for object of type 'str'\n",
      "[2025-06-16 08:22:40,830] Processing | FILE = BCCC_CIC-BCCC-NRC-IoT-2022_Multiclass                            | SIZE = 8.33 MB\n"
     ]
    },
    {
     "data": {
      "application/vnd.jupyter.widget-view+json": {
       "model_id": "4d6ba2db6f6848e7b095177bdad9f079",
       "version_major": 2,
       "version_minor": 0
      },
      "text/plain": [
       "Executing:   0%|          | 0/16 [00:00<?, ?cell/s]"
      ]
     },
     "metadata": {},
     "output_type": "display_data"
    },
    {
     "name": "stdout",
     "output_type": "stream",
     "text": [
      "[2025-06-16 08:27:57,948] ERROR      | FILE = BCCC_CIC-BCCC-NRC-IoT-2022_Multiclass                            | EXCEPTION = \n",
      "---------------------------------------------------------------------------\n",
      "Exception encountered at \"In [6]\":\n",
      "---------------------------------------------------------------------------\n",
      "AssertionError                            Traceback (most recent call last)\n",
      "Cell In[6], line 8\n",
      "      6     assert problem_type == \"Binomial\", \"Wrong problem type for Binary classification\"\n",
      "      7 elif BASE_FILENAME.endswith('Multiclass'):\n",
      "----> 8     assert problem_type == \"Multinomial\", \"Wrong problem type for Multiclass classification\"\n",
      "\n",
      "AssertionError: Wrong problem type for Multiclass classification\n",
      "\n",
      "[2025-06-16 08:27:57,949] Processing | FILE = NIDS_NF-ToN-IoT_Multiclass                                       | SIZE = 9.03 MB\n"
     ]
    },
    {
     "data": {
      "application/vnd.jupyter.widget-view+json": {
       "model_id": "5f1ae83cbb9749bd9a9db8a0ffef8916",
       "version_major": 2,
       "version_minor": 0
      },
      "text/plain": [
       "Executing:   0%|          | 0/16 [00:00<?, ?cell/s]"
      ]
     },
     "metadata": {},
     "output_type": "display_data"
    },
    {
     "name": "stdout",
     "output_type": "stream",
     "text": [
      "[2025-06-16 08:33:27,427] Processed  | FILE = NIDS_NF-ToN-IoT_Multiclass                                       | F1_WEIGHTED = 0.599557 | LOG_LOSS = 1.323411\n",
      "[2025-06-16 08:33:37,429] Processing | FILE = NIDS_NF-UNSW-NB15_Multiclass                                     | SIZE = 16.89 MB\n"
     ]
    },
    {
     "data": {
      "application/vnd.jupyter.widget-view+json": {
       "model_id": "81f4c998ec214ff294db12b35ad83550",
       "version_major": 2,
       "version_minor": 0
      },
      "text/plain": [
       "Executing:   0%|          | 0/16 [00:00<?, ?cell/s]"
      ]
     },
     "metadata": {},
     "output_type": "display_data"
    },
    {
     "name": "stdout",
     "output_type": "stream",
     "text": [
      "[2025-06-16 08:39:02,623] Processed  | FILE = NIDS_NF-UNSW-NB15_Multiclass                                     | F1_WEIGHTED = 0.979807 | LOG_LOSS = 0.717422\n",
      "[2025-06-16 08:39:12,624] Processing | FILE = IoT_Network_Intrusion_Macro_Multiclass                           | SIZE = 17.50 MB\n"
     ]
    },
    {
     "data": {
      "application/vnd.jupyter.widget-view+json": {
       "model_id": "1cc6e13ad40443c28face3ddff167b28",
       "version_major": 2,
       "version_minor": 0
      },
      "text/plain": [
       "Executing:   0%|          | 0/16 [00:00<?, ?cell/s]"
      ]
     },
     "metadata": {},
     "output_type": "display_data"
    },
    {
     "name": "stdout",
     "output_type": "stream",
     "text": [
      "[2025-06-16 08:44:59,183] Processed  | FILE = IoT_Network_Intrusion_Macro_Multiclass                           | F1_WEIGHTED = 0.985110 | LOG_LOSS = 0.152249\n",
      "[2025-06-16 08:45:09,184] Processing | FILE = IoT_Network_Intrusion_Micro_Multiclass                           | SIZE = 17.50 MB\n"
     ]
    },
    {
     "data": {
      "application/vnd.jupyter.widget-view+json": {
       "model_id": "c8cabd338e5749408a91ce2b58fc77c5",
       "version_major": 2,
       "version_minor": 0
      },
      "text/plain": [
       "Executing:   0%|          | 0/16 [00:00<?, ?cell/s]"
      ]
     },
     "metadata": {},
     "output_type": "display_data"
    },
    {
     "name": "stdout",
     "output_type": "stream",
     "text": [
      "[2025-06-16 08:51:18,800] Processed  | FILE = IoT_Network_Intrusion_Micro_Multiclass                           | F1_WEIGHTED = 0.983836 | LOG_LOSS = 1.005543\n",
      "[2025-06-16 08:51:28,801] Processing | FILE = IoT_23_Multiclass                                                | SIZE = 21.25 MB\n"
     ]
    },
    {
     "data": {
      "application/vnd.jupyter.widget-view+json": {
       "model_id": "4790d4f481c9448c8f2e48a62b53a135",
       "version_major": 2,
       "version_minor": 0
      },
      "text/plain": [
       "Executing:   0%|          | 0/16 [00:00<?, ?cell/s]"
      ]
     },
     "metadata": {},
     "output_type": "display_data"
    },
    {
     "name": "stdout",
     "output_type": "stream",
     "text": [
      "[2025-06-16 08:57:52,353] ERROR      | FILE = IoT_23_Multiclass                                                | EXCEPTION = Unknown format code 'f' for object of type 'str'\n",
      "[2025-06-16 08:57:52,374] Processing | FILE = BCCC_CIC-BCCC-NRC-ACI-IOT-2023_Multiclass                        | SIZE = 32.30 MB\n"
     ]
    },
    {
     "data": {
      "application/vnd.jupyter.widget-view+json": {
       "model_id": "516afbe79ac24e9eb0b2e7542d4ddcc8",
       "version_major": 2,
       "version_minor": 0
      },
      "text/plain": [
       "Executing:   0%|          | 0/16 [00:00<?, ?cell/s]"
      ]
     },
     "metadata": {},
     "output_type": "display_data"
    },
    {
     "name": "stdout",
     "output_type": "stream",
     "text": [
      "[2025-06-16 09:04:34,131] Processed  | FILE = BCCC_CIC-BCCC-NRC-ACI-IOT-2023_Multiclass                        | F1_WEIGHTED = 0.862308 | LOG_LOSS = 1.264562\n",
      "[2025-06-16 09:04:44,132] Processing | FILE = NIDS_NF-UNSW-NB15-v2_Multiclass                                  | SIZE = 53.03 MB\n"
     ]
    },
    {
     "data": {
      "application/vnd.jupyter.widget-view+json": {
       "model_id": "200f7f089bf44109914e547d6a4926b5",
       "version_major": 2,
       "version_minor": 0
      },
      "text/plain": [
       "Executing:   0%|          | 0/16 [00:00<?, ?cell/s]"
      ]
     },
     "metadata": {},
     "output_type": "display_data"
    },
    {
     "name": "stdout",
     "output_type": "stream",
     "text": [
      "[2025-06-16 09:10:50,063] Processed  | FILE = NIDS_NF-UNSW-NB15-v2_Multiclass                                  | F1_WEIGHTED = 0.990306 | LOG_LOSS = 1.012056\n",
      "[2025-06-16 09:11:00,065] Processing | FILE = NIDS_NF-CSE-CIC-IDS2018_Multiclass                               | SIZE = 60.05 MB\n"
     ]
    },
    {
     "data": {
      "application/vnd.jupyter.widget-view+json": {
       "model_id": "253a9f98eb844ebe97664fdd33c94512",
       "version_major": 2,
       "version_minor": 0
      },
      "text/plain": [
       "Executing:   0%|          | 0/16 [00:00<?, ?cell/s]"
      ]
     },
     "metadata": {},
     "output_type": "display_data"
    },
    {
     "name": "stdout",
     "output_type": "stream",
     "text": [
      "[2025-06-16 09:17:24,456] Processed  | FILE = NIDS_NF-CSE-CIC-IDS2018_Multiclass                               | F1_WEIGHTED = 0.983303 | LOG_LOSS = 0.857992\n",
      "[2025-06-16 09:17:34,479] Processing | FILE = NIDS_NF-BoT-IoT-v3_Multiclass                                    | SIZE = 60.71 MB\n"
     ]
    },
    {
     "data": {
      "application/vnd.jupyter.widget-view+json": {
       "model_id": "0bbbced50b2f43b1ac1f809db69f988c",
       "version_major": 2,
       "version_minor": 0
      },
      "text/plain": [
       "Executing:   0%|          | 0/16 [00:00<?, ?cell/s]"
      ]
     },
     "metadata": {},
     "output_type": "display_data"
    },
    {
     "name": "stdout",
     "output_type": "stream",
     "text": [
      "[2025-06-16 09:26:38,775] Processed  | FILE = NIDS_NF-BoT-IoT-v3_Multiclass                                    | F1_WEIGHTED = 0.995826 | LOG_LOSS = 0.960818\n",
      "[2025-06-16 09:26:48,778] Processing | FILE = NIDS_NF-UQ-NIDS_Multiclass                                       | SIZE = 88.56 MB\n"
     ]
    },
    {
     "data": {
      "application/vnd.jupyter.widget-view+json": {
       "model_id": "1c86e2bf0e894d7fa46771774f9cdf30",
       "version_major": 2,
       "version_minor": 0
      },
      "text/plain": [
       "Executing:   0%|          | 0/16 [00:00<?, ?cell/s]"
      ]
     },
     "metadata": {},
     "output_type": "display_data"
    },
    {
     "name": "stdout",
     "output_type": "stream",
     "text": [
      "[2025-06-16 09:33:43,901] Processed  | FILE = NIDS_NF-UQ-NIDS_Multiclass                                       | F1_WEIGHTED = 0.922445 | LOG_LOSS = 0.765742\n",
      "[2025-06-16 09:33:53,903] Processing | FILE = BCCC_CIC-BCCC-NRC-TONIoT-2021_Multiclass                         | SIZE = 89.99 MB\n"
     ]
    },
    {
     "data": {
      "application/vnd.jupyter.widget-view+json": {
       "model_id": "48d854b5b9a042d1861a469b6704ce98",
       "version_major": 2,
       "version_minor": 0
      },
      "text/plain": [
       "Executing:   0%|          | 0/16 [00:00<?, ?cell/s]"
      ]
     },
     "metadata": {},
     "output_type": "display_data"
    },
    {
     "name": "stdout",
     "output_type": "stream",
     "text": [
      "[2025-06-16 09:39:54,860] Processed  | FILE = BCCC_CIC-BCCC-NRC-TONIoT-2021_Multiclass                         | F1_WEIGHTED = 0.987807 | LOG_LOSS = 0.053992\n",
      "[2025-06-16 09:40:04,862] Processing | FILE = NIDS_NF-UNSW-NB15-v3_Multiclass                                  | SIZE = 92.20 MB\n"
     ]
    },
    {
     "data": {
      "application/vnd.jupyter.widget-view+json": {
       "model_id": "dc6c9bd635404cb7829ab2b37ae15a6a",
       "version_major": 2,
       "version_minor": 0
      },
      "text/plain": [
       "Executing:   0%|          | 0/16 [00:00<?, ?cell/s]"
      ]
     },
     "metadata": {},
     "output_type": "display_data"
    },
    {
     "name": "stdout",
     "output_type": "stream",
     "text": [
      "[2025-06-16 09:46:19,102] Processed  | FILE = NIDS_NF-UNSW-NB15-v3_Multiclass                                  | F1_WEIGHTED = 0.986242 | LOG_LOSS = 1.019634\n",
      "[2025-06-16 09:46:29,105] Processing | FILE = UNSW_NB15_Multiclass                                             | SIZE = 103.51 MB\n"
     ]
    },
    {
     "data": {
      "application/vnd.jupyter.widget-view+json": {
       "model_id": "8065113d3fa540598e4f7d4e6af7da06",
       "version_major": 2,
       "version_minor": 0
      },
      "text/plain": [
       "Executing:   0%|          | 0/16 [00:00<?, ?cell/s]"
      ]
     },
     "metadata": {},
     "output_type": "display_data"
    },
    {
     "name": "stdout",
     "output_type": "stream",
     "text": [
      "[2025-06-16 09:52:51,781] Processed  | FILE = UNSW_NB15_Multiclass                                             | F1_WEIGHTED = 0.982778 | LOG_LOSS = 0.998971\n",
      "[2025-06-16 09:53:01,784] Processing | FILE = BCCC_CIC-BCCC-NRC-Edge-IIoTSet-2022_Multiclass                   | SIZE = 106.70 MB\n"
     ]
    },
    {
     "data": {
      "application/vnd.jupyter.widget-view+json": {
       "model_id": "31bfd217d23847229339d0e871d1902d",
       "version_major": 2,
       "version_minor": 0
      },
      "text/plain": [
       "Executing:   0%|          | 0/16 [00:00<?, ?cell/s]"
      ]
     },
     "metadata": {},
     "output_type": "display_data"
    },
    {
     "name": "stdout",
     "output_type": "stream",
     "text": [
      "[2025-06-16 09:53:58,063] ERROR      | FILE = BCCC_CIC-BCCC-NRC-Edge-IIoTSet-2022_Multiclass                   | EXCEPTION = \n",
      "---------------------------------------------------------------------------\n",
      "Exception encountered at \"In [4]\":\n",
      "---------------------------------------------------------------------------\n",
      "H2OValueError                             Traceback (most recent call last)\n",
      "Cell In[4], line 22\n",
      "     20 for col, dtype in metadata[\"dtypes\"].items():\n",
      "     21     if dtype == \"category\":\n",
      "---> 22         hf[col] = hf[col].asfactor()\n",
      "     23         assert hf[col].isfactor()[0], f\"{col} not converted to factor\"\n",
      "     25 # Step 5: Print result\n",
      "\n",
      "File ~/miniforge3/envs/h2o/lib/python3.12/site-packages/h2o/frame.py:3309, in H2OFrame.asfactor(self)\n",
      "   3307         t = self.types[colname]\n",
      "   3308         if t not in {\"bool\", \"int\", \"string\", \"enum\"}:\n",
      "-> 3309             raise H2OValueError(\"Only 'int' or 'string' are allowed for \"\n",
      "   3310                                 \"asfactor(), got %s:%s \" % (colname, t))\n",
      "   3311 fr = H2OFrame._expr(expr=ExprNode(\"as.factor\", self), cache=self._ex._cache)\n",
      "   3312 if fr._ex._cache.types_valid():\n",
      "\n",
      "H2OValueError: Only 'int' or 'string' are allowed for asfactor(), got Active Std:real \n",
      "\n",
      "[2025-06-16 09:53:58,065] Processing | FILE = BoT_IoT_Macro_Multiclass                                         | SIZE = 137.31 MB\n"
     ]
    },
    {
     "data": {
      "application/vnd.jupyter.widget-view+json": {
       "model_id": "7532b816fdc94e90b5213bab63a69d6d",
       "version_major": 2,
       "version_minor": 0
      },
      "text/plain": [
       "Executing:   0%|          | 0/16 [00:00<?, ?cell/s]"
      ]
     },
     "metadata": {},
     "output_type": "display_data"
    },
    {
     "name": "stdout",
     "output_type": "stream",
     "text": [
      "[2025-06-16 10:08:03,201] ERROR      | FILE = BoT_IoT_Macro_Multiclass                                         | EXCEPTION = \n",
      "---------------------------------------------------------------------------\n",
      "Exception encountered at \"In [6]\":\n",
      "---------------------------------------------------------------------------\n",
      "AttributeError                            Traceback (most recent call last)\n",
      "Cell In[6], line 1\n",
      "----> 1 algo_type = aml.leader.algo\n",
      "      2 assert algo_type is not None, \"Wrong algorithm type (should be != None)\"\n",
      "      4 problem_type = aml.leader._model_json['output']['model_category']\n",
      "\n",
      "AttributeError: 'NoneType' object has no attribute 'algo'\n",
      "\n",
      "[2025-06-16 10:08:03,226] Processing | FILE = BoT_IoT_Micro_Multiclass                                         | SIZE = 137.33 MB\n"
     ]
    },
    {
     "data": {
      "application/vnd.jupyter.widget-view+json": {
       "model_id": "bd9b7e528e33426180bde65d6e5934d9",
       "version_major": 2,
       "version_minor": 0
      },
      "text/plain": [
       "Executing:   0%|          | 0/16 [00:00<?, ?cell/s]"
      ]
     },
     "metadata": {},
     "output_type": "display_data"
    },
    {
     "name": "stdout",
     "output_type": "stream",
     "text": [
      "[2025-06-16 10:20:40,275] ERROR      | FILE = BoT_IoT_Micro_Multiclass                                         | EXCEPTION = \n",
      "---------------------------------------------------------------------------\n",
      "Exception encountered at \"In [6]\":\n",
      "---------------------------------------------------------------------------\n",
      "AttributeError                            Traceback (most recent call last)\n",
      "Cell In[6], line 1\n",
      "----> 1 algo_type = aml.leader.algo\n",
      "      2 assert algo_type is not None, \"Wrong algorithm type (should be != None)\"\n",
      "      4 problem_type = aml.leader._model_json['output']['model_category']\n",
      "\n",
      "AttributeError: 'NoneType' object has no attribute 'algo'\n",
      "\n",
      "[2025-06-16 10:20:40,294] Processing | FILE = NIDS_NF-ToN-IoT-v2_Multiclass                                    | SIZE = 168.81 MB\n"
     ]
    },
    {
     "data": {
      "application/vnd.jupyter.widget-view+json": {
       "model_id": "7b891f65cc2a44a99f04ddf341db36d3",
       "version_major": 2,
       "version_minor": 0
      },
      "text/plain": [
       "Executing:   0%|          | 0/16 [00:00<?, ?cell/s]"
      ]
     },
     "metadata": {},
     "output_type": "display_data"
    },
    {
     "name": "stdout",
     "output_type": "stream",
     "text": [
      "[2025-06-16 10:29:45,513] Processed  | FILE = NIDS_NF-ToN-IoT-v2_Multiclass                                    | F1_WEIGHTED = 0.965671 | LOG_LOSS = 1.079468\n",
      "[2025-06-16 10:29:55,517] Processing | FILE = BCCC_CIC-BCCC-NRC-UQ-IOT-2022_Multiclass                         | SIZE = 171.28 MB\n"
     ]
    },
    {
     "data": {
      "application/vnd.jupyter.widget-view+json": {
       "model_id": "a3503242d5fc486a9056c97a75c79777",
       "version_major": 2,
       "version_minor": 0
      },
      "text/plain": [
       "Executing:   0%|          | 0/16 [00:00<?, ?cell/s]"
      ]
     },
     "metadata": {},
     "output_type": "display_data"
    },
    {
     "name": "stdout",
     "output_type": "stream",
     "text": [
      "[2025-06-16 10:31:21,911] ERROR      | FILE = BCCC_CIC-BCCC-NRC-UQ-IOT-2022_Multiclass                         | EXCEPTION = \n",
      "---------------------------------------------------------------------------\n",
      "Exception encountered at \"In [4]\":\n",
      "---------------------------------------------------------------------------\n",
      "H2OValueError                             Traceback (most recent call last)\n",
      "Cell In[4], line 22\n",
      "     20 for col, dtype in metadata[\"dtypes\"].items():\n",
      "     21     if dtype == \"category\":\n",
      "---> 22         hf[col] = hf[col].asfactor()\n",
      "     23         assert hf[col].isfactor()[0], f\"{col} not converted to factor\"\n",
      "     25 # Step 5: Print result\n",
      "\n",
      "File ~/miniforge3/envs/h2o/lib/python3.12/site-packages/h2o/frame.py:3309, in H2OFrame.asfactor(self)\n",
      "   3307         t = self.types[colname]\n",
      "   3308         if t not in {\"bool\", \"int\", \"string\", \"enum\"}:\n",
      "-> 3309             raise H2OValueError(\"Only 'int' or 'string' are allowed for \"\n",
      "   3310                                 \"asfactor(), got %s:%s \" % (colname, t))\n",
      "   3311 fr = H2OFrame._expr(expr=ExprNode(\"as.factor\", self), cache=self._ex._cache)\n",
      "   3312 if fr._ex._cache.types_valid():\n",
      "\n",
      "H2OValueError: Only 'int' or 'string' are allowed for asfactor(), got Fwd Packet Length Mean:real \n",
      "\n",
      "[2025-06-16 10:31:21,913] Processing | FILE = BCCC_CIC-BCCC-NRC-IoMT-2024_Multiclass                           | SIZE = 187.86 MB\n"
     ]
    },
    {
     "data": {
      "application/vnd.jupyter.widget-view+json": {
       "model_id": "66233d6036754a8a8e616893dd2cddbd",
       "version_major": 2,
       "version_minor": 0
      },
      "text/plain": [
       "Executing:   0%|          | 0/16 [00:00<?, ?cell/s]"
      ]
     },
     "metadata": {},
     "output_type": "display_data"
    },
    {
     "name": "stdout",
     "output_type": "stream",
     "text": [
      "[2025-06-16 10:39:12,166] ERROR      | FILE = BCCC_CIC-BCCC-NRC-IoMT-2024_Multiclass                           | EXCEPTION = \n",
      "---------------------------------------------------------------------------\n",
      "Exception encountered at \"In [6]\":\n",
      "---------------------------------------------------------------------------\n",
      "AttributeError                            Traceback (most recent call last)\n",
      "Cell In[6], line 1\n",
      "----> 1 algo_type = aml.leader.algo\n",
      "      2 assert algo_type is not None, \"Wrong algorithm type (should be != None)\"\n",
      "      4 problem_type = aml.leader._model_json['output']['model_category']\n",
      "\n",
      "AttributeError: 'NoneType' object has no attribute 'algo'\n",
      "\n",
      "[2025-06-16 10:39:12,167] Processing | FILE = BCCC_CIC-BCCC-NRC-MQTTIoT-IDS-2020_Multiclass                    | SIZE = 196.75 MB\n"
     ]
    },
    {
     "data": {
      "application/vnd.jupyter.widget-view+json": {
       "model_id": "58b9596ce04649a1b92cf5a51af7a8fe",
       "version_major": 2,
       "version_minor": 0
      },
      "text/plain": [
       "Executing:   0%|          | 0/16 [00:00<?, ?cell/s]"
      ]
     },
     "metadata": {},
     "output_type": "display_data"
    },
    {
     "name": "stdout",
     "output_type": "stream",
     "text": [
      "[2025-06-16 10:40:18,170] ERROR      | FILE = BCCC_CIC-BCCC-NRC-MQTTIoT-IDS-2020_Multiclass                    | EXCEPTION = \n",
      "---------------------------------------------------------------------------\n",
      "Exception encountered at \"In [4]\":\n",
      "---------------------------------------------------------------------------\n",
      "H2OValueError                             Traceback (most recent call last)\n",
      "Cell In[4], line 22\n",
      "     20 for col, dtype in metadata[\"dtypes\"].items():\n",
      "     21     if dtype == \"category\":\n",
      "---> 22         hf[col] = hf[col].asfactor()\n",
      "     23         assert hf[col].isfactor()[0], f\"{col} not converted to factor\"\n",
      "     25 # Step 5: Print result\n",
      "\n",
      "File ~/miniforge3/envs/h2o/lib/python3.12/site-packages/h2o/frame.py:3309, in H2OFrame.asfactor(self)\n",
      "   3307         t = self.types[colname]\n",
      "   3308         if t not in {\"bool\", \"int\", \"string\", \"enum\"}:\n",
      "-> 3309             raise H2OValueError(\"Only 'int' or 'string' are allowed for \"\n",
      "   3310                                 \"asfactor(), got %s:%s \" % (colname, t))\n",
      "   3311 fr = H2OFrame._expr(expr=ExprNode(\"as.factor\", self), cache=self._ex._cache)\n",
      "   3312 if fr._ex._cache.types_valid():\n",
      "\n",
      "H2OValueError: Only 'int' or 'string' are allowed for asfactor(), got Active Std:real \n",
      "\n",
      "[2025-06-16 10:40:18,171] Processing | FILE = NIDS_NF-ToN-IoT-v3_Multiclass                                    | SIZE = 303.79 MB\n"
     ]
    },
    {
     "data": {
      "application/vnd.jupyter.widget-view+json": {
       "model_id": "4f70343f324749c4aaed1a3357ac5556",
       "version_major": 2,
       "version_minor": 0
      },
      "text/plain": [
       "Executing:   0%|          | 0/16 [00:00<?, ?cell/s]"
      ]
     },
     "metadata": {},
     "output_type": "display_data"
    },
    {
     "name": "stdout",
     "output_type": "stream",
     "text": [
      "[2025-06-16 10:49:08,966] ERROR      | FILE = NIDS_NF-ToN-IoT-v3_Multiclass                                    | EXCEPTION = \n",
      "---------------------------------------------------------------------------\n",
      "Exception encountered at \"In [6]\":\n",
      "---------------------------------------------------------------------------\n",
      "AttributeError                            Traceback (most recent call last)\n",
      "Cell In[6], line 1\n",
      "----> 1 algo_type = aml.leader.algo\n",
      "      2 assert algo_type is not None, \"Wrong algorithm type (should be != None)\"\n",
      "      4 problem_type = aml.leader._model_json['output']['model_category']\n",
      "\n",
      "AttributeError: 'NoneType' object has no attribute 'algo'\n",
      "\n",
      "[2025-06-16 10:49:08,967] Processing | FILE = BCCC_CIC-BCCC-NRC-IoT-2023-Original_Training_and_Testing_Multiclass | SIZE = 304.48 MB\n"
     ]
    },
    {
     "data": {
      "application/vnd.jupyter.widget-view+json": {
       "model_id": "4837b96d12914a098d55e98be6603d67",
       "version_major": 2,
       "version_minor": 0
      },
      "text/plain": [
       "Executing:   0%|          | 0/16 [00:00<?, ?cell/s]"
      ]
     },
     "metadata": {},
     "output_type": "display_data"
    },
    {
     "name": "stdout",
     "output_type": "stream",
     "text": [
      "[2025-06-16 10:51:26,945] ERROR      | FILE = BCCC_CIC-BCCC-NRC-IoT-2023-Original_Training_and_Testing_Multiclass | EXCEPTION = \n",
      "---------------------------------------------------------------------------\n",
      "Exception encountered at \"In [4]\":\n",
      "---------------------------------------------------------------------------\n",
      "H2OValueError                             Traceback (most recent call last)\n",
      "Cell In[4], line 22\n",
      "     20 for col, dtype in metadata[\"dtypes\"].items():\n",
      "     21     if dtype == \"category\":\n",
      "---> 22         hf[col] = hf[col].asfactor()\n",
      "     23         assert hf[col].isfactor()[0], f\"{col} not converted to factor\"\n",
      "     25 # Step 5: Print result\n",
      "\n",
      "File ~/miniforge3/envs/h2o/lib/python3.12/site-packages/h2o/frame.py:3309, in H2OFrame.asfactor(self)\n",
      "   3307         t = self.types[colname]\n",
      "   3308         if t not in {\"bool\", \"int\", \"string\", \"enum\"}:\n",
      "-> 3309             raise H2OValueError(\"Only 'int' or 'string' are allowed for \"\n",
      "   3310                                 \"asfactor(), got %s:%s \" % (colname, t))\n",
      "   3311 fr = H2OFrame._expr(expr=ExprNode(\"as.factor\", self), cache=self._ex._cache)\n",
      "   3312 if fr._ex._cache.types_valid():\n",
      "\n",
      "H2OValueError: Only 'int' or 'string' are allowed for asfactor(), got Active Std:real \n",
      "\n",
      "[2025-06-16 10:51:26,946] Processing | FILE = NIDS_CIC-ToN-IoT_Multiclass                                      | SIZE = 409.68 MB\n"
     ]
    },
    {
     "data": {
      "application/vnd.jupyter.widget-view+json": {
       "model_id": "9100168d28c94d189881322fe168bf8a",
       "version_major": 2,
       "version_minor": 0
      },
      "text/plain": [
       "Executing:   0%|          | 0/16 [00:00<?, ?cell/s]"
      ]
     },
     "metadata": {},
     "output_type": "display_data"
    },
    {
     "name": "stdout",
     "output_type": "stream",
     "text": [
      "[2025-06-16 11:01:26,682] ERROR      | FILE = NIDS_CIC-ToN-IoT_Multiclass                                      | EXCEPTION = \n",
      "---------------------------------------------------------------------------\n",
      "Exception encountered at \"In [6]\":\n",
      "---------------------------------------------------------------------------\n",
      "AttributeError                            Traceback (most recent call last)\n",
      "Cell In[6], line 1\n",
      "----> 1 algo_type = aml.leader.algo\n",
      "      2 assert algo_type is not None, \"Wrong algorithm type (should be != None)\"\n",
      "      4 problem_type = aml.leader._model_json['output']['model_category']\n",
      "\n",
      "AttributeError: 'NoneType' object has no attribute 'algo'\n",
      "\n",
      "[2025-06-16 11:01:26,683] Processing | FILE = NIDS_NF-BoT-IoT-v2_Multiclass                                    | SIZE = 474.22 MB\n"
     ]
    },
    {
     "data": {
      "application/vnd.jupyter.widget-view+json": {
       "model_id": "f5ebfe64be2c4c9ab3da142a783da78d",
       "version_major": 2,
       "version_minor": 0
      },
      "text/plain": [
       "Executing:   0%|          | 0/16 [00:00<?, ?cell/s]"
      ]
     },
     "metadata": {},
     "output_type": "display_data"
    },
    {
     "name": "stdout",
     "output_type": "stream",
     "text": [
      "[2025-06-16 11:12:57,126] ERROR      | FILE = NIDS_NF-BoT-IoT-v2_Multiclass                                    | EXCEPTION = \n",
      "---------------------------------------------------------------------------\n",
      "Exception encountered at \"In [6]\":\n",
      "---------------------------------------------------------------------------\n",
      "AttributeError                            Traceback (most recent call last)\n",
      "Cell In[6], line 1\n",
      "----> 1 algo_type = aml.leader.algo\n",
      "      2 assert algo_type is not None, \"Wrong algorithm type (should be != None)\"\n",
      "      4 problem_type = aml.leader._model_json['output']['model_category']\n",
      "\n",
      "AttributeError: 'NoneType' object has no attribute 'algo'\n",
      "\n",
      "[2025-06-16 11:12:57,152] Processing | FILE = NIDS_NF-CSE-CIC-IDS2018-v2_Multiclass                            | SIZE = 515.33 MB\n"
     ]
    },
    {
     "data": {
      "application/vnd.jupyter.widget-view+json": {
       "model_id": "63dfcb5855d74417b6f0fc76bf49d0a1",
       "version_major": 2,
       "version_minor": 0
      },
      "text/plain": [
       "Executing:   0%|          | 0/16 [00:00<?, ?cell/s]"
      ]
     },
     "metadata": {},
     "output_type": "display_data"
    },
    {
     "name": "stdout",
     "output_type": "stream",
     "text": [
      "[2025-06-16 11:24:53,590] ERROR      | FILE = NIDS_NF-CSE-CIC-IDS2018-v2_Multiclass                            | EXCEPTION = \n",
      "---------------------------------------------------------------------------\n",
      "Exception encountered at \"In [6]\":\n",
      "---------------------------------------------------------------------------\n",
      "AttributeError                            Traceback (most recent call last)\n",
      "Cell In[6], line 1\n",
      "----> 1 algo_type = aml.leader.algo\n",
      "      2 assert algo_type is not None, \"Wrong algorithm type (should be != None)\"\n",
      "      4 problem_type = aml.leader._model_json['output']['model_category']\n",
      "\n",
      "AttributeError: 'NoneType' object has no attribute 'algo'\n",
      "\n",
      "[2025-06-16 11:24:53,592] Processing | FILE = NIDS_NF-CICIDS2018-v3_Multiclass                                 | SIZE = 697.06 MB\n"
     ]
    },
    {
     "data": {
      "application/vnd.jupyter.widget-view+json": {
       "model_id": "f0af79d66f6a45b3874c8f374b500568",
       "version_major": 2,
       "version_minor": 0
      },
      "text/plain": [
       "Executing:   0%|          | 0/16 [00:00<?, ?cell/s]"
      ]
     },
     "metadata": {},
     "output_type": "display_data"
    },
    {
     "name": "stdout",
     "output_type": "stream",
     "text": [
      "[2025-06-16 11:33:02,596] ERROR      | FILE = NIDS_NF-CICIDS2018-v3_Multiclass                                 | EXCEPTION = \n",
      "---------------------------------------------------------------------------\n",
      "Exception encountered at \"In [6]\":\n",
      "---------------------------------------------------------------------------\n",
      "AttributeError                            Traceback (most recent call last)\n",
      "Cell In[6], line 1\n",
      "----> 1 algo_type = aml.leader.algo\n",
      "      2 assert algo_type is not None, \"Wrong algorithm type (should be != None)\"\n",
      "      4 problem_type = aml.leader._model_json['output']['model_category']\n",
      "\n",
      "AttributeError: 'NoneType' object has no attribute 'algo'\n",
      "\n",
      "[2025-06-16 11:33:02,597] Processing | FILE = NIDS_CIC-BoT-IoT_Multiclass                                      | SIZE = 1484.23 MB\n"
     ]
    },
    {
     "data": {
      "application/vnd.jupyter.widget-view+json": {
       "model_id": "052a9012310641628e71668e03245964",
       "version_major": 2,
       "version_minor": 0
      },
      "text/plain": [
       "Executing:   0%|          | 0/16 [00:00<?, ?cell/s]"
      ]
     },
     "metadata": {},
     "output_type": "display_data"
    },
    {
     "name": "stdout",
     "output_type": "stream",
     "text": [
      "[2025-06-16 11:46:38,963] ERROR      | FILE = NIDS_CIC-BoT-IoT_Multiclass                                      | EXCEPTION = \n",
      "---------------------------------------------------------------------------\n",
      "Exception encountered at \"In [6]\":\n",
      "---------------------------------------------------------------------------\n",
      "AttributeError                            Traceback (most recent call last)\n",
      "Cell In[6], line 1\n",
      "----> 1 algo_type = aml.leader.algo\n",
      "      2 assert algo_type is not None, \"Wrong algorithm type (should be != None)\"\n",
      "      4 problem_type = aml.leader._model_json['output']['model_category']\n",
      "\n",
      "AttributeError: 'NoneType' object has no attribute 'algo'\n",
      "\n",
      "[2025-06-16 11:46:38,965] Processing | FILE = NIDS_NF-UQ-NIDS-v2_Multiclass                                    | SIZE = 1848.79 MB\n"
     ]
    },
    {
     "data": {
      "application/vnd.jupyter.widget-view+json": {
       "model_id": "803434e70cca45f6925fa748e9cce654",
       "version_major": 2,
       "version_minor": 0
      },
      "text/plain": [
       "Executing:   0%|          | 0/16 [00:00<?, ?cell/s]"
      ]
     },
     "metadata": {},
     "output_type": "display_data"
    },
    {
     "name": "stdout",
     "output_type": "stream",
     "text": [
      "[2025-06-16 12:18:10,267] ERROR      | FILE = NIDS_NF-UQ-NIDS-v2_Multiclass                                    | EXCEPTION = \n",
      "---------------------------------------------------------------------------\n",
      "Exception encountered at \"In [6]\":\n",
      "---------------------------------------------------------------------------\n",
      "AttributeError                            Traceback (most recent call last)\n",
      "Cell In[6], line 1\n",
      "----> 1 algo_type = aml.leader.algo\n",
      "      2 assert algo_type is not None, \"Wrong algorithm type (should be != None)\"\n",
      "      4 problem_type = aml.leader._model_json['output']['model_category']\n",
      "\n",
      "AttributeError: 'NoneType' object has no attribute 'algo'\n",
      "\n"
     ]
    }
   ],
   "source": [
    "from pathlib import Path\n",
    "from time import sleep\n",
    "from tqdm.notebook import tqdm\n",
    "import os\n",
    "import papermill as pm\n",
    "\n",
    "for kind in [\"Binary\", \"Multiclass\"]:\n",
    "\n",
    "    base_folder = Path(f\"2025-06-13/{kind}\")\n",
    "    \n",
    "    # Find all .parquet files recursively\n",
    "    parquet_files = list(base_folder.rglob(\"*.parquet\"))\n",
    "    \n",
    "    # Sort by file size (ascending)\n",
    "    parquet_files_sorted = sorted(parquet_files, key=lambda p: os.path.getsize(p))\n",
    "    \n",
    "    # Iterate\n",
    "    for file in tqdm(parquet_files_sorted, desc='File', leave='False'):\n",
    "        \n",
    "        base_filename = os.path.join(file.parent, file.stem)\n",
    "        oos_results_filename = f'{base_filename}_results_oos.json'\n",
    "        size_mb = os.path.getsize(file) / (1024 * 1024)\n",
    "        input_notebook = 'hdoiso_code.ipynb'\n",
    "        output_notebook = f'{base_filename}.ipynb'\n",
    "    \n",
    "        try:\n",
    "    \n",
    "            tqdm.write(f'[{now()}] Processing | FILE = {str(file.stem):<64} | SIZE = {size_mb:.2f} MB')\n",
    "        \n",
    "            if not Path(oos_results_filename).exists():\n",
    "        \n",
    "                pm.execute_notebook(\n",
    "                    input_notebook,\n",
    "                    output_notebook,\n",
    "                    parameters=dict(\n",
    "                        N_THREADS=os.cpu_count(),\n",
    "                        MAX_MEM_SIZE=\"96G\",\n",
    "                        BASE_FILENAME=base_filename,\n",
    "                        TARGET_COL='label',\n",
    "                        TRAIN_TEST_SPLIT=0.8,\n",
    "                        MAX_RUNTIME_SECS=300,\n",
    "                        BALANCE_CLASSES=True,\n",
    "                        N_FOLDS=5,\n",
    "                        SEED=42\n",
    "                    )\n",
    "                )\n",
    "        \n",
    "            oos_f1_weighted, oos_log_loss = load_oos_results(oos_results_filename)\n",
    "            tqdm.write(f'[{now()}] Processed  | FILE = {str(file.stem):<64} | F1_WEIGHTED = {oos_f1_weighted:.6f} | LOG_LOSS = {oos_log_loss:.6f}')\n",
    "            sleep(10)\n",
    "            \n",
    "        except Exception as e:\n",
    "            tqdm.write(f'[{now()}] ERROR      | FILE = {str(file.stem):<64} | EXCEPTION = {str(e)}')"
   ]
  }
 ],
 "metadata": {
  "kernelspec": {
   "display_name": "Python 3 (ipykernel)",
   "language": "python",
   "name": "python3"
  },
  "language_info": {
   "codemirror_mode": {
    "name": "ipython",
    "version": 3
   },
   "file_extension": ".py",
   "mimetype": "text/x-python",
   "name": "python",
   "nbconvert_exporter": "python",
   "pygments_lexer": "ipython3",
   "version": "3.12.11"
  }
 },
 "nbformat": 4,
 "nbformat_minor": 5
}
