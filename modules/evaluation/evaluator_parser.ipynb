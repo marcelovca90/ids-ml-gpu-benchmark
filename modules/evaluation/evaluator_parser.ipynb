{
 "cells": [
  {
   "cell_type": "code",
   "execution_count": null,
   "id": "de4909c4-1ffb-4a6f-b481-8d2461422f45",
   "metadata": {},
   "outputs": [],
   "source": [
    "from datetime import datetime\n",
    "import json\n",
    "import numpy as np\n",
    "import pandas as pd\n",
    "\n",
    "# Show all rows\n",
    "pd.set_option('display.max_rows', None)\n",
    "\n",
    "# Optional: prevent column truncation\n",
    "pd.set_option('display.max_columns', None)\n",
    "pd.set_option('display.width', 0)  # Auto-detect width\n",
    "\n",
    "def now():\n",
    "    now = datetime.now()\n",
    "    yyyymmdd_hhmmss_part = now.strftime('%Y-%m-%d %H:%M:%S')\n",
    "    ms_part = f'{int(now.microsecond / 1000):03d}'\n",
    "    return f'{yyyymmdd_hhmmss_part},{ms_part}'\n",
    "\n",
    "def get_full_shape(df_filename):\n",
    "    df = pd.read_parquet(df_filename)\n",
    "    n_rows, n_cols = df.shape\n",
    "    n_cols -= 1 # discard target\n",
    "    n_labels = df['label'].nunique()\n",
    "    return n_rows, n_cols, n_labels\n",
    "\n",
    "def get_dtypes(df_filename):\n",
    "    df = pd.read_parquet(df_filename)\n",
    "    dtypes = set([str(x) for x in df.dtypes.tolist()])\n",
    "    return dtypes"
   ]
  },
  {
   "cell_type": "code",
   "execution_count": null,
   "id": "3538bab2-5636-44ed-a0c0-3d213ad331fd",
   "metadata": {},
   "outputs": [],
   "source": [
    "from pathlib import Path\n",
    "from time import sleep\n",
    "from tqdm.notebook import tqdm\n",
    "import os\n",
    "import papermill as pm"
   ]
  },
  {
   "cell_type": "code",
   "execution_count": null,
   "id": "0accf4e2-bdc4-43a0-ab4f-e783aaedbd92",
   "metadata": {},
   "outputs": [],
   "source": [
    "base_folder = Path(\"/home/automl/git/iot-threat-classifier/2025-06-28/Input_Multiclass\")\n",
    "\n",
    "file_sizes = {}\n",
    "shapes = {}\n",
    "dtypes = {}\n",
    "\n",
    "# Find all .parquet files recursively\n",
    "parquet_files = list(base_folder.rglob(\"*.parquet\"))\n",
    "\n",
    "# Sort by file size (ascending)\n",
    "parquet_files_sorted = sorted(parquet_files, key=lambda p: os.path.getsize(p))\n",
    "\n",
    "# Iterate\n",
    "for file in tqdm(parquet_files_sorted, desc='File', leave='False'):\n",
    "\n",
    "    try:\n",
    "        file_sizes[file.stem] = os.path.getsize(file) / 1024 / 1024\n",
    "        shapes[file.stem] = get_full_shape(file)\n",
    "        dtypes[file.stem] = get_dtypes(file)\n",
    "        \n",
    "    except (ValueError, Exception) as e:\n",
    "        tqdm.write(f'[{now()}] ERROR      | FILE = {str(file.stem):<64} | EXCEPTION = {e}')"
   ]
  },
  {
   "cell_type": "code",
   "execution_count": null,
   "id": "fb092520-80a1-4b3f-b2ac-5a552b19ac70",
   "metadata": {},
   "outputs": [],
   "source": [
    "# Build the DataFrame\n",
    "df_raw = pd.DataFrame({\n",
    "    'size_mb': file_sizes,\n",
    "    'samples': {k: v[0] for k, v in shapes.items()}, \n",
    "    'features': {k: v[1] for k, v in shapes.items()},\n",
    "    'classes': {k: v[2] for k, v in shapes.items()},\n",
    "    'dtypes': dtypes\n",
    "})\n",
    "\n",
    "# Set index using the row labels (i.e., filenames)\n",
    "df_raw.index.name = \"filename\"\n",
    "\n",
    "# Now you can style it\n",
    "input_df = df_raw.style.format({\n",
    "    'size_mb': '{:.2f}',\n",
    "    'samples': '{:,.0f}'\n",
    "})\n",
    "\n",
    "input_df"
   ]
  },
  {
   "cell_type": "code",
   "execution_count": null,
   "id": "281c9a2f-a716-45ea-9c99-eeae62ad33d3",
   "metadata": {},
   "outputs": [],
   "source": [
    "def summarize_results(df_filename, results_filename):\n",
    "    df = pd.read_excel(results_filename)\n",
    "    row_full = df.loc[df['Unnamed: 0'] == 'full', 'X_train_shape'].values[0]\n",
    "    row_max = df.loc[df['f1_score_abs'].idxmax()].to_dict()\n",
    "    if 'Unnamed: 0' in row_max:\n",
    "        row_max['best_config'] = row_max.pop('Unnamed: 0')\n",
    "    summary = {'filename': df_filename, 'shape': row_full,}\n",
    "    summary.update(row_max)\n",
    "    return summary"
   ]
  },
  {
   "cell_type": "code",
   "execution_count": null,
   "id": "2f9ab260-903c-4715-89d5-fd7372c5eb82",
   "metadata": {},
   "outputs": [],
   "source": [
    "base_folder = Path(\"/home/automl/git/iot-threat-classifier/2025-06-28/Output_Multiclass\")\n",
    "\n",
    "summary_rows = []\n",
    "\n",
    "# Find all .parquet files recursively\n",
    "result_files = list(base_folder.rglob(\"*table.xlsx\"))\n",
    "\n",
    "# Iterate\n",
    "for file in tqdm(result_files, desc='File', leave='False'):\n",
    "\n",
    "    try:\n",
    "        short_filename = str(file.parent.stem)\n",
    "        row = summarize_results(short_filename, file)\n",
    "        summary_rows.append(row)\n",
    "        \n",
    "    except (ValueError, Exception) as e:\n",
    "        tqdm.write(f'[{now()}] ERROR      | FILE = {str(file.stem):<64} | EXCEPTION = {e}')"
   ]
  },
  {
   "cell_type": "code",
   "execution_count": null,
   "id": "215675a6-be91-44c3-ad17-66e313209e79",
   "metadata": {},
   "outputs": [],
   "source": [
    "output_df = pd.DataFrame(summary_rows).set_index(\"filename\")\n",
    "\n",
    "output_df"
   ]
  },
  {
   "cell_type": "code",
   "execution_count": null,
   "id": "09387692-39d3-4a55-bd26-37ce0216a9c7",
   "metadata": {},
   "outputs": [],
   "source": [
    "summary_df = input_df.data.join(output_df, how='left')\n",
    "\n",
    "summary_df"
   ]
  },
  {
   "cell_type": "code",
   "execution_count": null,
   "id": "c5dcb8b4-ce47-488d-84f5-7d889242f9b4",
   "metadata": {},
   "outputs": [],
   "source": [
    "summary_df.to_excel(\"/home/automl/git/iot-threat-classifier/2025-06-28/summary.xlsx\")"
   ]
  },
  {
   "cell_type": "code",
   "execution_count": null,
   "id": "eb0a41a2-17a6-4cfc-9088-9502103887db",
   "metadata": {},
   "outputs": [],
   "source": [
    "summary_df[summary_df.isna().any(axis=1)]"
   ]
  },
  {
   "cell_type": "code",
   "execution_count": null,
   "id": "71674670-c1b4-41a3-a35b-7f2cc3b10212",
   "metadata": {},
   "outputs": [],
   "source": [
    "summary_df[summary_df.isna().any(axis=1)].to_excel(\"/home/automl/git/iot-threat-classifier/2025-06-28/errors.xlsx\")"
   ]
  }
 ],
 "metadata": {
  "kernelspec": {
   "display_name": "Python 3 (ipykernel)",
   "language": "python",
   "name": "python3"
  },
  "language_info": {
   "codemirror_mode": {
    "name": "ipython",
    "version": 3
   },
   "file_extension": ".py",
   "mimetype": "text/x-python",
   "name": "python",
   "nbconvert_exporter": "python",
   "pygments_lexer": "ipython3",
   "version": "3.12.10"
  }
 },
 "nbformat": 4,
 "nbformat_minor": 5
}
