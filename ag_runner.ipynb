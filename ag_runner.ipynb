{
 "cells": [
  {
   "cell_type": "code",
   "execution_count": 1,
   "id": "27a82064-6093-4a25-8459-2af877e3de4c",
   "metadata": {},
   "outputs": [],
   "source": [
    "# !pip install papermill"
   ]
  },
  {
   "cell_type": "code",
   "execution_count": 2,
   "id": "2e73dbf8-fa7a-4ab0-bd01-25259c733910",
   "metadata": {},
   "outputs": [],
   "source": [
    "from datetime import datetime\n",
    "import json\n",
    "\n",
    "def now():\n",
    "    now = datetime.now()\n",
    "    yyyymmdd_hhmmss_part = now.strftime('%Y-%m-%d %H:%M:%S')\n",
    "    ms_part = f'{int(now.microsecond / 1000):03d}'\n",
    "    return f'{yyyymmdd_hhmmss_part},{ms_part}'\n",
    "\n",
    "def load_results(results_filename):\n",
    "    with open(results_filename, 'r', encoding='utf-8') as f:\n",
    "        content = json.load(f)\n",
    "        f1_weighted = content[\"leaderboard\"][0][\"score_val\"]\n",
    "        fit_time = content[\"leaderboard\"][0][\"fit_time\"]\n",
    "    return f'{f1_weighted:.6f}', f'{fit_time:.3f}'"
   ]
  },
  {
   "cell_type": "code",
   "execution_count": null,
   "id": "d3b18448-632e-471a-868e-199d69d5008b",
   "metadata": {
    "editable": true,
    "slideshow": {
     "slide_type": ""
    },
    "tags": []
   },
   "outputs": [
    {
     "data": {
      "application/vnd.jupyter.widget-view+json": {
       "model_id": "392c868d4b99442e8661ed94f2f394b5",
       "version_major": 2,
       "version_minor": 0
      },
      "text/plain": [
       "Kind:   0%|          | 0/2 [00:00<?, ?it/s]"
      ]
     },
     "metadata": {},
     "output_type": "display_data"
    },
    {
     "data": {
      "application/vnd.jupyter.widget-view+json": {
       "model_id": "039f23c1c7ed4ae3a7286ad2a1dc541f",
       "version_major": 2,
       "version_minor": 0
      },
      "text/plain": [
       "File:   0%|          | 0/46 [00:00<?, ?it/s]"
      ]
     },
     "metadata": {},
     "output_type": "display_data"
    },
    {
     "name": "stdout",
     "output_type": "stream",
     "text": [
      "[2025-06-19 02:26:05,310] Processing | FILE = EDGE-IIOTSET_ML-EdgeIIoT_Multiclass                              | FILE_SIZE   = 2.063 MB     | MAX_TIME = 60    \n",
      "[2025-06-19 02:26:05,311] Processed  | FILE = EDGE-IIOTSET_ML-EdgeIIoT_Multiclass                              | F1_WEIGHTED = 0.936288     | FIT_TIME = 49.432\n",
      "[2025-06-19 02:26:05,311] Processing | FILE = NIDS_NF-BoT-IoT_Multiclass                                       | FILE_SIZE   = 2.134 MB     | MAX_TIME = 60    \n",
      "[2025-06-19 02:26:05,311] Processed  | FILE = NIDS_NF-BoT-IoT_Multiclass                                       | F1_WEIGHTED = 0.955481     | FIT_TIME = 48.966\n",
      "[2025-06-19 02:26:05,311] Processing | FILE = MQTT_IoT_IDS2020_BiflowFeatures_Multiclass                       | FILE_SIZE   = 3.081 MB     | MAX_TIME = 60    \n",
      "[2025-06-19 02:26:05,312] Processed  | FILE = MQTT_IoT_IDS2020_BiflowFeatures_Multiclass                       | F1_WEIGHTED = 0.998471     | FIT_TIME = 43.100\n",
      "[2025-06-19 02:26:05,312] Processing | FILE = MQTT_IoT_IDS2020_UniflowFeatures_Multiclass                      | FILE_SIZE   = 3.866 MB     | MAX_TIME = 60    \n",
      "[2025-06-19 02:26:05,312] Processed  | FILE = MQTT_IoT_IDS2020_UniflowFeatures_Multiclass                      | F1_WEIGHTED = 0.998096     | FIT_TIME = 50.849\n",
      "[2025-06-19 02:26:05,312] Processing | FILE = BCCC_CIC-BCCC-NRC-IoT-HCRL-2019_Multiclass                       | FILE_SIZE   = 3.971 MB     | MAX_TIME = 60    \n",
      "[2025-06-19 02:26:05,312] Processed  | FILE = BCCC_CIC-BCCC-NRC-IoT-HCRL-2019_Multiclass                       | F1_WEIGHTED = 0.971141     | FIT_TIME = 51.246\n",
      "[2025-06-19 02:26:05,313] Processing | FILE = MQTT_IoT_IDS2020_PacketFeatures_Multiclass                       | FILE_SIZE   = 4.306 MB     | MAX_TIME = 60    \n",
      "[2025-06-19 02:26:05,313] Processed  | FILE = MQTT_IoT_IDS2020_PacketFeatures_Multiclass                       | F1_WEIGHTED = 0.994007     | FIT_TIME = 44.975\n",
      "[2025-06-19 02:26:05,313] Processing | FILE = BCCC_CIC-BCCC-NRC-IoT-2022_Multiclass                            | FILE_SIZE   = 8.331 MB     | MAX_TIME = 60    \n",
      "[2025-06-19 02:26:05,313] Processed  | FILE = BCCC_CIC-BCCC-NRC-IoT-2022_Multiclass                            | F1_WEIGHTED = 0.999971     | FIT_TIME = 2.700 \n",
      "[2025-06-19 02:26:05,313] Processing | FILE = NIDS_NF-ToN-IoT_Multiclass                                       | FILE_SIZE   = 9.031 MB     | MAX_TIME = 60    \n",
      "[2025-06-19 02:26:05,314] Processed  | FILE = NIDS_NF-ToN-IoT_Multiclass                                       | F1_WEIGHTED = 0.587780     | FIT_TIME = 40.395\n",
      "[2025-06-19 02:26:05,314] Processing | FILE = EDGE-IIOTSET_DNN-EdgeIIoT_Multiclass                             | FILE_SIZE   = 16.021 MB    | MAX_TIME = 60    \n",
      "[2025-06-19 02:26:05,314] Processed  | FILE = EDGE-IIOTSET_DNN-EdgeIIoT_Multiclass                             | F1_WEIGHTED = 0.944284     | FIT_TIME = 20.333\n",
      "[2025-06-19 02:26:05,314] Processing | FILE = NIDS_NF-UNSW-NB15_Multiclass                                     | FILE_SIZE   = 16.890 MB    | MAX_TIME = 60    \n",
      "[2025-06-19 02:26:05,314] Processed  | FILE = NIDS_NF-UNSW-NB15_Multiclass                                     | F1_WEIGHTED = 0.971884     | FIT_TIME = 32.036\n",
      "[2025-06-19 02:26:05,314] Processing | FILE = IoT_Network_Intrusion_Macro_Multiclass                           | FILE_SIZE   = 17.502 MB    | MAX_TIME = 60    \n",
      "[2025-06-19 02:26:05,315] Processed  | FILE = IoT_Network_Intrusion_Macro_Multiclass                           | F1_WEIGHTED = 0.963574     | FIT_TIME = 23.606\n",
      "[2025-06-19 02:26:05,315] Processing | FILE = IoT_Network_Intrusion_Micro_Multiclass                           | FILE_SIZE   = 17.503 MB    | MAX_TIME = 60    \n",
      "[2025-06-19 02:26:05,315] Processed  | FILE = IoT_Network_Intrusion_Micro_Multiclass                           | F1_WEIGHTED = 0.955104     | FIT_TIME = 26.495\n",
      "[2025-06-19 02:26:05,315] Processing | FILE = N_BaIoT_Ennio_Doorbell_Multiclass                                | FILE_SIZE   = 25.492 MB    | MAX_TIME = 60    \n",
      "[2025-06-19 02:26:05,315] Processed  | FILE = N_BaIoT_Ennio_Doorbell_Multiclass                                | F1_WEIGHTED = 0.999313     | FIT_TIME = 44.146\n",
      "[2025-06-19 02:26:05,315] Processing | FILE = BCCC_CIC-BCCC-NRC-ACI-IOT-2023_Multiclass                        | FILE_SIZE   = 32.303 MB    | MAX_TIME = 60    \n",
      "[2025-06-19 02:26:05,316] Processed  | FILE = BCCC_CIC-BCCC-NRC-ACI-IOT-2023_Multiclass                        | F1_WEIGHTED = 0.910216     | FIT_TIME = 33.847\n",
      "[2025-06-19 02:26:05,316] Processing | FILE = N_BaIoT_Samsung_SNH_1011_N_Webcam_Multiclass                     | FILE_SIZE   = 32.347 MB    | MAX_TIME = 60    \n",
      "[2025-06-19 02:26:05,316] Processed  | FILE = N_BaIoT_Samsung_SNH_1011_N_Webcam_Multiclass                     | F1_WEIGHTED = 0.999235     | FIT_TIME = 42.911\n",
      "[2025-06-19 02:26:05,316] Processing | FILE = NIDS_NF-UNSW-NB15-v2_Multiclass                                  | FILE_SIZE   = 52.630 MB    | MAX_TIME = 60    \n",
      "[2025-06-19 02:26:05,316] Processed  | FILE = NIDS_NF-UNSW-NB15-v2_Multiclass                                  | F1_WEIGHTED = 0.987049     | FIT_TIME = 16.933\n",
      "[2025-06-19 02:26:05,316] Processing | FILE = NIDS_NF-CSE-CIC-IDS2018_Multiclass                               | FILE_SIZE   = 60.046 MB    | MAX_TIME = 60    \n",
      "[2025-06-19 02:26:05,317] Processed  | FILE = NIDS_NF-CSE-CIC-IDS2018_Multiclass                               | F1_WEIGHTED = 0.982164     | FIT_TIME = 29.673\n",
      "[2025-06-19 02:26:05,317] Processing | FILE = NIDS_NF-BoT-IoT-v3_Multiclass                                    | FILE_SIZE   = 60.636 MB    | MAX_TIME = 60    \n",
      "[2025-06-19 02:26:05,317] Processed  | FILE = NIDS_NF-BoT-IoT-v3_Multiclass                                    | F1_WEIGHTED = 0.757180     | FIT_TIME = 38.969\n",
      "[2025-06-19 02:26:05,317] Processing | FILE = NIDS_NF-UQ-NIDS_Multiclass                                       | FILE_SIZE   = 88.560 MB    | MAX_TIME = 60    \n",
      "[2025-06-19 02:26:05,317] Processed  | FILE = NIDS_NF-UQ-NIDS_Multiclass                                       | F1_WEIGHTED = 0.908287     | FIT_TIME = 13.883\n",
      "[2025-06-19 02:26:05,317] Processing | FILE = BCCC_CIC-BCCC-NRC-TONIoT-2021_Multiclass                         | FILE_SIZE   = 89.992 MB    | MAX_TIME = 60    \n",
      "[2025-06-19 02:26:05,318] Processed  | FILE = BCCC_CIC-BCCC-NRC-TONIoT-2021_Multiclass                         | F1_WEIGHTED = 0.984495     | FIT_TIME = 36.180\n",
      "[2025-06-19 02:26:05,318] Processing | FILE = NIDS_NF-UNSW-NB15-v3_Multiclass                                  | FILE_SIZE   = 91.770 MB    | MAX_TIME = 60    \n",
      "[2025-06-19 02:26:05,318] Processed  | FILE = NIDS_NF-UNSW-NB15-v3_Multiclass                                  | F1_WEIGHTED = 0.982918     | FIT_TIME = 15.220\n",
      "[2025-06-19 02:26:05,318] Processing | FILE = UNSW_NB15_Multiclass                                             | FILE_SIZE   = 103.513 MB   | MAX_TIME = 60    \n",
      "[2025-06-19 02:26:05,318] Processed  | FILE = UNSW_NB15_Multiclass                                             | F1_WEIGHTED = 0.977525     | FIT_TIME = 15.975\n",
      "[2025-06-19 02:26:05,318] Processing | FILE = N_BaIoT_Provision_PT_737E_Security_Camera_Multiclass             | FILE_SIZE   = 104.172 MB   | MAX_TIME = 60    \n",
      "[2025-06-19 02:26:05,319] Processed  | FILE = N_BaIoT_Provision_PT_737E_Security_Camera_Multiclass             | F1_WEIGHTED = 0.994170     | FIT_TIME = 29.535\n",
      "[2025-06-19 02:26:05,319] Processing | FILE = BCCC_CIC-BCCC-NRC-Edge-IIoTSet-2022_Multiclass                   | FILE_SIZE   = 106.703 MB   | MAX_TIME = 60    \n",
      "[2025-06-19 02:26:05,319] Processed  | FILE = BCCC_CIC-BCCC-NRC-Edge-IIoTSet-2022_Multiclass                   | F1_WEIGHTED = 0.913140     | FIT_TIME = 10.195\n",
      "[2025-06-19 02:26:05,319] Processing | FILE = N_BaIoT_SimpleHome_XCS7_1003_WHT_Security_Camera_Multiclass      | FILE_SIZE   = 109.313 MB   | MAX_TIME = 60    \n",
      "[2025-06-19 02:26:05,319] Processed  | FILE = N_BaIoT_SimpleHome_XCS7_1003_WHT_Security_Camera_Multiclass      | F1_WEIGHTED = 0.994806     | FIT_TIME = 29.817\n",
      "[2025-06-19 02:26:05,320] Processing | FILE = N_BaIoT_Ecobee_Thermostat_Multiclass                             | FILE_SIZE   = 111.438 MB   | MAX_TIME = 60    \n",
      "[2025-06-19 02:26:05,320] Processed  | FILE = N_BaIoT_Ecobee_Thermostat_Multiclass                             | F1_WEIGHTED = 0.995949     | FIT_TIME = 29.882\n",
      "[2025-06-19 02:26:05,320] Processing | FILE = N_BaIoT_Provision_PT_838_Security_Camera_Multiclass              | FILE_SIZE   = 113.750 MB   | MAX_TIME = 60    \n",
      "[2025-06-19 02:26:05,320] Processed  | FILE = N_BaIoT_Provision_PT_838_Security_Camera_Multiclass              | F1_WEIGHTED = 0.997139     | FIT_TIME = 35.556\n",
      "[2025-06-19 02:26:05,321] Processing | FILE = N_BaIoT_SimpleHome_XCS7_1002_WHT_Security_Camera_Multiclass      | FILE_SIZE   = 113.784 MB   | MAX_TIME = 60    \n",
      "[2025-06-19 02:26:05,321] Processed  | FILE = N_BaIoT_SimpleHome_XCS7_1002_WHT_Security_Camera_Multiclass      | F1_WEIGHTED = 0.995209     | FIT_TIME = 29.895\n",
      "[2025-06-19 02:26:05,321] Processing | FILE = N_BaIoT_Danmini_Doorbell_Multiclass                              | FILE_SIZE   = 115.935 MB   | MAX_TIME = 60    \n",
      "[2025-06-19 02:26:05,322] Processed  | FILE = N_BaIoT_Danmini_Doorbell_Multiclass                              | F1_WEIGHTED = 0.993914     | FIT_TIME = 29.439\n",
      "[2025-06-19 02:26:05,322] Processing | FILE = BoT_IoT_Macro_Multiclass                                         | FILE_SIZE   = 137.306 MB   | MAX_TIME = 60    \n",
      "[2025-06-19 02:26:05,322] Processed  | FILE = BoT_IoT_Macro_Multiclass                                         | F1_WEIGHTED = 0.724113     | FIT_TIME = 68.560\n",
      "[2025-06-19 02:26:05,322] Processing | FILE = BoT_IoT_Micro_Multiclass                                         | FILE_SIZE   = 137.326 MB   | MAX_TIME = 60    \n",
      "[2025-06-19 02:26:05,322] Processed  | FILE = BoT_IoT_Micro_Multiclass                                         | F1_WEIGHTED = 0.697989     | FIT_TIME = 85.263\n",
      "[2025-06-19 02:26:05,322] Processing | FILE = N_BaIoT_Philips_B120N10_Baby_Monitor_Multiclass                  | FILE_SIZE   = 146.050 MB   | MAX_TIME = 60    \n",
      "[2025-06-19 02:26:05,323] Processed  | FILE = N_BaIoT_Philips_B120N10_Baby_Monitor_Multiclass                  | F1_WEIGHTED = 0.989116     | FIT_TIME = 29.381\n",
      "[2025-06-19 02:26:05,323] Processing | FILE = NIDS_NF-ToN-IoT-v2_Multiclass                                    | FILE_SIZE   = 153.995 MB   | MAX_TIME = 60    \n",
      "[2025-06-19 02:26:05,323] Processed  | FILE = NIDS_NF-ToN-IoT-v2_Multiclass                                    | F1_WEIGHTED = 0.856601     | FIT_TIME = 49.304\n",
      "[2025-06-19 02:26:05,323] Processing | FILE = BCCC_CIC-BCCC-NRC-UQ-IOT-2022_Multiclass                         | FILE_SIZE   = 171.283 MB   | MAX_TIME = 60    \n",
      "[2025-06-19 02:26:05,323] Processed  | FILE = BCCC_CIC-BCCC-NRC-UQ-IOT-2022_Multiclass                         | F1_WEIGHTED = 0.999562     | FIT_TIME = 45.324\n",
      "[2025-06-19 02:26:05,323] Processing | FILE = BCCC_CIC-BCCC-NRC-IoMT-2024_Multiclass                           | FILE_SIZE   = 187.855 MB   | MAX_TIME = 60    \n",
      "[2025-06-19 02:26:05,324] Processed  | FILE = BCCC_CIC-BCCC-NRC-IoMT-2024_Multiclass                           | F1_WEIGHTED = 0.954655     | FIT_TIME = 47.359\n",
      "[2025-06-19 02:26:05,324] Processing | FILE = BCCC_CIC-BCCC-NRC-MQTTIoT-IDS-2020_Multiclass                    | FILE_SIZE   = 196.749 MB   | MAX_TIME = 60    \n",
      "[2025-06-19 02:26:05,324] Processed  | FILE = BCCC_CIC-BCCC-NRC-MQTTIoT-IDS-2020_Multiclass                    | F1_WEIGHTED = 0.933401     | FIT_TIME = 7.019 \n",
      "[2025-06-19 02:26:05,324] Processing | FILE = NIDS_NF-ToN-IoT-v3_Multiclass                                    | FILE_SIZE   = 290.126 MB   | MAX_TIME = 60    \n",
      "[2025-06-19 02:26:05,324] Processed  | FILE = NIDS_NF-ToN-IoT-v3_Multiclass                                    | F1_WEIGHTED = 0.398203     | FIT_TIME = 44.698\n",
      "[2025-06-19 02:26:05,324] Processing | FILE = BCCC_CIC-BCCC-NRC-IoT-2023-Original_Training_and_Testing_Multiclass | FILE_SIZE   = 304.477 MB   | MAX_TIME = 60    \n",
      "[2025-06-19 02:26:05,324] Processed  | FILE = BCCC_CIC-BCCC-NRC-IoT-2023-Original_Training_and_Testing_Multiclass | F1_WEIGHTED = 0.998626     | FIT_TIME = 68.267\n",
      "[2025-06-19 02:26:05,325] Processing | FILE = NIDS_CIC-ToN-IoT_Multiclass                                      | FILE_SIZE   = 409.676 MB   | MAX_TIME = 60    \n",
      "[2025-06-19 02:26:05,325] Processed  | FILE = NIDS_CIC-ToN-IoT_Multiclass                                      | F1_WEIGHTED = 0.790913     | FIT_TIME = 14.710\n",
      "[2025-06-19 02:26:05,325] Processing | FILE = NIDS_NF-CSE-CIC-IDS2018-v2_Multiclass                            | FILE_SIZE   = 471.846 MB   | MAX_TIME = 60    \n",
      "[2025-06-19 02:26:05,325] Processed  | FILE = NIDS_NF-CSE-CIC-IDS2018-v2_Multiclass                            | F1_WEIGHTED = 0.822311     | FIT_TIME = 46.264\n",
      "[2025-06-19 02:26:05,325] Processing | FILE = NIDS_NF-BoT-IoT-v2_Multiclass                                    | FILE_SIZE   = 473.923 MB   | MAX_TIME = 60    \n",
      "[2025-06-19 02:26:05,325] Processed  | FILE = NIDS_NF-BoT-IoT-v2_Multiclass                                    | F1_WEIGHTED = 0.908751     | FIT_TIME = 104.633\n",
      "[2025-06-19 02:26:05,326] Processing | FILE = NIDS_NF-CICIDS2018-v3_Multiclass                                 | FILE_SIZE   = 656.682 MB   | MAX_TIME = 60    \n",
      "[2025-06-19 02:26:05,326] Processed  | FILE = NIDS_NF-CICIDS2018-v3_Multiclass                                 | F1_WEIGHTED = 0.989001     | FIT_TIME = 161.682\n",
      "[2025-06-19 02:26:05,326] Processing | FILE = NIDS_CIC-BoT-IoT_Multiclass                                      | FILE_SIZE   = 1484.234 MB  | MAX_TIME = 60    \n",
      "[2025-06-19 02:26:05,326] Processed  | FILE = NIDS_CIC-BoT-IoT_Multiclass                                      | F1_WEIGHTED = 0.562218     | FIT_TIME = 274.696\n"
     ]
    },
    {
     "data": {
      "application/vnd.jupyter.widget-view+json": {
       "model_id": "ba2285f6399647b5acfbc2c9b227f1df",
       "version_major": 2,
       "version_minor": 0
      },
      "text/plain": [
       "File:   0%|          | 0/46 [00:00<?, ?it/s]"
      ]
     },
     "metadata": {},
     "output_type": "display_data"
    },
    {
     "name": "stdout",
     "output_type": "stream",
     "text": [
      "[2025-06-19 02:26:05,333] Processing | FILE = NIDS_NF-BoT-IoT_Binary                                           | FILE_SIZE   = 1.825 MB     | MAX_TIME = 60    \n"
     ]
    },
    {
     "data": {
      "application/vnd.jupyter.widget-view+json": {
       "model_id": "068bbe7d33294f0083199f80d2951c8c",
       "version_major": 2,
       "version_minor": 0
      },
      "text/plain": [
       "Executing:   0%|          | 0/15 [00:00<?, ?cell/s]"
      ]
     },
     "metadata": {},
     "output_type": "display_data"
    },
    {
     "name": "stderr",
     "output_type": "stream",
     "text": [
      "*** SIGTERM received at time=1750310930 on cpu 6 ***\n",
      "PC: @     0x72c8ea725e2e  (unknown)  epoll_wait\n",
      "    @     0x72c7757ac0ed         64  absl::lts_20230802::AbslFailureSignalHandler()\n",
      "    @     0x72c8ea642520  (unknown)  (unknown)\n",
      "[2025-06-19 02:28:50,655 E 25466 25466] logging.cc:440: *** SIGTERM received at time=1750310930 on cpu 6 ***\n",
      "[2025-06-19 02:28:50,655 E 25466 25466] logging.cc:440: PC: @     0x72c8ea725e2e  (unknown)  epoll_wait\n",
      "[2025-06-19 02:28:50,657 E 25466 25466] logging.cc:440:     @     0x72c7757ac119         64  absl::lts_20230802::AbslFailureSignalHandler()\n",
      "[2025-06-19 02:28:50,657 E 25466 25466] logging.cc:440:     @     0x72c8ea642520  (unknown)  (unknown)\n"
     ]
    },
    {
     "name": "stdout",
     "output_type": "stream",
     "text": [
      "[2025-06-19 02:28:53,278] Processed  | FILE = NIDS_NF-BoT-IoT_Binary                                           | F1_WEIGHTED = 0.993885     | FIT_TIME = 33.135\n",
      "[2025-06-19 02:28:53,279] Processing | FILE = EDGE-IIOTSET_ML-EdgeIIoT_Binary                                  | FILE_SIZE   = 2.073 MB     | MAX_TIME = 60    \n",
      "[2025-06-19 02:28:53,280] Processed  | FILE = EDGE-IIOTSET_ML-EdgeIIoT_Binary                                  | F1_WEIGHTED = 1.000000     | FIT_TIME = 1.165 \n",
      "[2025-06-19 02:28:53,280] Processing | FILE = MQTT_IoT_IDS2020_BiflowFeatures_Binary                           | FILE_SIZE   = 3.079 MB     | MAX_TIME = 60    \n",
      "[2025-06-19 02:28:53,282] Processed  | FILE = MQTT_IoT_IDS2020_BiflowFeatures_Binary                           | F1_WEIGHTED = 0.998966     | FIT_TIME = 24.216\n",
      "[2025-06-19 02:28:53,282] Processing | FILE = MQTT_IoT_IDS2020_UniflowFeatures_Binary                          | FILE_SIZE   = 3.864 MB     | MAX_TIME = 60    \n",
      "[2025-06-19 02:28:53,282] Processed  | FILE = MQTT_IoT_IDS2020_UniflowFeatures_Binary                          | F1_WEIGHTED = 0.998945     | FIT_TIME = 26.635\n",
      "[2025-06-19 02:28:53,282] Processing | FILE = BCCC_CIC-BCCC-NRC-IoT-HCRL-2019_Binary                           | FILE_SIZE   = 3.900 MB     | MAX_TIME = 60    \n",
      "[2025-06-19 02:28:53,283] Processed  | FILE = BCCC_CIC-BCCC-NRC-IoT-HCRL-2019_Binary                           | F1_WEIGHTED = 0.997390     | FIT_TIME = 37.191\n",
      "[2025-06-19 02:28:53,283] Processing | FILE = MQTT_IoT_IDS2020_PacketFeatures_Binary                           | FILE_SIZE   = 4.294 MB     | MAX_TIME = 60    \n",
      "[2025-06-19 02:28:53,283] Processed  | FILE = MQTT_IoT_IDS2020_PacketFeatures_Binary                           | F1_WEIGHTED = 0.997119     | FIT_TIME = 46.477\n",
      "[2025-06-19 02:28:53,283] Processing | FILE = NIDS_NF-ToN-IoT_Binary                                           | FILE_SIZE   = 6.948 MB     | MAX_TIME = 60    \n"
     ]
    },
    {
     "data": {
      "application/vnd.jupyter.widget-view+json": {
       "model_id": "7435c43f9d174867b34b25cbba69cf28",
       "version_major": 2,
       "version_minor": 0
      },
      "text/plain": [
       "Executing:   0%|          | 0/15 [00:00<?, ?cell/s]"
      ]
     },
     "metadata": {},
     "output_type": "display_data"
    },
    {
     "name": "stderr",
     "output_type": "stream",
     "text": [
      "*** SIGTERM received at time=1750311117 on cpu 0 ***\n",
      "PC: @     0x702e2b325e2e  (unknown)  epoll_wait\n",
      "    @     0x702c99bac0ed         64  absl::lts_20230802::AbslFailureSignalHandler()\n",
      "    @     0x702e2b242520  (unknown)  (unknown)\n",
      "[2025-06-19 02:31:57,053 E 29758 29758] logging.cc:440: *** SIGTERM received at time=1750311117 on cpu 0 ***\n",
      "[2025-06-19 02:31:57,053 E 29758 29758] logging.cc:440: PC: @     0x702e2b325e2e  (unknown)  epoll_wait\n",
      "[2025-06-19 02:31:57,055 E 29758 29758] logging.cc:440:     @     0x702c99bac119         64  absl::lts_20230802::AbslFailureSignalHandler()\n",
      "[2025-06-19 02:31:57,055 E 29758 29758] logging.cc:440:     @     0x702e2b242520  (unknown)  (unknown)\n"
     ]
    },
    {
     "name": "stdout",
     "output_type": "stream",
     "text": [
      "[2025-06-19 02:31:59,677] Processed  | FILE = NIDS_NF-ToN-IoT_Binary                                           | F1_WEIGHTED = 0.998503     | FIT_TIME = 45.190\n",
      "[2025-06-19 02:31:59,678] Processing | FILE = BCCC_CIC-BCCC-NRC-IoT-2022_Binary                                | FILE_SIZE   = 8.331 MB     | MAX_TIME = 60    \n",
      "[2025-06-19 02:31:59,679] Processed  | FILE = BCCC_CIC-BCCC-NRC-IoT-2022_Binary                                | F1_WEIGHTED = 0.999971     | FIT_TIME = 2.705 \n",
      "[2025-06-19 02:31:59,679] Processing | FILE = EDGE-IIOTSET_DNN-EdgeIIoT_Binary                                 | FILE_SIZE   = 16.024 MB    | MAX_TIME = 60    \n",
      "[2025-06-19 02:31:59,679] Processed  | FILE = EDGE-IIOTSET_DNN-EdgeIIoT_Binary                                 | F1_WEIGHTED = 1.000000     | FIT_TIME = 4.377 \n",
      "[2025-06-19 02:31:59,680] Processing | FILE = NIDS_NF-UNSW-NB15_Binary                                         | FILE_SIZE   = 16.813 MB    | MAX_TIME = 60    \n"
     ]
    },
    {
     "data": {
      "application/vnd.jupyter.widget-view+json": {
       "model_id": "0e1945b2cff542f198de43c15f7be472",
       "version_major": 2,
       "version_minor": 0
      },
      "text/plain": [
       "Executing:   0%|          | 0/15 [00:00<?, ?cell/s]"
      ]
     },
     "metadata": {},
     "output_type": "display_data"
    },
    {
     "name": "stderr",
     "output_type": "stream",
     "text": [
      "*** SIGTERM received at time=1750311346 on cpu 11 ***\n",
      "PC: @     0x7f51b2725e2e  (unknown)  epoll_wait\n",
      "    @     0x7f50101ac0ed         64  absl::lts_20230802::AbslFailureSignalHandler()\n",
      "    @     0x7f51b2642520  (unknown)  (unknown)\n",
      "[2025-06-19 02:35:46,519 E 516 516] logging.cc:440: *** SIGTERM received at time=1750311346 on cpu 11 ***\n",
      "[2025-06-19 02:35:46,520 E 516 516] logging.cc:440: PC: @     0x7f51b2725e2e  (unknown)  epoll_wait\n",
      "[2025-06-19 02:35:46,522 E 516 516] logging.cc:440:     @     0x7f50101ac119         64  absl::lts_20230802::AbslFailureSignalHandler()\n",
      "[2025-06-19 02:35:46,522 E 516 516] logging.cc:440:     @     0x7f51b2642520  (unknown)  (unknown)\n"
     ]
    },
    {
     "name": "stdout",
     "output_type": "stream",
     "text": [
      "[2025-06-19 02:35:49,141] Processed  | FILE = NIDS_NF-UNSW-NB15_Binary                                         | F1_WEIGHTED = 0.987532     | FIT_TIME = 42.897\n",
      "[2025-06-19 02:35:49,143] Processing | FILE = IoT_Network_Intrusion_Macro_Binary                               | FILE_SIZE   = 17.502 MB    | MAX_TIME = 60    \n",
      "[2025-06-19 02:35:49,143] Processed  | FILE = IoT_Network_Intrusion_Macro_Binary                               | F1_WEIGHTED = 0.985255     | FIT_TIME = 39.021\n",
      "[2025-06-19 02:35:49,143] Processing | FILE = IoT_Network_Intrusion_Micro_Binary                               | FILE_SIZE   = 17.502 MB    | MAX_TIME = 60    \n",
      "[2025-06-19 02:35:49,144] Processed  | FILE = IoT_Network_Intrusion_Micro_Binary                               | F1_WEIGHTED = 0.988501     | FIT_TIME = 39.584\n",
      "[2025-06-19 02:35:49,144] Processing | FILE = N_BaIoT_Ennio_Doorbell_Binary                                    | FILE_SIZE   = 25.492 MB    | MAX_TIME = 60    \n",
      "[2025-06-19 02:35:49,145] Processed  | FILE = N_BaIoT_Ennio_Doorbell_Binary                                    | F1_WEIGHTED = 0.999966     | FIT_TIME = 2.960 \n",
      "[2025-06-19 02:35:49,145] Processing | FILE = BCCC_CIC-BCCC-NRC-ACI-IOT-2023_Binary                            | FILE_SIZE   = 32.315 MB    | MAX_TIME = 60    \n",
      "[2025-06-19 02:35:49,145] Processed  | FILE = BCCC_CIC-BCCC-NRC-ACI-IOT-2023_Binary                            | F1_WEIGHTED = 0.956290     | FIT_TIME = 11.488\n",
      "[2025-06-19 02:35:49,145] Processing | FILE = N_BaIoT_Samsung_SNH_1011_N_Webcam_Binary                         | FILE_SIZE   = 32.346 MB    | MAX_TIME = 60    \n",
      "[2025-06-19 02:35:49,146] Processed  | FILE = N_BaIoT_Samsung_SNH_1011_N_Webcam_Binary                         | F1_WEIGHTED = 0.999947     | FIT_TIME = 19.988\n",
      "[2025-06-19 02:35:49,146] Processing | FILE = NIDS_NF-UNSW-NB15-v2_Binary                                      | FILE_SIZE   = 52.363 MB    | MAX_TIME = 60    \n"
     ]
    },
    {
     "data": {
      "application/vnd.jupyter.widget-view+json": {
       "model_id": "57f513f272f04a299ebce3e87ff9a9ed",
       "version_major": 2,
       "version_minor": 0
      },
      "text/plain": [
       "Executing:   0%|          | 0/15 [00:00<?, ?cell/s]"
      ]
     },
     "metadata": {},
     "output_type": "display_data"
    },
    {
     "name": "stderr",
     "output_type": "stream",
     "text": [
      "*** SIGTERM received at time=1750311564 on cpu 23 ***\n",
      "PC: @     0x743ad2325e2e  (unknown)  epoll_wait\n",
      "    @     0x7438d77ac0ed         64  absl::lts_20230802::AbslFailureSignalHandler()\n",
      "    @     0x743ad2242520  (unknown)  (unknown)\n",
      "[2025-06-19 02:39:24,791 E 3892 3892] logging.cc:440: *** SIGTERM received at time=1750311564 on cpu 23 ***\n",
      "[2025-06-19 02:39:24,791 E 3892 3892] logging.cc:440: PC: @     0x743ad2325e2e  (unknown)  epoll_wait\n",
      "[2025-06-19 02:39:24,794 E 3892 3892] logging.cc:440:     @     0x7438d77ac119         64  absl::lts_20230802::AbslFailureSignalHandler()\n",
      "[2025-06-19 02:39:24,794 E 3892 3892] logging.cc:440:     @     0x743ad2242520  (unknown)  (unknown)\n"
     ]
    },
    {
     "name": "stdout",
     "output_type": "stream",
     "text": [
      "[2025-06-19 02:39:27,515] Processed  | FILE = NIDS_NF-UNSW-NB15-v2_Binary                                      | F1_WEIGHTED = 0.996850     | FIT_TIME = 40.011\n",
      "[2025-06-19 02:39:27,517] Processing | FILE = NIDS_NF-CSE-CIC-IDS2018_Binary                                   | FILE_SIZE   = 59.959 MB    | MAX_TIME = 60    \n"
     ]
    },
    {
     "data": {
      "application/vnd.jupyter.widget-view+json": {
       "model_id": "4566800fdfb24a87b9832df719c01b52",
       "version_major": 2,
       "version_minor": 0
      },
      "text/plain": [
       "Executing:   0%|          | 0/15 [00:00<?, ?cell/s]"
      ]
     },
     "metadata": {},
     "output_type": "display_data"
    },
    {
     "name": "stderr",
     "output_type": "stream",
     "text": [
      "*** SIGTERM received at time=1750311938 on cpu 18 ***\n",
      "PC: @     0x7061ef325e2e  (unknown)  epoll_wait\n",
      "    @     0x706016fac0ed         64  absl::lts_20230802::AbslFailureSignalHandler()\n",
      "    @     0x7061ef242520  (unknown)  (unknown)\n",
      "[2025-06-19 02:45:38,477 E 7215 7215] logging.cc:440: *** SIGTERM received at time=1750311938 on cpu 18 ***\n",
      "[2025-06-19 02:45:38,477 E 7215 7215] logging.cc:440: PC: @     0x7061ef325e2e  (unknown)  epoll_wait\n",
      "[2025-06-19 02:45:38,480 E 7215 7215] logging.cc:440:     @     0x706016fac119         64  absl::lts_20230802::AbslFailureSignalHandler()\n",
      "[2025-06-19 02:45:38,480 E 7215 7215] logging.cc:440:     @     0x7061ef242520  (unknown)  (unknown)\n"
     ]
    },
    {
     "name": "stdout",
     "output_type": "stream",
     "text": [
      "[2025-06-19 02:45:41,203] Processed  | FILE = NIDS_NF-CSE-CIC-IDS2018_Binary                                   | F1_WEIGHTED = 0.986126     | FIT_TIME = 19.351\n",
      "[2025-06-19 02:45:41,205] Processing | FILE = NIDS_NF-BoT-IoT-v3_Binary                                        | FILE_SIZE   = 60.596 MB    | MAX_TIME = 60    \n"
     ]
    },
    {
     "data": {
      "application/vnd.jupyter.widget-view+json": {
       "model_id": "f8157f8c6bc34ed89adebaba7d9ab37e",
       "version_major": 2,
       "version_minor": 0
      },
      "text/plain": [
       "Executing:   0%|          | 0/15 [00:00<?, ?cell/s]"
      ]
     },
     "metadata": {},
     "output_type": "display_data"
    },
    {
     "name": "stdout",
     "output_type": "stream",
     "text": [
      "[2025-06-19 02:47:08,995] Processing | FILE = NIDS_NF-BoT-IoT-v3_Binary                                        | FILE_SIZE   = 60.596 MB    | MAX_TIME = 120   \n"
     ]
    },
    {
     "data": {
      "application/vnd.jupyter.widget-view+json": {
       "model_id": "5c1edb492c8345d6837bdafeeb30271f",
       "version_major": 2,
       "version_minor": 0
      },
      "text/plain": [
       "Executing:   0%|          | 0/15 [00:00<?, ?cell/s]"
      ]
     },
     "metadata": {},
     "output_type": "display_data"
    }
   ],
   "source": [
    "from pathlib import Path\n",
    "from time import sleep\n",
    "from tqdm.notebook import tqdm\n",
    "import os\n",
    "import papermill as pm\n",
    "\n",
    "base_time = 60\n",
    "\n",
    "# for kind in tqdm([\"Binary\", \"Multiclass\"], desc='Kind', leave='False'):\n",
    "for kind in tqdm([\"Multiclass\", \"Binary\"], desc='Kind', leave='False'):\n",
    "\n",
    "    base_folder = Path(f\"2025-06-13/{kind}\")\n",
    "    \n",
    "    # Find all .parquet files recursively\n",
    "    parquet_files = list(base_folder.rglob(\"*.parquet\"))\n",
    "    \n",
    "    # Sort by file size (ascending)\n",
    "    parquet_files_sorted = sorted(parquet_files, key=lambda p: os.path.getsize(p))\n",
    "    \n",
    "    # Iterate\n",
    "    for file in tqdm(parquet_files_sorted, desc='File', leave='False'):\n",
    "        \n",
    "        base_filename = os.path.join(file.parent, file.stem)\n",
    "        results_filename = f'{base_filename}_results.json'\n",
    "        size_mb = f'{(os.path.getsize(file) / (1024 * 1024)):.3f} MB'\n",
    "        input_notebook = 'ag_code.ipynb'\n",
    "        output_notebook = f'{base_filename}.ipynb'\n",
    "        \n",
    "        max_time = base_time\n",
    "        success = False\n",
    "\n",
    "        while not success and max_time <= 3840:\n",
    "        \n",
    "            try:\n",
    "\n",
    "                if 'NIDS_NF-UQ-NIDS-v2' in str(file) or 'IoT_23' in str(file) or 'KDD_Cup_1999' in str(file):\n",
    "                    break\n",
    "        \n",
    "                tqdm.write(f'[{now()}] Processing | FILE = {str(file.stem):<64} | FILE_SIZE   = {size_mb:<12} | MAX_TIME = {max_time:<6}')\n",
    "            \n",
    "                if not Path(results_filename).exists():\n",
    "    \n",
    "                    pm.execute_notebook(\n",
    "                        input_notebook,\n",
    "                        output_notebook,\n",
    "                        parameters=dict(\n",
    "                            BASE_FILENAME=base_filename,\n",
    "                            TARGET_COL='label',\n",
    "                            TEST_SIZE=0.2,\n",
    "                            TIME_LIMIT=max_time,\n",
    "                            EVAL_METRIC='f1_weighted',\n",
    "                            PRESET='medium_quality',\n",
    "                            N_FOLDS=5,\n",
    "                            RANDOM_STATE=42\n",
    "                        )\n",
    "                    )\n",
    "            \n",
    "                f1_weighted, fit_time = load_results(results_filename)\n",
    "                tqdm.write(f'[{now()}] Processed  | FILE = {str(file.stem):<64} | F1_WEIGHTED = {f1_weighted:<12} | FIT_TIME = {fit_time:<6}')\n",
    "                success = True\n",
    "                \n",
    "            except Exception as e:\n",
    "                # if 'Consider specifying a larger time_limit.' in str(e):\n",
    "                if 'raise_on_no_models_fitted' in str(e) or 'time_limit' in str(e):\n",
    "                    max_time = 2 * max_time\n",
    "                else:\n",
    "                    tqdm.write(f'[{now()}] ERROR      | FILE = {str(file.stem):<64} | EXCEPTION = {str(e)}')\n",
    "                    break"
   ]
  }
 ],
 "metadata": {
  "kernelspec": {
   "display_name": "Python 3 (ipykernel)",
   "language": "python",
   "name": "python3"
  },
  "language_info": {
   "codemirror_mode": {
    "name": "ipython",
    "version": 3
   },
   "file_extension": ".py",
   "mimetype": "text/x-python",
   "name": "python",
   "nbconvert_exporter": "python",
   "pygments_lexer": "ipython3",
   "version": "3.11.13"
  }
 },
 "nbformat": 4,
 "nbformat_minor": 5
}
